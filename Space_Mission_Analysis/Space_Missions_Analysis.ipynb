{
 "cells": [
  {
   "cell_type": "markdown",
   "metadata": {
    "id": "ka_FkvXBiABo"
   },
   "source": [
    "# Space Mission Analysis"
   ]
  },
  {
   "cell_type": "markdown",
   "metadata": {
    "id": "AWaMmfxXa-p0",
    "papermill": {
     "duration": 0.035434,
     "end_time": "2020-10-20T21:34:01.886225",
     "exception": false,
     "start_time": "2020-10-20T21:34:01.850791",
     "status": "completed"
    },
    "tags": []
   },
   "source": [
    "<center><img src=\"https://i.imgur.com/9hLRsjZ.jpg\" height=400></center>\n",
    "\n",
    "This dataset was scraped from [nextspaceflight.com](https://nextspaceflight.com/launches/past/?page=1) and includes all the space missions since the beginning of Space Race between the USA and the Soviet Union in 1957!"
   ]
  },
  {
   "cell_type": "markdown",
   "metadata": {
    "id": "ufzKRKS3bV0r"
   },
   "source": [
    "#### Install Package with Country Codes. \n",
    "This will help us plot choropleth maps later on."
   ]
  },
  {
   "cell_type": "code",
   "execution_count": 1,
   "metadata": {
    "colab": {
     "base_uri": "https://localhost:8080/"
    },
    "id": "0HxV9o6dbRUE",
    "outputId": "35464d43-d601-4b8f-81fd-6dbd400167f5"
   },
   "outputs": [
    {
     "name": "stdout",
     "output_type": "stream",
     "text": [
      "Requirement already satisfied: iso3166 in /Users/sunny/anaconda3/lib/python3.10/site-packages (2.1.1)\n",
      "Note: you may need to restart the kernel to use updated packages.\n"
     ]
    }
   ],
   "source": [
    "%pip install iso3166"
   ]
  },
  {
   "cell_type": "markdown",
   "metadata": {
    "id": "ErFDBihUi1jN"
   },
   "source": [
    "### Import Statements"
   ]
  },
  {
   "cell_type": "code",
   "execution_count": 2,
   "metadata": {
    "_cell_guid": "b1076dfc-b9ad-4769-8c92-a6c4dae69d19",
    "_kg_hide-input": true,
    "_kg_hide-output": true,
    "_uuid": "8f2839f25d086af736a60e9eeb907d3b93b6e0e5",
    "colab": {
     "base_uri": "https://localhost:8080/"
    },
    "execution": {
     "iopub.execute_input": "2020-10-20T21:34:02.101551Z",
     "iopub.status.busy": "2020-10-20T21:34:02.101085Z",
     "iopub.status.idle": "2020-10-20T21:34:03.726868Z",
     "shell.execute_reply": "2020-10-20T21:34:03.725783Z"
    },
    "id": "xdolY0-Sa-p1",
    "outputId": "7142dedb-82e9-457d-db44-cea4e121bdfe",
    "papermill": {
     "duration": 1.665326,
     "end_time": "2020-10-20T21:34:03.726995",
     "exception": false,
     "start_time": "2020-10-20T21:34:02.061669",
     "status": "completed"
    },
    "tags": []
   },
   "outputs": [],
   "source": [
    "import numpy as np\n",
    "import pandas as pd\n",
    "import plotly.express as px\n",
    "import matplotlib.pyplot as plt\n",
    "import seaborn as sns\n",
    "import chart_studio.plotly as py\n",
    "from plotly import __version__\n",
    "from plotly.offline import download_plotlyjs, init_notebook_mode, plot, iplot\n",
    "import cufflinks as cf\n",
    "from iso3166 import countries\n",
    "from datetime import datetime, timedelta\n",
    "import chart_studio.plotly as py\n",
    "import plotly.graph_objs as go \n",
    "from plotly.offline import download_plotlyjs, init_notebook_mode, plot, iplot"
   ]
  },
  {
   "cell_type": "code",
   "execution_count": 3,
   "metadata": {},
   "outputs": [
    {
     "data": {
      "text/html": [
       "        <script type=\"text/javascript\">\n",
       "        window.PlotlyConfig = {MathJaxConfig: 'local'};\n",
       "        if (window.MathJax && window.MathJax.Hub && window.MathJax.Hub.Config) {window.MathJax.Hub.Config({SVG: {font: \"STIX-Web\"}});}\n",
       "        if (typeof require !== 'undefined') {\n",
       "        require.undef(\"plotly\");\n",
       "        requirejs.config({\n",
       "            paths: {\n",
       "                'plotly': ['https://cdn.plot.ly/plotly-2.12.1.min']\n",
       "            }\n",
       "        });\n",
       "        require(['plotly'], function(Plotly) {\n",
       "            window._Plotly = Plotly;\n",
       "        });\n",
       "        }\n",
       "        </script>\n",
       "        "
      ]
     },
     "metadata": {},
     "output_type": "display_data"
    }
   ],
   "source": [
    "init_notebook_mode(connected=True)"
   ]
  },
  {
   "cell_type": "code",
   "execution_count": 4,
   "metadata": {},
   "outputs": [
    {
     "data": {
      "text/html": [
       "        <script type=\"text/javascript\">\n",
       "        window.PlotlyConfig = {MathJaxConfig: 'local'};\n",
       "        if (window.MathJax && window.MathJax.Hub && window.MathJax.Hub.Config) {window.MathJax.Hub.Config({SVG: {font: \"STIX-Web\"}});}\n",
       "        if (typeof require !== 'undefined') {\n",
       "        require.undef(\"plotly\");\n",
       "        requirejs.config({\n",
       "            paths: {\n",
       "                'plotly': ['https://cdn.plot.ly/plotly-2.12.1.min']\n",
       "            }\n",
       "        });\n",
       "        require(['plotly'], function(Plotly) {\n",
       "            window._Plotly = Plotly;\n",
       "        });\n",
       "        }\n",
       "        </script>\n",
       "        "
      ]
     },
     "metadata": {},
     "output_type": "display_data"
    }
   ],
   "source": [
    "# For offline use\n",
    "cf.go_offline()"
   ]
  },
  {
   "cell_type": "markdown",
   "metadata": {
    "id": "lovGPRgKxIgo"
   },
   "source": [
    "### Notebook Presentation"
   ]
  },
  {
   "cell_type": "code",
   "execution_count": 5,
   "metadata": {
    "id": "DHEULCOjxIIm"
   },
   "outputs": [],
   "source": [
    "pd.options.display.float_format = '{:,.2f}'.format"
   ]
  },
  {
   "cell_type": "markdown",
   "metadata": {
    "id": "yaT3QbjEa-p4",
    "papermill": {
     "duration": 0.034606,
     "end_time": "2020-10-20T21:34:03.798396",
     "exception": false,
     "start_time": "2020-10-20T21:34:03.763790",
     "status": "completed"
    },
    "tags": []
   },
   "source": [
    "### Loading the Data"
   ]
  },
  {
   "cell_type": "code",
   "execution_count": 6,
   "metadata": {
    "_cell_guid": "79c7e3d0-c299-4dcb-8224-4455121ee9b0",
    "_kg_hide-input": true,
    "_uuid": "d629ff2d2480ee46fbb7e2d37f6b5fab8052498a",
    "execution": {
     "iopub.execute_input": "2020-10-20T21:34:03.874195Z",
     "iopub.status.busy": "2020-10-20T21:34:03.873775Z",
     "iopub.status.idle": "2020-10-20T21:34:03.921919Z",
     "shell.execute_reply": "2020-10-20T21:34:03.921418Z"
    },
    "id": "0lDOu8aka-p4",
    "papermill": {
     "duration": 0.08876,
     "end_time": "2020-10-20T21:34:03.922028",
     "exception": false,
     "start_time": "2020-10-20T21:34:03.833268",
     "status": "completed"
    },
    "tags": []
   },
   "outputs": [],
   "source": [
    "df_data = pd.read_csv('mission_launches.csv')"
   ]
  },
  {
   "cell_type": "markdown",
   "metadata": {
    "id": "jAnMiVcVjuKB"
   },
   "source": [
    "# Data Clean and Exploration\n"
   ]
  },
  {
   "cell_type": "markdown",
   "metadata": {},
   "source": [
    "### Understanding the Data "
   ]
  },
  {
   "cell_type": "code",
   "execution_count": 7,
   "metadata": {
    "id": "0tIuYcYNlPFQ"
   },
   "outputs": [
    {
     "data": {
      "text/plain": [
       "(4324, 9)"
      ]
     },
     "execution_count": 7,
     "metadata": {},
     "output_type": "execute_result"
    }
   ],
   "source": [
    "df_data.shape"
   ]
  },
  {
   "cell_type": "code",
   "execution_count": 8,
   "metadata": {
    "id": "0dw2hd9UlPmP"
   },
   "outputs": [
    {
     "name": "stdout",
     "output_type": "stream",
     "text": [
      "<class 'pandas.core.frame.DataFrame'>\n",
      "RangeIndex: 4324 entries, 0 to 4323\n",
      "Data columns (total 9 columns):\n",
      " #   Column          Non-Null Count  Dtype \n",
      "---  ------          --------------  ----- \n",
      " 0   Unnamed: 0.1    4324 non-null   int64 \n",
      " 1   Unnamed: 0      4324 non-null   int64 \n",
      " 2   Organisation    4324 non-null   object\n",
      " 3   Location        4324 non-null   object\n",
      " 4   Date            4324 non-null   object\n",
      " 5   Detail          4324 non-null   object\n",
      " 6   Rocket_Status   4324 non-null   object\n",
      " 7   Price           964 non-null    object\n",
      " 8   Mission_Status  4324 non-null   object\n",
      "dtypes: int64(2), object(7)\n",
      "memory usage: 304.2+ KB\n"
     ]
    }
   ],
   "source": [
    "df_data.info()"
   ]
  },
  {
   "cell_type": "code",
   "execution_count": 9,
   "metadata": {},
   "outputs": [
    {
     "data": {
      "text/plain": [
       "Index(['Unnamed: 0.1', 'Unnamed: 0', 'Organisation', 'Location', 'Date',\n",
       "       'Detail', 'Rocket_Status', 'Price', 'Mission_Status'],\n",
       "      dtype='object')"
      ]
     },
     "execution_count": 9,
     "metadata": {},
     "output_type": "execute_result"
    }
   ],
   "source": [
    "df_data.columns"
   ]
  },
  {
   "cell_type": "code",
   "execution_count": 10,
   "metadata": {},
   "outputs": [
    {
     "data": {
      "text/html": [
       "<div>\n",
       "<style scoped>\n",
       "    .dataframe tbody tr th:only-of-type {\n",
       "        vertical-align: middle;\n",
       "    }\n",
       "\n",
       "    .dataframe tbody tr th {\n",
       "        vertical-align: top;\n",
       "    }\n",
       "\n",
       "    .dataframe thead th {\n",
       "        text-align: right;\n",
       "    }\n",
       "</style>\n",
       "<table border=\"1\" class=\"dataframe\">\n",
       "  <thead>\n",
       "    <tr style=\"text-align: right;\">\n",
       "      <th></th>\n",
       "      <th>Unnamed: 0.1</th>\n",
       "      <th>Unnamed: 0</th>\n",
       "      <th>Organisation</th>\n",
       "      <th>Location</th>\n",
       "      <th>Date</th>\n",
       "      <th>Detail</th>\n",
       "      <th>Rocket_Status</th>\n",
       "      <th>Price</th>\n",
       "      <th>Mission_Status</th>\n",
       "    </tr>\n",
       "  </thead>\n",
       "  <tbody>\n",
       "    <tr>\n",
       "      <th>0</th>\n",
       "      <td>0</td>\n",
       "      <td>0</td>\n",
       "      <td>SpaceX</td>\n",
       "      <td>LC-39A, Kennedy Space Center, Florida, USA</td>\n",
       "      <td>Fri Aug 07, 2020 05:12 UTC</td>\n",
       "      <td>Falcon 9 Block 5 | Starlink V1 L9 &amp; BlackSky</td>\n",
       "      <td>StatusActive</td>\n",
       "      <td>50.0</td>\n",
       "      <td>Success</td>\n",
       "    </tr>\n",
       "    <tr>\n",
       "      <th>1</th>\n",
       "      <td>1</td>\n",
       "      <td>1</td>\n",
       "      <td>CASC</td>\n",
       "      <td>Site 9401 (SLS-2), Jiuquan Satellite Launch Ce...</td>\n",
       "      <td>Thu Aug 06, 2020 04:01 UTC</td>\n",
       "      <td>Long March 2D | Gaofen-9 04 &amp; Q-SAT</td>\n",
       "      <td>StatusActive</td>\n",
       "      <td>29.75</td>\n",
       "      <td>Success</td>\n",
       "    </tr>\n",
       "    <tr>\n",
       "      <th>2</th>\n",
       "      <td>2</td>\n",
       "      <td>2</td>\n",
       "      <td>SpaceX</td>\n",
       "      <td>Pad A, Boca Chica, Texas, USA</td>\n",
       "      <td>Tue Aug 04, 2020 23:57 UTC</td>\n",
       "      <td>Starship Prototype | 150 Meter Hop</td>\n",
       "      <td>StatusActive</td>\n",
       "      <td>NaN</td>\n",
       "      <td>Success</td>\n",
       "    </tr>\n",
       "    <tr>\n",
       "      <th>3</th>\n",
       "      <td>3</td>\n",
       "      <td>3</td>\n",
       "      <td>Roscosmos</td>\n",
       "      <td>Site 200/39, Baikonur Cosmodrome, Kazakhstan</td>\n",
       "      <td>Thu Jul 30, 2020 21:25 UTC</td>\n",
       "      <td>Proton-M/Briz-M | Ekspress-80 &amp; Ekspress-103</td>\n",
       "      <td>StatusActive</td>\n",
       "      <td>65.0</td>\n",
       "      <td>Success</td>\n",
       "    </tr>\n",
       "    <tr>\n",
       "      <th>4</th>\n",
       "      <td>4</td>\n",
       "      <td>4</td>\n",
       "      <td>ULA</td>\n",
       "      <td>SLC-41, Cape Canaveral AFS, Florida, USA</td>\n",
       "      <td>Thu Jul 30, 2020 11:50 UTC</td>\n",
       "      <td>Atlas V 541 | Perseverance</td>\n",
       "      <td>StatusActive</td>\n",
       "      <td>145.0</td>\n",
       "      <td>Success</td>\n",
       "    </tr>\n",
       "  </tbody>\n",
       "</table>\n",
       "</div>"
      ],
      "text/plain": [
       "   Unnamed: 0.1  Unnamed: 0 Organisation  \\\n",
       "0             0           0       SpaceX   \n",
       "1             1           1         CASC   \n",
       "2             2           2       SpaceX   \n",
       "3             3           3    Roscosmos   \n",
       "4             4           4          ULA   \n",
       "\n",
       "                                            Location  \\\n",
       "0         LC-39A, Kennedy Space Center, Florida, USA   \n",
       "1  Site 9401 (SLS-2), Jiuquan Satellite Launch Ce...   \n",
       "2                      Pad A, Boca Chica, Texas, USA   \n",
       "3       Site 200/39, Baikonur Cosmodrome, Kazakhstan   \n",
       "4           SLC-41, Cape Canaveral AFS, Florida, USA   \n",
       "\n",
       "                         Date                                        Detail  \\\n",
       "0  Fri Aug 07, 2020 05:12 UTC  Falcon 9 Block 5 | Starlink V1 L9 & BlackSky   \n",
       "1  Thu Aug 06, 2020 04:01 UTC           Long March 2D | Gaofen-9 04 & Q-SAT   \n",
       "2  Tue Aug 04, 2020 23:57 UTC            Starship Prototype | 150 Meter Hop   \n",
       "3  Thu Jul 30, 2020 21:25 UTC  Proton-M/Briz-M | Ekspress-80 & Ekspress-103   \n",
       "4  Thu Jul 30, 2020 11:50 UTC                    Atlas V 541 | Perseverance   \n",
       "\n",
       "  Rocket_Status  Price Mission_Status  \n",
       "0  StatusActive   50.0        Success  \n",
       "1  StatusActive  29.75        Success  \n",
       "2  StatusActive    NaN        Success  \n",
       "3  StatusActive   65.0        Success  \n",
       "4  StatusActive  145.0        Success  "
      ]
     },
     "execution_count": 10,
     "metadata": {},
     "output_type": "execute_result"
    }
   ],
   "source": [
    "df_data.head()"
   ]
  },
  {
   "cell_type": "code",
   "execution_count": 11,
   "metadata": {
    "scrolled": true
   },
   "outputs": [
    {
     "data": {
      "text/html": [
       "<div>\n",
       "<style scoped>\n",
       "    .dataframe tbody tr th:only-of-type {\n",
       "        vertical-align: middle;\n",
       "    }\n",
       "\n",
       "    .dataframe tbody tr th {\n",
       "        vertical-align: top;\n",
       "    }\n",
       "\n",
       "    .dataframe thead th {\n",
       "        text-align: right;\n",
       "    }\n",
       "</style>\n",
       "<table border=\"1\" class=\"dataframe\">\n",
       "  <thead>\n",
       "    <tr style=\"text-align: right;\">\n",
       "      <th></th>\n",
       "      <th>Unnamed: 0.1</th>\n",
       "      <th>Unnamed: 0</th>\n",
       "      <th>Organisation</th>\n",
       "      <th>Location</th>\n",
       "      <th>Date</th>\n",
       "      <th>Detail</th>\n",
       "      <th>Rocket_Status</th>\n",
       "      <th>Price</th>\n",
       "      <th>Mission_Status</th>\n",
       "    </tr>\n",
       "  </thead>\n",
       "  <tbody>\n",
       "    <tr>\n",
       "      <th>3557</th>\n",
       "      <td>3557</td>\n",
       "      <td>3557</td>\n",
       "      <td>RVSN USSR</td>\n",
       "      <td>Site 133/3, Plesetsk Cosmodrome, Russia</td>\n",
       "      <td>Tue May 27, 1969 13:00 UTC</td>\n",
       "      <td>Cosmos-2I (63SM) | Cosmos 283</td>\n",
       "      <td>StatusRetired</td>\n",
       "      <td>NaN</td>\n",
       "      <td>Success</td>\n",
       "    </tr>\n",
       "    <tr>\n",
       "      <th>3743</th>\n",
       "      <td>3743</td>\n",
       "      <td>3743</td>\n",
       "      <td>RVSN USSR</td>\n",
       "      <td>Site 41/1, Plesetsk Cosmodrome, Russia</td>\n",
       "      <td>Fri Sep 01, 1967 10:30 UTC</td>\n",
       "      <td>Voskhod | Zenit-2 n†­51</td>\n",
       "      <td>StatusRetired</td>\n",
       "      <td>NaN</td>\n",
       "      <td>Failure</td>\n",
       "    </tr>\n",
       "    <tr>\n",
       "      <th>2016</th>\n",
       "      <td>2016</td>\n",
       "      <td>2016</td>\n",
       "      <td>RVSN USSR</td>\n",
       "      <td>Site 90/20, Baikonur Cosmodrome, Kazakhstan</td>\n",
       "      <td>Sun Feb 01, 1987 23:30 UTC</td>\n",
       "      <td>Tsyklon-2 | Cosmos 1818</td>\n",
       "      <td>StatusRetired</td>\n",
       "      <td>NaN</td>\n",
       "      <td>Success</td>\n",
       "    </tr>\n",
       "    <tr>\n",
       "      <th>819</th>\n",
       "      <td>819</td>\n",
       "      <td>819</td>\n",
       "      <td>VKS RF</td>\n",
       "      <td>Site 133/3, Plesetsk Cosmodrome, Russia</td>\n",
       "      <td>Fri May 23, 2008 15:20 UTC</td>\n",
       "      <td>Rokot/Briz KM | Cosmos 2437 to 2439, Youbilielnyi</td>\n",
       "      <td>StatusRetired</td>\n",
       "      <td>41.8</td>\n",
       "      <td>Success</td>\n",
       "    </tr>\n",
       "    <tr>\n",
       "      <th>2937</th>\n",
       "      <td>2937</td>\n",
       "      <td>2937</td>\n",
       "      <td>RVSN USSR</td>\n",
       "      <td>Site 41/1, Plesetsk Cosmodrome, Russia</td>\n",
       "      <td>Tue Apr 29, 1975 10:23 UTC</td>\n",
       "      <td>Molniya-M /Block ML | Molniya-1 n†­49</td>\n",
       "      <td>StatusRetired</td>\n",
       "      <td>NaN</td>\n",
       "      <td>Success</td>\n",
       "    </tr>\n",
       "  </tbody>\n",
       "</table>\n",
       "</div>"
      ],
      "text/plain": [
       "      Unnamed: 0.1  Unnamed: 0 Organisation  \\\n",
       "3557          3557        3557    RVSN USSR   \n",
       "3743          3743        3743    RVSN USSR   \n",
       "2016          2016        2016    RVSN USSR   \n",
       "819            819         819       VKS RF   \n",
       "2937          2937        2937    RVSN USSR   \n",
       "\n",
       "                                         Location                        Date  \\\n",
       "3557      Site 133/3, Plesetsk Cosmodrome, Russia  Tue May 27, 1969 13:00 UTC   \n",
       "3743       Site 41/1, Plesetsk Cosmodrome, Russia  Fri Sep 01, 1967 10:30 UTC   \n",
       "2016  Site 90/20, Baikonur Cosmodrome, Kazakhstan  Sun Feb 01, 1987 23:30 UTC   \n",
       "819       Site 133/3, Plesetsk Cosmodrome, Russia  Fri May 23, 2008 15:20 UTC   \n",
       "2937       Site 41/1, Plesetsk Cosmodrome, Russia  Tue Apr 29, 1975 10:23 UTC   \n",
       "\n",
       "                                                 Detail  Rocket_Status Price  \\\n",
       "3557                      Cosmos-2I (63SM) | Cosmos 283  StatusRetired   NaN   \n",
       "3743                            Voskhod | Zenit-2 n†­51  StatusRetired   NaN   \n",
       "2016                            Tsyklon-2 | Cosmos 1818  StatusRetired   NaN   \n",
       "819   Rokot/Briz KM | Cosmos 2437 to 2439, Youbilielnyi  StatusRetired  41.8   \n",
       "2937              Molniya-M /Block ML | Molniya-1 n†­49  StatusRetired   NaN   \n",
       "\n",
       "     Mission_Status  \n",
       "3557        Success  \n",
       "3743        Failure  \n",
       "2016        Success  \n",
       "819         Success  \n",
       "2937        Success  "
      ]
     },
     "execution_count": 11,
     "metadata": {},
     "output_type": "execute_result"
    }
   ],
   "source": [
    "df_data.sample(5)"
   ]
  },
  {
   "cell_type": "markdown",
   "metadata": {},
   "source": [
    "#### There are two junk columns (Unnamed) that dont make sense in the dataframe and need to be dropped. "
   ]
  },
  {
   "cell_type": "markdown",
   "metadata": {},
   "source": [
    "### Cleaning Data"
   ]
  },
  {
   "cell_type": "markdown",
   "metadata": {
    "id": "KUN30y6ja-p9",
    "papermill": {
     "duration": 0.05406,
     "end_time": "2020-10-20T21:34:04.149973",
     "exception": false,
     "start_time": "2020-10-20T21:34:04.095913",
     "status": "completed"
    },
    "tags": []
   },
   "source": [
    "#### Removing junk columns "
   ]
  },
  {
   "cell_type": "code",
   "execution_count": 12,
   "metadata": {
    "id": "wWQvnJb0k2Ig"
   },
   "outputs": [],
   "source": [
    "df_data.drop([\"Unnamed: 0.1\",\"Unnamed: 0\"],axis=1,inplace=True)"
   ]
  },
  {
   "cell_type": "markdown",
   "metadata": {
    "id": "SfxVooCYk2As"
   },
   "source": [
    "#### Checking and removing duplicate rows"
   ]
  },
  {
   "cell_type": "code",
   "execution_count": 13,
   "metadata": {},
   "outputs": [
    {
     "data": {
      "text/html": [
       "<div>\n",
       "<style scoped>\n",
       "    .dataframe tbody tr th:only-of-type {\n",
       "        vertical-align: middle;\n",
       "    }\n",
       "\n",
       "    .dataframe tbody tr th {\n",
       "        vertical-align: top;\n",
       "    }\n",
       "\n",
       "    .dataframe thead th {\n",
       "        text-align: right;\n",
       "    }\n",
       "</style>\n",
       "<table border=\"1\" class=\"dataframe\">\n",
       "  <thead>\n",
       "    <tr style=\"text-align: right;\">\n",
       "      <th></th>\n",
       "      <th>Organisation</th>\n",
       "      <th>Location</th>\n",
       "      <th>Date</th>\n",
       "      <th>Detail</th>\n",
       "      <th>Rocket_Status</th>\n",
       "      <th>Price</th>\n",
       "      <th>Mission_Status</th>\n",
       "    </tr>\n",
       "  </thead>\n",
       "  <tbody>\n",
       "    <tr>\n",
       "      <th>793</th>\n",
       "      <td>CASC</td>\n",
       "      <td>Site 9401 (SLS-2), Jiuquan Satellite Launch Ce...</td>\n",
       "      <td>Wed Nov 05, 2008 00:15 UTC</td>\n",
       "      <td>Long March 2D | Shiyan-3 &amp; Chuangxin-1(02)</td>\n",
       "      <td>StatusActive</td>\n",
       "      <td>29.75</td>\n",
       "      <td>Success</td>\n",
       "    </tr>\n",
       "  </tbody>\n",
       "</table>\n",
       "</div>"
      ],
      "text/plain": [
       "    Organisation                                           Location  \\\n",
       "793         CASC  Site 9401 (SLS-2), Jiuquan Satellite Launch Ce...   \n",
       "\n",
       "                           Date                                      Detail  \\\n",
       "793  Wed Nov 05, 2008 00:15 UTC  Long March 2D | Shiyan-3 & Chuangxin-1(02)   \n",
       "\n",
       "    Rocket_Status  Price Mission_Status  \n",
       "793  StatusActive  29.75        Success  "
      ]
     },
     "execution_count": 13,
     "metadata": {},
     "output_type": "execute_result"
    }
   ],
   "source": [
    "df_data[df_data.duplicated()]"
   ]
  },
  {
   "cell_type": "code",
   "execution_count": 14,
   "metadata": {},
   "outputs": [
    {
     "data": {
      "text/plain": [
       "Organisation                                                   CASC\n",
       "Location          Site 9401 (SLS-2), Jiuquan Satellite Launch Ce...\n",
       "Date                                     Wed Nov 05, 2008 00:15 UTC\n",
       "Detail                   Long March 2D | Shiyan-3 & Chuangxin-1(02)\n",
       "Rocket_Status                                          StatusActive\n",
       "Price                                                         29.75\n",
       "Mission_Status                                              Success\n",
       "Name: 793, dtype: object"
      ]
     },
     "execution_count": 14,
     "metadata": {},
     "output_type": "execute_result"
    }
   ],
   "source": [
    "df_data.iloc[793]"
   ]
  },
  {
   "cell_type": "code",
   "execution_count": 15,
   "metadata": {},
   "outputs": [
    {
     "data": {
      "text/plain": [
       "Organisation                                                   CASC\n",
       "Location          Site 9401 (SLS-2), Jiuquan Satellite Launch Ce...\n",
       "Date                                     Wed Nov 05, 2008 00:15 UTC\n",
       "Detail                   Long March 2D | Shiyan-3 & Chuangxin-1(02)\n",
       "Rocket_Status                                          StatusActive\n",
       "Price                                                         29.75\n",
       "Mission_Status                                              Success\n",
       "Name: 792, dtype: object"
      ]
     },
     "execution_count": 15,
     "metadata": {},
     "output_type": "execute_result"
    }
   ],
   "source": [
    "df_data.iloc[792]"
   ]
  },
  {
   "cell_type": "code",
   "execution_count": 16,
   "metadata": {},
   "outputs": [
    {
     "data": {
      "text/html": [
       "<div>\n",
       "<style scoped>\n",
       "    .dataframe tbody tr th:only-of-type {\n",
       "        vertical-align: middle;\n",
       "    }\n",
       "\n",
       "    .dataframe tbody tr th {\n",
       "        vertical-align: top;\n",
       "    }\n",
       "\n",
       "    .dataframe thead th {\n",
       "        text-align: right;\n",
       "    }\n",
       "</style>\n",
       "<table border=\"1\" class=\"dataframe\">\n",
       "  <thead>\n",
       "    <tr style=\"text-align: right;\">\n",
       "      <th></th>\n",
       "      <th>Organisation</th>\n",
       "      <th>Location</th>\n",
       "      <th>Date</th>\n",
       "      <th>Detail</th>\n",
       "      <th>Rocket_Status</th>\n",
       "      <th>Price</th>\n",
       "      <th>Mission_Status</th>\n",
       "    </tr>\n",
       "  </thead>\n",
       "  <tbody>\n",
       "    <tr>\n",
       "      <th>0</th>\n",
       "      <td>SpaceX</td>\n",
       "      <td>LC-39A, Kennedy Space Center, Florida, USA</td>\n",
       "      <td>Fri Aug 07, 2020 05:12 UTC</td>\n",
       "      <td>Falcon 9 Block 5 | Starlink V1 L9 &amp; BlackSky</td>\n",
       "      <td>StatusActive</td>\n",
       "      <td>50.0</td>\n",
       "      <td>Success</td>\n",
       "    </tr>\n",
       "    <tr>\n",
       "      <th>1</th>\n",
       "      <td>CASC</td>\n",
       "      <td>Site 9401 (SLS-2), Jiuquan Satellite Launch Ce...</td>\n",
       "      <td>Thu Aug 06, 2020 04:01 UTC</td>\n",
       "      <td>Long March 2D | Gaofen-9 04 &amp; Q-SAT</td>\n",
       "      <td>StatusActive</td>\n",
       "      <td>29.75</td>\n",
       "      <td>Success</td>\n",
       "    </tr>\n",
       "    <tr>\n",
       "      <th>2</th>\n",
       "      <td>SpaceX</td>\n",
       "      <td>Pad A, Boca Chica, Texas, USA</td>\n",
       "      <td>Tue Aug 04, 2020 23:57 UTC</td>\n",
       "      <td>Starship Prototype | 150 Meter Hop</td>\n",
       "      <td>StatusActive</td>\n",
       "      <td>NaN</td>\n",
       "      <td>Success</td>\n",
       "    </tr>\n",
       "    <tr>\n",
       "      <th>3</th>\n",
       "      <td>Roscosmos</td>\n",
       "      <td>Site 200/39, Baikonur Cosmodrome, Kazakhstan</td>\n",
       "      <td>Thu Jul 30, 2020 21:25 UTC</td>\n",
       "      <td>Proton-M/Briz-M | Ekspress-80 &amp; Ekspress-103</td>\n",
       "      <td>StatusActive</td>\n",
       "      <td>65.0</td>\n",
       "      <td>Success</td>\n",
       "    </tr>\n",
       "    <tr>\n",
       "      <th>4</th>\n",
       "      <td>ULA</td>\n",
       "      <td>SLC-41, Cape Canaveral AFS, Florida, USA</td>\n",
       "      <td>Thu Jul 30, 2020 11:50 UTC</td>\n",
       "      <td>Atlas V 541 | Perseverance</td>\n",
       "      <td>StatusActive</td>\n",
       "      <td>145.0</td>\n",
       "      <td>Success</td>\n",
       "    </tr>\n",
       "    <tr>\n",
       "      <th>...</th>\n",
       "      <td>...</td>\n",
       "      <td>...</td>\n",
       "      <td>...</td>\n",
       "      <td>...</td>\n",
       "      <td>...</td>\n",
       "      <td>...</td>\n",
       "      <td>...</td>\n",
       "    </tr>\n",
       "    <tr>\n",
       "      <th>4319</th>\n",
       "      <td>US Navy</td>\n",
       "      <td>LC-18A, Cape Canaveral AFS, Florida, USA</td>\n",
       "      <td>Wed Feb 05, 1958 07:33 UTC</td>\n",
       "      <td>Vanguard | Vanguard TV3BU</td>\n",
       "      <td>StatusRetired</td>\n",
       "      <td>NaN</td>\n",
       "      <td>Failure</td>\n",
       "    </tr>\n",
       "    <tr>\n",
       "      <th>4320</th>\n",
       "      <td>AMBA</td>\n",
       "      <td>LC-26A, Cape Canaveral AFS, Florida, USA</td>\n",
       "      <td>Sat Feb 01, 1958 03:48 UTC</td>\n",
       "      <td>Juno I | Explorer 1</td>\n",
       "      <td>StatusRetired</td>\n",
       "      <td>NaN</td>\n",
       "      <td>Success</td>\n",
       "    </tr>\n",
       "    <tr>\n",
       "      <th>4321</th>\n",
       "      <td>US Navy</td>\n",
       "      <td>LC-18A, Cape Canaveral AFS, Florida, USA</td>\n",
       "      <td>Fri Dec 06, 1957 16:44 UTC</td>\n",
       "      <td>Vanguard | Vanguard TV3</td>\n",
       "      <td>StatusRetired</td>\n",
       "      <td>NaN</td>\n",
       "      <td>Failure</td>\n",
       "    </tr>\n",
       "    <tr>\n",
       "      <th>4322</th>\n",
       "      <td>RVSN USSR</td>\n",
       "      <td>Site 1/5, Baikonur Cosmodrome, Kazakhstan</td>\n",
       "      <td>Sun Nov 03, 1957 02:30 UTC</td>\n",
       "      <td>Sputnik 8K71PS | Sputnik-2</td>\n",
       "      <td>StatusRetired</td>\n",
       "      <td>NaN</td>\n",
       "      <td>Success</td>\n",
       "    </tr>\n",
       "    <tr>\n",
       "      <th>4323</th>\n",
       "      <td>RVSN USSR</td>\n",
       "      <td>Site 1/5, Baikonur Cosmodrome, Kazakhstan</td>\n",
       "      <td>Fri Oct 04, 1957 19:28 UTC</td>\n",
       "      <td>Sputnik 8K71PS | Sputnik-1</td>\n",
       "      <td>StatusRetired</td>\n",
       "      <td>NaN</td>\n",
       "      <td>Success</td>\n",
       "    </tr>\n",
       "  </tbody>\n",
       "</table>\n",
       "<p>4323 rows × 7 columns</p>\n",
       "</div>"
      ],
      "text/plain": [
       "     Organisation                                           Location  \\\n",
       "0          SpaceX         LC-39A, Kennedy Space Center, Florida, USA   \n",
       "1            CASC  Site 9401 (SLS-2), Jiuquan Satellite Launch Ce...   \n",
       "2          SpaceX                      Pad A, Boca Chica, Texas, USA   \n",
       "3       Roscosmos       Site 200/39, Baikonur Cosmodrome, Kazakhstan   \n",
       "4             ULA           SLC-41, Cape Canaveral AFS, Florida, USA   \n",
       "...           ...                                                ...   \n",
       "4319      US Navy           LC-18A, Cape Canaveral AFS, Florida, USA   \n",
       "4320         AMBA           LC-26A, Cape Canaveral AFS, Florida, USA   \n",
       "4321      US Navy           LC-18A, Cape Canaveral AFS, Florida, USA   \n",
       "4322    RVSN USSR          Site 1/5, Baikonur Cosmodrome, Kazakhstan   \n",
       "4323    RVSN USSR          Site 1/5, Baikonur Cosmodrome, Kazakhstan   \n",
       "\n",
       "                            Date  \\\n",
       "0     Fri Aug 07, 2020 05:12 UTC   \n",
       "1     Thu Aug 06, 2020 04:01 UTC   \n",
       "2     Tue Aug 04, 2020 23:57 UTC   \n",
       "3     Thu Jul 30, 2020 21:25 UTC   \n",
       "4     Thu Jul 30, 2020 11:50 UTC   \n",
       "...                          ...   \n",
       "4319  Wed Feb 05, 1958 07:33 UTC   \n",
       "4320  Sat Feb 01, 1958 03:48 UTC   \n",
       "4321  Fri Dec 06, 1957 16:44 UTC   \n",
       "4322  Sun Nov 03, 1957 02:30 UTC   \n",
       "4323  Fri Oct 04, 1957 19:28 UTC   \n",
       "\n",
       "                                            Detail  Rocket_Status  Price  \\\n",
       "0     Falcon 9 Block 5 | Starlink V1 L9 & BlackSky   StatusActive   50.0   \n",
       "1              Long March 2D | Gaofen-9 04 & Q-SAT   StatusActive  29.75   \n",
       "2               Starship Prototype | 150 Meter Hop   StatusActive    NaN   \n",
       "3     Proton-M/Briz-M | Ekspress-80 & Ekspress-103   StatusActive   65.0   \n",
       "4                       Atlas V 541 | Perseverance   StatusActive  145.0   \n",
       "...                                            ...            ...    ...   \n",
       "4319                     Vanguard | Vanguard TV3BU  StatusRetired    NaN   \n",
       "4320                           Juno I | Explorer 1  StatusRetired    NaN   \n",
       "4321                       Vanguard | Vanguard TV3  StatusRetired    NaN   \n",
       "4322                    Sputnik 8K71PS | Sputnik-2  StatusRetired    NaN   \n",
       "4323                    Sputnik 8K71PS | Sputnik-1  StatusRetired    NaN   \n",
       "\n",
       "     Mission_Status  \n",
       "0           Success  \n",
       "1           Success  \n",
       "2           Success  \n",
       "3           Success  \n",
       "4           Success  \n",
       "...             ...  \n",
       "4319        Failure  \n",
       "4320        Success  \n",
       "4321        Failure  \n",
       "4322        Success  \n",
       "4323        Success  \n",
       "\n",
       "[4323 rows x 7 columns]"
      ]
     },
     "execution_count": 16,
     "metadata": {},
     "output_type": "execute_result"
    }
   ],
   "source": [
    "df_data.drop_duplicates()"
   ]
  },
  {
   "cell_type": "code",
   "execution_count": 17,
   "metadata": {},
   "outputs": [
    {
     "name": "stdout",
     "output_type": "stream",
     "text": [
      "<class 'pandas.core.frame.DataFrame'>\n",
      "RangeIndex: 4324 entries, 0 to 4323\n",
      "Data columns (total 7 columns):\n",
      " #   Column          Non-Null Count  Dtype \n",
      "---  ------          --------------  ----- \n",
      " 0   Organisation    4324 non-null   object\n",
      " 1   Location        4324 non-null   object\n",
      " 2   Date            4324 non-null   object\n",
      " 3   Detail          4324 non-null   object\n",
      " 4   Rocket_Status   4324 non-null   object\n",
      " 5   Price           964 non-null    object\n",
      " 6   Mission_Status  4324 non-null   object\n",
      "dtypes: object(7)\n",
      "memory usage: 236.6+ KB\n"
     ]
    }
   ],
   "source": [
    "df_data.info()"
   ]
  },
  {
   "cell_type": "markdown",
   "metadata": {},
   "source": [
    "#### Converting the price column from string to numeric. "
   ]
  },
  {
   "cell_type": "code",
   "execution_count": 18,
   "metadata": {},
   "outputs": [
    {
     "data": {
      "text/plain": [
       "str"
      ]
     },
     "execution_count": 18,
     "metadata": {},
     "output_type": "execute_result"
    }
   ],
   "source": [
    "type(df_data[\"Price\"].iloc[0])"
   ]
  },
  {
   "cell_type": "code",
   "execution_count": 19,
   "metadata": {},
   "outputs": [
    {
     "data": {
      "text/plain": [
       "0        50.0\n",
       "1       29.75\n",
       "2         NaN\n",
       "3        65.0\n",
       "4       145.0\n",
       "        ...  \n",
       "4319      NaN\n",
       "4320      NaN\n",
       "4321      NaN\n",
       "4322      NaN\n",
       "4323      NaN\n",
       "Name: Price, Length: 4324, dtype: object"
      ]
     },
     "execution_count": 19,
     "metadata": {},
     "output_type": "execute_result"
    }
   ],
   "source": [
    "df_data[\"Price\"]"
   ]
  },
  {
   "cell_type": "markdown",
   "metadata": {},
   "source": [
    "####  This first requires us to get rid of the comma in the string and then convert it. "
   ]
  },
  {
   "cell_type": "code",
   "execution_count": 20,
   "metadata": {},
   "outputs": [],
   "source": [
    "df_data[\"Price\"]=df_data[\"Price\"].str.replace(\",\",\"\")"
   ]
  },
  {
   "cell_type": "code",
   "execution_count": 21,
   "metadata": {},
   "outputs": [
    {
     "data": {
      "text/plain": [
       "'5000.0'"
      ]
     },
     "execution_count": 21,
     "metadata": {},
     "output_type": "execute_result"
    }
   ],
   "source": [
    "df_data[\"Price\"].iloc[1916]"
   ]
  },
  {
   "cell_type": "markdown",
   "metadata": {},
   "source": [
    "Happy to see \",\" missing at index 1916. "
   ]
  },
  {
   "cell_type": "markdown",
   "metadata": {},
   "source": [
    "####  Converting to numeric now."
   ]
  },
  {
   "cell_type": "code",
   "execution_count": 22,
   "metadata": {},
   "outputs": [],
   "source": [
    "df_data[\"Price\"] = pd.to_numeric(df_data[\"Price\"])"
   ]
  },
  {
   "cell_type": "markdown",
   "metadata": {},
   "source": [
    "####  Checking the Date type "
   ]
  },
  {
   "cell_type": "code",
   "execution_count": 23,
   "metadata": {},
   "outputs": [
    {
     "data": {
      "text/plain": [
       "'Thu Aug 06, 2020 04:01 UTC'"
      ]
     },
     "execution_count": 23,
     "metadata": {},
     "output_type": "execute_result"
    }
   ],
   "source": [
    "df_data[\"Date\"].iloc[1]"
   ]
  },
  {
   "cell_type": "markdown",
   "metadata": {},
   "source": [
    "####  Converting to datetime format "
   ]
  },
  {
   "cell_type": "code",
   "execution_count": 24,
   "metadata": {},
   "outputs": [],
   "source": [
    "df_data[\"Date\"] = pd.to_datetime(df_data[\"Date\"])"
   ]
  },
  {
   "cell_type": "code",
   "execution_count": 25,
   "metadata": {},
   "outputs": [
    {
     "name": "stdout",
     "output_type": "stream",
     "text": [
      "<class 'pandas.core.frame.DataFrame'>\n",
      "RangeIndex: 4324 entries, 0 to 4323\n",
      "Data columns (total 7 columns):\n",
      " #   Column          Non-Null Count  Dtype  \n",
      "---  ------          --------------  -----  \n",
      " 0   Organisation    4324 non-null   object \n",
      " 1   Location        4324 non-null   object \n",
      " 2   Date            4324 non-null   object \n",
      " 3   Detail          4324 non-null   object \n",
      " 4   Rocket_Status   4324 non-null   object \n",
      " 5   Price           964 non-null    float64\n",
      " 6   Mission_Status  4324 non-null   object \n",
      "dtypes: float64(1), object(6)\n",
      "memory usage: 236.6+ KB\n"
     ]
    }
   ],
   "source": [
    "df_data.info()"
   ]
  },
  {
   "cell_type": "markdown",
   "metadata": {
    "id": "cgCjcpeUkKPW"
   },
   "source": [
    "## Data Analysis\n"
   ]
  },
  {
   "cell_type": "markdown",
   "metadata": {},
   "source": [
    "### Recorded Missions by Company"
   ]
  },
  {
   "cell_type": "code",
   "execution_count": 26,
   "metadata": {
    "id": "rxvcIrtskxYB"
   },
   "outputs": [
    {
     "data": {
      "text/html": [
       "<div>\n",
       "<style scoped>\n",
       "    .dataframe tbody tr th:only-of-type {\n",
       "        vertical-align: middle;\n",
       "    }\n",
       "\n",
       "    .dataframe tbody tr th {\n",
       "        vertical-align: top;\n",
       "    }\n",
       "\n",
       "    .dataframe thead th {\n",
       "        text-align: right;\n",
       "    }\n",
       "</style>\n",
       "<table border=\"1\" class=\"dataframe\">\n",
       "  <thead>\n",
       "    <tr style=\"text-align: right;\">\n",
       "      <th></th>\n",
       "      <th>Organisation</th>\n",
       "      <th>Location</th>\n",
       "      <th>Date</th>\n",
       "      <th>Detail</th>\n",
       "      <th>Rocket_Status</th>\n",
       "      <th>Price</th>\n",
       "      <th>Mission_Status</th>\n",
       "    </tr>\n",
       "  </thead>\n",
       "  <tbody>\n",
       "    <tr>\n",
       "      <th>0</th>\n",
       "      <td>SpaceX</td>\n",
       "      <td>LC-39A, Kennedy Space Center, Florida, USA</td>\n",
       "      <td>2020-08-07 05:12:00+00:00</td>\n",
       "      <td>Falcon 9 Block 5 | Starlink V1 L9 &amp; BlackSky</td>\n",
       "      <td>StatusActive</td>\n",
       "      <td>50.00</td>\n",
       "      <td>Success</td>\n",
       "    </tr>\n",
       "    <tr>\n",
       "      <th>1</th>\n",
       "      <td>CASC</td>\n",
       "      <td>Site 9401 (SLS-2), Jiuquan Satellite Launch Ce...</td>\n",
       "      <td>2020-08-06 04:01:00+00:00</td>\n",
       "      <td>Long March 2D | Gaofen-9 04 &amp; Q-SAT</td>\n",
       "      <td>StatusActive</td>\n",
       "      <td>29.75</td>\n",
       "      <td>Success</td>\n",
       "    </tr>\n",
       "    <tr>\n",
       "      <th>2</th>\n",
       "      <td>SpaceX</td>\n",
       "      <td>Pad A, Boca Chica, Texas, USA</td>\n",
       "      <td>2020-08-04 23:57:00+00:00</td>\n",
       "      <td>Starship Prototype | 150 Meter Hop</td>\n",
       "      <td>StatusActive</td>\n",
       "      <td>NaN</td>\n",
       "      <td>Success</td>\n",
       "    </tr>\n",
       "    <tr>\n",
       "      <th>3</th>\n",
       "      <td>Roscosmos</td>\n",
       "      <td>Site 200/39, Baikonur Cosmodrome, Kazakhstan</td>\n",
       "      <td>2020-07-30 21:25:00+00:00</td>\n",
       "      <td>Proton-M/Briz-M | Ekspress-80 &amp; Ekspress-103</td>\n",
       "      <td>StatusActive</td>\n",
       "      <td>65.00</td>\n",
       "      <td>Success</td>\n",
       "    </tr>\n",
       "    <tr>\n",
       "      <th>4</th>\n",
       "      <td>ULA</td>\n",
       "      <td>SLC-41, Cape Canaveral AFS, Florida, USA</td>\n",
       "      <td>2020-07-30 11:50:00+00:00</td>\n",
       "      <td>Atlas V 541 | Perseverance</td>\n",
       "      <td>StatusActive</td>\n",
       "      <td>145.00</td>\n",
       "      <td>Success</td>\n",
       "    </tr>\n",
       "  </tbody>\n",
       "</table>\n",
       "</div>"
      ],
      "text/plain": [
       "  Organisation                                           Location  \\\n",
       "0       SpaceX         LC-39A, Kennedy Space Center, Florida, USA   \n",
       "1         CASC  Site 9401 (SLS-2), Jiuquan Satellite Launch Ce...   \n",
       "2       SpaceX                      Pad A, Boca Chica, Texas, USA   \n",
       "3    Roscosmos       Site 200/39, Baikonur Cosmodrome, Kazakhstan   \n",
       "4          ULA           SLC-41, Cape Canaveral AFS, Florida, USA   \n",
       "\n",
       "                        Date                                        Detail  \\\n",
       "0  2020-08-07 05:12:00+00:00  Falcon 9 Block 5 | Starlink V1 L9 & BlackSky   \n",
       "1  2020-08-06 04:01:00+00:00           Long March 2D | Gaofen-9 04 & Q-SAT   \n",
       "2  2020-08-04 23:57:00+00:00            Starship Prototype | 150 Meter Hop   \n",
       "3  2020-07-30 21:25:00+00:00  Proton-M/Briz-M | Ekspress-80 & Ekspress-103   \n",
       "4  2020-07-30 11:50:00+00:00                    Atlas V 541 | Perseverance   \n",
       "\n",
       "  Rocket_Status  Price Mission_Status  \n",
       "0  StatusActive  50.00        Success  \n",
       "1  StatusActive  29.75        Success  \n",
       "2  StatusActive    NaN        Success  \n",
       "3  StatusActive  65.00        Success  \n",
       "4  StatusActive 145.00        Success  "
      ]
     },
     "execution_count": 26,
     "metadata": {},
     "output_type": "execute_result"
    }
   ],
   "source": [
    "df_data.head()"
   ]
  },
  {
   "cell_type": "markdown",
   "metadata": {},
   "source": [
    "####  Checking how many unique organizations are there. "
   ]
  },
  {
   "cell_type": "code",
   "execution_count": 27,
   "metadata": {},
   "outputs": [
    {
     "data": {
      "text/plain": [
       "56"
      ]
     },
     "execution_count": 27,
     "metadata": {},
     "output_type": "execute_result"
    }
   ],
   "source": [
    "df_data[\"Organisation\"].nunique()"
   ]
  },
  {
   "cell_type": "markdown",
   "metadata": {},
   "source": [
    "####  Creating a dataframe by grouping by Organisation and counting the number of times it occurs. \n",
    "####  This will give us how many launches are there by Organisations. \n",
    "####  Then we also sort it by descending order. \n"
   ]
  },
  {
   "cell_type": "code",
   "execution_count": 28,
   "metadata": {
    "id": "qgneHUbWkw5v"
   },
   "outputs": [
    {
     "data": {
      "text/html": [
       "<div>\n",
       "<style scoped>\n",
       "    .dataframe tbody tr th:only-of-type {\n",
       "        vertical-align: middle;\n",
       "    }\n",
       "\n",
       "    .dataframe tbody tr th {\n",
       "        vertical-align: top;\n",
       "    }\n",
       "\n",
       "    .dataframe thead th {\n",
       "        text-align: right;\n",
       "    }\n",
       "</style>\n",
       "<table border=\"1\" class=\"dataframe\">\n",
       "  <thead>\n",
       "    <tr style=\"text-align: right;\">\n",
       "      <th></th>\n",
       "      <th>Organisation</th>\n",
       "      <th>Location</th>\n",
       "      <th>Date</th>\n",
       "      <th>Detail</th>\n",
       "      <th>Rocket_Status</th>\n",
       "      <th>Price</th>\n",
       "      <th>Mission_Status</th>\n",
       "    </tr>\n",
       "  </thead>\n",
       "  <tbody>\n",
       "    <tr>\n",
       "      <th>40</th>\n",
       "      <td>RVSN USSR</td>\n",
       "      <td>1777</td>\n",
       "      <td>1777</td>\n",
       "      <td>1777</td>\n",
       "      <td>1777</td>\n",
       "      <td>2</td>\n",
       "      <td>1777</td>\n",
       "    </tr>\n",
       "    <tr>\n",
       "      <th>3</th>\n",
       "      <td>Arianespace</td>\n",
       "      <td>279</td>\n",
       "      <td>279</td>\n",
       "      <td>279</td>\n",
       "      <td>279</td>\n",
       "      <td>96</td>\n",
       "      <td>279</td>\n",
       "    </tr>\n",
       "    <tr>\n",
       "      <th>17</th>\n",
       "      <td>General Dynamics</td>\n",
       "      <td>251</td>\n",
       "      <td>251</td>\n",
       "      <td>251</td>\n",
       "      <td>251</td>\n",
       "      <td>0</td>\n",
       "      <td>251</td>\n",
       "    </tr>\n",
       "    <tr>\n",
       "      <th>7</th>\n",
       "      <td>CASC</td>\n",
       "      <td>251</td>\n",
       "      <td>251</td>\n",
       "      <td>251</td>\n",
       "      <td>251</td>\n",
       "      <td>158</td>\n",
       "      <td>251</td>\n",
       "    </tr>\n",
       "    <tr>\n",
       "      <th>35</th>\n",
       "      <td>NASA</td>\n",
       "      <td>203</td>\n",
       "      <td>203</td>\n",
       "      <td>203</td>\n",
       "      <td>203</td>\n",
       "      <td>149</td>\n",
       "      <td>203</td>\n",
       "    </tr>\n",
       "    <tr>\n",
       "      <th>52</th>\n",
       "      <td>VKS RF</td>\n",
       "      <td>201</td>\n",
       "      <td>201</td>\n",
       "      <td>201</td>\n",
       "      <td>201</td>\n",
       "      <td>33</td>\n",
       "      <td>201</td>\n",
       "    </tr>\n",
       "    <tr>\n",
       "      <th>49</th>\n",
       "      <td>US Air Force</td>\n",
       "      <td>161</td>\n",
       "      <td>161</td>\n",
       "      <td>161</td>\n",
       "      <td>161</td>\n",
       "      <td>26</td>\n",
       "      <td>161</td>\n",
       "    </tr>\n",
       "    <tr>\n",
       "      <th>48</th>\n",
       "      <td>ULA</td>\n",
       "      <td>140</td>\n",
       "      <td>140</td>\n",
       "      <td>140</td>\n",
       "      <td>140</td>\n",
       "      <td>98</td>\n",
       "      <td>140</td>\n",
       "    </tr>\n",
       "    <tr>\n",
       "      <th>6</th>\n",
       "      <td>Boeing</td>\n",
       "      <td>136</td>\n",
       "      <td>136</td>\n",
       "      <td>136</td>\n",
       "      <td>136</td>\n",
       "      <td>7</td>\n",
       "      <td>136</td>\n",
       "    </tr>\n",
       "    <tr>\n",
       "      <th>34</th>\n",
       "      <td>Martin Marietta</td>\n",
       "      <td>114</td>\n",
       "      <td>114</td>\n",
       "      <td>114</td>\n",
       "      <td>114</td>\n",
       "      <td>9</td>\n",
       "      <td>114</td>\n",
       "    </tr>\n",
       "  </tbody>\n",
       "</table>\n",
       "</div>"
      ],
      "text/plain": [
       "        Organisation  Location  Date  Detail  Rocket_Status  Price  \\\n",
       "40         RVSN USSR      1777  1777    1777           1777      2   \n",
       "3        Arianespace       279   279     279            279     96   \n",
       "17  General Dynamics       251   251     251            251      0   \n",
       "7               CASC       251   251     251            251    158   \n",
       "35              NASA       203   203     203            203    149   \n",
       "52            VKS RF       201   201     201            201     33   \n",
       "49      US Air Force       161   161     161            161     26   \n",
       "48               ULA       140   140     140            140     98   \n",
       "6             Boeing       136   136     136            136      7   \n",
       "34   Martin Marietta       114   114     114            114      9   \n",
       "\n",
       "    Mission_Status  \n",
       "40            1777  \n",
       "3              279  \n",
       "17             251  \n",
       "7              251  \n",
       "35             203  \n",
       "52             201  \n",
       "49             161  \n",
       "48             140  \n",
       "6              136  \n",
       "34             114  "
      ]
     },
     "execution_count": 28,
     "metadata": {},
     "output_type": "execute_result"
    }
   ],
   "source": [
    "og_missions = df_data.groupby(\"Organisation\",as_index=False).count().sort_values(\"Mission_Status\",ascending=False)\n",
    "og_missions.head(10)"
   ]
  },
  {
   "cell_type": "markdown",
   "metadata": {},
   "source": [
    "####  Looks like RVSN USSR tops the chart 1777 recorded missions. "
   ]
  },
  {
   "cell_type": "markdown",
   "metadata": {},
   "source": [
    "#### Below us a bar plot of the top organisations by recorded missions. "
   ]
  },
  {
   "cell_type": "code",
   "execution_count": 29,
   "metadata": {},
   "outputs": [
    {
     "data": {
      "application/vnd.plotly.v1+json": {
       "config": {
        "linkText": "Export to plot.ly",
        "plotlyServerURL": "https://plot.ly",
        "showLink": true
       },
       "data": [
        {
         "marker": {
          "color": "rgba(255, 153, 51, 0.6)",
          "line": {
           "color": "rgba(255, 153, 51, 1.0)",
           "width": 1
          }
         },
         "name": "Mission_Status",
         "orientation": "v",
         "text": "",
         "type": "bar",
         "x": [
          "RVSN USSR",
          "Arianespace",
          "General Dynamics",
          "CASC",
          "NASA",
          "VKS RF",
          "US Air Force",
          "ULA",
          "Boeing",
          "Martin Marietta",
          "SpaceX",
          "MHI",
          "Northrop",
          "Lockheed",
          "ISRO",
          "Roscosmos",
          "ILS",
          "Sea Launch",
          "ISAS",
          "Kosmotras",
          "US Navy",
          "Eurockot",
          "ISA",
          "Rocket Lab",
          "ESA",
          "Blue Origin",
          "IAI",
          "ExPace",
          "ASI",
          "CNES",
          "AMBA",
          "Land Launch",
          "MITT",
          "JAXA",
          "UT",
          "CASIC",
          "KCST",
          "CECLES",
          "Exos",
          "Arm??e de l'Air",
          "SRC",
          "AEB",
          "KARI",
          "RAE",
          "OKB-586",
          "Yuzhmash",
          "OneSpace",
          "Sandia",
          "Landspace",
          "Starsem",
          "Khrunichev",
          "IRGC",
          "EER",
          "Douglas",
          "Virgin Orbit",
          "i-Space"
         ],
         "y": [
          1777,
          279,
          251,
          251,
          203,
          201,
          161,
          140,
          136,
          114,
          100,
          84,
          83,
          79,
          76,
          55,
          46,
          36,
          30,
          22,
          17,
          13,
          13,
          13,
          13,
          12,
          11,
          10,
          9,
          8,
          8,
          7,
          7,
          7,
          5,
          5,
          5,
          4,
          4,
          4,
          3,
          3,
          3,
          2,
          2,
          2,
          1,
          1,
          1,
          1,
          1,
          1,
          1,
          1,
          1,
          1
         ]
        }
       ],
       "layout": {
        "legend": {
         "bgcolor": "#F5F6F9",
         "font": {
          "color": "#4D5663"
         }
        },
        "paper_bgcolor": "#F5F6F9",
        "plot_bgcolor": "#F5F6F9",
        "template": {
         "data": {
          "bar": [
           {
            "error_x": {
             "color": "#2a3f5f"
            },
            "error_y": {
             "color": "#2a3f5f"
            },
            "marker": {
             "line": {
              "color": "#E5ECF6",
              "width": 0.5
             },
             "pattern": {
              "fillmode": "overlay",
              "size": 10,
              "solidity": 0.2
             }
            },
            "type": "bar"
           }
          ],
          "barpolar": [
           {
            "marker": {
             "line": {
              "color": "#E5ECF6",
              "width": 0.5
             },
             "pattern": {
              "fillmode": "overlay",
              "size": 10,
              "solidity": 0.2
             }
            },
            "type": "barpolar"
           }
          ],
          "carpet": [
           {
            "aaxis": {
             "endlinecolor": "#2a3f5f",
             "gridcolor": "white",
             "linecolor": "white",
             "minorgridcolor": "white",
             "startlinecolor": "#2a3f5f"
            },
            "baxis": {
             "endlinecolor": "#2a3f5f",
             "gridcolor": "white",
             "linecolor": "white",
             "minorgridcolor": "white",
             "startlinecolor": "#2a3f5f"
            },
            "type": "carpet"
           }
          ],
          "choropleth": [
           {
            "colorbar": {
             "outlinewidth": 0,
             "ticks": ""
            },
            "type": "choropleth"
           }
          ],
          "contour": [
           {
            "colorbar": {
             "outlinewidth": 0,
             "ticks": ""
            },
            "colorscale": [
             [
              0,
              "#0d0887"
             ],
             [
              0.1111111111111111,
              "#46039f"
             ],
             [
              0.2222222222222222,
              "#7201a8"
             ],
             [
              0.3333333333333333,
              "#9c179e"
             ],
             [
              0.4444444444444444,
              "#bd3786"
             ],
             [
              0.5555555555555556,
              "#d8576b"
             ],
             [
              0.6666666666666666,
              "#ed7953"
             ],
             [
              0.7777777777777778,
              "#fb9f3a"
             ],
             [
              0.8888888888888888,
              "#fdca26"
             ],
             [
              1,
              "#f0f921"
             ]
            ],
            "type": "contour"
           }
          ],
          "contourcarpet": [
           {
            "colorbar": {
             "outlinewidth": 0,
             "ticks": ""
            },
            "type": "contourcarpet"
           }
          ],
          "heatmap": [
           {
            "colorbar": {
             "outlinewidth": 0,
             "ticks": ""
            },
            "colorscale": [
             [
              0,
              "#0d0887"
             ],
             [
              0.1111111111111111,
              "#46039f"
             ],
             [
              0.2222222222222222,
              "#7201a8"
             ],
             [
              0.3333333333333333,
              "#9c179e"
             ],
             [
              0.4444444444444444,
              "#bd3786"
             ],
             [
              0.5555555555555556,
              "#d8576b"
             ],
             [
              0.6666666666666666,
              "#ed7953"
             ],
             [
              0.7777777777777778,
              "#fb9f3a"
             ],
             [
              0.8888888888888888,
              "#fdca26"
             ],
             [
              1,
              "#f0f921"
             ]
            ],
            "type": "heatmap"
           }
          ],
          "heatmapgl": [
           {
            "colorbar": {
             "outlinewidth": 0,
             "ticks": ""
            },
            "colorscale": [
             [
              0,
              "#0d0887"
             ],
             [
              0.1111111111111111,
              "#46039f"
             ],
             [
              0.2222222222222222,
              "#7201a8"
             ],
             [
              0.3333333333333333,
              "#9c179e"
             ],
             [
              0.4444444444444444,
              "#bd3786"
             ],
             [
              0.5555555555555556,
              "#d8576b"
             ],
             [
              0.6666666666666666,
              "#ed7953"
             ],
             [
              0.7777777777777778,
              "#fb9f3a"
             ],
             [
              0.8888888888888888,
              "#fdca26"
             ],
             [
              1,
              "#f0f921"
             ]
            ],
            "type": "heatmapgl"
           }
          ],
          "histogram": [
           {
            "marker": {
             "pattern": {
              "fillmode": "overlay",
              "size": 10,
              "solidity": 0.2
             }
            },
            "type": "histogram"
           }
          ],
          "histogram2d": [
           {
            "colorbar": {
             "outlinewidth": 0,
             "ticks": ""
            },
            "colorscale": [
             [
              0,
              "#0d0887"
             ],
             [
              0.1111111111111111,
              "#46039f"
             ],
             [
              0.2222222222222222,
              "#7201a8"
             ],
             [
              0.3333333333333333,
              "#9c179e"
             ],
             [
              0.4444444444444444,
              "#bd3786"
             ],
             [
              0.5555555555555556,
              "#d8576b"
             ],
             [
              0.6666666666666666,
              "#ed7953"
             ],
             [
              0.7777777777777778,
              "#fb9f3a"
             ],
             [
              0.8888888888888888,
              "#fdca26"
             ],
             [
              1,
              "#f0f921"
             ]
            ],
            "type": "histogram2d"
           }
          ],
          "histogram2dcontour": [
           {
            "colorbar": {
             "outlinewidth": 0,
             "ticks": ""
            },
            "colorscale": [
             [
              0,
              "#0d0887"
             ],
             [
              0.1111111111111111,
              "#46039f"
             ],
             [
              0.2222222222222222,
              "#7201a8"
             ],
             [
              0.3333333333333333,
              "#9c179e"
             ],
             [
              0.4444444444444444,
              "#bd3786"
             ],
             [
              0.5555555555555556,
              "#d8576b"
             ],
             [
              0.6666666666666666,
              "#ed7953"
             ],
             [
              0.7777777777777778,
              "#fb9f3a"
             ],
             [
              0.8888888888888888,
              "#fdca26"
             ],
             [
              1,
              "#f0f921"
             ]
            ],
            "type": "histogram2dcontour"
           }
          ],
          "mesh3d": [
           {
            "colorbar": {
             "outlinewidth": 0,
             "ticks": ""
            },
            "type": "mesh3d"
           }
          ],
          "parcoords": [
           {
            "line": {
             "colorbar": {
              "outlinewidth": 0,
              "ticks": ""
             }
            },
            "type": "parcoords"
           }
          ],
          "pie": [
           {
            "automargin": true,
            "type": "pie"
           }
          ],
          "scatter": [
           {
            "fillpattern": {
             "fillmode": "overlay",
             "size": 10,
             "solidity": 0.2
            },
            "type": "scatter"
           }
          ],
          "scatter3d": [
           {
            "line": {
             "colorbar": {
              "outlinewidth": 0,
              "ticks": ""
             }
            },
            "marker": {
             "colorbar": {
              "outlinewidth": 0,
              "ticks": ""
             }
            },
            "type": "scatter3d"
           }
          ],
          "scattercarpet": [
           {
            "marker": {
             "colorbar": {
              "outlinewidth": 0,
              "ticks": ""
             }
            },
            "type": "scattercarpet"
           }
          ],
          "scattergeo": [
           {
            "marker": {
             "colorbar": {
              "outlinewidth": 0,
              "ticks": ""
             }
            },
            "type": "scattergeo"
           }
          ],
          "scattergl": [
           {
            "marker": {
             "colorbar": {
              "outlinewidth": 0,
              "ticks": ""
             }
            },
            "type": "scattergl"
           }
          ],
          "scattermapbox": [
           {
            "marker": {
             "colorbar": {
              "outlinewidth": 0,
              "ticks": ""
             }
            },
            "type": "scattermapbox"
           }
          ],
          "scatterpolar": [
           {
            "marker": {
             "colorbar": {
              "outlinewidth": 0,
              "ticks": ""
             }
            },
            "type": "scatterpolar"
           }
          ],
          "scatterpolargl": [
           {
            "marker": {
             "colorbar": {
              "outlinewidth": 0,
              "ticks": ""
             }
            },
            "type": "scatterpolargl"
           }
          ],
          "scatterternary": [
           {
            "marker": {
             "colorbar": {
              "outlinewidth": 0,
              "ticks": ""
             }
            },
            "type": "scatterternary"
           }
          ],
          "surface": [
           {
            "colorbar": {
             "outlinewidth": 0,
             "ticks": ""
            },
            "colorscale": [
             [
              0,
              "#0d0887"
             ],
             [
              0.1111111111111111,
              "#46039f"
             ],
             [
              0.2222222222222222,
              "#7201a8"
             ],
             [
              0.3333333333333333,
              "#9c179e"
             ],
             [
              0.4444444444444444,
              "#bd3786"
             ],
             [
              0.5555555555555556,
              "#d8576b"
             ],
             [
              0.6666666666666666,
              "#ed7953"
             ],
             [
              0.7777777777777778,
              "#fb9f3a"
             ],
             [
              0.8888888888888888,
              "#fdca26"
             ],
             [
              1,
              "#f0f921"
             ]
            ],
            "type": "surface"
           }
          ],
          "table": [
           {
            "cells": {
             "fill": {
              "color": "#EBF0F8"
             },
             "line": {
              "color": "white"
             }
            },
            "header": {
             "fill": {
              "color": "#C8D4E3"
             },
             "line": {
              "color": "white"
             }
            },
            "type": "table"
           }
          ]
         },
         "layout": {
          "annotationdefaults": {
           "arrowcolor": "#2a3f5f",
           "arrowhead": 0,
           "arrowwidth": 1
          },
          "autotypenumbers": "strict",
          "coloraxis": {
           "colorbar": {
            "outlinewidth": 0,
            "ticks": ""
           }
          },
          "colorscale": {
           "diverging": [
            [
             0,
             "#8e0152"
            ],
            [
             0.1,
             "#c51b7d"
            ],
            [
             0.2,
             "#de77ae"
            ],
            [
             0.3,
             "#f1b6da"
            ],
            [
             0.4,
             "#fde0ef"
            ],
            [
             0.5,
             "#f7f7f7"
            ],
            [
             0.6,
             "#e6f5d0"
            ],
            [
             0.7,
             "#b8e186"
            ],
            [
             0.8,
             "#7fbc41"
            ],
            [
             0.9,
             "#4d9221"
            ],
            [
             1,
             "#276419"
            ]
           ],
           "sequential": [
            [
             0,
             "#0d0887"
            ],
            [
             0.1111111111111111,
             "#46039f"
            ],
            [
             0.2222222222222222,
             "#7201a8"
            ],
            [
             0.3333333333333333,
             "#9c179e"
            ],
            [
             0.4444444444444444,
             "#bd3786"
            ],
            [
             0.5555555555555556,
             "#d8576b"
            ],
            [
             0.6666666666666666,
             "#ed7953"
            ],
            [
             0.7777777777777778,
             "#fb9f3a"
            ],
            [
             0.8888888888888888,
             "#fdca26"
            ],
            [
             1,
             "#f0f921"
            ]
           ],
           "sequentialminus": [
            [
             0,
             "#0d0887"
            ],
            [
             0.1111111111111111,
             "#46039f"
            ],
            [
             0.2222222222222222,
             "#7201a8"
            ],
            [
             0.3333333333333333,
             "#9c179e"
            ],
            [
             0.4444444444444444,
             "#bd3786"
            ],
            [
             0.5555555555555556,
             "#d8576b"
            ],
            [
             0.6666666666666666,
             "#ed7953"
            ],
            [
             0.7777777777777778,
             "#fb9f3a"
            ],
            [
             0.8888888888888888,
             "#fdca26"
            ],
            [
             1,
             "#f0f921"
            ]
           ]
          },
          "colorway": [
           "#636efa",
           "#EF553B",
           "#00cc96",
           "#ab63fa",
           "#FFA15A",
           "#19d3f3",
           "#FF6692",
           "#B6E880",
           "#FF97FF",
           "#FECB52"
          ],
          "font": {
           "color": "#2a3f5f"
          },
          "geo": {
           "bgcolor": "white",
           "lakecolor": "white",
           "landcolor": "#E5ECF6",
           "showlakes": true,
           "showland": true,
           "subunitcolor": "white"
          },
          "hoverlabel": {
           "align": "left"
          },
          "hovermode": "closest",
          "mapbox": {
           "style": "light"
          },
          "paper_bgcolor": "white",
          "plot_bgcolor": "#E5ECF6",
          "polar": {
           "angularaxis": {
            "gridcolor": "white",
            "linecolor": "white",
            "ticks": ""
           },
           "bgcolor": "#E5ECF6",
           "radialaxis": {
            "gridcolor": "white",
            "linecolor": "white",
            "ticks": ""
           }
          },
          "scene": {
           "xaxis": {
            "backgroundcolor": "#E5ECF6",
            "gridcolor": "white",
            "gridwidth": 2,
            "linecolor": "white",
            "showbackground": true,
            "ticks": "",
            "zerolinecolor": "white"
           },
           "yaxis": {
            "backgroundcolor": "#E5ECF6",
            "gridcolor": "white",
            "gridwidth": 2,
            "linecolor": "white",
            "showbackground": true,
            "ticks": "",
            "zerolinecolor": "white"
           },
           "zaxis": {
            "backgroundcolor": "#E5ECF6",
            "gridcolor": "white",
            "gridwidth": 2,
            "linecolor": "white",
            "showbackground": true,
            "ticks": "",
            "zerolinecolor": "white"
           }
          },
          "shapedefaults": {
           "line": {
            "color": "#2a3f5f"
           }
          },
          "ternary": {
           "aaxis": {
            "gridcolor": "white",
            "linecolor": "white",
            "ticks": ""
           },
           "baxis": {
            "gridcolor": "white",
            "linecolor": "white",
            "ticks": ""
           },
           "bgcolor": "#E5ECF6",
           "caxis": {
            "gridcolor": "white",
            "linecolor": "white",
            "ticks": ""
           }
          },
          "title": {
           "x": 0.05
          },
          "xaxis": {
           "automargin": true,
           "gridcolor": "white",
           "linecolor": "white",
           "ticks": "",
           "title": {
            "standoff": 15
           },
           "zerolinecolor": "white",
           "zerolinewidth": 2
          },
          "yaxis": {
           "automargin": true,
           "gridcolor": "white",
           "linecolor": "white",
           "ticks": "",
           "title": {
            "standoff": 15
           },
           "zerolinecolor": "white",
           "zerolinewidth": 2
          }
         }
        },
        "title": {
         "font": {
          "color": "#4D5663"
         },
         "text": "Number of Recorded Missions by Company"
        },
        "xaxis": {
         "gridcolor": "#E1E5ED",
         "showgrid": true,
         "tickfont": {
          "color": "#4D5663"
         },
         "title": {
          "font": {
           "color": "#4D5663"
          },
          "text": "Organisation"
         },
         "zerolinecolor": "#E1E5ED"
        },
        "yaxis": {
         "gridcolor": "#E1E5ED",
         "showgrid": true,
         "tickfont": {
          "color": "#4D5663"
         },
         "title": {
          "font": {
           "color": "#4D5663"
          },
          "text": "Missions"
         },
         "zerolinecolor": "#E1E5ED"
        }
       }
      },
      "text/html": [
       "<div>                            <div id=\"f6573713-5912-4743-be79-dd5729b4af1d\" class=\"plotly-graph-div\" style=\"height:525px; width:100%;\"></div>            <script type=\"text/javascript\">                require([\"plotly\"], function(Plotly) {                    window.PLOTLYENV=window.PLOTLYENV || {};\n",
       "                    window.PLOTLYENV.BASE_URL='https://plot.ly';                                    if (document.getElementById(\"f6573713-5912-4743-be79-dd5729b4af1d\")) {                    Plotly.newPlot(                        \"f6573713-5912-4743-be79-dd5729b4af1d\",                        [{\"marker\":{\"color\":\"rgba(255, 153, 51, 0.6)\",\"line\":{\"color\":\"rgba(255, 153, 51, 1.0)\",\"width\":1}},\"name\":\"Mission_Status\",\"orientation\":\"v\",\"text\":\"\",\"x\":[\"RVSN USSR\",\"Arianespace\",\"General Dynamics\",\"CASC\",\"NASA\",\"VKS RF\",\"US Air Force\",\"ULA\",\"Boeing\",\"Martin Marietta\",\"SpaceX\",\"MHI\",\"Northrop\",\"Lockheed\",\"ISRO\",\"Roscosmos\",\"ILS\",\"Sea Launch\",\"ISAS\",\"Kosmotras\",\"US Navy\",\"Eurockot\",\"ISA\",\"Rocket Lab\",\"ESA\",\"Blue Origin\",\"IAI\",\"ExPace\",\"ASI\",\"CNES\",\"AMBA\",\"Land Launch\",\"MITT\",\"JAXA\",\"UT\",\"CASIC\",\"KCST\",\"CECLES\",\"Exos\",\"Arm??e de l'Air\",\"SRC\",\"AEB\",\"KARI\",\"RAE\",\"OKB-586\",\"Yuzhmash\",\"OneSpace\",\"Sandia\",\"Landspace\",\"Starsem\",\"Khrunichev\",\"IRGC\",\"EER\",\"Douglas\",\"Virgin Orbit\",\"i-Space\"],\"y\":[1777,279,251,251,203,201,161,140,136,114,100,84,83,79,76,55,46,36,30,22,17,13,13,13,13,12,11,10,9,8,8,7,7,7,5,5,5,4,4,4,3,3,3,2,2,2,1,1,1,1,1,1,1,1,1,1],\"type\":\"bar\"}],                        {\"legend\":{\"bgcolor\":\"#F5F6F9\",\"font\":{\"color\":\"#4D5663\"}},\"paper_bgcolor\":\"#F5F6F9\",\"plot_bgcolor\":\"#F5F6F9\",\"template\":{\"data\":{\"barpolar\":[{\"marker\":{\"line\":{\"color\":\"#E5ECF6\",\"width\":0.5},\"pattern\":{\"fillmode\":\"overlay\",\"size\":10,\"solidity\":0.2}},\"type\":\"barpolar\"}],\"bar\":[{\"error_x\":{\"color\":\"#2a3f5f\"},\"error_y\":{\"color\":\"#2a3f5f\"},\"marker\":{\"line\":{\"color\":\"#E5ECF6\",\"width\":0.5},\"pattern\":{\"fillmode\":\"overlay\",\"size\":10,\"solidity\":0.2}},\"type\":\"bar\"}],\"carpet\":[{\"aaxis\":{\"endlinecolor\":\"#2a3f5f\",\"gridcolor\":\"white\",\"linecolor\":\"white\",\"minorgridcolor\":\"white\",\"startlinecolor\":\"#2a3f5f\"},\"baxis\":{\"endlinecolor\":\"#2a3f5f\",\"gridcolor\":\"white\",\"linecolor\":\"white\",\"minorgridcolor\":\"white\",\"startlinecolor\":\"#2a3f5f\"},\"type\":\"carpet\"}],\"choropleth\":[{\"colorbar\":{\"outlinewidth\":0,\"ticks\":\"\"},\"type\":\"choropleth\"}],\"contourcarpet\":[{\"colorbar\":{\"outlinewidth\":0,\"ticks\":\"\"},\"type\":\"contourcarpet\"}],\"contour\":[{\"colorbar\":{\"outlinewidth\":0,\"ticks\":\"\"},\"colorscale\":[[0.0,\"#0d0887\"],[0.1111111111111111,\"#46039f\"],[0.2222222222222222,\"#7201a8\"],[0.3333333333333333,\"#9c179e\"],[0.4444444444444444,\"#bd3786\"],[0.5555555555555556,\"#d8576b\"],[0.6666666666666666,\"#ed7953\"],[0.7777777777777778,\"#fb9f3a\"],[0.8888888888888888,\"#fdca26\"],[1.0,\"#f0f921\"]],\"type\":\"contour\"}],\"heatmapgl\":[{\"colorbar\":{\"outlinewidth\":0,\"ticks\":\"\"},\"colorscale\":[[0.0,\"#0d0887\"],[0.1111111111111111,\"#46039f\"],[0.2222222222222222,\"#7201a8\"],[0.3333333333333333,\"#9c179e\"],[0.4444444444444444,\"#bd3786\"],[0.5555555555555556,\"#d8576b\"],[0.6666666666666666,\"#ed7953\"],[0.7777777777777778,\"#fb9f3a\"],[0.8888888888888888,\"#fdca26\"],[1.0,\"#f0f921\"]],\"type\":\"heatmapgl\"}],\"heatmap\":[{\"colorbar\":{\"outlinewidth\":0,\"ticks\":\"\"},\"colorscale\":[[0.0,\"#0d0887\"],[0.1111111111111111,\"#46039f\"],[0.2222222222222222,\"#7201a8\"],[0.3333333333333333,\"#9c179e\"],[0.4444444444444444,\"#bd3786\"],[0.5555555555555556,\"#d8576b\"],[0.6666666666666666,\"#ed7953\"],[0.7777777777777778,\"#fb9f3a\"],[0.8888888888888888,\"#fdca26\"],[1.0,\"#f0f921\"]],\"type\":\"heatmap\"}],\"histogram2dcontour\":[{\"colorbar\":{\"outlinewidth\":0,\"ticks\":\"\"},\"colorscale\":[[0.0,\"#0d0887\"],[0.1111111111111111,\"#46039f\"],[0.2222222222222222,\"#7201a8\"],[0.3333333333333333,\"#9c179e\"],[0.4444444444444444,\"#bd3786\"],[0.5555555555555556,\"#d8576b\"],[0.6666666666666666,\"#ed7953\"],[0.7777777777777778,\"#fb9f3a\"],[0.8888888888888888,\"#fdca26\"],[1.0,\"#f0f921\"]],\"type\":\"histogram2dcontour\"}],\"histogram2d\":[{\"colorbar\":{\"outlinewidth\":0,\"ticks\":\"\"},\"colorscale\":[[0.0,\"#0d0887\"],[0.1111111111111111,\"#46039f\"],[0.2222222222222222,\"#7201a8\"],[0.3333333333333333,\"#9c179e\"],[0.4444444444444444,\"#bd3786\"],[0.5555555555555556,\"#d8576b\"],[0.6666666666666666,\"#ed7953\"],[0.7777777777777778,\"#fb9f3a\"],[0.8888888888888888,\"#fdca26\"],[1.0,\"#f0f921\"]],\"type\":\"histogram2d\"}],\"histogram\":[{\"marker\":{\"pattern\":{\"fillmode\":\"overlay\",\"size\":10,\"solidity\":0.2}},\"type\":\"histogram\"}],\"mesh3d\":[{\"colorbar\":{\"outlinewidth\":0,\"ticks\":\"\"},\"type\":\"mesh3d\"}],\"parcoords\":[{\"line\":{\"colorbar\":{\"outlinewidth\":0,\"ticks\":\"\"}},\"type\":\"parcoords\"}],\"pie\":[{\"automargin\":true,\"type\":\"pie\"}],\"scatter3d\":[{\"line\":{\"colorbar\":{\"outlinewidth\":0,\"ticks\":\"\"}},\"marker\":{\"colorbar\":{\"outlinewidth\":0,\"ticks\":\"\"}},\"type\":\"scatter3d\"}],\"scattercarpet\":[{\"marker\":{\"colorbar\":{\"outlinewidth\":0,\"ticks\":\"\"}},\"type\":\"scattercarpet\"}],\"scattergeo\":[{\"marker\":{\"colorbar\":{\"outlinewidth\":0,\"ticks\":\"\"}},\"type\":\"scattergeo\"}],\"scattergl\":[{\"marker\":{\"colorbar\":{\"outlinewidth\":0,\"ticks\":\"\"}},\"type\":\"scattergl\"}],\"scattermapbox\":[{\"marker\":{\"colorbar\":{\"outlinewidth\":0,\"ticks\":\"\"}},\"type\":\"scattermapbox\"}],\"scatterpolargl\":[{\"marker\":{\"colorbar\":{\"outlinewidth\":0,\"ticks\":\"\"}},\"type\":\"scatterpolargl\"}],\"scatterpolar\":[{\"marker\":{\"colorbar\":{\"outlinewidth\":0,\"ticks\":\"\"}},\"type\":\"scatterpolar\"}],\"scatter\":[{\"fillpattern\":{\"fillmode\":\"overlay\",\"size\":10,\"solidity\":0.2},\"type\":\"scatter\"}],\"scatterternary\":[{\"marker\":{\"colorbar\":{\"outlinewidth\":0,\"ticks\":\"\"}},\"type\":\"scatterternary\"}],\"surface\":[{\"colorbar\":{\"outlinewidth\":0,\"ticks\":\"\"},\"colorscale\":[[0.0,\"#0d0887\"],[0.1111111111111111,\"#46039f\"],[0.2222222222222222,\"#7201a8\"],[0.3333333333333333,\"#9c179e\"],[0.4444444444444444,\"#bd3786\"],[0.5555555555555556,\"#d8576b\"],[0.6666666666666666,\"#ed7953\"],[0.7777777777777778,\"#fb9f3a\"],[0.8888888888888888,\"#fdca26\"],[1.0,\"#f0f921\"]],\"type\":\"surface\"}],\"table\":[{\"cells\":{\"fill\":{\"color\":\"#EBF0F8\"},\"line\":{\"color\":\"white\"}},\"header\":{\"fill\":{\"color\":\"#C8D4E3\"},\"line\":{\"color\":\"white\"}},\"type\":\"table\"}]},\"layout\":{\"annotationdefaults\":{\"arrowcolor\":\"#2a3f5f\",\"arrowhead\":0,\"arrowwidth\":1},\"autotypenumbers\":\"strict\",\"coloraxis\":{\"colorbar\":{\"outlinewidth\":0,\"ticks\":\"\"}},\"colorscale\":{\"diverging\":[[0,\"#8e0152\"],[0.1,\"#c51b7d\"],[0.2,\"#de77ae\"],[0.3,\"#f1b6da\"],[0.4,\"#fde0ef\"],[0.5,\"#f7f7f7\"],[0.6,\"#e6f5d0\"],[0.7,\"#b8e186\"],[0.8,\"#7fbc41\"],[0.9,\"#4d9221\"],[1,\"#276419\"]],\"sequential\":[[0.0,\"#0d0887\"],[0.1111111111111111,\"#46039f\"],[0.2222222222222222,\"#7201a8\"],[0.3333333333333333,\"#9c179e\"],[0.4444444444444444,\"#bd3786\"],[0.5555555555555556,\"#d8576b\"],[0.6666666666666666,\"#ed7953\"],[0.7777777777777778,\"#fb9f3a\"],[0.8888888888888888,\"#fdca26\"],[1.0,\"#f0f921\"]],\"sequentialminus\":[[0.0,\"#0d0887\"],[0.1111111111111111,\"#46039f\"],[0.2222222222222222,\"#7201a8\"],[0.3333333333333333,\"#9c179e\"],[0.4444444444444444,\"#bd3786\"],[0.5555555555555556,\"#d8576b\"],[0.6666666666666666,\"#ed7953\"],[0.7777777777777778,\"#fb9f3a\"],[0.8888888888888888,\"#fdca26\"],[1.0,\"#f0f921\"]]},\"colorway\":[\"#636efa\",\"#EF553B\",\"#00cc96\",\"#ab63fa\",\"#FFA15A\",\"#19d3f3\",\"#FF6692\",\"#B6E880\",\"#FF97FF\",\"#FECB52\"],\"font\":{\"color\":\"#2a3f5f\"},\"geo\":{\"bgcolor\":\"white\",\"lakecolor\":\"white\",\"landcolor\":\"#E5ECF6\",\"showlakes\":true,\"showland\":true,\"subunitcolor\":\"white\"},\"hoverlabel\":{\"align\":\"left\"},\"hovermode\":\"closest\",\"mapbox\":{\"style\":\"light\"},\"paper_bgcolor\":\"white\",\"plot_bgcolor\":\"#E5ECF6\",\"polar\":{\"angularaxis\":{\"gridcolor\":\"white\",\"linecolor\":\"white\",\"ticks\":\"\"},\"bgcolor\":\"#E5ECF6\",\"radialaxis\":{\"gridcolor\":\"white\",\"linecolor\":\"white\",\"ticks\":\"\"}},\"scene\":{\"xaxis\":{\"backgroundcolor\":\"#E5ECF6\",\"gridcolor\":\"white\",\"gridwidth\":2,\"linecolor\":\"white\",\"showbackground\":true,\"ticks\":\"\",\"zerolinecolor\":\"white\"},\"yaxis\":{\"backgroundcolor\":\"#E5ECF6\",\"gridcolor\":\"white\",\"gridwidth\":2,\"linecolor\":\"white\",\"showbackground\":true,\"ticks\":\"\",\"zerolinecolor\":\"white\"},\"zaxis\":{\"backgroundcolor\":\"#E5ECF6\",\"gridcolor\":\"white\",\"gridwidth\":2,\"linecolor\":\"white\",\"showbackground\":true,\"ticks\":\"\",\"zerolinecolor\":\"white\"}},\"shapedefaults\":{\"line\":{\"color\":\"#2a3f5f\"}},\"ternary\":{\"aaxis\":{\"gridcolor\":\"white\",\"linecolor\":\"white\",\"ticks\":\"\"},\"baxis\":{\"gridcolor\":\"white\",\"linecolor\":\"white\",\"ticks\":\"\"},\"bgcolor\":\"#E5ECF6\",\"caxis\":{\"gridcolor\":\"white\",\"linecolor\":\"white\",\"ticks\":\"\"}},\"title\":{\"x\":0.05},\"xaxis\":{\"automargin\":true,\"gridcolor\":\"white\",\"linecolor\":\"white\",\"ticks\":\"\",\"title\":{\"standoff\":15},\"zerolinecolor\":\"white\",\"zerolinewidth\":2},\"yaxis\":{\"automargin\":true,\"gridcolor\":\"white\",\"linecolor\":\"white\",\"ticks\":\"\",\"title\":{\"standoff\":15},\"zerolinecolor\":\"white\",\"zerolinewidth\":2}}},\"title\":{\"font\":{\"color\":\"#4D5663\"},\"text\":\"Number of Recorded Missions by Company\"},\"xaxis\":{\"gridcolor\":\"#E1E5ED\",\"showgrid\":true,\"tickfont\":{\"color\":\"#4D5663\"},\"title\":{\"font\":{\"color\":\"#4D5663\"},\"text\":\"Organisation\"},\"zerolinecolor\":\"#E1E5ED\"},\"yaxis\":{\"gridcolor\":\"#E1E5ED\",\"showgrid\":true,\"tickfont\":{\"color\":\"#4D5663\"},\"title\":{\"font\":{\"color\":\"#4D5663\"},\"text\":\"Missions\"},\"zerolinecolor\":\"#E1E5ED\"}},                        {\"showLink\": true, \"linkText\": \"Export to plot.ly\", \"plotlyServerURL\": \"https://plot.ly\", \"responsive\": true}                    ).then(function(){\n",
       "                            \n",
       "var gd = document.getElementById('f6573713-5912-4743-be79-dd5729b4af1d');\n",
       "var x = new MutationObserver(function (mutations, observer) {{\n",
       "        var display = window.getComputedStyle(gd).display;\n",
       "        if (!display || display === 'none') {{\n",
       "            console.log([gd, 'removed!']);\n",
       "            Plotly.purge(gd);\n",
       "            observer.disconnect();\n",
       "        }}\n",
       "}});\n",
       "\n",
       "// Listen for the removal of the full notebook cells\n",
       "var notebookContainer = gd.closest('#notebook-container');\n",
       "if (notebookContainer) {{\n",
       "    x.observe(notebookContainer, {childList: true});\n",
       "}}\n",
       "\n",
       "// Listen for the clearing of the current output cell\n",
       "var outputEl = gd.closest('.output');\n",
       "if (outputEl) {{\n",
       "    x.observe(outputEl, {childList: true});\n",
       "}}\n",
       "\n",
       "                        })                };                });            </script>        </div>"
      ]
     },
     "metadata": {},
     "output_type": "display_data"
    }
   ],
   "source": [
    "og_missions.iplot(kind='bar',\n",
    "                  x=\"Organisation\",\n",
    "                  y=\"Mission_Status\",\n",
    "                  xTitle=\"Organisation\",\n",
    "                  yTitle=\"Missions\",\n",
    "                  title=\"Number of Recorded Missions by Company\"\n",
    ")"
   ]
  },
  {
   "cell_type": "markdown",
   "metadata": {
    "id": "7Gwteht2kR_h"
   },
   "source": [
    "### Number of Active versus Retired Rockets\n"
   ]
  },
  {
   "cell_type": "code",
   "execution_count": 30,
   "metadata": {
    "id": "SxmOWS9cmTq6"
   },
   "outputs": [
    {
     "data": {
      "text/html": [
       "<div>\n",
       "<style scoped>\n",
       "    .dataframe tbody tr th:only-of-type {\n",
       "        vertical-align: middle;\n",
       "    }\n",
       "\n",
       "    .dataframe tbody tr th {\n",
       "        vertical-align: top;\n",
       "    }\n",
       "\n",
       "    .dataframe thead th {\n",
       "        text-align: right;\n",
       "    }\n",
       "</style>\n",
       "<table border=\"1\" class=\"dataframe\">\n",
       "  <thead>\n",
       "    <tr style=\"text-align: right;\">\n",
       "      <th></th>\n",
       "      <th>Organisation</th>\n",
       "      <th>Location</th>\n",
       "      <th>Date</th>\n",
       "      <th>Detail</th>\n",
       "      <th>Rocket_Status</th>\n",
       "      <th>Price</th>\n",
       "      <th>Mission_Status</th>\n",
       "    </tr>\n",
       "  </thead>\n",
       "  <tbody>\n",
       "    <tr>\n",
       "      <th>0</th>\n",
       "      <td>SpaceX</td>\n",
       "      <td>LC-39A, Kennedy Space Center, Florida, USA</td>\n",
       "      <td>2020-08-07 05:12:00+00:00</td>\n",
       "      <td>Falcon 9 Block 5 | Starlink V1 L9 &amp; BlackSky</td>\n",
       "      <td>StatusActive</td>\n",
       "      <td>50.00</td>\n",
       "      <td>Success</td>\n",
       "    </tr>\n",
       "    <tr>\n",
       "      <th>1</th>\n",
       "      <td>CASC</td>\n",
       "      <td>Site 9401 (SLS-2), Jiuquan Satellite Launch Ce...</td>\n",
       "      <td>2020-08-06 04:01:00+00:00</td>\n",
       "      <td>Long March 2D | Gaofen-9 04 &amp; Q-SAT</td>\n",
       "      <td>StatusActive</td>\n",
       "      <td>29.75</td>\n",
       "      <td>Success</td>\n",
       "    </tr>\n",
       "  </tbody>\n",
       "</table>\n",
       "</div>"
      ],
      "text/plain": [
       "  Organisation                                           Location  \\\n",
       "0       SpaceX         LC-39A, Kennedy Space Center, Florida, USA   \n",
       "1         CASC  Site 9401 (SLS-2), Jiuquan Satellite Launch Ce...   \n",
       "\n",
       "                        Date                                        Detail  \\\n",
       "0  2020-08-07 05:12:00+00:00  Falcon 9 Block 5 | Starlink V1 L9 & BlackSky   \n",
       "1  2020-08-06 04:01:00+00:00           Long March 2D | Gaofen-9 04 & Q-SAT   \n",
       "\n",
       "  Rocket_Status  Price Mission_Status  \n",
       "0  StatusActive  50.00        Success  \n",
       "1  StatusActive  29.75        Success  "
      ]
     },
     "execution_count": 30,
     "metadata": {},
     "output_type": "execute_result"
    }
   ],
   "source": [
    "df_data.head(2)"
   ]
  },
  {
   "cell_type": "markdown",
   "metadata": {},
   "source": [
    "####  Checking retired vs active rockets by using value_counts. "
   ]
  },
  {
   "cell_type": "code",
   "execution_count": 31,
   "metadata": {},
   "outputs": [
    {
     "data": {
      "text/plain": [
       "StatusRetired    3534\n",
       "StatusActive      790\n",
       "Name: Rocket_Status, dtype: int64"
      ]
     },
     "execution_count": 31,
     "metadata": {},
     "output_type": "execute_result"
    }
   ],
   "source": [
    "df_data[\"Rocket_Status\"].value_counts()"
   ]
  },
  {
   "cell_type": "markdown",
   "metadata": {},
   "source": [
    "####  Plotting a Pie chart to visualize it better. "
   ]
  },
  {
   "cell_type": "code",
   "execution_count": 32,
   "metadata": {
    "id": "ydj0-OZ6mToH"
   },
   "outputs": [
    {
     "data": {
      "image/png": "[encoded data removed]",
      "text/plain": [
       "<Figure size 640x480 with 1 Axes>"
      ]
     },
     "metadata": {},
     "output_type": "display_data"
    }
   ],
   "source": [
    "colors = sns.color_palette('pastel')[0:5]\n",
    "plt.pie(x=df_data[\"Rocket_Status\"].value_counts(),\n",
    "        labels=[\"Retired Rockets\",\"Active Rockets\"],\n",
    "        colors=colors,\n",
    "        autopct='%.0f%%',\n",
    "        labeldistance = 0.12)\n",
    "plt.title(\"Active vs Retired Rockets\")\n",
    "plt.tight_layout()"
   ]
  },
  {
   "cell_type": "markdown",
   "metadata": {
    "id": "y9WtP5xWkYkp"
   },
   "source": [
    "### Distribution of Mission Status\n",
    "\n",
    "####  How many missions were successful?\n",
    "####  How many missions failed?"
   ]
  },
  {
   "cell_type": "code",
   "execution_count": 33,
   "metadata": {
    "id": "83kY1alqmUhb"
   },
   "outputs": [
    {
     "data": {
      "text/html": [
       "<div>\n",
       "<style scoped>\n",
       "    .dataframe tbody tr th:only-of-type {\n",
       "        vertical-align: middle;\n",
       "    }\n",
       "\n",
       "    .dataframe tbody tr th {\n",
       "        vertical-align: top;\n",
       "    }\n",
       "\n",
       "    .dataframe thead th {\n",
       "        text-align: right;\n",
       "    }\n",
       "</style>\n",
       "<table border=\"1\" class=\"dataframe\">\n",
       "  <thead>\n",
       "    <tr style=\"text-align: right;\">\n",
       "      <th></th>\n",
       "      <th>Organisation</th>\n",
       "      <th>Location</th>\n",
       "      <th>Date</th>\n",
       "      <th>Detail</th>\n",
       "      <th>Rocket_Status</th>\n",
       "      <th>Price</th>\n",
       "      <th>Mission_Status</th>\n",
       "    </tr>\n",
       "  </thead>\n",
       "  <tbody>\n",
       "    <tr>\n",
       "      <th>0</th>\n",
       "      <td>SpaceX</td>\n",
       "      <td>LC-39A, Kennedy Space Center, Florida, USA</td>\n",
       "      <td>2020-08-07 05:12:00+00:00</td>\n",
       "      <td>Falcon 9 Block 5 | Starlink V1 L9 &amp; BlackSky</td>\n",
       "      <td>StatusActive</td>\n",
       "      <td>50.00</td>\n",
       "      <td>Success</td>\n",
       "    </tr>\n",
       "    <tr>\n",
       "      <th>1</th>\n",
       "      <td>CASC</td>\n",
       "      <td>Site 9401 (SLS-2), Jiuquan Satellite Launch Ce...</td>\n",
       "      <td>2020-08-06 04:01:00+00:00</td>\n",
       "      <td>Long March 2D | Gaofen-9 04 &amp; Q-SAT</td>\n",
       "      <td>StatusActive</td>\n",
       "      <td>29.75</td>\n",
       "      <td>Success</td>\n",
       "    </tr>\n",
       "    <tr>\n",
       "      <th>2</th>\n",
       "      <td>SpaceX</td>\n",
       "      <td>Pad A, Boca Chica, Texas, USA</td>\n",
       "      <td>2020-08-04 23:57:00+00:00</td>\n",
       "      <td>Starship Prototype | 150 Meter Hop</td>\n",
       "      <td>StatusActive</td>\n",
       "      <td>NaN</td>\n",
       "      <td>Success</td>\n",
       "    </tr>\n",
       "    <tr>\n",
       "      <th>3</th>\n",
       "      <td>Roscosmos</td>\n",
       "      <td>Site 200/39, Baikonur Cosmodrome, Kazakhstan</td>\n",
       "      <td>2020-07-30 21:25:00+00:00</td>\n",
       "      <td>Proton-M/Briz-M | Ekspress-80 &amp; Ekspress-103</td>\n",
       "      <td>StatusActive</td>\n",
       "      <td>65.00</td>\n",
       "      <td>Success</td>\n",
       "    </tr>\n",
       "    <tr>\n",
       "      <th>4</th>\n",
       "      <td>ULA</td>\n",
       "      <td>SLC-41, Cape Canaveral AFS, Florida, USA</td>\n",
       "      <td>2020-07-30 11:50:00+00:00</td>\n",
       "      <td>Atlas V 541 | Perseverance</td>\n",
       "      <td>StatusActive</td>\n",
       "      <td>145.00</td>\n",
       "      <td>Success</td>\n",
       "    </tr>\n",
       "  </tbody>\n",
       "</table>\n",
       "</div>"
      ],
      "text/plain": [
       "  Organisation                                           Location  \\\n",
       "0       SpaceX         LC-39A, Kennedy Space Center, Florida, USA   \n",
       "1         CASC  Site 9401 (SLS-2), Jiuquan Satellite Launch Ce...   \n",
       "2       SpaceX                      Pad A, Boca Chica, Texas, USA   \n",
       "3    Roscosmos       Site 200/39, Baikonur Cosmodrome, Kazakhstan   \n",
       "4          ULA           SLC-41, Cape Canaveral AFS, Florida, USA   \n",
       "\n",
       "                        Date                                        Detail  \\\n",
       "0  2020-08-07 05:12:00+00:00  Falcon 9 Block 5 | Starlink V1 L9 & BlackSky   \n",
       "1  2020-08-06 04:01:00+00:00           Long March 2D | Gaofen-9 04 & Q-SAT   \n",
       "2  2020-08-04 23:57:00+00:00            Starship Prototype | 150 Meter Hop   \n",
       "3  2020-07-30 21:25:00+00:00  Proton-M/Briz-M | Ekspress-80 & Ekspress-103   \n",
       "4  2020-07-30 11:50:00+00:00                    Atlas V 541 | Perseverance   \n",
       "\n",
       "  Rocket_Status  Price Mission_Status  \n",
       "0  StatusActive  50.00        Success  \n",
       "1  StatusActive  29.75        Success  \n",
       "2  StatusActive    NaN        Success  \n",
       "3  StatusActive  65.00        Success  \n",
       "4  StatusActive 145.00        Success  "
      ]
     },
     "execution_count": 33,
     "metadata": {},
     "output_type": "execute_result"
    }
   ],
   "source": [
    "df_data.head()"
   ]
  },
  {
   "cell_type": "markdown",
   "metadata": {},
   "source": [
    "####  Looking at the success spread of rocket launches by using value_counts on Mission_Status column. "
   ]
  },
  {
   "cell_type": "code",
   "execution_count": 34,
   "metadata": {
    "id": "bdmXcaopmUeZ"
   },
   "outputs": [
    {
     "data": {
      "text/plain": [
       "Success              3879\n",
       "Failure               339\n",
       "Partial Failure       102\n",
       "Prelaunch Failure       4\n",
       "Name: Mission_Status, dtype: int64"
      ]
     },
     "execution_count": 34,
     "metadata": {},
     "output_type": "execute_result"
    }
   ],
   "source": [
    "msn_succ = df_data[\"Mission_Status\"].value_counts()\n",
    "msn_succ.head()"
   ]
  },
  {
   "cell_type": "code",
   "execution_count": 35,
   "metadata": {},
   "outputs": [
    {
     "data": {
      "application/vnd.plotly.v1+json": {
       "config": {
        "linkText": "Export to plot.ly",
        "plotlyServerURL": "https://plot.ly",
        "showLink": true
       },
       "data": [
        {
         "marker": {
          "color": "rgba(252, 141, 89, 0.6)",
          "line": {
           "color": "rgba(252, 141, 89, 1.0)",
           "width": 1
          }
         },
         "name": "Mission_Status",
         "orientation": "v",
         "text": "",
         "type": "bar",
         "x": [
          "Success",
          "Failure",
          "Partial Failure",
          "Prelaunch Failure"
         ],
         "y": [
          3879,
          339,
          102,
          4
         ]
        }
       ],
       "layout": {
        "legend": {
         "bgcolor": "#151516",
         "font": {
          "color": "#D9D9D9"
         }
        },
        "paper_bgcolor": "#151516",
        "plot_bgcolor": "#151516",
        "template": {
         "data": {
          "bar": [
           {
            "error_x": {
             "color": "#2a3f5f"
            },
            "error_y": {
             "color": "#2a3f5f"
            },
            "marker": {
             "line": {
              "color": "#E5ECF6",
              "width": 0.5
             },
             "pattern": {
              "fillmode": "overlay",
              "size": 10,
              "solidity": 0.2
             }
            },
            "type": "bar"
           }
          ],
          "barpolar": [
           {
            "marker": {
             "line": {
              "color": "#E5ECF6",
              "width": 0.5
             },
             "pattern": {
              "fillmode": "overlay",
              "size": 10,
              "solidity": 0.2
             }
            },
            "type": "barpolar"
           }
          ],
          "carpet": [
           {
            "aaxis": {
             "endlinecolor": "#2a3f5f",
             "gridcolor": "white",
             "linecolor": "white",
             "minorgridcolor": "white",
             "startlinecolor": "#2a3f5f"
            },
            "baxis": {
             "endlinecolor": "#2a3f5f",
             "gridcolor": "white",
             "linecolor": "white",
             "minorgridcolor": "white",
             "startlinecolor": "#2a3f5f"
            },
            "type": "carpet"
           }
          ],
          "choropleth": [
           {
            "colorbar": {
             "outlinewidth": 0,
             "ticks": ""
            },
            "type": "choropleth"
           }
          ],
          "contour": [
           {
            "colorbar": {
             "outlinewidth": 0,
             "ticks": ""
            },
            "colorscale": [
             [
              0,
              "#0d0887"
             ],
             [
              0.1111111111111111,
              "#46039f"
             ],
             [
              0.2222222222222222,
              "#7201a8"
             ],
             [
              0.3333333333333333,
              "#9c179e"
             ],
             [
              0.4444444444444444,
              "#bd3786"
             ],
             [
              0.5555555555555556,
              "#d8576b"
             ],
             [
              0.6666666666666666,
              "#ed7953"
             ],
             [
              0.7777777777777778,
              "#fb9f3a"
             ],
             [
              0.8888888888888888,
              "#fdca26"
             ],
             [
              1,
              "#f0f921"
             ]
            ],
            "type": "contour"
           }
          ],
          "contourcarpet": [
           {
            "colorbar": {
             "outlinewidth": 0,
             "ticks": ""
            },
            "type": "contourcarpet"
           }
          ],
          "heatmap": [
           {
            "colorbar": {
             "outlinewidth": 0,
             "ticks": ""
            },
            "colorscale": [
             [
              0,
              "#0d0887"
             ],
             [
              0.1111111111111111,
              "#46039f"
             ],
             [
              0.2222222222222222,
              "#7201a8"
             ],
             [
              0.3333333333333333,
              "#9c179e"
             ],
             [
              0.4444444444444444,
              "#bd3786"
             ],
             [
              0.5555555555555556,
              "#d8576b"
             ],
             [
              0.6666666666666666,
              "#ed7953"
             ],
             [
              0.7777777777777778,
              "#fb9f3a"
             ],
             [
              0.8888888888888888,
              "#fdca26"
             ],
             [
              1,
              "#f0f921"
             ]
            ],
            "type": "heatmap"
           }
          ],
          "heatmapgl": [
           {
            "colorbar": {
             "outlinewidth": 0,
             "ticks": ""
            },
            "colorscale": [
             [
              0,
              "#0d0887"
             ],
             [
              0.1111111111111111,
              "#46039f"
             ],
             [
              0.2222222222222222,
              "#7201a8"
             ],
             [
              0.3333333333333333,
              "#9c179e"
             ],
             [
              0.4444444444444444,
              "#bd3786"
             ],
             [
              0.5555555555555556,
              "#d8576b"
             ],
             [
              0.6666666666666666,
              "#ed7953"
             ],
             [
              0.7777777777777778,
              "#fb9f3a"
             ],
             [
              0.8888888888888888,
              "#fdca26"
             ],
             [
              1,
              "#f0f921"
             ]
            ],
            "type": "heatmapgl"
           }
          ],
          "histogram": [
           {
            "marker": {
             "pattern": {
              "fillmode": "overlay",
              "size": 10,
              "solidity": 0.2
             }
            },
            "type": "histogram"
           }
          ],
          "histogram2d": [
           {
            "colorbar": {
             "outlinewidth": 0,
             "ticks": ""
            },
            "colorscale": [
             [
              0,
              "#0d0887"
             ],
             [
              0.1111111111111111,
              "#46039f"
             ],
             [
              0.2222222222222222,
              "#7201a8"
             ],
             [
              0.3333333333333333,
              "#9c179e"
             ],
             [
              0.4444444444444444,
              "#bd3786"
             ],
             [
              0.5555555555555556,
              "#d8576b"
             ],
             [
              0.6666666666666666,
              "#ed7953"
             ],
             [
              0.7777777777777778,
              "#fb9f3a"
             ],
             [
              0.8888888888888888,
              "#fdca26"
             ],
             [
              1,
              "#f0f921"
             ]
            ],
            "type": "histogram2d"
           }
          ],
          "histogram2dcontour": [
           {
            "colorbar": {
             "outlinewidth": 0,
             "ticks": ""
            },
            "colorscale": [
             [
              0,
              "#0d0887"
             ],
             [
              0.1111111111111111,
              "#46039f"
             ],
             [
              0.2222222222222222,
              "#7201a8"
             ],
             [
              0.3333333333333333,
              "#9c179e"
             ],
             [
              0.4444444444444444,
              "#bd3786"
             ],
             [
              0.5555555555555556,
              "#d8576b"
             ],
             [
              0.6666666666666666,
              "#ed7953"
             ],
             [
              0.7777777777777778,
              "#fb9f3a"
             ],
             [
              0.8888888888888888,
              "#fdca26"
             ],
             [
              1,
              "#f0f921"
             ]
            ],
            "type": "histogram2dcontour"
           }
          ],
          "mesh3d": [
           {
            "colorbar": {
             "outlinewidth": 0,
             "ticks": ""
            },
            "type": "mesh3d"
           }
          ],
          "parcoords": [
           {
            "line": {
             "colorbar": {
              "outlinewidth": 0,
              "ticks": ""
             }
            },
            "type": "parcoords"
           }
          ],
          "pie": [
           {
            "automargin": true,
            "type": "pie"
           }
          ],
          "scatter": [
           {
            "fillpattern": {
             "fillmode": "overlay",
             "size": 10,
             "solidity": 0.2
            },
            "type": "scatter"
           }
          ],
          "scatter3d": [
           {
            "line": {
             "colorbar": {
              "outlinewidth": 0,
              "ticks": ""
             }
            },
            "marker": {
             "colorbar": {
              "outlinewidth": 0,
              "ticks": ""
             }
            },
            "type": "scatter3d"
           }
          ],
          "scattercarpet": [
           {
            "marker": {
             "colorbar": {
              "outlinewidth": 0,
              "ticks": ""
             }
            },
            "type": "scattercarpet"
           }
          ],
          "scattergeo": [
           {
            "marker": {
             "colorbar": {
              "outlinewidth": 0,
              "ticks": ""
             }
            },
            "type": "scattergeo"
           }
          ],
          "scattergl": [
           {
            "marker": {
             "colorbar": {
              "outlinewidth": 0,
              "ticks": ""
             }
            },
            "type": "scattergl"
           }
          ],
          "scattermapbox": [
           {
            "marker": {
             "colorbar": {
              "outlinewidth": 0,
              "ticks": ""
             }
            },
            "type": "scattermapbox"
           }
          ],
          "scatterpolar": [
           {
            "marker": {
             "colorbar": {
              "outlinewidth": 0,
              "ticks": ""
             }
            },
            "type": "scatterpolar"
           }
          ],
          "scatterpolargl": [
           {
            "marker": {
             "colorbar": {
              "outlinewidth": 0,
              "ticks": ""
             }
            },
            "type": "scatterpolargl"
           }
          ],
          "scatterternary": [
           {
            "marker": {
             "colorbar": {
              "outlinewidth": 0,
              "ticks": ""
             }
            },
            "type": "scatterternary"
           }
          ],
          "surface": [
           {
            "colorbar": {
             "outlinewidth": 0,
             "ticks": ""
            },
            "colorscale": [
             [
              0,
              "#0d0887"
             ],
             [
              0.1111111111111111,
              "#46039f"
             ],
             [
              0.2222222222222222,
              "#7201a8"
             ],
             [
              0.3333333333333333,
              "#9c179e"
             ],
             [
              0.4444444444444444,
              "#bd3786"
             ],
             [
              0.5555555555555556,
              "#d8576b"
             ],
             [
              0.6666666666666666,
              "#ed7953"
             ],
             [
              0.7777777777777778,
              "#fb9f3a"
             ],
             [
              0.8888888888888888,
              "#fdca26"
             ],
             [
              1,
              "#f0f921"
             ]
            ],
            "type": "surface"
           }
          ],
          "table": [
           {
            "cells": {
             "fill": {
              "color": "#EBF0F8"
             },
             "line": {
              "color": "white"
             }
            },
            "header": {
             "fill": {
              "color": "#C8D4E3"
             },
             "line": {
              "color": "white"
             }
            },
            "type": "table"
           }
          ]
         },
         "layout": {
          "annotationdefaults": {
           "arrowcolor": "#2a3f5f",
           "arrowhead": 0,
           "arrowwidth": 1
          },
          "autotypenumbers": "strict",
          "coloraxis": {
           "colorbar": {
            "outlinewidth": 0,
            "ticks": ""
           }
          },
          "colorscale": {
           "diverging": [
            [
             0,
             "#8e0152"
            ],
            [
             0.1,
             "#c51b7d"
            ],
            [
             0.2,
             "#de77ae"
            ],
            [
             0.3,
             "#f1b6da"
            ],
            [
             0.4,
             "#fde0ef"
            ],
            [
             0.5,
             "#f7f7f7"
            ],
            [
             0.6,
             "#e6f5d0"
            ],
            [
             0.7,
             "#b8e186"
            ],
            [
             0.8,
             "#7fbc41"
            ],
            [
             0.9,
             "#4d9221"
            ],
            [
             1,
             "#276419"
            ]
           ],
           "sequential": [
            [
             0,
             "#0d0887"
            ],
            [
             0.1111111111111111,
             "#46039f"
            ],
            [
             0.2222222222222222,
             "#7201a8"
            ],
            [
             0.3333333333333333,
             "#9c179e"
            ],
            [
             0.4444444444444444,
             "#bd3786"
            ],
            [
             0.5555555555555556,
             "#d8576b"
            ],
            [
             0.6666666666666666,
             "#ed7953"
            ],
            [
             0.7777777777777778,
             "#fb9f3a"
            ],
            [
             0.8888888888888888,
             "#fdca26"
            ],
            [
             1,
             "#f0f921"
            ]
           ],
           "sequentialminus": [
            [
             0,
             "#0d0887"
            ],
            [
             0.1111111111111111,
             "#46039f"
            ],
            [
             0.2222222222222222,
             "#7201a8"
            ],
            [
             0.3333333333333333,
             "#9c179e"
            ],
            [
             0.4444444444444444,
             "#bd3786"
            ],
            [
             0.5555555555555556,
             "#d8576b"
            ],
            [
             0.6666666666666666,
             "#ed7953"
            ],
            [
             0.7777777777777778,
             "#fb9f3a"
            ],
            [
             0.8888888888888888,
             "#fdca26"
            ],
            [
             1,
             "#f0f921"
            ]
           ]
          },
          "colorway": [
           "#636efa",
           "#EF553B",
           "#00cc96",
           "#ab63fa",
           "#FFA15A",
           "#19d3f3",
           "#FF6692",
           "#B6E880",
           "#FF97FF",
           "#FECB52"
          ],
          "font": {
           "color": "#2a3f5f"
          },
          "geo": {
           "bgcolor": "white",
           "lakecolor": "white",
           "landcolor": "#E5ECF6",
           "showlakes": true,
           "showland": true,
           "subunitcolor": "white"
          },
          "hoverlabel": {
           "align": "left"
          },
          "hovermode": "closest",
          "mapbox": {
           "style": "light"
          },
          "paper_bgcolor": "white",
          "plot_bgcolor": "#E5ECF6",
          "polar": {
           "angularaxis": {
            "gridcolor": "white",
            "linecolor": "white",
            "ticks": ""
           },
           "bgcolor": "#E5ECF6",
           "radialaxis": {
            "gridcolor": "white",
            "linecolor": "white",
            "ticks": ""
           }
          },
          "scene": {
           "xaxis": {
            "backgroundcolor": "#E5ECF6",
            "gridcolor": "white",
            "gridwidth": 2,
            "linecolor": "white",
            "showbackground": true,
            "ticks": "",
            "zerolinecolor": "white"
           },
           "yaxis": {
            "backgroundcolor": "#E5ECF6",
            "gridcolor": "white",
            "gridwidth": 2,
            "linecolor": "white",
            "showbackground": true,
            "ticks": "",
            "zerolinecolor": "white"
           },
           "zaxis": {
            "backgroundcolor": "#E5ECF6",
            "gridcolor": "white",
            "gridwidth": 2,
            "linecolor": "white",
            "showbackground": true,
            "ticks": "",
            "zerolinecolor": "white"
           }
          },
          "shapedefaults": {
           "line": {
            "color": "#2a3f5f"
           }
          },
          "ternary": {
           "aaxis": {
            "gridcolor": "white",
            "linecolor": "white",
            "ticks": ""
           },
           "baxis": {
            "gridcolor": "white",
            "linecolor": "white",
            "ticks": ""
           },
           "bgcolor": "#E5ECF6",
           "caxis": {
            "gridcolor": "white",
            "linecolor": "white",
            "ticks": ""
           }
          },
          "title": {
           "x": 0.05
          },
          "xaxis": {
           "automargin": true,
           "gridcolor": "white",
           "linecolor": "white",
           "ticks": "",
           "title": {
            "standoff": 15
           },
           "zerolinecolor": "white",
           "zerolinewidth": 2
          },
          "yaxis": {
           "automargin": true,
           "gridcolor": "white",
           "linecolor": "white",
           "ticks": "",
           "title": {
            "standoff": 15
           },
           "zerolinecolor": "white",
           "zerolinewidth": 2
          }
         }
        },
        "title": {
         "font": {
          "color": "#D9D9D9"
         },
         "text": "Mission Status"
        },
        "xaxis": {
         "gridcolor": "#434343",
         "showgrid": true,
         "tickfont": {
          "color": "#C2C2C2"
         },
         "title": {
          "font": {
           "color": "#D9D9D9"
          },
          "text": "Status"
         },
         "zerolinecolor": "#666570"
        },
        "yaxis": {
         "gridcolor": "#434343",
         "showgrid": true,
         "tickfont": {
          "color": "#C2C2C2"
         },
         "title": {
          "font": {
           "color": "#D9D9D9"
          },
          "text": "Number of Missions"
         },
         "zerolinecolor": "#666570"
        }
       }
      },
      "text/html": [
       "<div>                            <div id=\"3e56e748-078c-4f6f-b707-650bd3906e3d\" class=\"plotly-graph-div\" style=\"height:525px; width:100%;\"></div>            <script type=\"text/javascript\">                require([\"plotly\"], function(Plotly) {                    window.PLOTLYENV=window.PLOTLYENV || {};\n",
       "                    window.PLOTLYENV.BASE_URL='https://plot.ly';                                    if (document.getElementById(\"3e56e748-078c-4f6f-b707-650bd3906e3d\")) {                    Plotly.newPlot(                        \"3e56e748-078c-4f6f-b707-650bd3906e3d\",                        [{\"marker\":{\"color\":\"rgba(252, 141, 89, 0.6)\",\"line\":{\"color\":\"rgba(252, 141, 89, 1.0)\",\"width\":1}},\"name\":\"Mission_Status\",\"orientation\":\"v\",\"text\":\"\",\"x\":[\"Success\",\"Failure\",\"Partial Failure\",\"Prelaunch Failure\"],\"y\":[3879,339,102,4],\"type\":\"bar\"}],                        {\"legend\":{\"bgcolor\":\"#151516\",\"font\":{\"color\":\"#D9D9D9\"}},\"paper_bgcolor\":\"#151516\",\"plot_bgcolor\":\"#151516\",\"template\":{\"data\":{\"barpolar\":[{\"marker\":{\"line\":{\"color\":\"#E5ECF6\",\"width\":0.5},\"pattern\":{\"fillmode\":\"overlay\",\"size\":10,\"solidity\":0.2}},\"type\":\"barpolar\"}],\"bar\":[{\"error_x\":{\"color\":\"#2a3f5f\"},\"error_y\":{\"color\":\"#2a3f5f\"},\"marker\":{\"line\":{\"color\":\"#E5ECF6\",\"width\":0.5},\"pattern\":{\"fillmode\":\"overlay\",\"size\":10,\"solidity\":0.2}},\"type\":\"bar\"}],\"carpet\":[{\"aaxis\":{\"endlinecolor\":\"#2a3f5f\",\"gridcolor\":\"white\",\"linecolor\":\"white\",\"minorgridcolor\":\"white\",\"startlinecolor\":\"#2a3f5f\"},\"baxis\":{\"endlinecolor\":\"#2a3f5f\",\"gridcolor\":\"white\",\"linecolor\":\"white\",\"minorgridcolor\":\"white\",\"startlinecolor\":\"#2a3f5f\"},\"type\":\"carpet\"}],\"choropleth\":[{\"colorbar\":{\"outlinewidth\":0,\"ticks\":\"\"},\"type\":\"choropleth\"}],\"contourcarpet\":[{\"colorbar\":{\"outlinewidth\":0,\"ticks\":\"\"},\"type\":\"contourcarpet\"}],\"contour\":[{\"colorbar\":{\"outlinewidth\":0,\"ticks\":\"\"},\"colorscale\":[[0.0,\"#0d0887\"],[0.1111111111111111,\"#46039f\"],[0.2222222222222222,\"#7201a8\"],[0.3333333333333333,\"#9c179e\"],[0.4444444444444444,\"#bd3786\"],[0.5555555555555556,\"#d8576b\"],[0.6666666666666666,\"#ed7953\"],[0.7777777777777778,\"#fb9f3a\"],[0.8888888888888888,\"#fdca26\"],[1.0,\"#f0f921\"]],\"type\":\"contour\"}],\"heatmapgl\":[{\"colorbar\":{\"outlinewidth\":0,\"ticks\":\"\"},\"colorscale\":[[0.0,\"#0d0887\"],[0.1111111111111111,\"#46039f\"],[0.2222222222222222,\"#7201a8\"],[0.3333333333333333,\"#9c179e\"],[0.4444444444444444,\"#bd3786\"],[0.5555555555555556,\"#d8576b\"],[0.6666666666666666,\"#ed7953\"],[0.7777777777777778,\"#fb9f3a\"],[0.8888888888888888,\"#fdca26\"],[1.0,\"#f0f921\"]],\"type\":\"heatmapgl\"}],\"heatmap\":[{\"colorbar\":{\"outlinewidth\":0,\"ticks\":\"\"},\"colorscale\":[[0.0,\"#0d0887\"],[0.1111111111111111,\"#46039f\"],[0.2222222222222222,\"#7201a8\"],[0.3333333333333333,\"#9c179e\"],[0.4444444444444444,\"#bd3786\"],[0.5555555555555556,\"#d8576b\"],[0.6666666666666666,\"#ed7953\"],[0.7777777777777778,\"#fb9f3a\"],[0.8888888888888888,\"#fdca26\"],[1.0,\"#f0f921\"]],\"type\":\"heatmap\"}],\"histogram2dcontour\":[{\"colorbar\":{\"outlinewidth\":0,\"ticks\":\"\"},\"colorscale\":[[0.0,\"#0d0887\"],[0.1111111111111111,\"#46039f\"],[0.2222222222222222,\"#7201a8\"],[0.3333333333333333,\"#9c179e\"],[0.4444444444444444,\"#bd3786\"],[0.5555555555555556,\"#d8576b\"],[0.6666666666666666,\"#ed7953\"],[0.7777777777777778,\"#fb9f3a\"],[0.8888888888888888,\"#fdca26\"],[1.0,\"#f0f921\"]],\"type\":\"histogram2dcontour\"}],\"histogram2d\":[{\"colorbar\":{\"outlinewidth\":0,\"ticks\":\"\"},\"colorscale\":[[0.0,\"#0d0887\"],[0.1111111111111111,\"#46039f\"],[0.2222222222222222,\"#7201a8\"],[0.3333333333333333,\"#9c179e\"],[0.4444444444444444,\"#bd3786\"],[0.5555555555555556,\"#d8576b\"],[0.6666666666666666,\"#ed7953\"],[0.7777777777777778,\"#fb9f3a\"],[0.8888888888888888,\"#fdca26\"],[1.0,\"#f0f921\"]],\"type\":\"histogram2d\"}],\"histogram\":[{\"marker\":{\"pattern\":{\"fillmode\":\"overlay\",\"size\":10,\"solidity\":0.2}},\"type\":\"histogram\"}],\"mesh3d\":[{\"colorbar\":{\"outlinewidth\":0,\"ticks\":\"\"},\"type\":\"mesh3d\"}],\"parcoords\":[{\"line\":{\"colorbar\":{\"outlinewidth\":0,\"ticks\":\"\"}},\"type\":\"parcoords\"}],\"pie\":[{\"automargin\":true,\"type\":\"pie\"}],\"scatter3d\":[{\"line\":{\"colorbar\":{\"outlinewidth\":0,\"ticks\":\"\"}},\"marker\":{\"colorbar\":{\"outlinewidth\":0,\"ticks\":\"\"}},\"type\":\"scatter3d\"}],\"scattercarpet\":[{\"marker\":{\"colorbar\":{\"outlinewidth\":0,\"ticks\":\"\"}},\"type\":\"scattercarpet\"}],\"scattergeo\":[{\"marker\":{\"colorbar\":{\"outlinewidth\":0,\"ticks\":\"\"}},\"type\":\"scattergeo\"}],\"scattergl\":[{\"marker\":{\"colorbar\":{\"outlinewidth\":0,\"ticks\":\"\"}},\"type\":\"scattergl\"}],\"scattermapbox\":[{\"marker\":{\"colorbar\":{\"outlinewidth\":0,\"ticks\":\"\"}},\"type\":\"scattermapbox\"}],\"scatterpolargl\":[{\"marker\":{\"colorbar\":{\"outlinewidth\":0,\"ticks\":\"\"}},\"type\":\"scatterpolargl\"}],\"scatterpolar\":[{\"marker\":{\"colorbar\":{\"outlinewidth\":0,\"ticks\":\"\"}},\"type\":\"scatterpolar\"}],\"scatter\":[{\"fillpattern\":{\"fillmode\":\"overlay\",\"size\":10,\"solidity\":0.2},\"type\":\"scatter\"}],\"scatterternary\":[{\"marker\":{\"colorbar\":{\"outlinewidth\":0,\"ticks\":\"\"}},\"type\":\"scatterternary\"}],\"surface\":[{\"colorbar\":{\"outlinewidth\":0,\"ticks\":\"\"},\"colorscale\":[[0.0,\"#0d0887\"],[0.1111111111111111,\"#46039f\"],[0.2222222222222222,\"#7201a8\"],[0.3333333333333333,\"#9c179e\"],[0.4444444444444444,\"#bd3786\"],[0.5555555555555556,\"#d8576b\"],[0.6666666666666666,\"#ed7953\"],[0.7777777777777778,\"#fb9f3a\"],[0.8888888888888888,\"#fdca26\"],[1.0,\"#f0f921\"]],\"type\":\"surface\"}],\"table\":[{\"cells\":{\"fill\":{\"color\":\"#EBF0F8\"},\"line\":{\"color\":\"white\"}},\"header\":{\"fill\":{\"color\":\"#C8D4E3\"},\"line\":{\"color\":\"white\"}},\"type\":\"table\"}]},\"layout\":{\"annotationdefaults\":{\"arrowcolor\":\"#2a3f5f\",\"arrowhead\":0,\"arrowwidth\":1},\"autotypenumbers\":\"strict\",\"coloraxis\":{\"colorbar\":{\"outlinewidth\":0,\"ticks\":\"\"}},\"colorscale\":{\"diverging\":[[0,\"#8e0152\"],[0.1,\"#c51b7d\"],[0.2,\"#de77ae\"],[0.3,\"#f1b6da\"],[0.4,\"#fde0ef\"],[0.5,\"#f7f7f7\"],[0.6,\"#e6f5d0\"],[0.7,\"#b8e186\"],[0.8,\"#7fbc41\"],[0.9,\"#4d9221\"],[1,\"#276419\"]],\"sequential\":[[0.0,\"#0d0887\"],[0.1111111111111111,\"#46039f\"],[0.2222222222222222,\"#7201a8\"],[0.3333333333333333,\"#9c179e\"],[0.4444444444444444,\"#bd3786\"],[0.5555555555555556,\"#d8576b\"],[0.6666666666666666,\"#ed7953\"],[0.7777777777777778,\"#fb9f3a\"],[0.8888888888888888,\"#fdca26\"],[1.0,\"#f0f921\"]],\"sequentialminus\":[[0.0,\"#0d0887\"],[0.1111111111111111,\"#46039f\"],[0.2222222222222222,\"#7201a8\"],[0.3333333333333333,\"#9c179e\"],[0.4444444444444444,\"#bd3786\"],[0.5555555555555556,\"#d8576b\"],[0.6666666666666666,\"#ed7953\"],[0.7777777777777778,\"#fb9f3a\"],[0.8888888888888888,\"#fdca26\"],[1.0,\"#f0f921\"]]},\"colorway\":[\"#636efa\",\"#EF553B\",\"#00cc96\",\"#ab63fa\",\"#FFA15A\",\"#19d3f3\",\"#FF6692\",\"#B6E880\",\"#FF97FF\",\"#FECB52\"],\"font\":{\"color\":\"#2a3f5f\"},\"geo\":{\"bgcolor\":\"white\",\"lakecolor\":\"white\",\"landcolor\":\"#E5ECF6\",\"showlakes\":true,\"showland\":true,\"subunitcolor\":\"white\"},\"hoverlabel\":{\"align\":\"left\"},\"hovermode\":\"closest\",\"mapbox\":{\"style\":\"light\"},\"paper_bgcolor\":\"white\",\"plot_bgcolor\":\"#E5ECF6\",\"polar\":{\"angularaxis\":{\"gridcolor\":\"white\",\"linecolor\":\"white\",\"ticks\":\"\"},\"bgcolor\":\"#E5ECF6\",\"radialaxis\":{\"gridcolor\":\"white\",\"linecolor\":\"white\",\"ticks\":\"\"}},\"scene\":{\"xaxis\":{\"backgroundcolor\":\"#E5ECF6\",\"gridcolor\":\"white\",\"gridwidth\":2,\"linecolor\":\"white\",\"showbackground\":true,\"ticks\":\"\",\"zerolinecolor\":\"white\"},\"yaxis\":{\"backgroundcolor\":\"#E5ECF6\",\"gridcolor\":\"white\",\"gridwidth\":2,\"linecolor\":\"white\",\"showbackground\":true,\"ticks\":\"\",\"zerolinecolor\":\"white\"},\"zaxis\":{\"backgroundcolor\":\"#E5ECF6\",\"gridcolor\":\"white\",\"gridwidth\":2,\"linecolor\":\"white\",\"showbackground\":true,\"ticks\":\"\",\"zerolinecolor\":\"white\"}},\"shapedefaults\":{\"line\":{\"color\":\"#2a3f5f\"}},\"ternary\":{\"aaxis\":{\"gridcolor\":\"white\",\"linecolor\":\"white\",\"ticks\":\"\"},\"baxis\":{\"gridcolor\":\"white\",\"linecolor\":\"white\",\"ticks\":\"\"},\"bgcolor\":\"#E5ECF6\",\"caxis\":{\"gridcolor\":\"white\",\"linecolor\":\"white\",\"ticks\":\"\"}},\"title\":{\"x\":0.05},\"xaxis\":{\"automargin\":true,\"gridcolor\":\"white\",\"linecolor\":\"white\",\"ticks\":\"\",\"title\":{\"standoff\":15},\"zerolinecolor\":\"white\",\"zerolinewidth\":2},\"yaxis\":{\"automargin\":true,\"gridcolor\":\"white\",\"linecolor\":\"white\",\"ticks\":\"\",\"title\":{\"standoff\":15},\"zerolinecolor\":\"white\",\"zerolinewidth\":2}}},\"title\":{\"font\":{\"color\":\"#D9D9D9\"},\"text\":\"Mission Status\"},\"xaxis\":{\"gridcolor\":\"#434343\",\"showgrid\":true,\"tickfont\":{\"color\":\"#C2C2C2\"},\"title\":{\"font\":{\"color\":\"#D9D9D9\"},\"text\":\"Status\"},\"zerolinecolor\":\"#666570\"},\"yaxis\":{\"gridcolor\":\"#434343\",\"showgrid\":true,\"tickfont\":{\"color\":\"#C2C2C2\"},\"title\":{\"font\":{\"color\":\"#D9D9D9\"},\"text\":\"Number of Missions\"},\"zerolinecolor\":\"#666570\"}},                        {\"showLink\": true, \"linkText\": \"Export to plot.ly\", \"plotlyServerURL\": \"https://plot.ly\", \"responsive\": true}                    ).then(function(){\n",
       "                            \n",
       "var gd = document.getElementById('3e56e748-078c-4f6f-b707-650bd3906e3d');\n",
       "var x = new MutationObserver(function (mutations, observer) {{\n",
       "        var display = window.getComputedStyle(gd).display;\n",
       "        if (!display || display === 'none') {{\n",
       "            console.log([gd, 'removed!']);\n",
       "            Plotly.purge(gd);\n",
       "            observer.disconnect();\n",
       "        }}\n",
       "}});\n",
       "\n",
       "// Listen for the removal of the full notebook cells\n",
       "var notebookContainer = gd.closest('#notebook-container');\n",
       "if (notebookContainer) {{\n",
       "    x.observe(notebookContainer, {childList: true});\n",
       "}}\n",
       "\n",
       "// Listen for the clearing of the current output cell\n",
       "var outputEl = gd.closest('.output');\n",
       "if (outputEl) {{\n",
       "    x.observe(outputEl, {childList: true});\n",
       "}}\n",
       "\n",
       "                        })                };                });            </script>        </div>"
      ]
     },
     "metadata": {},
     "output_type": "display_data"
    }
   ],
   "source": [
    "\n",
    "msn_succ.iplot(kind=\"bar\",\n",
    "               title=\"Mission Status\",\n",
    "               xTitle=\"Status\",\n",
    "               theme=\"solar\",\n",
    "               colorscale='rdylbu',\n",
    "               yTitle=\"Number of Missions\")"
   ]
  },
  {
   "cell_type": "markdown",
   "metadata": {},
   "source": [
    "### There are far more successes than failures as seen above. The distribution is quite significant. "
   ]
  },
  {
   "cell_type": "markdown",
   "metadata": {
    "id": "jgTCihuoa-qH",
    "papermill": {
     "duration": 0.03854,
     "end_time": "2020-10-20T21:34:05.968626",
     "exception": false,
     "start_time": "2020-10-20T21:34:05.930086",
     "status": "completed"
    },
    "tags": []
   },
   "source": [
    "### How Expensive are the Launches? "
   ]
  },
  {
   "cell_type": "code",
   "execution_count": 36,
   "metadata": {
    "id": "PLOMhzZFnSCO"
   },
   "outputs": [
    {
     "data": {
      "text/html": [
       "<div>\n",
       "<style scoped>\n",
       "    .dataframe tbody tr th:only-of-type {\n",
       "        vertical-align: middle;\n",
       "    }\n",
       "\n",
       "    .dataframe tbody tr th {\n",
       "        vertical-align: top;\n",
       "    }\n",
       "\n",
       "    .dataframe thead th {\n",
       "        text-align: right;\n",
       "    }\n",
       "</style>\n",
       "<table border=\"1\" class=\"dataframe\">\n",
       "  <thead>\n",
       "    <tr style=\"text-align: right;\">\n",
       "      <th></th>\n",
       "      <th>Organisation</th>\n",
       "      <th>Location</th>\n",
       "      <th>Date</th>\n",
       "      <th>Detail</th>\n",
       "      <th>Rocket_Status</th>\n",
       "      <th>Price</th>\n",
       "      <th>Mission_Status</th>\n",
       "    </tr>\n",
       "  </thead>\n",
       "  <tbody>\n",
       "    <tr>\n",
       "      <th>0</th>\n",
       "      <td>SpaceX</td>\n",
       "      <td>LC-39A, Kennedy Space Center, Florida, USA</td>\n",
       "      <td>2020-08-07 05:12:00+00:00</td>\n",
       "      <td>Falcon 9 Block 5 | Starlink V1 L9 &amp; BlackSky</td>\n",
       "      <td>StatusActive</td>\n",
       "      <td>50.00</td>\n",
       "      <td>Success</td>\n",
       "    </tr>\n",
       "    <tr>\n",
       "      <th>1</th>\n",
       "      <td>CASC</td>\n",
       "      <td>Site 9401 (SLS-2), Jiuquan Satellite Launch Ce...</td>\n",
       "      <td>2020-08-06 04:01:00+00:00</td>\n",
       "      <td>Long March 2D | Gaofen-9 04 &amp; Q-SAT</td>\n",
       "      <td>StatusActive</td>\n",
       "      <td>29.75</td>\n",
       "      <td>Success</td>\n",
       "    </tr>\n",
       "    <tr>\n",
       "      <th>2</th>\n",
       "      <td>SpaceX</td>\n",
       "      <td>Pad A, Boca Chica, Texas, USA</td>\n",
       "      <td>2020-08-04 23:57:00+00:00</td>\n",
       "      <td>Starship Prototype | 150 Meter Hop</td>\n",
       "      <td>StatusActive</td>\n",
       "      <td>NaN</td>\n",
       "      <td>Success</td>\n",
       "    </tr>\n",
       "    <tr>\n",
       "      <th>3</th>\n",
       "      <td>Roscosmos</td>\n",
       "      <td>Site 200/39, Baikonur Cosmodrome, Kazakhstan</td>\n",
       "      <td>2020-07-30 21:25:00+00:00</td>\n",
       "      <td>Proton-M/Briz-M | Ekspress-80 &amp; Ekspress-103</td>\n",
       "      <td>StatusActive</td>\n",
       "      <td>65.00</td>\n",
       "      <td>Success</td>\n",
       "    </tr>\n",
       "    <tr>\n",
       "      <th>4</th>\n",
       "      <td>ULA</td>\n",
       "      <td>SLC-41, Cape Canaveral AFS, Florida, USA</td>\n",
       "      <td>2020-07-30 11:50:00+00:00</td>\n",
       "      <td>Atlas V 541 | Perseverance</td>\n",
       "      <td>StatusActive</td>\n",
       "      <td>145.00</td>\n",
       "      <td>Success</td>\n",
       "    </tr>\n",
       "  </tbody>\n",
       "</table>\n",
       "</div>"
      ],
      "text/plain": [
       "  Organisation                                           Location  \\\n",
       "0       SpaceX         LC-39A, Kennedy Space Center, Florida, USA   \n",
       "1         CASC  Site 9401 (SLS-2), Jiuquan Satellite Launch Ce...   \n",
       "2       SpaceX                      Pad A, Boca Chica, Texas, USA   \n",
       "3    Roscosmos       Site 200/39, Baikonur Cosmodrome, Kazakhstan   \n",
       "4          ULA           SLC-41, Cape Canaveral AFS, Florida, USA   \n",
       "\n",
       "                        Date                                        Detail  \\\n",
       "0  2020-08-07 05:12:00+00:00  Falcon 9 Block 5 | Starlink V1 L9 & BlackSky   \n",
       "1  2020-08-06 04:01:00+00:00           Long March 2D | Gaofen-9 04 & Q-SAT   \n",
       "2  2020-08-04 23:57:00+00:00            Starship Prototype | 150 Meter Hop   \n",
       "3  2020-07-30 21:25:00+00:00  Proton-M/Briz-M | Ekspress-80 & Ekspress-103   \n",
       "4  2020-07-30 11:50:00+00:00                    Atlas V 541 | Perseverance   \n",
       "\n",
       "  Rocket_Status  Price Mission_Status  \n",
       "0  StatusActive  50.00        Success  \n",
       "1  StatusActive  29.75        Success  \n",
       "2  StatusActive    NaN        Success  \n",
       "3  StatusActive  65.00        Success  \n",
       "4  StatusActive 145.00        Success  "
      ]
     },
     "execution_count": 36,
     "metadata": {},
     "output_type": "execute_result"
    }
   ],
   "source": [
    "df_data.head()"
   ]
  },
  {
   "cell_type": "code",
   "execution_count": 37,
   "metadata": {
    "id": "ru0IcY4nnSFU"
   },
   "outputs": [
    {
     "name": "stdout",
     "output_type": "stream",
     "text": [
      "<class 'pandas.core.frame.DataFrame'>\n",
      "RangeIndex: 4324 entries, 0 to 4323\n",
      "Data columns (total 7 columns):\n",
      " #   Column          Non-Null Count  Dtype  \n",
      "---  ------          --------------  -----  \n",
      " 0   Organisation    4324 non-null   object \n",
      " 1   Location        4324 non-null   object \n",
      " 2   Date            4324 non-null   object \n",
      " 3   Detail          4324 non-null   object \n",
      " 4   Rocket_Status   4324 non-null   object \n",
      " 5   Price           964 non-null    float64\n",
      " 6   Mission_Status  4324 non-null   object \n",
      "dtypes: float64(1), object(6)\n",
      "memory usage: 236.6+ KB\n"
     ]
    }
   ],
   "source": [
    "df_data.info()"
   ]
  },
  {
   "cell_type": "markdown",
   "metadata": {},
   "source": [
    "#### Checking Data Type of price "
   ]
  },
  {
   "cell_type": "code",
   "execution_count": 38,
   "metadata": {},
   "outputs": [
    {
     "data": {
      "text/plain": [
       "numpy.float64"
      ]
     },
     "execution_count": 38,
     "metadata": {},
     "output_type": "execute_result"
    }
   ],
   "source": [
    "type(df_data[\"Price\"].iloc[1])"
   ]
  },
  {
   "cell_type": "markdown",
   "metadata": {},
   "source": [
    "####  Creating a new dataframe with just organisation, Date and Price"
   ]
  },
  {
   "cell_type": "code",
   "execution_count": 39,
   "metadata": {},
   "outputs": [
    {
     "data": {
      "text/html": [
       "<div>\n",
       "<style scoped>\n",
       "    .dataframe tbody tr th:only-of-type {\n",
       "        vertical-align: middle;\n",
       "    }\n",
       "\n",
       "    .dataframe tbody tr th {\n",
       "        vertical-align: top;\n",
       "    }\n",
       "\n",
       "    .dataframe thead th {\n",
       "        text-align: right;\n",
       "    }\n",
       "</style>\n",
       "<table border=\"1\" class=\"dataframe\">\n",
       "  <thead>\n",
       "    <tr style=\"text-align: right;\">\n",
       "      <th></th>\n",
       "      <th>Organisation</th>\n",
       "      <th>Date</th>\n",
       "      <th>Price</th>\n",
       "    </tr>\n",
       "  </thead>\n",
       "  <tbody>\n",
       "    <tr>\n",
       "      <th>0</th>\n",
       "      <td>SpaceX</td>\n",
       "      <td>2020-08-07 05:12:00+00:00</td>\n",
       "      <td>50.00</td>\n",
       "    </tr>\n",
       "    <tr>\n",
       "      <th>1</th>\n",
       "      <td>CASC</td>\n",
       "      <td>2020-08-06 04:01:00+00:00</td>\n",
       "      <td>29.75</td>\n",
       "    </tr>\n",
       "    <tr>\n",
       "      <th>2</th>\n",
       "      <td>SpaceX</td>\n",
       "      <td>2020-08-04 23:57:00+00:00</td>\n",
       "      <td>NaN</td>\n",
       "    </tr>\n",
       "    <tr>\n",
       "      <th>3</th>\n",
       "      <td>Roscosmos</td>\n",
       "      <td>2020-07-30 21:25:00+00:00</td>\n",
       "      <td>65.00</td>\n",
       "    </tr>\n",
       "    <tr>\n",
       "      <th>4</th>\n",
       "      <td>ULA</td>\n",
       "      <td>2020-07-30 11:50:00+00:00</td>\n",
       "      <td>145.00</td>\n",
       "    </tr>\n",
       "  </tbody>\n",
       "</table>\n",
       "</div>"
      ],
      "text/plain": [
       "  Organisation                       Date  Price\n",
       "0       SpaceX  2020-08-07 05:12:00+00:00  50.00\n",
       "1         CASC  2020-08-06 04:01:00+00:00  29.75\n",
       "2       SpaceX  2020-08-04 23:57:00+00:00    NaN\n",
       "3    Roscosmos  2020-07-30 21:25:00+00:00  65.00\n",
       "4          ULA  2020-07-30 11:50:00+00:00 145.00"
      ]
     },
     "execution_count": 39,
     "metadata": {},
     "output_type": "execute_result"
    }
   ],
   "source": [
    "og_prices = df_data[[\"Organisation\",\"Date\",\"Price\"]]\n",
    "og_prices.head()"
   ]
  },
  {
   "cell_type": "code",
   "execution_count": 40,
   "metadata": {},
   "outputs": [
    {
     "data": {
      "text/plain": [
       "(4324, 3)"
      ]
     },
     "execution_count": 40,
     "metadata": {},
     "output_type": "execute_result"
    }
   ],
   "source": [
    "og_prices.shape"
   ]
  },
  {
   "cell_type": "markdown",
   "metadata": {},
   "source": [
    "#### Since we want to use an aggregation function on prices, it is better to drop rows that dont have any prices mentioned in order to visualize more accurately. "
   ]
  },
  {
   "cell_type": "code",
   "execution_count": 41,
   "metadata": {},
   "outputs": [],
   "source": [
    "og_prices.dropna(inplace=True)"
   ]
  },
  {
   "cell_type": "code",
   "execution_count": 42,
   "metadata": {},
   "outputs": [
    {
     "data": {
      "text/plain": [
       "(964, 3)"
      ]
     },
     "execution_count": 42,
     "metadata": {},
     "output_type": "execute_result"
    }
   ],
   "source": [
    "og_prices.shape"
   ]
  },
  {
   "cell_type": "markdown",
   "metadata": {},
   "source": [
    "####  Using describe to see what the dataframe looks like now. "
   ]
  },
  {
   "cell_type": "code",
   "execution_count": 43,
   "metadata": {},
   "outputs": [
    {
     "data": {
      "text/plain": [
       "count     964.00\n",
       "mean      153.79\n",
       "std       288.45\n",
       "min         5.30\n",
       "25%        40.00\n",
       "50%        62.00\n",
       "75%       164.00\n",
       "max     5,000.00\n",
       "Name: Price, dtype: float64"
      ]
     },
     "execution_count": 43,
     "metadata": {},
     "output_type": "execute_result"
    }
   ],
   "source": [
    "og_prices[\"Price\"].describe()"
   ]
  },
  {
   "cell_type": "markdown",
   "metadata": {},
   "source": [
    "### The maximum price spent on a mission was USD 5000 Million. \n",
    "### The average price is USD 153.8 Million "
   ]
  },
  {
   "cell_type": "markdown",
   "metadata": {},
   "source": [
    "#### Lets look at who spent 5000 Million USD for a single mission."
   ]
  },
  {
   "cell_type": "code",
   "execution_count": 44,
   "metadata": {},
   "outputs": [
    {
     "data": {
      "text/html": [
       "<div>\n",
       "<style scoped>\n",
       "    .dataframe tbody tr th:only-of-type {\n",
       "        vertical-align: middle;\n",
       "    }\n",
       "\n",
       "    .dataframe tbody tr th {\n",
       "        vertical-align: top;\n",
       "    }\n",
       "\n",
       "    .dataframe thead th {\n",
       "        text-align: right;\n",
       "    }\n",
       "</style>\n",
       "<table border=\"1\" class=\"dataframe\">\n",
       "  <thead>\n",
       "    <tr style=\"text-align: right;\">\n",
       "      <th></th>\n",
       "      <th>Organisation</th>\n",
       "      <th>Date</th>\n",
       "      <th>Price</th>\n",
       "    </tr>\n",
       "  </thead>\n",
       "  <tbody>\n",
       "    <tr>\n",
       "      <th>1916</th>\n",
       "      <td>RVSN USSR</td>\n",
       "      <td>1988-11-15 03:00:00+00:00</td>\n",
       "      <td>5,000.00</td>\n",
       "    </tr>\n",
       "    <tr>\n",
       "      <th>2000</th>\n",
       "      <td>RVSN USSR</td>\n",
       "      <td>1987-05-15 17:30:00+00:00</td>\n",
       "      <td>5,000.00</td>\n",
       "    </tr>\n",
       "  </tbody>\n",
       "</table>\n",
       "</div>"
      ],
      "text/plain": [
       "     Organisation                       Date    Price\n",
       "1916    RVSN USSR  1988-11-15 03:00:00+00:00 5,000.00\n",
       "2000    RVSN USSR  1987-05-15 17:30:00+00:00 5,000.00"
      ]
     },
     "execution_count": 44,
     "metadata": {},
     "output_type": "execute_result"
    }
   ],
   "source": [
    "og_prices[og_prices[\"Price\"]==5000]"
   ]
  },
  {
   "cell_type": "markdown",
   "metadata": {},
   "source": [
    "## Russia! Did it twice. "
   ]
  },
  {
   "cell_type": "code",
   "execution_count": 45,
   "metadata": {
    "scrolled": false
   },
   "outputs": [
    {
     "data": {
      "text/html": [
       "<div>\n",
       "<style scoped>\n",
       "    .dataframe tbody tr th:only-of-type {\n",
       "        vertical-align: middle;\n",
       "    }\n",
       "\n",
       "    .dataframe tbody tr th {\n",
       "        vertical-align: top;\n",
       "    }\n",
       "\n",
       "    .dataframe thead th {\n",
       "        text-align: right;\n",
       "    }\n",
       "</style>\n",
       "<table border=\"1\" class=\"dataframe\">\n",
       "  <thead>\n",
       "    <tr style=\"text-align: right;\">\n",
       "      <th></th>\n",
       "      <th>Organisation</th>\n",
       "      <th>Location</th>\n",
       "      <th>Date</th>\n",
       "      <th>Detail</th>\n",
       "      <th>Rocket_Status</th>\n",
       "      <th>Price</th>\n",
       "      <th>Mission_Status</th>\n",
       "    </tr>\n",
       "  </thead>\n",
       "  <tbody>\n",
       "    <tr>\n",
       "      <th>1916</th>\n",
       "      <td>RVSN USSR</td>\n",
       "      <td>Site 110/37, Baikonur Cosmodrome, Kazakhstan</td>\n",
       "      <td>1988-11-15 03:00:00+00:00</td>\n",
       "      <td>Energiya/Buran | Buran</td>\n",
       "      <td>StatusRetired</td>\n",
       "      <td>5,000.00</td>\n",
       "      <td>Success</td>\n",
       "    </tr>\n",
       "    <tr>\n",
       "      <th>2000</th>\n",
       "      <td>RVSN USSR</td>\n",
       "      <td>Site 250, Baikonur Cosmodrome, Kazakhstan</td>\n",
       "      <td>1987-05-15 17:30:00+00:00</td>\n",
       "      <td>Energiya/Polyus | Polyus Space Station</td>\n",
       "      <td>StatusRetired</td>\n",
       "      <td>5,000.00</td>\n",
       "      <td>Success</td>\n",
       "    </tr>\n",
       "  </tbody>\n",
       "</table>\n",
       "</div>"
      ],
      "text/plain": [
       "     Organisation                                      Location  \\\n",
       "1916    RVSN USSR  Site 110/37, Baikonur Cosmodrome, Kazakhstan   \n",
       "2000    RVSN USSR     Site 250, Baikonur Cosmodrome, Kazakhstan   \n",
       "\n",
       "                           Date                                  Detail  \\\n",
       "1916  1988-11-15 03:00:00+00:00                  Energiya/Buran | Buran   \n",
       "2000  1987-05-15 17:30:00+00:00  Energiya/Polyus | Polyus Space Station   \n",
       "\n",
       "      Rocket_Status    Price Mission_Status  \n",
       "1916  StatusRetired 5,000.00        Success  \n",
       "2000  StatusRetired 5,000.00        Success  "
      ]
     },
     "execution_count": 45,
     "metadata": {},
     "output_type": "execute_result"
    }
   ],
   "source": [
    "df_data[df_data[\"Price\"]==5000]"
   ]
  },
  {
   "cell_type": "code",
   "execution_count": null,
   "metadata": {},
   "outputs": [],
   "source": []
  },
  {
   "cell_type": "markdown",
   "metadata": {},
   "source": [
    "#### Creating a new column \"year\" using the Date column. \n",
    "#### This will help us see how prices have behaved through the years"
   ]
  },
  {
   "cell_type": "code",
   "execution_count": 46,
   "metadata": {},
   "outputs": [],
   "source": [
    "og_prices[\"Year\"] = og_prices[\"Date\"].apply(lambda y: y.year)"
   ]
  },
  {
   "cell_type": "code",
   "execution_count": 47,
   "metadata": {},
   "outputs": [
    {
     "data": {
      "text/html": [
       "<div>\n",
       "<style scoped>\n",
       "    .dataframe tbody tr th:only-of-type {\n",
       "        vertical-align: middle;\n",
       "    }\n",
       "\n",
       "    .dataframe tbody tr th {\n",
       "        vertical-align: top;\n",
       "    }\n",
       "\n",
       "    .dataframe thead th {\n",
       "        text-align: right;\n",
       "    }\n",
       "</style>\n",
       "<table border=\"1\" class=\"dataframe\">\n",
       "  <thead>\n",
       "    <tr style=\"text-align: right;\">\n",
       "      <th></th>\n",
       "      <th>Organisation</th>\n",
       "      <th>Date</th>\n",
       "      <th>Price</th>\n",
       "      <th>Year</th>\n",
       "    </tr>\n",
       "  </thead>\n",
       "  <tbody>\n",
       "    <tr>\n",
       "      <th>0</th>\n",
       "      <td>SpaceX</td>\n",
       "      <td>2020-08-07 05:12:00+00:00</td>\n",
       "      <td>50.00</td>\n",
       "      <td>2020</td>\n",
       "    </tr>\n",
       "    <tr>\n",
       "      <th>1</th>\n",
       "      <td>CASC</td>\n",
       "      <td>2020-08-06 04:01:00+00:00</td>\n",
       "      <td>29.75</td>\n",
       "      <td>2020</td>\n",
       "    </tr>\n",
       "    <tr>\n",
       "      <th>3</th>\n",
       "      <td>Roscosmos</td>\n",
       "      <td>2020-07-30 21:25:00+00:00</td>\n",
       "      <td>65.00</td>\n",
       "      <td>2020</td>\n",
       "    </tr>\n",
       "    <tr>\n",
       "      <th>4</th>\n",
       "      <td>ULA</td>\n",
       "      <td>2020-07-30 11:50:00+00:00</td>\n",
       "      <td>145.00</td>\n",
       "      <td>2020</td>\n",
       "    </tr>\n",
       "    <tr>\n",
       "      <th>5</th>\n",
       "      <td>CASC</td>\n",
       "      <td>2020-07-25 03:13:00+00:00</td>\n",
       "      <td>64.68</td>\n",
       "      <td>2020</td>\n",
       "    </tr>\n",
       "    <tr>\n",
       "      <th>...</th>\n",
       "      <td>...</td>\n",
       "      <td>...</td>\n",
       "      <td>...</td>\n",
       "      <td>...</td>\n",
       "    </tr>\n",
       "    <tr>\n",
       "      <th>3855</th>\n",
       "      <td>US Air Force</td>\n",
       "      <td>1966-07-29 18:43:00+00:00</td>\n",
       "      <td>59.00</td>\n",
       "      <td>1966</td>\n",
       "    </tr>\n",
       "    <tr>\n",
       "      <th>3971</th>\n",
       "      <td>US Air Force</td>\n",
       "      <td>1965-05-06 15:00:00+00:00</td>\n",
       "      <td>63.23</td>\n",
       "      <td>1965</td>\n",
       "    </tr>\n",
       "    <tr>\n",
       "      <th>3993</th>\n",
       "      <td>US Air Force</td>\n",
       "      <td>1965-02-11 15:19:00+00:00</td>\n",
       "      <td>63.23</td>\n",
       "      <td>1965</td>\n",
       "    </tr>\n",
       "    <tr>\n",
       "      <th>4000</th>\n",
       "      <td>US Air Force</td>\n",
       "      <td>1964-12-10 16:52:00+00:00</td>\n",
       "      <td>63.23</td>\n",
       "      <td>1964</td>\n",
       "    </tr>\n",
       "    <tr>\n",
       "      <th>4020</th>\n",
       "      <td>US Air Force</td>\n",
       "      <td>1964-09-01 15:00:00+00:00</td>\n",
       "      <td>63.23</td>\n",
       "      <td>1964</td>\n",
       "    </tr>\n",
       "  </tbody>\n",
       "</table>\n",
       "<p>964 rows × 4 columns</p>\n",
       "</div>"
      ],
      "text/plain": [
       "      Organisation                       Date  Price  Year\n",
       "0           SpaceX  2020-08-07 05:12:00+00:00  50.00  2020\n",
       "1             CASC  2020-08-06 04:01:00+00:00  29.75  2020\n",
       "3        Roscosmos  2020-07-30 21:25:00+00:00  65.00  2020\n",
       "4              ULA  2020-07-30 11:50:00+00:00 145.00  2020\n",
       "5             CASC  2020-07-25 03:13:00+00:00  64.68  2020\n",
       "...            ...                        ...    ...   ...\n",
       "3855  US Air Force  1966-07-29 18:43:00+00:00  59.00  1966\n",
       "3971  US Air Force  1965-05-06 15:00:00+00:00  63.23  1965\n",
       "3993  US Air Force  1965-02-11 15:19:00+00:00  63.23  1965\n",
       "4000  US Air Force  1964-12-10 16:52:00+00:00  63.23  1964\n",
       "4020  US Air Force  1964-09-01 15:00:00+00:00  63.23  1964\n",
       "\n",
       "[964 rows x 4 columns]"
      ]
     },
     "execution_count": 47,
     "metadata": {},
     "output_type": "execute_result"
    }
   ],
   "source": [
    "og_prices"
   ]
  },
  {
   "cell_type": "code",
   "execution_count": 48,
   "metadata": {},
   "outputs": [],
   "source": [
    "year_prices = og_prices.groupby(\"Year\",as_index=False).mean(\"Price\")"
   ]
  },
  {
   "cell_type": "code",
   "execution_count": 49,
   "metadata": {},
   "outputs": [
    {
     "data": {
      "text/html": [
       "<div>\n",
       "<style scoped>\n",
       "    .dataframe tbody tr th:only-of-type {\n",
       "        vertical-align: middle;\n",
       "    }\n",
       "\n",
       "    .dataframe tbody tr th {\n",
       "        vertical-align: top;\n",
       "    }\n",
       "\n",
       "    .dataframe thead th {\n",
       "        text-align: right;\n",
       "    }\n",
       "</style>\n",
       "<table border=\"1\" class=\"dataframe\">\n",
       "  <thead>\n",
       "    <tr style=\"text-align: right;\">\n",
       "      <th></th>\n",
       "      <th>Year</th>\n",
       "      <th>Price</th>\n",
       "    </tr>\n",
       "  </thead>\n",
       "  <tbody>\n",
       "    <tr>\n",
       "      <th>0</th>\n",
       "      <td>1964</td>\n",
       "      <td>63.23</td>\n",
       "    </tr>\n",
       "    <tr>\n",
       "      <th>1</th>\n",
       "      <td>1965</td>\n",
       "      <td>63.23</td>\n",
       "    </tr>\n",
       "    <tr>\n",
       "      <th>2</th>\n",
       "      <td>1966</td>\n",
       "      <td>59.00</td>\n",
       "    </tr>\n",
       "    <tr>\n",
       "      <th>3</th>\n",
       "      <td>1967</td>\n",
       "      <td>196.62</td>\n",
       "    </tr>\n",
       "    <tr>\n",
       "      <th>4</th>\n",
       "      <td>1968</td>\n",
       "      <td>279.20</td>\n",
       "    </tr>\n",
       "  </tbody>\n",
       "</table>\n",
       "</div>"
      ],
      "text/plain": [
       "   Year  Price\n",
       "0  1964  63.23\n",
       "1  1965  63.23\n",
       "2  1966  59.00\n",
       "3  1967 196.62\n",
       "4  1968 279.20"
      ]
     },
     "execution_count": 49,
     "metadata": {},
     "output_type": "execute_result"
    }
   ],
   "source": [
    "year_prices.head()"
   ]
  },
  {
   "cell_type": "code",
   "execution_count": 109,
   "metadata": {},
   "outputs": [
    {
     "data": {
      "application/vnd.plotly.v1+json": {
       "config": {
        "plotlyServerURL": "https://plot.ly"
       },
       "data": [
        {
         "hovertemplate": "Year=%{x}<br>Average Price in USD Millions=%{y}<extra></extra>",
         "legendgroup": "",
         "line": {
          "color": "#636efa",
          "dash": "solid"
         },
         "marker": {
          "symbol": "circle"
         },
         "mode": "lines",
         "name": "",
         "orientation": "v",
         "showlegend": false,
         "type": "scatter",
         "x": [
          1964,
          1965,
          1966,
          1967,
          1968,
          1969,
          1970,
          1971,
          1972,
          1973,
          1981,
          1982,
          1983,
          1984,
          1985,
          1986,
          1987,
          1988,
          1989,
          1990,
          1991,
          1992,
          1993,
          1994,
          1995,
          1996,
          1997,
          1998,
          1999,
          2000,
          2001,
          2002,
          2003,
          2004,
          2005,
          2006,
          2007,
          2008,
          2009,
          2010,
          2011,
          2012,
          2013,
          2014,
          2015,
          2016,
          2017,
          2018,
          2019,
          2020
         ],
         "xaxis": "x",
         "y": [
          63.23,
          63.23,
          59,
          196.625,
          279.2,
          609.5,
          1160,
          1160,
          1160,
          1160,
          450,
          345.2,
          366.15999999999997,
          380.1333333333334,
          408.08000000000004,
          310.26666666666665,
          1687.2,
          1193.16,
          380.8333333333333,
          289.1454545454545,
          391.42857142857144,
          319.34583333333336,
          276.73333333333335,
          221.509375,
          325,
          243.19642857142858,
          221.7388888888889,
          152.1222222222222,
          128.51142857142858,
          173.11875,
          290.7,
          185.58588235294118,
          80.5115,
          92.73588235294118,
          95.79333333333334,
          138.60592592592593,
          125.6951724137931,
          129.74821428571428,
          180.28709677419354,
          148.4,
          146.59655172413792,
          122.292,
          90.55151515151515,
          102.55121951219513,
          91.54871794871795,
          79.45734375,
          69.4910606060606,
          64.74977272727273,
          59.609726027397265,
          56.65019230769231
         ],
         "yaxis": "y"
        }
       ],
       "layout": {
        "legend": {
         "tracegroupgap": 0
        },
        "template": {
         "data": {
          "bar": [
           {
            "error_x": {
             "color": "#2a3f5f"
            },
            "error_y": {
             "color": "#2a3f5f"
            },
            "marker": {
             "line": {
              "color": "#E5ECF6",
              "width": 0.5
             },
             "pattern": {
              "fillmode": "overlay",
              "size": 10,
              "solidity": 0.2
             }
            },
            "type": "bar"
           }
          ],
          "barpolar": [
           {
            "marker": {
             "line": {
              "color": "#E5ECF6",
              "width": 0.5
             },
             "pattern": {
              "fillmode": "overlay",
              "size": 10,
              "solidity": 0.2
             }
            },
            "type": "barpolar"
           }
          ],
          "carpet": [
           {
            "aaxis": {
             "endlinecolor": "#2a3f5f",
             "gridcolor": "white",
             "linecolor": "white",
             "minorgridcolor": "white",
             "startlinecolor": "#2a3f5f"
            },
            "baxis": {
             "endlinecolor": "#2a3f5f",
             "gridcolor": "white",
             "linecolor": "white",
             "minorgridcolor": "white",
             "startlinecolor": "#2a3f5f"
            },
            "type": "carpet"
           }
          ],
          "choropleth": [
           {
            "colorbar": {
             "outlinewidth": 0,
             "ticks": ""
            },
            "type": "choropleth"
           }
          ],
          "contour": [
           {
            "colorbar": {
             "outlinewidth": 0,
             "ticks": ""
            },
            "colorscale": [
             [
              0,
              "#0d0887"
             ],
             [
              0.1111111111111111,
              "#46039f"
             ],
             [
              0.2222222222222222,
              "#7201a8"
             ],
             [
              0.3333333333333333,
              "#9c179e"
             ],
             [
              0.4444444444444444,
              "#bd3786"
             ],
             [
              0.5555555555555556,
              "#d8576b"
             ],
             [
              0.6666666666666666,
              "#ed7953"
             ],
             [
              0.7777777777777778,
              "#fb9f3a"
             ],
             [
              0.8888888888888888,
              "#fdca26"
             ],
             [
              1,
              "#f0f921"
             ]
            ],
            "type": "contour"
           }
          ],
          "contourcarpet": [
           {
            "colorbar": {
             "outlinewidth": 0,
             "ticks": ""
            },
            "type": "contourcarpet"
           }
          ],
          "heatmap": [
           {
            "colorbar": {
             "outlinewidth": 0,
             "ticks": ""
            },
            "colorscale": [
             [
              0,
              "#0d0887"
             ],
             [
              0.1111111111111111,
              "#46039f"
             ],
             [
              0.2222222222222222,
              "#7201a8"
             ],
             [
              0.3333333333333333,
              "#9c179e"
             ],
             [
              0.4444444444444444,
              "#bd3786"
             ],
             [
              0.5555555555555556,
              "#d8576b"
             ],
             [
              0.6666666666666666,
              "#ed7953"
             ],
             [
              0.7777777777777778,
              "#fb9f3a"
             ],
             [
              0.8888888888888888,
              "#fdca26"
             ],
             [
              1,
              "#f0f921"
             ]
            ],
            "type": "heatmap"
           }
          ],
          "heatmapgl": [
           {
            "colorbar": {
             "outlinewidth": 0,
             "ticks": ""
            },
            "colorscale": [
             [
              0,
              "#0d0887"
             ],
             [
              0.1111111111111111,
              "#46039f"
             ],
             [
              0.2222222222222222,
              "#7201a8"
             ],
             [
              0.3333333333333333,
              "#9c179e"
             ],
             [
              0.4444444444444444,
              "#bd3786"
             ],
             [
              0.5555555555555556,
              "#d8576b"
             ],
             [
              0.6666666666666666,
              "#ed7953"
             ],
             [
              0.7777777777777778,
              "#fb9f3a"
             ],
             [
              0.8888888888888888,
              "#fdca26"
             ],
             [
              1,
              "#f0f921"
             ]
            ],
            "type": "heatmapgl"
           }
          ],
          "histogram": [
           {
            "marker": {
             "pattern": {
              "fillmode": "overlay",
              "size": 10,
              "solidity": 0.2
             }
            },
            "type": "histogram"
           }
          ],
          "histogram2d": [
           {
            "colorbar": {
             "outlinewidth": 0,
             "ticks": ""
            },
            "colorscale": [
             [
              0,
              "#0d0887"
             ],
             [
              0.1111111111111111,
              "#46039f"
             ],
             [
              0.2222222222222222,
              "#7201a8"
             ],
             [
              0.3333333333333333,
              "#9c179e"
             ],
             [
              0.4444444444444444,
              "#bd3786"
             ],
             [
              0.5555555555555556,
              "#d8576b"
             ],
             [
              0.6666666666666666,
              "#ed7953"
             ],
             [
              0.7777777777777778,
              "#fb9f3a"
             ],
             [
              0.8888888888888888,
              "#fdca26"
             ],
             [
              1,
              "#f0f921"
             ]
            ],
            "type": "histogram2d"
           }
          ],
          "histogram2dcontour": [
           {
            "colorbar": {
             "outlinewidth": 0,
             "ticks": ""
            },
            "colorscale": [
             [
              0,
              "#0d0887"
             ],
             [
              0.1111111111111111,
              "#46039f"
             ],
             [
              0.2222222222222222,
              "#7201a8"
             ],
             [
              0.3333333333333333,
              "#9c179e"
             ],
             [
              0.4444444444444444,
              "#bd3786"
             ],
             [
              0.5555555555555556,
              "#d8576b"
             ],
             [
              0.6666666666666666,
              "#ed7953"
             ],
             [
              0.7777777777777778,
              "#fb9f3a"
             ],
             [
              0.8888888888888888,
              "#fdca26"
             ],
             [
              1,
              "#f0f921"
             ]
            ],
            "type": "histogram2dcontour"
           }
          ],
          "mesh3d": [
           {
            "colorbar": {
             "outlinewidth": 0,
             "ticks": ""
            },
            "type": "mesh3d"
           }
          ],
          "parcoords": [
           {
            "line": {
             "colorbar": {
              "outlinewidth": 0,
              "ticks": ""
             }
            },
            "type": "parcoords"
           }
          ],
          "pie": [
           {
            "automargin": true,
            "type": "pie"
           }
          ],
          "scatter": [
           {
            "fillpattern": {
             "fillmode": "overlay",
             "size": 10,
             "solidity": 0.2
            },
            "type": "scatter"
           }
          ],
          "scatter3d": [
           {
            "line": {
             "colorbar": {
              "outlinewidth": 0,
              "ticks": ""
             }
            },
            "marker": {
             "colorbar": {
              "outlinewidth": 0,
              "ticks": ""
             }
            },
            "type": "scatter3d"
           }
          ],
          "scattercarpet": [
           {
            "marker": {
             "colorbar": {
              "outlinewidth": 0,
              "ticks": ""
             }
            },
            "type": "scattercarpet"
           }
          ],
          "scattergeo": [
           {
            "marker": {
             "colorbar": {
              "outlinewidth": 0,
              "ticks": ""
             }
            },
            "type": "scattergeo"
           }
          ],
          "scattergl": [
           {
            "marker": {
             "colorbar": {
              "outlinewidth": 0,
              "ticks": ""
             }
            },
            "type": "scattergl"
           }
          ],
          "scattermapbox": [
           {
            "marker": {
             "colorbar": {
              "outlinewidth": 0,
              "ticks": ""
             }
            },
            "type": "scattermapbox"
           }
          ],
          "scatterpolar": [
           {
            "marker": {
             "colorbar": {
              "outlinewidth": 0,
              "ticks": ""
             }
            },
            "type": "scatterpolar"
           }
          ],
          "scatterpolargl": [
           {
            "marker": {
             "colorbar": {
              "outlinewidth": 0,
              "ticks": ""
             }
            },
            "type": "scatterpolargl"
           }
          ],
          "scatterternary": [
           {
            "marker": {
             "colorbar": {
              "outlinewidth": 0,
              "ticks": ""
             }
            },
            "type": "scatterternary"
           }
          ],
          "surface": [
           {
            "colorbar": {
             "outlinewidth": 0,
             "ticks": ""
            },
            "colorscale": [
             [
              0,
              "#0d0887"
             ],
             [
              0.1111111111111111,
              "#46039f"
             ],
             [
              0.2222222222222222,
              "#7201a8"
             ],
             [
              0.3333333333333333,
              "#9c179e"
             ],
             [
              0.4444444444444444,
              "#bd3786"
             ],
             [
              0.5555555555555556,
              "#d8576b"
             ],
             [
              0.6666666666666666,
              "#ed7953"
             ],
             [
              0.7777777777777778,
              "#fb9f3a"
             ],
             [
              0.8888888888888888,
              "#fdca26"
             ],
             [
              1,
              "#f0f921"
             ]
            ],
            "type": "surface"
           }
          ],
          "table": [
           {
            "cells": {
             "fill": {
              "color": "#EBF0F8"
             },
             "line": {
              "color": "white"
             }
            },
            "header": {
             "fill": {
              "color": "#C8D4E3"
             },
             "line": {
              "color": "white"
             }
            },
            "type": "table"
           }
          ]
         },
         "layout": {
          "annotationdefaults": {
           "arrowcolor": "#2a3f5f",
           "arrowhead": 0,
           "arrowwidth": 1
          },
          "autotypenumbers": "strict",
          "coloraxis": {
           "colorbar": {
            "outlinewidth": 0,
            "ticks": ""
           }
          },
          "colorscale": {
           "diverging": [
            [
             0,
             "#8e0152"
            ],
            [
             0.1,
             "#c51b7d"
            ],
            [
             0.2,
             "#de77ae"
            ],
            [
             0.3,
             "#f1b6da"
            ],
            [
             0.4,
             "#fde0ef"
            ],
            [
             0.5,
             "#f7f7f7"
            ],
            [
             0.6,
             "#e6f5d0"
            ],
            [
             0.7,
             "#b8e186"
            ],
            [
             0.8,
             "#7fbc41"
            ],
            [
             0.9,
             "#4d9221"
            ],
            [
             1,
             "#276419"
            ]
           ],
           "sequential": [
            [
             0,
             "#0d0887"
            ],
            [
             0.1111111111111111,
             "#46039f"
            ],
            [
             0.2222222222222222,
             "#7201a8"
            ],
            [
             0.3333333333333333,
             "#9c179e"
            ],
            [
             0.4444444444444444,
             "#bd3786"
            ],
            [
             0.5555555555555556,
             "#d8576b"
            ],
            [
             0.6666666666666666,
             "#ed7953"
            ],
            [
             0.7777777777777778,
             "#fb9f3a"
            ],
            [
             0.8888888888888888,
             "#fdca26"
            ],
            [
             1,
             "#f0f921"
            ]
           ],
           "sequentialminus": [
            [
             0,
             "#0d0887"
            ],
            [
             0.1111111111111111,
             "#46039f"
            ],
            [
             0.2222222222222222,
             "#7201a8"
            ],
            [
             0.3333333333333333,
             "#9c179e"
            ],
            [
             0.4444444444444444,
             "#bd3786"
            ],
            [
             0.5555555555555556,
             "#d8576b"
            ],
            [
             0.6666666666666666,
             "#ed7953"
            ],
            [
             0.7777777777777778,
             "#fb9f3a"
            ],
            [
             0.8888888888888888,
             "#fdca26"
            ],
            [
             1,
             "#f0f921"
            ]
           ]
          },
          "colorway": [
           "#636efa",
           "#EF553B",
           "#00cc96",
           "#ab63fa",
           "#FFA15A",
           "#19d3f3",
           "#FF6692",
           "#B6E880",
           "#FF97FF",
           "#FECB52"
          ],
          "font": {
           "color": "#2a3f5f"
          },
          "geo": {
           "bgcolor": "white",
           "lakecolor": "white",
           "landcolor": "#E5ECF6",
           "showlakes": true,
           "showland": true,
           "subunitcolor": "white"
          },
          "hoverlabel": {
           "align": "left"
          },
          "hovermode": "closest",
          "mapbox": {
           "style": "light"
          },
          "paper_bgcolor": "white",
          "plot_bgcolor": "#E5ECF6",
          "polar": {
           "angularaxis": {
            "gridcolor": "white",
            "linecolor": "white",
            "ticks": ""
           },
           "bgcolor": "#E5ECF6",
           "radialaxis": {
            "gridcolor": "white",
            "linecolor": "white",
            "ticks": ""
           }
          },
          "scene": {
           "xaxis": {
            "backgroundcolor": "#E5ECF6",
            "gridcolor": "white",
            "gridwidth": 2,
            "linecolor": "white",
            "showbackground": true,
            "ticks": "",
            "zerolinecolor": "white"
           },
           "yaxis": {
            "backgroundcolor": "#E5ECF6",
            "gridcolor": "white",
            "gridwidth": 2,
            "linecolor": "white",
            "showbackground": true,
            "ticks": "",
            "zerolinecolor": "white"
           },
           "zaxis": {
            "backgroundcolor": "#E5ECF6",
            "gridcolor": "white",
            "gridwidth": 2,
            "linecolor": "white",
            "showbackground": true,
            "ticks": "",
            "zerolinecolor": "white"
           }
          },
          "shapedefaults": {
           "line": {
            "color": "#2a3f5f"
           }
          },
          "ternary": {
           "aaxis": {
            "gridcolor": "white",
            "linecolor": "white",
            "ticks": ""
           },
           "baxis": {
            "gridcolor": "white",
            "linecolor": "white",
            "ticks": ""
           },
           "bgcolor": "#E5ECF6",
           "caxis": {
            "gridcolor": "white",
            "linecolor": "white",
            "ticks": ""
           }
          },
          "title": {
           "x": 0.05
          },
          "xaxis": {
           "automargin": true,
           "gridcolor": "white",
           "linecolor": "white",
           "ticks": "",
           "title": {
            "standoff": 15
           },
           "zerolinecolor": "white",
           "zerolinewidth": 2
          },
          "yaxis": {
           "automargin": true,
           "gridcolor": "white",
           "linecolor": "white",
           "ticks": "",
           "title": {
            "standoff": 15
           },
           "zerolinecolor": "white",
           "zerolinewidth": 2
          }
         }
        },
        "title": {
         "text": "Average Price through the years"
        },
        "xaxis": {
         "anchor": "y",
         "domain": [
          0,
          1
         ],
         "title": {
          "text": "Year"
         }
        },
        "yaxis": {
         "anchor": "x",
         "domain": [
          0,
          1
         ],
         "title": {
          "text": "Average Price in USD Millions"
         }
        }
       }
      },
      "text/html": [
       "<div>                            <div id=\"ee1b68e5-fade-405b-872f-8884bcddd805\" class=\"plotly-graph-div\" style=\"height:525px; width:100%;\"></div>            <script type=\"text/javascript\">                require([\"plotly\"], function(Plotly) {                    window.PLOTLYENV=window.PLOTLYENV || {};                                    if (document.getElementById(\"ee1b68e5-fade-405b-872f-8884bcddd805\")) {                    Plotly.newPlot(                        \"ee1b68e5-fade-405b-872f-8884bcddd805\",                        [{\"hovertemplate\":\"Year=%{x}<br>Average Price in USD Millions=%{y}<extra></extra>\",\"legendgroup\":\"\",\"line\":{\"color\":\"#636efa\",\"dash\":\"solid\"},\"marker\":{\"symbol\":\"circle\"},\"mode\":\"lines\",\"name\":\"\",\"orientation\":\"v\",\"showlegend\":false,\"x\":[1964,1965,1966,1967,1968,1969,1970,1971,1972,1973,1981,1982,1983,1984,1985,1986,1987,1988,1989,1990,1991,1992,1993,1994,1995,1996,1997,1998,1999,2000,2001,2002,2003,2004,2005,2006,2007,2008,2009,2010,2011,2012,2013,2014,2015,2016,2017,2018,2019,2020],\"xaxis\":\"x\",\"y\":[63.23,63.23,59.0,196.625,279.2,609.5,1160.0,1160.0,1160.0,1160.0,450.0,345.2,366.15999999999997,380.1333333333334,408.08000000000004,310.26666666666665,1687.2,1193.16,380.8333333333333,289.1454545454545,391.42857142857144,319.34583333333336,276.73333333333335,221.509375,325.0,243.19642857142858,221.7388888888889,152.1222222222222,128.51142857142858,173.11875,290.7,185.58588235294118,80.5115,92.73588235294118,95.79333333333334,138.60592592592593,125.6951724137931,129.74821428571428,180.28709677419354,148.4,146.59655172413792,122.292,90.55151515151515,102.55121951219513,91.54871794871795,79.45734375,69.4910606060606,64.74977272727273,59.609726027397265,56.65019230769231],\"yaxis\":\"y\",\"type\":\"scatter\"}],                        {\"template\":{\"data\":{\"histogram2dcontour\":[{\"type\":\"histogram2dcontour\",\"colorbar\":{\"outlinewidth\":0,\"ticks\":\"\"},\"colorscale\":[[0.0,\"#0d0887\"],[0.1111111111111111,\"#46039f\"],[0.2222222222222222,\"#7201a8\"],[0.3333333333333333,\"#9c179e\"],[0.4444444444444444,\"#bd3786\"],[0.5555555555555556,\"#d8576b\"],[0.6666666666666666,\"#ed7953\"],[0.7777777777777778,\"#fb9f3a\"],[0.8888888888888888,\"#fdca26\"],[1.0,\"#f0f921\"]]}],\"choropleth\":[{\"type\":\"choropleth\",\"colorbar\":{\"outlinewidth\":0,\"ticks\":\"\"}}],\"histogram2d\":[{\"type\":\"histogram2d\",\"colorbar\":{\"outlinewidth\":0,\"ticks\":\"\"},\"colorscale\":[[0.0,\"#0d0887\"],[0.1111111111111111,\"#46039f\"],[0.2222222222222222,\"#7201a8\"],[0.3333333333333333,\"#9c179e\"],[0.4444444444444444,\"#bd3786\"],[0.5555555555555556,\"#d8576b\"],[0.6666666666666666,\"#ed7953\"],[0.7777777777777778,\"#fb9f3a\"],[0.8888888888888888,\"#fdca26\"],[1.0,\"#f0f921\"]]}],\"heatmap\":[{\"type\":\"heatmap\",\"colorbar\":{\"outlinewidth\":0,\"ticks\":\"\"},\"colorscale\":[[0.0,\"#0d0887\"],[0.1111111111111111,\"#46039f\"],[0.2222222222222222,\"#7201a8\"],[0.3333333333333333,\"#9c179e\"],[0.4444444444444444,\"#bd3786\"],[0.5555555555555556,\"#d8576b\"],[0.6666666666666666,\"#ed7953\"],[0.7777777777777778,\"#fb9f3a\"],[0.8888888888888888,\"#fdca26\"],[1.0,\"#f0f921\"]]}],\"heatmapgl\":[{\"type\":\"heatmapgl\",\"colorbar\":{\"outlinewidth\":0,\"ticks\":\"\"},\"colorscale\":[[0.0,\"#0d0887\"],[0.1111111111111111,\"#46039f\"],[0.2222222222222222,\"#7201a8\"],[0.3333333333333333,\"#9c179e\"],[0.4444444444444444,\"#bd3786\"],[0.5555555555555556,\"#d8576b\"],[0.6666666666666666,\"#ed7953\"],[0.7777777777777778,\"#fb9f3a\"],[0.8888888888888888,\"#fdca26\"],[1.0,\"#f0f921\"]]}],\"contourcarpet\":[{\"type\":\"contourcarpet\",\"colorbar\":{\"outlinewidth\":0,\"ticks\":\"\"}}],\"contour\":[{\"type\":\"contour\",\"colorbar\":{\"outlinewidth\":0,\"ticks\":\"\"},\"colorscale\":[[0.0,\"#0d0887\"],[0.1111111111111111,\"#46039f\"],[0.2222222222222222,\"#7201a8\"],[0.3333333333333333,\"#9c179e\"],[0.4444444444444444,\"#bd3786\"],[0.5555555555555556,\"#d8576b\"],[0.6666666666666666,\"#ed7953\"],[0.7777777777777778,\"#fb9f3a\"],[0.8888888888888888,\"#fdca26\"],[1.0,\"#f0f921\"]]}],\"surface\":[{\"type\":\"surface\",\"colorbar\":{\"outlinewidth\":0,\"ticks\":\"\"},\"colorscale\":[[0.0,\"#0d0887\"],[0.1111111111111111,\"#46039f\"],[0.2222222222222222,\"#7201a8\"],[0.3333333333333333,\"#9c179e\"],[0.4444444444444444,\"#bd3786\"],[0.5555555555555556,\"#d8576b\"],[0.6666666666666666,\"#ed7953\"],[0.7777777777777778,\"#fb9f3a\"],[0.8888888888888888,\"#fdca26\"],[1.0,\"#f0f921\"]]}],\"mesh3d\":[{\"type\":\"mesh3d\",\"colorbar\":{\"outlinewidth\":0,\"ticks\":\"\"}}],\"scatter\":[{\"fillpattern\":{\"fillmode\":\"overlay\",\"size\":10,\"solidity\":0.2},\"type\":\"scatter\"}],\"parcoords\":[{\"type\":\"parcoords\",\"line\":{\"colorbar\":{\"outlinewidth\":0,\"ticks\":\"\"}}}],\"scatterpolargl\":[{\"type\":\"scatterpolargl\",\"marker\":{\"colorbar\":{\"outlinewidth\":0,\"ticks\":\"\"}}}],\"bar\":[{\"error_x\":{\"color\":\"#2a3f5f\"},\"error_y\":{\"color\":\"#2a3f5f\"},\"marker\":{\"line\":{\"color\":\"#E5ECF6\",\"width\":0.5},\"pattern\":{\"fillmode\":\"overlay\",\"size\":10,\"solidity\":0.2}},\"type\":\"bar\"}],\"scattergeo\":[{\"type\":\"scattergeo\",\"marker\":{\"colorbar\":{\"outlinewidth\":0,\"ticks\":\"\"}}}],\"scatterpolar\":[{\"type\":\"scatterpolar\",\"marker\":{\"colorbar\":{\"outlinewidth\":0,\"ticks\":\"\"}}}],\"histogram\":[{\"marker\":{\"pattern\":{\"fillmode\":\"overlay\",\"size\":10,\"solidity\":0.2}},\"type\":\"histogram\"}],\"scattergl\":[{\"type\":\"scattergl\",\"marker\":{\"colorbar\":{\"outlinewidth\":0,\"ticks\":\"\"}}}],\"scatter3d\":[{\"type\":\"scatter3d\",\"line\":{\"colorbar\":{\"outlinewidth\":0,\"ticks\":\"\"}},\"marker\":{\"colorbar\":{\"outlinewidth\":0,\"ticks\":\"\"}}}],\"scattermapbox\":[{\"type\":\"scattermapbox\",\"marker\":{\"colorbar\":{\"outlinewidth\":0,\"ticks\":\"\"}}}],\"scatterternary\":[{\"type\":\"scatterternary\",\"marker\":{\"colorbar\":{\"outlinewidth\":0,\"ticks\":\"\"}}}],\"scattercarpet\":[{\"type\":\"scattercarpet\",\"marker\":{\"colorbar\":{\"outlinewidth\":0,\"ticks\":\"\"}}}],\"carpet\":[{\"aaxis\":{\"endlinecolor\":\"#2a3f5f\",\"gridcolor\":\"white\",\"linecolor\":\"white\",\"minorgridcolor\":\"white\",\"startlinecolor\":\"#2a3f5f\"},\"baxis\":{\"endlinecolor\":\"#2a3f5f\",\"gridcolor\":\"white\",\"linecolor\":\"white\",\"minorgridcolor\":\"white\",\"startlinecolor\":\"#2a3f5f\"},\"type\":\"carpet\"}],\"table\":[{\"cells\":{\"fill\":{\"color\":\"#EBF0F8\"},\"line\":{\"color\":\"white\"}},\"header\":{\"fill\":{\"color\":\"#C8D4E3\"},\"line\":{\"color\":\"white\"}},\"type\":\"table\"}],\"barpolar\":[{\"marker\":{\"line\":{\"color\":\"#E5ECF6\",\"width\":0.5},\"pattern\":{\"fillmode\":\"overlay\",\"size\":10,\"solidity\":0.2}},\"type\":\"barpolar\"}],\"pie\":[{\"automargin\":true,\"type\":\"pie\"}]},\"layout\":{\"autotypenumbers\":\"strict\",\"colorway\":[\"#636efa\",\"#EF553B\",\"#00cc96\",\"#ab63fa\",\"#FFA15A\",\"#19d3f3\",\"#FF6692\",\"#B6E880\",\"#FF97FF\",\"#FECB52\"],\"font\":{\"color\":\"#2a3f5f\"},\"hovermode\":\"closest\",\"hoverlabel\":{\"align\":\"left\"},\"paper_bgcolor\":\"white\",\"plot_bgcolor\":\"#E5ECF6\",\"polar\":{\"bgcolor\":\"#E5ECF6\",\"angularaxis\":{\"gridcolor\":\"white\",\"linecolor\":\"white\",\"ticks\":\"\"},\"radialaxis\":{\"gridcolor\":\"white\",\"linecolor\":\"white\",\"ticks\":\"\"}},\"ternary\":{\"bgcolor\":\"#E5ECF6\",\"aaxis\":{\"gridcolor\":\"white\",\"linecolor\":\"white\",\"ticks\":\"\"},\"baxis\":{\"gridcolor\":\"white\",\"linecolor\":\"white\",\"ticks\":\"\"},\"caxis\":{\"gridcolor\":\"white\",\"linecolor\":\"white\",\"ticks\":\"\"}},\"coloraxis\":{\"colorbar\":{\"outlinewidth\":0,\"ticks\":\"\"}},\"colorscale\":{\"sequential\":[[0.0,\"#0d0887\"],[0.1111111111111111,\"#46039f\"],[0.2222222222222222,\"#7201a8\"],[0.3333333333333333,\"#9c179e\"],[0.4444444444444444,\"#bd3786\"],[0.5555555555555556,\"#d8576b\"],[0.6666666666666666,\"#ed7953\"],[0.7777777777777778,\"#fb9f3a\"],[0.8888888888888888,\"#fdca26\"],[1.0,\"#f0f921\"]],\"sequentialminus\":[[0.0,\"#0d0887\"],[0.1111111111111111,\"#46039f\"],[0.2222222222222222,\"#7201a8\"],[0.3333333333333333,\"#9c179e\"],[0.4444444444444444,\"#bd3786\"],[0.5555555555555556,\"#d8576b\"],[0.6666666666666666,\"#ed7953\"],[0.7777777777777778,\"#fb9f3a\"],[0.8888888888888888,\"#fdca26\"],[1.0,\"#f0f921\"]],\"diverging\":[[0,\"#8e0152\"],[0.1,\"#c51b7d\"],[0.2,\"#de77ae\"],[0.3,\"#f1b6da\"],[0.4,\"#fde0ef\"],[0.5,\"#f7f7f7\"],[0.6,\"#e6f5d0\"],[0.7,\"#b8e186\"],[0.8,\"#7fbc41\"],[0.9,\"#4d9221\"],[1,\"#276419\"]]},\"xaxis\":{\"gridcolor\":\"white\",\"linecolor\":\"white\",\"ticks\":\"\",\"title\":{\"standoff\":15},\"zerolinecolor\":\"white\",\"automargin\":true,\"zerolinewidth\":2},\"yaxis\":{\"gridcolor\":\"white\",\"linecolor\":\"white\",\"ticks\":\"\",\"title\":{\"standoff\":15},\"zerolinecolor\":\"white\",\"automargin\":true,\"zerolinewidth\":2},\"scene\":{\"xaxis\":{\"backgroundcolor\":\"#E5ECF6\",\"gridcolor\":\"white\",\"linecolor\":\"white\",\"showbackground\":true,\"ticks\":\"\",\"zerolinecolor\":\"white\",\"gridwidth\":2},\"yaxis\":{\"backgroundcolor\":\"#E5ECF6\",\"gridcolor\":\"white\",\"linecolor\":\"white\",\"showbackground\":true,\"ticks\":\"\",\"zerolinecolor\":\"white\",\"gridwidth\":2},\"zaxis\":{\"backgroundcolor\":\"#E5ECF6\",\"gridcolor\":\"white\",\"linecolor\":\"white\",\"showbackground\":true,\"ticks\":\"\",\"zerolinecolor\":\"white\",\"gridwidth\":2}},\"shapedefaults\":{\"line\":{\"color\":\"#2a3f5f\"}},\"annotationdefaults\":{\"arrowcolor\":\"#2a3f5f\",\"arrowhead\":0,\"arrowwidth\":1},\"geo\":{\"bgcolor\":\"white\",\"landcolor\":\"#E5ECF6\",\"subunitcolor\":\"white\",\"showland\":true,\"showlakes\":true,\"lakecolor\":\"white\"},\"title\":{\"x\":0.05},\"mapbox\":{\"style\":\"light\"}}},\"xaxis\":{\"anchor\":\"y\",\"domain\":[0.0,1.0],\"title\":{\"text\":\"Year\"}},\"yaxis\":{\"anchor\":\"x\",\"domain\":[0.0,1.0],\"title\":{\"text\":\"Average Price in USD Millions\"}},\"legend\":{\"tracegroupgap\":0},\"title\":{\"text\":\"Average Price through the years\"}},                        {\"responsive\": true}                    ).then(function(){\n",
       "                            \n",
       "var gd = document.getElementById('ee1b68e5-fade-405b-872f-8884bcddd805');\n",
       "var x = new MutationObserver(function (mutations, observer) {{\n",
       "        var display = window.getComputedStyle(gd).display;\n",
       "        if (!display || display === 'none') {{\n",
       "            console.log([gd, 'removed!']);\n",
       "            Plotly.purge(gd);\n",
       "            observer.disconnect();\n",
       "        }}\n",
       "}});\n",
       "\n",
       "// Listen for the removal of the full notebook cells\n",
       "var notebookContainer = gd.closest('#notebook-container');\n",
       "if (notebookContainer) {{\n",
       "    x.observe(notebookContainer, {childList: true});\n",
       "}}\n",
       "\n",
       "// Listen for the clearing of the current output cell\n",
       "var outputEl = gd.closest('.output');\n",
       "if (outputEl) {{\n",
       "    x.observe(outputEl, {childList: true});\n",
       "}}\n",
       "\n",
       "                        })                };                });            </script>        </div>"
      ]
     },
     "metadata": {},
     "output_type": "display_data"
    }
   ],
   "source": [
    "\n",
    "px.line(year_prices,\n",
    "        x=\"Year\",\n",
    "        y=\"Price\",\n",
    "        labels={\"Price\":\"Average Price in USD Millions\"},\n",
    "        title=\"Average Price through the years\")\n"
   ]
  },
  {
   "cell_type": "markdown",
   "metadata": {},
   "source": [
    "#### We see there was a lot of money being spent on space exploration and missions during the 70s and 80s. This is when the Space Race was at its peak. Gradually, we see a decline in money being spent each year. "
   ]
  },
  {
   "cell_type": "markdown",
   "metadata": {},
   "source": [
    "## Looking at recorded mission through the years "
   ]
  },
  {
   "cell_type": "code",
   "execution_count": 51,
   "metadata": {},
   "outputs": [
    {
     "data": {
      "text/html": [
       "<div>\n",
       "<style scoped>\n",
       "    .dataframe tbody tr th:only-of-type {\n",
       "        vertical-align: middle;\n",
       "    }\n",
       "\n",
       "    .dataframe tbody tr th {\n",
       "        vertical-align: top;\n",
       "    }\n",
       "\n",
       "    .dataframe thead th {\n",
       "        text-align: right;\n",
       "    }\n",
       "</style>\n",
       "<table border=\"1\" class=\"dataframe\">\n",
       "  <thead>\n",
       "    <tr style=\"text-align: right;\">\n",
       "      <th></th>\n",
       "      <th>Organisation</th>\n",
       "      <th>Date</th>\n",
       "      <th>Price</th>\n",
       "      <th>Mission_Status</th>\n",
       "    </tr>\n",
       "  </thead>\n",
       "  <tbody>\n",
       "    <tr>\n",
       "      <th>0</th>\n",
       "      <td>SpaceX</td>\n",
       "      <td>2020-08-07 05:12:00+00:00</td>\n",
       "      <td>50.00</td>\n",
       "      <td>Success</td>\n",
       "    </tr>\n",
       "    <tr>\n",
       "      <th>1</th>\n",
       "      <td>CASC</td>\n",
       "      <td>2020-08-06 04:01:00+00:00</td>\n",
       "      <td>29.75</td>\n",
       "      <td>Success</td>\n",
       "    </tr>\n",
       "    <tr>\n",
       "      <th>2</th>\n",
       "      <td>SpaceX</td>\n",
       "      <td>2020-08-04 23:57:00+00:00</td>\n",
       "      <td>NaN</td>\n",
       "      <td>Success</td>\n",
       "    </tr>\n",
       "    <tr>\n",
       "      <th>3</th>\n",
       "      <td>Roscosmos</td>\n",
       "      <td>2020-07-30 21:25:00+00:00</td>\n",
       "      <td>65.00</td>\n",
       "      <td>Success</td>\n",
       "    </tr>\n",
       "    <tr>\n",
       "      <th>4</th>\n",
       "      <td>ULA</td>\n",
       "      <td>2020-07-30 11:50:00+00:00</td>\n",
       "      <td>145.00</td>\n",
       "      <td>Success</td>\n",
       "    </tr>\n",
       "  </tbody>\n",
       "</table>\n",
       "</div>"
      ],
      "text/plain": [
       "  Organisation                       Date  Price Mission_Status\n",
       "0       SpaceX  2020-08-07 05:12:00+00:00  50.00        Success\n",
       "1         CASC  2020-08-06 04:01:00+00:00  29.75        Success\n",
       "2       SpaceX  2020-08-04 23:57:00+00:00    NaN        Success\n",
       "3    Roscosmos  2020-07-30 21:25:00+00:00  65.00        Success\n",
       "4          ULA  2020-07-30 11:50:00+00:00 145.00        Success"
      ]
     },
     "execution_count": 51,
     "metadata": {},
     "output_type": "execute_result"
    }
   ],
   "source": [
    "nr_msn_yr = df_data[[\"Organisation\",\"Date\",\"Price\",\"Mission_Status\"]]\n",
    "nr_msn_yr.head()"
   ]
  },
  {
   "cell_type": "markdown",
   "metadata": {},
   "source": [
    "#### Creating a year column by extracting year from Date column. "
   ]
  },
  {
   "cell_type": "code",
   "execution_count": 52,
   "metadata": {},
   "outputs": [],
   "source": [
    "nr_msn_yr[\"year\"]= nr_msn_yr[\"Date\"].apply(lambda x: x.year)"
   ]
  },
  {
   "cell_type": "code",
   "execution_count": 53,
   "metadata": {},
   "outputs": [
    {
     "data": {
      "text/html": [
       "<div>\n",
       "<style scoped>\n",
       "    .dataframe tbody tr th:only-of-type {\n",
       "        vertical-align: middle;\n",
       "    }\n",
       "\n",
       "    .dataframe tbody tr th {\n",
       "        vertical-align: top;\n",
       "    }\n",
       "\n",
       "    .dataframe thead th {\n",
       "        text-align: right;\n",
       "    }\n",
       "</style>\n",
       "<table border=\"1\" class=\"dataframe\">\n",
       "  <thead>\n",
       "    <tr style=\"text-align: right;\">\n",
       "      <th></th>\n",
       "      <th>Organisation</th>\n",
       "      <th>Date</th>\n",
       "      <th>Price</th>\n",
       "      <th>Mission_Status</th>\n",
       "      <th>year</th>\n",
       "    </tr>\n",
       "  </thead>\n",
       "  <tbody>\n",
       "    <tr>\n",
       "      <th>0</th>\n",
       "      <td>SpaceX</td>\n",
       "      <td>2020-08-07 05:12:00+00:00</td>\n",
       "      <td>50.00</td>\n",
       "      <td>Success</td>\n",
       "      <td>2020</td>\n",
       "    </tr>\n",
       "    <tr>\n",
       "      <th>1</th>\n",
       "      <td>CASC</td>\n",
       "      <td>2020-08-06 04:01:00+00:00</td>\n",
       "      <td>29.75</td>\n",
       "      <td>Success</td>\n",
       "      <td>2020</td>\n",
       "    </tr>\n",
       "    <tr>\n",
       "      <th>2</th>\n",
       "      <td>SpaceX</td>\n",
       "      <td>2020-08-04 23:57:00+00:00</td>\n",
       "      <td>NaN</td>\n",
       "      <td>Success</td>\n",
       "      <td>2020</td>\n",
       "    </tr>\n",
       "    <tr>\n",
       "      <th>3</th>\n",
       "      <td>Roscosmos</td>\n",
       "      <td>2020-07-30 21:25:00+00:00</td>\n",
       "      <td>65.00</td>\n",
       "      <td>Success</td>\n",
       "      <td>2020</td>\n",
       "    </tr>\n",
       "    <tr>\n",
       "      <th>4</th>\n",
       "      <td>ULA</td>\n",
       "      <td>2020-07-30 11:50:00+00:00</td>\n",
       "      <td>145.00</td>\n",
       "      <td>Success</td>\n",
       "      <td>2020</td>\n",
       "    </tr>\n",
       "    <tr>\n",
       "      <th>...</th>\n",
       "      <td>...</td>\n",
       "      <td>...</td>\n",
       "      <td>...</td>\n",
       "      <td>...</td>\n",
       "      <td>...</td>\n",
       "    </tr>\n",
       "    <tr>\n",
       "      <th>4319</th>\n",
       "      <td>US Navy</td>\n",
       "      <td>1958-02-05 07:33:00+00:00</td>\n",
       "      <td>NaN</td>\n",
       "      <td>Failure</td>\n",
       "      <td>1958</td>\n",
       "    </tr>\n",
       "    <tr>\n",
       "      <th>4320</th>\n",
       "      <td>AMBA</td>\n",
       "      <td>1958-02-01 03:48:00+00:00</td>\n",
       "      <td>NaN</td>\n",
       "      <td>Success</td>\n",
       "      <td>1958</td>\n",
       "    </tr>\n",
       "    <tr>\n",
       "      <th>4321</th>\n",
       "      <td>US Navy</td>\n",
       "      <td>1957-12-06 16:44:00+00:00</td>\n",
       "      <td>NaN</td>\n",
       "      <td>Failure</td>\n",
       "      <td>1957</td>\n",
       "    </tr>\n",
       "    <tr>\n",
       "      <th>4322</th>\n",
       "      <td>RVSN USSR</td>\n",
       "      <td>1957-11-03 02:30:00+00:00</td>\n",
       "      <td>NaN</td>\n",
       "      <td>Success</td>\n",
       "      <td>1957</td>\n",
       "    </tr>\n",
       "    <tr>\n",
       "      <th>4323</th>\n",
       "      <td>RVSN USSR</td>\n",
       "      <td>1957-10-04 19:28:00+00:00</td>\n",
       "      <td>NaN</td>\n",
       "      <td>Success</td>\n",
       "      <td>1957</td>\n",
       "    </tr>\n",
       "  </tbody>\n",
       "</table>\n",
       "<p>4324 rows × 5 columns</p>\n",
       "</div>"
      ],
      "text/plain": [
       "     Organisation                       Date  Price Mission_Status  year\n",
       "0          SpaceX  2020-08-07 05:12:00+00:00  50.00        Success  2020\n",
       "1            CASC  2020-08-06 04:01:00+00:00  29.75        Success  2020\n",
       "2          SpaceX  2020-08-04 23:57:00+00:00    NaN        Success  2020\n",
       "3       Roscosmos  2020-07-30 21:25:00+00:00  65.00        Success  2020\n",
       "4             ULA  2020-07-30 11:50:00+00:00 145.00        Success  2020\n",
       "...           ...                        ...    ...            ...   ...\n",
       "4319      US Navy  1958-02-05 07:33:00+00:00    NaN        Failure  1958\n",
       "4320         AMBA  1958-02-01 03:48:00+00:00    NaN        Success  1958\n",
       "4321      US Navy  1957-12-06 16:44:00+00:00    NaN        Failure  1957\n",
       "4322    RVSN USSR  1957-11-03 02:30:00+00:00    NaN        Success  1957\n",
       "4323    RVSN USSR  1957-10-04 19:28:00+00:00    NaN        Success  1957\n",
       "\n",
       "[4324 rows x 5 columns]"
      ]
     },
     "execution_count": 53,
     "metadata": {},
     "output_type": "execute_result"
    }
   ],
   "source": [
    "nr_msn_yr"
   ]
  },
  {
   "cell_type": "markdown",
   "metadata": {},
   "source": [
    "#### Counting how many missions have been recorded each year."
   ]
  },
  {
   "cell_type": "code",
   "execution_count": 54,
   "metadata": {},
   "outputs": [],
   "source": [
    "yr_msn = nr_msn_yr.groupby(\"year\")[\"year\"].count()"
   ]
  },
  {
   "cell_type": "code",
   "execution_count": 55,
   "metadata": {},
   "outputs": [
    {
     "data": {
      "text/plain": [
       "year\n",
       "1957      3\n",
       "1958     28\n",
       "1959     20\n",
       "1960     39\n",
       "1961     52\n",
       "       ... \n",
       "2016     90\n",
       "2017     92\n",
       "2018    117\n",
       "2019    109\n",
       "2020     63\n",
       "Name: year, Length: 64, dtype: int64"
      ]
     },
     "execution_count": 55,
     "metadata": {},
     "output_type": "execute_result"
    }
   ],
   "source": [
    "yr_msn"
   ]
  },
  {
   "cell_type": "code",
   "execution_count": 56,
   "metadata": {},
   "outputs": [
    {
     "data": {
      "text/plain": [
       "Text(0, 0.5, 'Number of Recorded Missions')"
      ]
     },
     "execution_count": 56,
     "metadata": {},
     "output_type": "execute_result"
    },
    {
     "data": {
      "image/png": "[encoded data removed]",
      "text/plain": [
       "<Figure size 640x480 with 1 Axes>"
      ]
     },
     "metadata": {},
     "output_type": "display_data"
    }
   ],
   "source": [
    "sns.scatterplot(yr_msn,x=yr_msn.index,\n",
    "                y=yr_msn.values,\n",
    "                hue=yr_msn.values,\n",
    "                s=yr_msn.values,\n",
    "               alpha=0.7,\n",
    "               palette=\"icefire\",)\n",
    "plt.title(\"Number of recorded missions by year\")\n",
    "plt.xlabel(\"Year\")\n",
    "plt.ylabel(\"Number of Recorded Missions\")"
   ]
  },
  {
   "cell_type": "markdown",
   "metadata": {},
   "source": [
    "### Again we see proof of the period when the space race was at its peak. We saw previously how there was a lot of money being spent on missions during the 70s and 80s. \n",
    "### Here we see that the number of recorded missions also were high during that phase."
   ]
  },
  {
   "cell_type": "markdown",
   "metadata": {
    "id": "QiNtigQDne3E"
   },
   "source": [
    "### Use a Choropleth Map to Show the Number of Launches by Country"
   ]
  },
  {
   "cell_type": "code",
   "execution_count": 57,
   "metadata": {
    "id": "Y46-4GHrozhF"
   },
   "outputs": [
    {
     "data": {
      "text/html": [
       "<div>\n",
       "<style scoped>\n",
       "    .dataframe tbody tr th:only-of-type {\n",
       "        vertical-align: middle;\n",
       "    }\n",
       "\n",
       "    .dataframe tbody tr th {\n",
       "        vertical-align: top;\n",
       "    }\n",
       "\n",
       "    .dataframe thead th {\n",
       "        text-align: right;\n",
       "    }\n",
       "</style>\n",
       "<table border=\"1\" class=\"dataframe\">\n",
       "  <thead>\n",
       "    <tr style=\"text-align: right;\">\n",
       "      <th></th>\n",
       "      <th>Organisation</th>\n",
       "      <th>Location</th>\n",
       "      <th>Date</th>\n",
       "      <th>Detail</th>\n",
       "      <th>Rocket_Status</th>\n",
       "      <th>Price</th>\n",
       "      <th>Mission_Status</th>\n",
       "    </tr>\n",
       "  </thead>\n",
       "  <tbody>\n",
       "    <tr>\n",
       "      <th>0</th>\n",
       "      <td>SpaceX</td>\n",
       "      <td>LC-39A, Kennedy Space Center, Florida, USA</td>\n",
       "      <td>2020-08-07 05:12:00+00:00</td>\n",
       "      <td>Falcon 9 Block 5 | Starlink V1 L9 &amp; BlackSky</td>\n",
       "      <td>StatusActive</td>\n",
       "      <td>50.00</td>\n",
       "      <td>Success</td>\n",
       "    </tr>\n",
       "    <tr>\n",
       "      <th>1</th>\n",
       "      <td>CASC</td>\n",
       "      <td>Site 9401 (SLS-2), Jiuquan Satellite Launch Ce...</td>\n",
       "      <td>2020-08-06 04:01:00+00:00</td>\n",
       "      <td>Long March 2D | Gaofen-9 04 &amp; Q-SAT</td>\n",
       "      <td>StatusActive</td>\n",
       "      <td>29.75</td>\n",
       "      <td>Success</td>\n",
       "    </tr>\n",
       "    <tr>\n",
       "      <th>2</th>\n",
       "      <td>SpaceX</td>\n",
       "      <td>Pad A, Boca Chica, Texas, USA</td>\n",
       "      <td>2020-08-04 23:57:00+00:00</td>\n",
       "      <td>Starship Prototype | 150 Meter Hop</td>\n",
       "      <td>StatusActive</td>\n",
       "      <td>NaN</td>\n",
       "      <td>Success</td>\n",
       "    </tr>\n",
       "    <tr>\n",
       "      <th>3</th>\n",
       "      <td>Roscosmos</td>\n",
       "      <td>Site 200/39, Baikonur Cosmodrome, Kazakhstan</td>\n",
       "      <td>2020-07-30 21:25:00+00:00</td>\n",
       "      <td>Proton-M/Briz-M | Ekspress-80 &amp; Ekspress-103</td>\n",
       "      <td>StatusActive</td>\n",
       "      <td>65.00</td>\n",
       "      <td>Success</td>\n",
       "    </tr>\n",
       "    <tr>\n",
       "      <th>4</th>\n",
       "      <td>ULA</td>\n",
       "      <td>SLC-41, Cape Canaveral AFS, Florida, USA</td>\n",
       "      <td>2020-07-30 11:50:00+00:00</td>\n",
       "      <td>Atlas V 541 | Perseverance</td>\n",
       "      <td>StatusActive</td>\n",
       "      <td>145.00</td>\n",
       "      <td>Success</td>\n",
       "    </tr>\n",
       "    <tr>\n",
       "      <th>...</th>\n",
       "      <td>...</td>\n",
       "      <td>...</td>\n",
       "      <td>...</td>\n",
       "      <td>...</td>\n",
       "      <td>...</td>\n",
       "      <td>...</td>\n",
       "      <td>...</td>\n",
       "    </tr>\n",
       "    <tr>\n",
       "      <th>4319</th>\n",
       "      <td>US Navy</td>\n",
       "      <td>LC-18A, Cape Canaveral AFS, Florida, USA</td>\n",
       "      <td>1958-02-05 07:33:00+00:00</td>\n",
       "      <td>Vanguard | Vanguard TV3BU</td>\n",
       "      <td>StatusRetired</td>\n",
       "      <td>NaN</td>\n",
       "      <td>Failure</td>\n",
       "    </tr>\n",
       "    <tr>\n",
       "      <th>4320</th>\n",
       "      <td>AMBA</td>\n",
       "      <td>LC-26A, Cape Canaveral AFS, Florida, USA</td>\n",
       "      <td>1958-02-01 03:48:00+00:00</td>\n",
       "      <td>Juno I | Explorer 1</td>\n",
       "      <td>StatusRetired</td>\n",
       "      <td>NaN</td>\n",
       "      <td>Success</td>\n",
       "    </tr>\n",
       "    <tr>\n",
       "      <th>4321</th>\n",
       "      <td>US Navy</td>\n",
       "      <td>LC-18A, Cape Canaveral AFS, Florida, USA</td>\n",
       "      <td>1957-12-06 16:44:00+00:00</td>\n",
       "      <td>Vanguard | Vanguard TV3</td>\n",
       "      <td>StatusRetired</td>\n",
       "      <td>NaN</td>\n",
       "      <td>Failure</td>\n",
       "    </tr>\n",
       "    <tr>\n",
       "      <th>4322</th>\n",
       "      <td>RVSN USSR</td>\n",
       "      <td>Site 1/5, Baikonur Cosmodrome, Kazakhstan</td>\n",
       "      <td>1957-11-03 02:30:00+00:00</td>\n",
       "      <td>Sputnik 8K71PS | Sputnik-2</td>\n",
       "      <td>StatusRetired</td>\n",
       "      <td>NaN</td>\n",
       "      <td>Success</td>\n",
       "    </tr>\n",
       "    <tr>\n",
       "      <th>4323</th>\n",
       "      <td>RVSN USSR</td>\n",
       "      <td>Site 1/5, Baikonur Cosmodrome, Kazakhstan</td>\n",
       "      <td>1957-10-04 19:28:00+00:00</td>\n",
       "      <td>Sputnik 8K71PS | Sputnik-1</td>\n",
       "      <td>StatusRetired</td>\n",
       "      <td>NaN</td>\n",
       "      <td>Success</td>\n",
       "    </tr>\n",
       "  </tbody>\n",
       "</table>\n",
       "<p>4324 rows × 7 columns</p>\n",
       "</div>"
      ],
      "text/plain": [
       "     Organisation                                           Location  \\\n",
       "0          SpaceX         LC-39A, Kennedy Space Center, Florida, USA   \n",
       "1            CASC  Site 9401 (SLS-2), Jiuquan Satellite Launch Ce...   \n",
       "2          SpaceX                      Pad A, Boca Chica, Texas, USA   \n",
       "3       Roscosmos       Site 200/39, Baikonur Cosmodrome, Kazakhstan   \n",
       "4             ULA           SLC-41, Cape Canaveral AFS, Florida, USA   \n",
       "...           ...                                                ...   \n",
       "4319      US Navy           LC-18A, Cape Canaveral AFS, Florida, USA   \n",
       "4320         AMBA           LC-26A, Cape Canaveral AFS, Florida, USA   \n",
       "4321      US Navy           LC-18A, Cape Canaveral AFS, Florida, USA   \n",
       "4322    RVSN USSR          Site 1/5, Baikonur Cosmodrome, Kazakhstan   \n",
       "4323    RVSN USSR          Site 1/5, Baikonur Cosmodrome, Kazakhstan   \n",
       "\n",
       "                           Date                                        Detail  \\\n",
       "0     2020-08-07 05:12:00+00:00  Falcon 9 Block 5 | Starlink V1 L9 & BlackSky   \n",
       "1     2020-08-06 04:01:00+00:00           Long March 2D | Gaofen-9 04 & Q-SAT   \n",
       "2     2020-08-04 23:57:00+00:00            Starship Prototype | 150 Meter Hop   \n",
       "3     2020-07-30 21:25:00+00:00  Proton-M/Briz-M | Ekspress-80 & Ekspress-103   \n",
       "4     2020-07-30 11:50:00+00:00                    Atlas V 541 | Perseverance   \n",
       "...                         ...                                           ...   \n",
       "4319  1958-02-05 07:33:00+00:00                     Vanguard | Vanguard TV3BU   \n",
       "4320  1958-02-01 03:48:00+00:00                           Juno I | Explorer 1   \n",
       "4321  1957-12-06 16:44:00+00:00                       Vanguard | Vanguard TV3   \n",
       "4322  1957-11-03 02:30:00+00:00                    Sputnik 8K71PS | Sputnik-2   \n",
       "4323  1957-10-04 19:28:00+00:00                    Sputnik 8K71PS | Sputnik-1   \n",
       "\n",
       "      Rocket_Status  Price Mission_Status  \n",
       "0      StatusActive  50.00        Success  \n",
       "1      StatusActive  29.75        Success  \n",
       "2      StatusActive    NaN        Success  \n",
       "3      StatusActive  65.00        Success  \n",
       "4      StatusActive 145.00        Success  \n",
       "...             ...    ...            ...  \n",
       "4319  StatusRetired    NaN        Failure  \n",
       "4320  StatusRetired    NaN        Success  \n",
       "4321  StatusRetired    NaN        Failure  \n",
       "4322  StatusRetired    NaN        Success  \n",
       "4323  StatusRetired    NaN        Success  \n",
       "\n",
       "[4324 rows x 7 columns]"
      ]
     },
     "execution_count": 57,
     "metadata": {},
     "output_type": "execute_result"
    }
   ],
   "source": [
    "df_data"
   ]
  },
  {
   "cell_type": "code",
   "execution_count": 58,
   "metadata": {},
   "outputs": [
    {
     "data": {
      "text/html": [
       "<div>\n",
       "<style scoped>\n",
       "    .dataframe tbody tr th:only-of-type {\n",
       "        vertical-align: middle;\n",
       "    }\n",
       "\n",
       "    .dataframe tbody tr th {\n",
       "        vertical-align: top;\n",
       "    }\n",
       "\n",
       "    .dataframe thead th {\n",
       "        text-align: right;\n",
       "    }\n",
       "</style>\n",
       "<table border=\"1\" class=\"dataframe\">\n",
       "  <thead>\n",
       "    <tr style=\"text-align: right;\">\n",
       "      <th></th>\n",
       "      <th>Organisation</th>\n",
       "      <th>Location</th>\n",
       "      <th>Date</th>\n",
       "      <th>Detail</th>\n",
       "      <th>Rocket_Status</th>\n",
       "      <th>Price</th>\n",
       "      <th>Mission_Status</th>\n",
       "    </tr>\n",
       "  </thead>\n",
       "  <tbody>\n",
       "    <tr>\n",
       "      <th>619</th>\n",
       "      <td>KARI</td>\n",
       "      <td>LC-1, Naro Space Center, South Korea</td>\n",
       "      <td>2013-01-30 07:00:00+00:00</td>\n",
       "      <td>Naro-1 | STSAT-2C</td>\n",
       "      <td>StatusRetired</td>\n",
       "      <td>NaN</td>\n",
       "      <td>Success</td>\n",
       "    </tr>\n",
       "  </tbody>\n",
       "</table>\n",
       "</div>"
      ],
      "text/plain": [
       "    Organisation                              Location  \\\n",
       "619         KARI  LC-1, Naro Space Center, South Korea   \n",
       "\n",
       "                          Date             Detail  Rocket_Status  Price  \\\n",
       "619  2013-01-30 07:00:00+00:00  Naro-1 | STSAT-2C  StatusRetired    NaN   \n",
       "\n",
       "    Mission_Status  \n",
       "619        Success  "
      ]
     },
     "execution_count": 58,
     "metadata": {},
     "output_type": "execute_result"
    }
   ],
   "source": [
    "df_data.sample()"
   ]
  },
  {
   "cell_type": "markdown",
   "metadata": {},
   "source": [
    "#### Creating a new column called 'country' by grabbing the last string in the 'Location' column after the ','."
   ]
  },
  {
   "cell_type": "code",
   "execution_count": 59,
   "metadata": {
    "id": "ESGRWiX6ozZG"
   },
   "outputs": [],
   "source": [
    "df_data[\"country\"]=df_data[\"Location\"].apply(lambda x : x.split(\",\").pop())"
   ]
  },
  {
   "cell_type": "code",
   "execution_count": 60,
   "metadata": {},
   "outputs": [
    {
     "data": {
      "text/html": [
       "<div>\n",
       "<style scoped>\n",
       "    .dataframe tbody tr th:only-of-type {\n",
       "        vertical-align: middle;\n",
       "    }\n",
       "\n",
       "    .dataframe tbody tr th {\n",
       "        vertical-align: top;\n",
       "    }\n",
       "\n",
       "    .dataframe thead th {\n",
       "        text-align: right;\n",
       "    }\n",
       "</style>\n",
       "<table border=\"1\" class=\"dataframe\">\n",
       "  <thead>\n",
       "    <tr style=\"text-align: right;\">\n",
       "      <th></th>\n",
       "      <th>Organisation</th>\n",
       "      <th>Location</th>\n",
       "      <th>Date</th>\n",
       "      <th>Detail</th>\n",
       "      <th>Rocket_Status</th>\n",
       "      <th>Price</th>\n",
       "      <th>Mission_Status</th>\n",
       "      <th>country</th>\n",
       "    </tr>\n",
       "  </thead>\n",
       "  <tbody>\n",
       "    <tr>\n",
       "      <th>0</th>\n",
       "      <td>SpaceX</td>\n",
       "      <td>LC-39A, Kennedy Space Center, Florida, USA</td>\n",
       "      <td>2020-08-07 05:12:00+00:00</td>\n",
       "      <td>Falcon 9 Block 5 | Starlink V1 L9 &amp; BlackSky</td>\n",
       "      <td>StatusActive</td>\n",
       "      <td>50.00</td>\n",
       "      <td>Success</td>\n",
       "      <td>USA</td>\n",
       "    </tr>\n",
       "    <tr>\n",
       "      <th>1</th>\n",
       "      <td>CASC</td>\n",
       "      <td>Site 9401 (SLS-2), Jiuquan Satellite Launch Ce...</td>\n",
       "      <td>2020-08-06 04:01:00+00:00</td>\n",
       "      <td>Long March 2D | Gaofen-9 04 &amp; Q-SAT</td>\n",
       "      <td>StatusActive</td>\n",
       "      <td>29.75</td>\n",
       "      <td>Success</td>\n",
       "      <td>China</td>\n",
       "    </tr>\n",
       "    <tr>\n",
       "      <th>2</th>\n",
       "      <td>SpaceX</td>\n",
       "      <td>Pad A, Boca Chica, Texas, USA</td>\n",
       "      <td>2020-08-04 23:57:00+00:00</td>\n",
       "      <td>Starship Prototype | 150 Meter Hop</td>\n",
       "      <td>StatusActive</td>\n",
       "      <td>NaN</td>\n",
       "      <td>Success</td>\n",
       "      <td>USA</td>\n",
       "    </tr>\n",
       "    <tr>\n",
       "      <th>3</th>\n",
       "      <td>Roscosmos</td>\n",
       "      <td>Site 200/39, Baikonur Cosmodrome, Kazakhstan</td>\n",
       "      <td>2020-07-30 21:25:00+00:00</td>\n",
       "      <td>Proton-M/Briz-M | Ekspress-80 &amp; Ekspress-103</td>\n",
       "      <td>StatusActive</td>\n",
       "      <td>65.00</td>\n",
       "      <td>Success</td>\n",
       "      <td>Kazakhstan</td>\n",
       "    </tr>\n",
       "    <tr>\n",
       "      <th>4</th>\n",
       "      <td>ULA</td>\n",
       "      <td>SLC-41, Cape Canaveral AFS, Florida, USA</td>\n",
       "      <td>2020-07-30 11:50:00+00:00</td>\n",
       "      <td>Atlas V 541 | Perseverance</td>\n",
       "      <td>StatusActive</td>\n",
       "      <td>145.00</td>\n",
       "      <td>Success</td>\n",
       "      <td>USA</td>\n",
       "    </tr>\n",
       "    <tr>\n",
       "      <th>...</th>\n",
       "      <td>...</td>\n",
       "      <td>...</td>\n",
       "      <td>...</td>\n",
       "      <td>...</td>\n",
       "      <td>...</td>\n",
       "      <td>...</td>\n",
       "      <td>...</td>\n",
       "      <td>...</td>\n",
       "    </tr>\n",
       "    <tr>\n",
       "      <th>4319</th>\n",
       "      <td>US Navy</td>\n",
       "      <td>LC-18A, Cape Canaveral AFS, Florida, USA</td>\n",
       "      <td>1958-02-05 07:33:00+00:00</td>\n",
       "      <td>Vanguard | Vanguard TV3BU</td>\n",
       "      <td>StatusRetired</td>\n",
       "      <td>NaN</td>\n",
       "      <td>Failure</td>\n",
       "      <td>USA</td>\n",
       "    </tr>\n",
       "    <tr>\n",
       "      <th>4320</th>\n",
       "      <td>AMBA</td>\n",
       "      <td>LC-26A, Cape Canaveral AFS, Florida, USA</td>\n",
       "      <td>1958-02-01 03:48:00+00:00</td>\n",
       "      <td>Juno I | Explorer 1</td>\n",
       "      <td>StatusRetired</td>\n",
       "      <td>NaN</td>\n",
       "      <td>Success</td>\n",
       "      <td>USA</td>\n",
       "    </tr>\n",
       "    <tr>\n",
       "      <th>4321</th>\n",
       "      <td>US Navy</td>\n",
       "      <td>LC-18A, Cape Canaveral AFS, Florida, USA</td>\n",
       "      <td>1957-12-06 16:44:00+00:00</td>\n",
       "      <td>Vanguard | Vanguard TV3</td>\n",
       "      <td>StatusRetired</td>\n",
       "      <td>NaN</td>\n",
       "      <td>Failure</td>\n",
       "      <td>USA</td>\n",
       "    </tr>\n",
       "    <tr>\n",
       "      <th>4322</th>\n",
       "      <td>RVSN USSR</td>\n",
       "      <td>Site 1/5, Baikonur Cosmodrome, Kazakhstan</td>\n",
       "      <td>1957-11-03 02:30:00+00:00</td>\n",
       "      <td>Sputnik 8K71PS | Sputnik-2</td>\n",
       "      <td>StatusRetired</td>\n",
       "      <td>NaN</td>\n",
       "      <td>Success</td>\n",
       "      <td>Kazakhstan</td>\n",
       "    </tr>\n",
       "    <tr>\n",
       "      <th>4323</th>\n",
       "      <td>RVSN USSR</td>\n",
       "      <td>Site 1/5, Baikonur Cosmodrome, Kazakhstan</td>\n",
       "      <td>1957-10-04 19:28:00+00:00</td>\n",
       "      <td>Sputnik 8K71PS | Sputnik-1</td>\n",
       "      <td>StatusRetired</td>\n",
       "      <td>NaN</td>\n",
       "      <td>Success</td>\n",
       "      <td>Kazakhstan</td>\n",
       "    </tr>\n",
       "  </tbody>\n",
       "</table>\n",
       "<p>4324 rows × 8 columns</p>\n",
       "</div>"
      ],
      "text/plain": [
       "     Organisation                                           Location  \\\n",
       "0          SpaceX         LC-39A, Kennedy Space Center, Florida, USA   \n",
       "1            CASC  Site 9401 (SLS-2), Jiuquan Satellite Launch Ce...   \n",
       "2          SpaceX                      Pad A, Boca Chica, Texas, USA   \n",
       "3       Roscosmos       Site 200/39, Baikonur Cosmodrome, Kazakhstan   \n",
       "4             ULA           SLC-41, Cape Canaveral AFS, Florida, USA   \n",
       "...           ...                                                ...   \n",
       "4319      US Navy           LC-18A, Cape Canaveral AFS, Florida, USA   \n",
       "4320         AMBA           LC-26A, Cape Canaveral AFS, Florida, USA   \n",
       "4321      US Navy           LC-18A, Cape Canaveral AFS, Florida, USA   \n",
       "4322    RVSN USSR          Site 1/5, Baikonur Cosmodrome, Kazakhstan   \n",
       "4323    RVSN USSR          Site 1/5, Baikonur Cosmodrome, Kazakhstan   \n",
       "\n",
       "                           Date                                        Detail  \\\n",
       "0     2020-08-07 05:12:00+00:00  Falcon 9 Block 5 | Starlink V1 L9 & BlackSky   \n",
       "1     2020-08-06 04:01:00+00:00           Long March 2D | Gaofen-9 04 & Q-SAT   \n",
       "2     2020-08-04 23:57:00+00:00            Starship Prototype | 150 Meter Hop   \n",
       "3     2020-07-30 21:25:00+00:00  Proton-M/Briz-M | Ekspress-80 & Ekspress-103   \n",
       "4     2020-07-30 11:50:00+00:00                    Atlas V 541 | Perseverance   \n",
       "...                         ...                                           ...   \n",
       "4319  1958-02-05 07:33:00+00:00                     Vanguard | Vanguard TV3BU   \n",
       "4320  1958-02-01 03:48:00+00:00                           Juno I | Explorer 1   \n",
       "4321  1957-12-06 16:44:00+00:00                       Vanguard | Vanguard TV3   \n",
       "4322  1957-11-03 02:30:00+00:00                    Sputnik 8K71PS | Sputnik-2   \n",
       "4323  1957-10-04 19:28:00+00:00                    Sputnik 8K71PS | Sputnik-1   \n",
       "\n",
       "      Rocket_Status  Price Mission_Status      country  \n",
       "0      StatusActive  50.00        Success          USA  \n",
       "1      StatusActive  29.75        Success        China  \n",
       "2      StatusActive    NaN        Success          USA  \n",
       "3      StatusActive  65.00        Success   Kazakhstan  \n",
       "4      StatusActive 145.00        Success          USA  \n",
       "...             ...    ...            ...          ...  \n",
       "4319  StatusRetired    NaN        Failure          USA  \n",
       "4320  StatusRetired    NaN        Success          USA  \n",
       "4321  StatusRetired    NaN        Failure          USA  \n",
       "4322  StatusRetired    NaN        Success   Kazakhstan  \n",
       "4323  StatusRetired    NaN        Success   Kazakhstan  \n",
       "\n",
       "[4324 rows x 8 columns]"
      ]
     },
     "execution_count": 60,
     "metadata": {},
     "output_type": "execute_result"
    }
   ],
   "source": [
    "df_data"
   ]
  },
  {
   "cell_type": "markdown",
   "metadata": {},
   "source": [
    "#### Counting how many countries are there and how many times they occur."
   ]
  },
  {
   "cell_type": "code",
   "execution_count": 61,
   "metadata": {},
   "outputs": [
    {
     "data": {
      "text/plain": [
       " Russia                            1395\n",
       " USA                               1344\n",
       " Kazakhstan                         701\n",
       " France                             303\n",
       " China                              268\n",
       " Japan                              126\n",
       " India                               76\n",
       " Pacific Ocean                       36\n",
       " New Zealand                         13\n",
       " Iran                                13\n",
       " Israel                              11\n",
       " Kenya                                9\n",
       " Australia                            6\n",
       " North Korea                          5\n",
       " New Mexico                           4\n",
       " South Korea                          3\n",
       " Barents Sea                          3\n",
       " Brazil                               3\n",
       " Gran Canaria                         2\n",
       " Pacific Missile Range Facility       1\n",
       " Yellow Sea                           1\n",
       " Shahrud Missile Test Site            1\n",
       "Name: country, dtype: int64"
      ]
     },
     "execution_count": 61,
     "metadata": {},
     "output_type": "execute_result"
    }
   ],
   "source": [
    "df_data[\"country\"].value_counts()"
   ]
  },
  {
   "cell_type": "markdown",
   "metadata": {},
   "source": [
    "#### A lot of the locations mentioned are now part of a different country today. Below I try to change those locations to the appropriate country. "
   ]
  },
  {
   "cell_type": "code",
   "execution_count": 62,
   "metadata": {},
   "outputs": [],
   "source": [
    "df_data[\"country\"]=df_data[\"country\"].str.replace(\"Russia\",\"Russian Federation\")\n",
    "df_data[\"country\"]=df_data[\"country\"].str.replace(\"Yellow Sea\",\"China\")\n",
    "df_data[\"country\"]=df_data[\"country\"].str.replace(\"Iran\",\"Iran, Islamic Republic of\")\n",
    "df_data[\"country\"]=df_data[\"country\"].str.replace(\"Shahrud Missile Test Site\",\"Iran, Islamic Republic of\")\n",
    "df_data[\"country\"]=df_data[\"country\"].str.replace(\"New Mexico\",\"United States of America\")\n",
    "df_data[\"country\"]=df_data[\"country\"].str.replace(\"Pacific Missile Range Facility\",\"United States of America\")\n",
    "df_data[\"country\"]=df_data[\"country\"].str.replace(\"Gran Canaria\",\"United States of America\")\n",
    "df_data[\"country\"]=df_data[\"country\"].str.replace(\"USA\",\"United States of America\")\n",
    "df_data[\"country\"]=df_data[\"country\"].str.replace(\"Barents Sea\",\"Russian Federation\")\n",
    "df_data[\"country\"]=df_data[\"country\"].str.replace(\"Pacific Ocean\",\"United States of America\")\n",
    "\n"
   ]
  },
  {
   "cell_type": "markdown",
   "metadata": {},
   "source": [
    "#### Checking vakue counts on countries now and we should have fewer locations."
   ]
  },
  {
   "cell_type": "code",
   "execution_count": 63,
   "metadata": {},
   "outputs": [
    {
     "data": {
      "text/plain": [
       " Russian Federation           1398\n",
       " United States of America     1387\n",
       " Kazakhstan                    701\n",
       " France                        303\n",
       " China                         269\n",
       " Japan                         126\n",
       " India                          76\n",
       " Iran, Islamic Republic of      14\n",
       " New Zealand                    13\n",
       " Israel                         11\n",
       " Kenya                           9\n",
       " Australia                       6\n",
       " North Korea                     5\n",
       " South Korea                     3\n",
       " Brazil                          3\n",
       "Name: country, dtype: int64"
      ]
     },
     "execution_count": 63,
     "metadata": {},
     "output_type": "execute_result"
    }
   ],
   "source": [
    "df_data[\"country\"].value_counts()"
   ]
  },
  {
   "cell_type": "markdown",
   "metadata": {},
   "source": [
    "#### Using 'strip()' to get rid of un-necessary whitespaces."
   ]
  },
  {
   "cell_type": "code",
   "execution_count": 64,
   "metadata": {},
   "outputs": [],
   "source": [
    "df_data[\"country\"]=df_data[\"country\"].str.strip()"
   ]
  },
  {
   "cell_type": "code",
   "execution_count": 65,
   "metadata": {},
   "outputs": [
    {
     "data": {
      "text/html": [
       "<div>\n",
       "<style scoped>\n",
       "    .dataframe tbody tr th:only-of-type {\n",
       "        vertical-align: middle;\n",
       "    }\n",
       "\n",
       "    .dataframe tbody tr th {\n",
       "        vertical-align: top;\n",
       "    }\n",
       "\n",
       "    .dataframe thead th {\n",
       "        text-align: right;\n",
       "    }\n",
       "</style>\n",
       "<table border=\"1\" class=\"dataframe\">\n",
       "  <thead>\n",
       "    <tr style=\"text-align: right;\">\n",
       "      <th></th>\n",
       "      <th>Organisation</th>\n",
       "      <th>Location</th>\n",
       "      <th>Date</th>\n",
       "      <th>Detail</th>\n",
       "      <th>Rocket_Status</th>\n",
       "      <th>Price</th>\n",
       "      <th>Mission_Status</th>\n",
       "      <th>country</th>\n",
       "    </tr>\n",
       "  </thead>\n",
       "  <tbody>\n",
       "    <tr>\n",
       "      <th>0</th>\n",
       "      <td>SpaceX</td>\n",
       "      <td>LC-39A, Kennedy Space Center, Florida, USA</td>\n",
       "      <td>2020-08-07 05:12:00+00:00</td>\n",
       "      <td>Falcon 9 Block 5 | Starlink V1 L9 &amp; BlackSky</td>\n",
       "      <td>StatusActive</td>\n",
       "      <td>50.00</td>\n",
       "      <td>Success</td>\n",
       "      <td>United States of America</td>\n",
       "    </tr>\n",
       "    <tr>\n",
       "      <th>1</th>\n",
       "      <td>CASC</td>\n",
       "      <td>Site 9401 (SLS-2), Jiuquan Satellite Launch Ce...</td>\n",
       "      <td>2020-08-06 04:01:00+00:00</td>\n",
       "      <td>Long March 2D | Gaofen-9 04 &amp; Q-SAT</td>\n",
       "      <td>StatusActive</td>\n",
       "      <td>29.75</td>\n",
       "      <td>Success</td>\n",
       "      <td>China</td>\n",
       "    </tr>\n",
       "    <tr>\n",
       "      <th>2</th>\n",
       "      <td>SpaceX</td>\n",
       "      <td>Pad A, Boca Chica, Texas, USA</td>\n",
       "      <td>2020-08-04 23:57:00+00:00</td>\n",
       "      <td>Starship Prototype | 150 Meter Hop</td>\n",
       "      <td>StatusActive</td>\n",
       "      <td>NaN</td>\n",
       "      <td>Success</td>\n",
       "      <td>United States of America</td>\n",
       "    </tr>\n",
       "    <tr>\n",
       "      <th>3</th>\n",
       "      <td>Roscosmos</td>\n",
       "      <td>Site 200/39, Baikonur Cosmodrome, Kazakhstan</td>\n",
       "      <td>2020-07-30 21:25:00+00:00</td>\n",
       "      <td>Proton-M/Briz-M | Ekspress-80 &amp; Ekspress-103</td>\n",
       "      <td>StatusActive</td>\n",
       "      <td>65.00</td>\n",
       "      <td>Success</td>\n",
       "      <td>Kazakhstan</td>\n",
       "    </tr>\n",
       "    <tr>\n",
       "      <th>4</th>\n",
       "      <td>ULA</td>\n",
       "      <td>SLC-41, Cape Canaveral AFS, Florida, USA</td>\n",
       "      <td>2020-07-30 11:50:00+00:00</td>\n",
       "      <td>Atlas V 541 | Perseverance</td>\n",
       "      <td>StatusActive</td>\n",
       "      <td>145.00</td>\n",
       "      <td>Success</td>\n",
       "      <td>United States of America</td>\n",
       "    </tr>\n",
       "    <tr>\n",
       "      <th>...</th>\n",
       "      <td>...</td>\n",
       "      <td>...</td>\n",
       "      <td>...</td>\n",
       "      <td>...</td>\n",
       "      <td>...</td>\n",
       "      <td>...</td>\n",
       "      <td>...</td>\n",
       "      <td>...</td>\n",
       "    </tr>\n",
       "    <tr>\n",
       "      <th>4319</th>\n",
       "      <td>US Navy</td>\n",
       "      <td>LC-18A, Cape Canaveral AFS, Florida, USA</td>\n",
       "      <td>1958-02-05 07:33:00+00:00</td>\n",
       "      <td>Vanguard | Vanguard TV3BU</td>\n",
       "      <td>StatusRetired</td>\n",
       "      <td>NaN</td>\n",
       "      <td>Failure</td>\n",
       "      <td>United States of America</td>\n",
       "    </tr>\n",
       "    <tr>\n",
       "      <th>4320</th>\n",
       "      <td>AMBA</td>\n",
       "      <td>LC-26A, Cape Canaveral AFS, Florida, USA</td>\n",
       "      <td>1958-02-01 03:48:00+00:00</td>\n",
       "      <td>Juno I | Explorer 1</td>\n",
       "      <td>StatusRetired</td>\n",
       "      <td>NaN</td>\n",
       "      <td>Success</td>\n",
       "      <td>United States of America</td>\n",
       "    </tr>\n",
       "    <tr>\n",
       "      <th>4321</th>\n",
       "      <td>US Navy</td>\n",
       "      <td>LC-18A, Cape Canaveral AFS, Florida, USA</td>\n",
       "      <td>1957-12-06 16:44:00+00:00</td>\n",
       "      <td>Vanguard | Vanguard TV3</td>\n",
       "      <td>StatusRetired</td>\n",
       "      <td>NaN</td>\n",
       "      <td>Failure</td>\n",
       "      <td>United States of America</td>\n",
       "    </tr>\n",
       "    <tr>\n",
       "      <th>4322</th>\n",
       "      <td>RVSN USSR</td>\n",
       "      <td>Site 1/5, Baikonur Cosmodrome, Kazakhstan</td>\n",
       "      <td>1957-11-03 02:30:00+00:00</td>\n",
       "      <td>Sputnik 8K71PS | Sputnik-2</td>\n",
       "      <td>StatusRetired</td>\n",
       "      <td>NaN</td>\n",
       "      <td>Success</td>\n",
       "      <td>Kazakhstan</td>\n",
       "    </tr>\n",
       "    <tr>\n",
       "      <th>4323</th>\n",
       "      <td>RVSN USSR</td>\n",
       "      <td>Site 1/5, Baikonur Cosmodrome, Kazakhstan</td>\n",
       "      <td>1957-10-04 19:28:00+00:00</td>\n",
       "      <td>Sputnik 8K71PS | Sputnik-1</td>\n",
       "      <td>StatusRetired</td>\n",
       "      <td>NaN</td>\n",
       "      <td>Success</td>\n",
       "      <td>Kazakhstan</td>\n",
       "    </tr>\n",
       "  </tbody>\n",
       "</table>\n",
       "<p>4324 rows × 8 columns</p>\n",
       "</div>"
      ],
      "text/plain": [
       "     Organisation                                           Location  \\\n",
       "0          SpaceX         LC-39A, Kennedy Space Center, Florida, USA   \n",
       "1            CASC  Site 9401 (SLS-2), Jiuquan Satellite Launch Ce...   \n",
       "2          SpaceX                      Pad A, Boca Chica, Texas, USA   \n",
       "3       Roscosmos       Site 200/39, Baikonur Cosmodrome, Kazakhstan   \n",
       "4             ULA           SLC-41, Cape Canaveral AFS, Florida, USA   \n",
       "...           ...                                                ...   \n",
       "4319      US Navy           LC-18A, Cape Canaveral AFS, Florida, USA   \n",
       "4320         AMBA           LC-26A, Cape Canaveral AFS, Florida, USA   \n",
       "4321      US Navy           LC-18A, Cape Canaveral AFS, Florida, USA   \n",
       "4322    RVSN USSR          Site 1/5, Baikonur Cosmodrome, Kazakhstan   \n",
       "4323    RVSN USSR          Site 1/5, Baikonur Cosmodrome, Kazakhstan   \n",
       "\n",
       "                           Date                                        Detail  \\\n",
       "0     2020-08-07 05:12:00+00:00  Falcon 9 Block 5 | Starlink V1 L9 & BlackSky   \n",
       "1     2020-08-06 04:01:00+00:00           Long March 2D | Gaofen-9 04 & Q-SAT   \n",
       "2     2020-08-04 23:57:00+00:00            Starship Prototype | 150 Meter Hop   \n",
       "3     2020-07-30 21:25:00+00:00  Proton-M/Briz-M | Ekspress-80 & Ekspress-103   \n",
       "4     2020-07-30 11:50:00+00:00                    Atlas V 541 | Perseverance   \n",
       "...                         ...                                           ...   \n",
       "4319  1958-02-05 07:33:00+00:00                     Vanguard | Vanguard TV3BU   \n",
       "4320  1958-02-01 03:48:00+00:00                           Juno I | Explorer 1   \n",
       "4321  1957-12-06 16:44:00+00:00                       Vanguard | Vanguard TV3   \n",
       "4322  1957-11-03 02:30:00+00:00                    Sputnik 8K71PS | Sputnik-2   \n",
       "4323  1957-10-04 19:28:00+00:00                    Sputnik 8K71PS | Sputnik-1   \n",
       "\n",
       "      Rocket_Status  Price Mission_Status                   country  \n",
       "0      StatusActive  50.00        Success  United States of America  \n",
       "1      StatusActive  29.75        Success                     China  \n",
       "2      StatusActive    NaN        Success  United States of America  \n",
       "3      StatusActive  65.00        Success                Kazakhstan  \n",
       "4      StatusActive 145.00        Success  United States of America  \n",
       "...             ...    ...            ...                       ...  \n",
       "4319  StatusRetired    NaN        Failure  United States of America  \n",
       "4320  StatusRetired    NaN        Success  United States of America  \n",
       "4321  StatusRetired    NaN        Failure  United States of America  \n",
       "4322  StatusRetired    NaN        Success                Kazakhstan  \n",
       "4323  StatusRetired    NaN        Success                Kazakhstan  \n",
       "\n",
       "[4324 rows x 8 columns]"
      ]
     },
     "execution_count": 65,
     "metadata": {},
     "output_type": "execute_result"
    }
   ],
   "source": [
    "df_data"
   ]
  },
  {
   "cell_type": "markdown",
   "metadata": {},
   "source": [
    "#### Creating a blank dictionary and using the iso3166 package to assign the country name and its corresponding alpha3 format name.\n",
    "#### This is important since we need the alpha3 format of the country to plot any choropleth maps. "
   ]
  },
  {
   "cell_type": "code",
   "execution_count": 66,
   "metadata": {},
   "outputs": [
    {
     "name": "stdout",
     "output_type": "stream",
     "text": [
      "{'Afghanistan': 'AFG', 'Åland Islands': 'ALA', 'Albania': 'ALB', 'Algeria': 'DZA', 'American Samoa': 'ASM', 'Andorra': 'AND', 'Angola': 'AGO', 'Anguilla': 'AIA', 'Antarctica': 'ATA', 'Antigua and Barbuda': 'ATG', 'Argentina': 'ARG', 'Armenia': 'ARM', 'Aruba': 'ABW', 'Australia': 'AUS', 'Austria': 'AUT', 'Azerbaijan': 'AZE', 'Bahamas': 'BHS', 'Bahrain': 'BHR', 'Bangladesh': 'BGD', 'Barbados': 'BRB', 'Belarus': 'BLR', 'Belgium': 'BEL', 'Belize': 'BLZ', 'Benin': 'BEN', 'Bermuda': 'BMU', 'Bhutan': 'BTN', 'Bolivia, Plurinational State of': 'BOL', 'Bonaire, Sint Eustatius and Saba': 'BES', 'Bosnia and Herzegovina': 'BIH', 'Botswana': 'BWA', 'Bouvet Island': 'BVT', 'Brazil': 'BRA', 'British Indian Ocean Territory': 'IOT', 'Brunei Darussalam': 'BRN', 'Bulgaria': 'BGR', 'Burkina Faso': 'BFA', 'Burundi': 'BDI', 'Cambodia': 'KHM', 'Cameroon': 'CMR', 'Canada': 'CAN', 'Cabo Verde': 'CPV', 'Cayman Islands': 'CYM', 'Central African Republic': 'CAF', 'Chad': 'TCD', 'Chile': 'CHL', 'China': 'CHN', 'Christmas Island': 'CXR', 'Cocos (Keeling) Islands': 'CCK', 'Colombia': 'COL', 'Comoros': 'COM', 'Congo': 'COG', 'Congo, Democratic Republic of the': 'COD', 'Cook Islands': 'COK', 'Costa Rica': 'CRI', \"Côte d'Ivoire\": 'CIV', 'Croatia': 'HRV', 'Cuba': 'CUB', 'Curaçao': 'CUW', 'Cyprus': 'CYP', 'Czechia': 'CZE', 'Denmark': 'DNK', 'Djibouti': 'DJI', 'Dominica': 'DMA', 'Dominican Republic': 'DOM', 'Ecuador': 'ECU', 'Egypt': 'EGY', 'El Salvador': 'SLV', 'Equatorial Guinea': 'GNQ', 'Eritrea': 'ERI', 'Estonia': 'EST', 'Ethiopia': 'ETH', 'Falkland Islands (Malvinas)': 'FLK', 'Faroe Islands': 'FRO', 'Fiji': 'FJI', 'Finland': 'FIN', 'France': 'FRA', 'French Guiana': 'GUF', 'French Polynesia': 'PYF', 'French Southern Territories': 'ATF', 'Gabon': 'GAB', 'Gambia': 'GMB', 'Georgia': 'GEO', 'Germany': 'DEU', 'Ghana': 'GHA', 'Gibraltar': 'GIB', 'Greece': 'GRC', 'Greenland': 'GRL', 'Grenada': 'GRD', 'Guadeloupe': 'GLP', 'Guam': 'GUM', 'Guatemala': 'GTM', 'Guernsey': 'GGY', 'Guinea': 'GIN', 'Guinea-Bissau': 'GNB', 'Guyana': 'GUY', 'Haiti': 'HTI', 'Heard Island and McDonald Islands': 'HMD', 'Holy See': 'VAT', 'Honduras': 'HND', 'Hong Kong': 'HKG', 'Hungary': 'HUN', 'Iceland': 'ISL', 'India': 'IND', 'Indonesia': 'IDN', 'Iran, Islamic Republic of': 'IRN', 'Iraq': 'IRQ', 'Ireland': 'IRL', 'Isle of Man': 'IMN', 'Israel': 'ISR', 'Italy': 'ITA', 'Jamaica': 'JAM', 'Japan': 'JPN', 'Jersey': 'JEY', 'Jordan': 'JOR', 'Kazakhstan': 'KAZ', 'Kenya': 'KEN', 'Kiribati': 'KIR', \"Korea, Democratic People's Republic of\": 'PRK', 'Korea, Republic of': 'KOR', 'Kosovo': 'XKX', 'Kuwait': 'KWT', 'Kyrgyzstan': 'KGZ', \"Lao People's Democratic Republic\": 'LAO', 'Latvia': 'LVA', 'Lebanon': 'LBN', 'Lesotho': 'LSO', 'Liberia': 'LBR', 'Libya': 'LBY', 'Liechtenstein': 'LIE', 'Lithuania': 'LTU', 'Luxembourg': 'LUX', 'Macao': 'MAC', 'North Macedonia': 'MKD', 'Madagascar': 'MDG', 'Malawi': 'MWI', 'Malaysia': 'MYS', 'Maldives': 'MDV', 'Mali': 'MLI', 'Malta': 'MLT', 'Marshall Islands': 'MHL', 'Martinique': 'MTQ', 'Mauritania': 'MRT', 'Mauritius': 'MUS', 'Mayotte': 'MYT', 'Mexico': 'MEX', 'Micronesia, Federated States of': 'FSM', 'Moldova, Republic of': 'MDA', 'Monaco': 'MCO', 'Mongolia': 'MNG', 'Montenegro': 'MNE', 'Montserrat': 'MSR', 'Morocco': 'MAR', 'Mozambique': 'MOZ', 'Myanmar': 'MMR', 'Namibia': 'NAM', 'Nauru': 'NRU', 'Nepal': 'NPL', 'Netherlands': 'NLD', 'New Caledonia': 'NCL', 'New Zealand': 'NZL', 'Nicaragua': 'NIC', 'Niger': 'NER', 'Nigeria': 'NGA', 'Niue': 'NIU', 'Norfolk Island': 'NFK', 'Northern Mariana Islands': 'MNP', 'Norway': 'NOR', 'Oman': 'OMN', 'Pakistan': 'PAK', 'Palau': 'PLW', 'Palestine, State of': 'PSE', 'Panama': 'PAN', 'Papua New Guinea': 'PNG', 'Paraguay': 'PRY', 'Peru': 'PER', 'Philippines': 'PHL', 'Pitcairn': 'PCN', 'Poland': 'POL', 'Portugal': 'PRT', 'Puerto Rico': 'PRI', 'Qatar': 'QAT', 'Réunion': 'REU', 'Romania': 'ROU', 'Russian Federation': 'RUS', 'Rwanda': 'RWA', 'Saint Barthélemy': 'BLM', 'Saint Helena, Ascension and Tristan da Cunha': 'SHN', 'Saint Kitts and Nevis': 'KNA', 'Saint Lucia': 'LCA', 'Saint Martin (French part)': 'MAF', 'Saint Pierre and Miquelon': 'SPM', 'Saint Vincent and the Grenadines': 'VCT', 'Samoa': 'WSM', 'San Marino': 'SMR', 'Sao Tome and Principe': 'STP', 'Saudi Arabia': 'SAU', 'Senegal': 'SEN', 'Serbia': 'SRB', 'Seychelles': 'SYC', 'Sierra Leone': 'SLE', 'Singapore': 'SGP', 'Sint Maarten (Dutch part)': 'SXM', 'Slovakia': 'SVK', 'Slovenia': 'SVN', 'Solomon Islands': 'SLB', 'Somalia': 'SOM', 'South Africa': 'ZAF', 'South Georgia and the South Sandwich Islands': 'SGS', 'South Sudan': 'SSD', 'Spain': 'ESP', 'Sri Lanka': 'LKA', 'Sudan': 'SDN', 'Suriname': 'SUR', 'Svalbard and Jan Mayen': 'SJM', 'Eswatini': 'SWZ', 'Sweden': 'SWE', 'Switzerland': 'CHE', 'Syrian Arab Republic': 'SYR', 'Taiwan, Province of China': 'TWN', 'Tajikistan': 'TJK', 'Tanzania, United Republic of': 'TZA', 'Thailand': 'THA', 'Timor-Leste': 'TLS', 'Togo': 'TGO', 'Tokelau': 'TKL', 'Tonga': 'TON', 'Trinidad and Tobago': 'TTO', 'Tunisia': 'TUN', 'Türkiye': 'TUR', 'Turkmenistan': 'TKM', 'Turks and Caicos Islands': 'TCA', 'Tuvalu': 'TUV', 'Uganda': 'UGA', 'Ukraine': 'UKR', 'United Arab Emirates': 'ARE', 'United Kingdom of Great Britain and Northern Ireland': 'GBR', 'United States of America': 'USA', 'United States Minor Outlying Islands': 'UMI', 'Uruguay': 'URY', 'Uzbekistan': 'UZB', 'Vanuatu': 'VUT', 'Venezuela, Bolivarian Republic of': 'VEN', 'Viet Nam': 'VNM', 'Virgin Islands, British': 'VGB', 'Virgin Islands, U.S.': 'VIR', 'Wallis and Futuna': 'WLF', 'Western Sahara': 'ESH', 'Yemen': 'YEM', 'Zambia': 'ZMB', 'Zimbabwe': 'ZWE'}\n"
     ]
    }
   ],
   "source": [
    "iso = {}\n",
    "for c in countries:\n",
    "    iso[c.name]=c.alpha3\n",
    "print(iso)\n"
   ]
  },
  {
   "cell_type": "markdown",
   "metadata": {},
   "source": [
    "#### Updating a few ISO names fpor countries."
   ]
  },
  {
   "cell_type": "code",
   "execution_count": 67,
   "metadata": {},
   "outputs": [],
   "source": [
    "iso[\"North Korea\"] = \"PRK\""
   ]
  },
  {
   "cell_type": "code",
   "execution_count": 68,
   "metadata": {},
   "outputs": [],
   "source": [
    "iso[\"South Korea\"]=\"KOR\""
   ]
  },
  {
   "cell_type": "code",
   "execution_count": 69,
   "metadata": {},
   "outputs": [],
   "source": [
    "iso[\"South Korea\"]=\"KOR\""
   ]
  },
  {
   "cell_type": "markdown",
   "metadata": {},
   "source": [
    "#### Creating this example function to check if we can grab the iso correctly from the dictionary and if it works."
   ]
  },
  {
   "cell_type": "code",
   "execution_count": 70,
   "metadata": {},
   "outputs": [
    {
     "name": "stdout",
     "output_type": "stream",
     "text": [
      "USA\n",
      "CHN\n",
      "USA\n",
      "KAZ\n",
      "USA\n",
      "CHN\n",
      "KAZ\n",
      "CHN\n",
      "USA\n",
      "JPN\n",
      "USA\n",
      "CHN\n",
      "CHN\n",
      "ISR\n",
      "CHN\n",
      "NZL\n",
      "CHN\n",
      "USA\n",
      "CHN\n",
      "CHN\n",
      "USA\n",
      "NZL\n",
      "CHN\n",
      "USA\n",
      "CHN\n",
      "USA\n",
      "CHN\n",
      "USA\n",
      "RUS\n",
      "JPN\n",
      "USA\n",
      "CHN\n",
      "CHN\n",
      "KAZ\n",
      "USA\n",
      "IRN\n",
      "CHN\n",
      "KAZ\n",
      "USA\n",
      "CHN\n",
      "KAZ\n",
      "USA\n",
      "RUS\n",
      "CHN\n",
      "CHN\n",
      "USA\n",
      "RUS\n",
      "CHN\n",
      "FRA\n",
      "USA\n",
      "USA\n",
      "USA\n",
      "IRN\n",
      "JPN\n",
      "KAZ\n",
      "NZL\n",
      "USA\n",
      "USA\n",
      "FRA\n",
      "CHN\n",
      "CHN\n",
      "CHN\n",
      "USA\n",
      "CHN\n",
      "RUS\n",
      "KAZ\n",
      "USA\n",
      "CHN\n",
      "FRA\n",
      "USA\n",
      "CHN\n",
      "USA\n",
      "IND\n",
      "RUS\n",
      "CHN\n",
      "CHN\n",
      "KAZ\n",
      "NZL\n",
      "USA\n",
      "CHN\n",
      "IND\n",
      "FRA\n",
      "RUS\n",
      "CHN\n",
      "CHN\n",
      "CHN\n",
      "CHN\n",
      "USA\n",
      "CHN\n",
      "CHN\n",
      "USA\n",
      "USA\n",
      "CHN\n",
      "NZL\n",
      "USA\n",
      "KAZ\n",
      "CHN\n",
      "RUS\n",
      "KAZ\n",
      "CHN\n",
      "JPN\n",
      "CHN\n",
      "CHN\n",
      "CHN\n",
      "CHN\n",
      "RUS\n",
      "IRN\n",
      "USA\n",
      "KAZ\n",
      "NZL\n",
      "CHN\n",
      "CHN\n",
      "USA\n",
      "USA\n",
      "FRA\n",
      "KAZ\n",
      "KAZ\n",
      "RUS\n",
      "CHN\n",
      "USA\n",
      "CHN\n",
      "IND\n",
      "KAZ\n",
      "KAZ\n",
      "FRA\n",
      "RUS\n",
      "RUS\n",
      "USA\n",
      "NZL\n",
      "USA\n",
      "CHN\n",
      "FRA\n",
      "USA\n",
      "CHN\n",
      "KAZ\n",
      "RUS\n",
      "USA\n",
      "CHN\n",
      "IND\n",
      "CHN\n",
      "NZL\n",
      "USA\n",
      "USA\n",
      "CHN\n",
      "CHN\n",
      "USA\n",
      "USA\n",
      "FRA\n",
      "KAZ\n",
      "IND\n",
      "CHN\n",
      "NZL\n",
      "CHN\n",
      "FRA\n",
      "USA\n",
      "KAZ\n",
      "CHN\n",
      "USA\n",
      "USA\n",
      "FRA\n",
      "USA\n",
      "KAZ\n",
      "FRA\n",
      "IRN\n",
      "IND\n",
      "USA\n",
      "CHN\n",
      "USA\n",
      "JPN\n",
      "IRN\n",
      "USA\n",
      "CHN\n",
      "CHN\n",
      "RUS\n",
      "CHN\n",
      "USA\n",
      "CHN\n",
      "KAZ\n",
      "FRA\n",
      "IND\n",
      "NZL\n",
      "CHN\n",
      "CHN\n",
      "USA\n",
      "FRA\n",
      "USA\n",
      "KAZ\n",
      "RUS\n",
      "IND\n",
      "FRA\n",
      "CHN\n",
      "CHN\n",
      "USA\n",
      "KAZ\n",
      "USA\n",
      "IND\n",
      "NZL\n",
      "FRA\n",
      "RUS\n",
      "CHN\n",
      "JPN\n",
      "CHN\n",
      "CHN\n",
      "RUS\n",
      "CHN\n",
      "FRA\n",
      "USA\n",
      "CHN\n",
      "KAZ\n",
      "CHN\n",
      "USA\n",
      "CHN\n",
      "FRA\n",
      "JPN\n",
      "CHN\n",
      "IND\n",
      "USA\n",
      "USA\n",
      "CHN\n",
      "USA\n",
      "CHN\n",
      "FRA\n",
      "USA\n",
      "USA\n",
      "CHN\n",
      "CHN\n",
      "USA\n",
      "FRA\n",
      "USA\n",
      "USA\n",
      "KAZ\n",
      "CHN\n",
      "CHN\n",
      "USA\n",
      "CHN\n",
      "RUS\n",
      "JPN\n",
      "KAZ\n",
      "CHN\n",
      "USA\n",
      "CHN\n",
      "USA\n",
      "USA\n",
      "CHN\n",
      "USA\n",
      "CHN\n",
      "USA\n",
      "CHN\n",
      "USA\n",
      "CHN\n",
      "RUS\n",
      "USA\n",
      "KAZ\n",
      "USA\n",
      "IND\n",
      "CHN\n",
      "FRA\n",
      "USA\n",
      "CHN\n",
      "USA\n",
      "CHN\n",
      "RUS\n",
      "IND\n",
      "KAZ\n",
      "CHN\n",
      "FRA\n",
      "USA\n",
      "USA\n",
      "JPN\n",
      "USA\n",
      "KAZ\n",
      "CHN\n",
      "USA\n",
      "JPN\n",
      "CHN\n",
      "RUS\n",
      "USA\n",
      "FRA\n",
      "CHN\n",
      "NZL\n",
      "USA\n",
      "CHN\n",
      "JPN\n",
      "CHN\n",
      "USA\n",
      "IND\n",
      "CHN\n",
      "CHN\n",
      "USA\n",
      "KAZ\n",
      "CHN\n",
      "CHN\n",
      "USA\n",
      "JPN\n",
      "KAZ\n",
      "USA\n",
      "USA\n",
      "FRA\n",
      "CHN\n",
      "CHN\n",
      "RUS\n",
      "RUS\n",
      "CHN\n",
      "CHN\n",
      "USA\n",
      "CHN\n",
      "USA\n",
      "FRA\n",
      "CHN\n",
      "USA\n",
      "USA\n",
      "USA\n",
      "KAZ\n",
      "RUS\n",
      "USA\n",
      "JPN\n",
      "USA\n",
      "CHN\n",
      "FRA\n",
      "CHN\n",
      "KAZ\n",
      "USA\n",
      "KAZ\n",
      "USA\n",
      "IND\n",
      "USA\n",
      "USA\n",
      "RUS\n",
      "JPN\n",
      "USA\n",
      "KAZ\n",
      "USA\n",
      "KAZ\n",
      "FRA\n",
      "KAZ\n",
      "IRN\n",
      "KAZ\n",
      "USA\n",
      "CHN\n",
      "FRA\n",
      "USA\n",
      "USA\n",
      "RUS\n",
      "IND\n",
      "CHN\n",
      "CHN\n",
      "KAZ\n",
      "KAZ\n",
      "IND\n",
      "USA\n",
      "FRA\n",
      "JPN\n",
      "RUS\n",
      "NZL\n",
      "FRA\n",
      "USA\n",
      "IND\n",
      "FRA\n",
      "USA\n",
      "CHN\n",
      "KAZ\n",
      "USA\n",
      "CHN\n",
      "USA\n",
      "USA\n",
      "JPN\n",
      "USA\n",
      "FRA\n",
      "CHN\n",
      "USA\n",
      "KAZ\n",
      "USA\n",
      "IND\n",
      "FRA\n",
      "FRA\n",
      "JPN\n",
      "USA\n",
      "JPN\n",
      "USA\n",
      "CHN\n",
      "CHN\n",
      "CHN\n",
      "FRA\n",
      "CHN\n",
      "JPN\n",
      "USA\n",
      "USA\n",
      "CHN\n",
      "JPN\n",
      "USA\n",
      "IND\n",
      "FRA\n",
      "KAZ\n",
      "CHN\n",
      "USA\n",
      "KAZ\n",
      "FRA\n",
      "CHN\n",
      "USA\n",
      "CHN\n",
      "CHN\n",
      "JPN\n",
      "KAZ\n",
      "USA\n",
      "CHN\n",
      "USA\n",
      "FRA\n",
      "IND\n",
      "FRA\n",
      "CHN\n",
      "ISR\n",
      "USA\n",
      "IND\n",
      "USA\n",
      "CHN\n",
      "FRA\n",
      "USA\n",
      "CHN\n",
      "USA\n",
      "CHN\n",
      "CHN\n",
      "USA\n",
      "USA\n",
      "KAZ\n",
      "KAZ\n",
      "CHN\n",
      "CHN\n",
      "USA\n",
      "IND\n",
      "USA\n",
      "FRA\n",
      "USA\n",
      "CHN\n",
      "USA\n",
      "KAZ\n",
      "RUS\n",
      "CHN\n",
      "RUS\n",
      "USA\n",
      "FRA\n",
      "CHN\n",
      "USA\n",
      "IND\n",
      "RUS\n",
      "FRA\n",
      "USA\n",
      "CHN\n",
      "USA\n",
      "KAZ\n",
      "CHN\n",
      "RUS\n",
      "USA\n",
      "KAZ\n",
      "KAZ\n",
      "KAZ\n",
      "IND\n",
      "FRA\n",
      "USA\n",
      "JPN\n",
      "RUS\n",
      "USA\n",
      "PRK\n",
      "RUS\n",
      "USA\n",
      "CHN\n",
      "KAZ\n",
      "FRA\n",
      "USA\n",
      "IND\n",
      "USA\n",
      "CHN\n",
      "USA\n",
      "FRA\n",
      "IND\n",
      "KAZ\n",
      "USA\n",
      "RUS\n",
      "FRA\n",
      "JPN\n",
      "USA\n",
      "FRA\n",
      "USA\n",
      "USA\n",
      "USA\n",
      "USA\n",
      "FRA\n",
      "IND\n",
      "CHN\n",
      "RUS\n",
      "CHN\n",
      "FRA\n",
      "USA\n",
      "IND\n",
      "FRA\n",
      "JPN\n",
      "USA\n",
      "FRA\n",
      "USA\n",
      "IND\n",
      "USA\n",
      "FRA\n",
      "FRA\n",
      "USA\n",
      "USA\n",
      "USA\n",
      "FRA\n",
      "USA\n",
      "RUS\n",
      "IND\n",
      "FRA\n",
      "JPN\n",
      "RUS\n",
      "USA\n",
      "USA\n",
      "USA\n",
      "IRN\n",
      "USA\n",
      "FRA\n",
      "IRN\n",
      "JPN\n",
      "USA\n",
      "USA\n",
      "USA\n",
      "RUS\n",
      "KAZ\n",
      "FRA\n",
      "IND\n",
      "USA\n",
      "FRA\n",
      "USA\n",
      "JPN\n",
      "CHN\n",
      "RUS\n",
      "USA\n",
      "USA\n",
      "FRA\n",
      "IND\n",
      "JPN\n",
      "USA\n",
      "USA\n",
      "FRA\n",
      "USA\n",
      "FRA\n",
      "USA\n",
      "USA\n",
      "USA\n",
      "FRA\n",
      "USA\n",
      "USA\n",
      "USA\n",
      "FRA\n",
      "RUS\n",
      "RUS\n",
      "USA\n",
      "IND\n",
      "RUS\n",
      "USA\n",
      "JPN\n",
      "RUS\n",
      "USA\n",
      "USA\n",
      "FRA\n",
      "USA\n",
      "USA\n",
      "ISR\n",
      "IND\n",
      "FRA\n",
      "USA\n",
      "FRA\n",
      "JPN\n",
      "USA\n",
      "FRA\n",
      "USA\n",
      "USA\n",
      "USA\n",
      "IND\n",
      "RUS\n",
      "RUS\n",
      "FRA\n",
      "USA\n",
      "USA\n",
      "RUS\n",
      "RUS\n",
      "USA\n",
      "USA\n",
      "IND\n",
      "USA\n",
      "CHN\n",
      "USA\n",
      "JPN\n",
      "USA\n",
      "RUS\n",
      "USA\n",
      "KAZ\n",
      "FRA\n",
      "USA\n",
      "RUS\n",
      "USA\n",
      "JPN\n",
      "FRA\n",
      "USA\n",
      "KAZ\n",
      "IND\n",
      "USA\n",
      "KAZ\n",
      "FRA\n",
      "CHN\n",
      "FRA\n",
      "USA\n",
      "USA\n",
      "FRA\n",
      "USA\n",
      "USA\n",
      "USA\n",
      "IND\n",
      "USA\n",
      "FRA\n",
      "USA\n",
      "USA\n",
      "KOR\n",
      "JPN\n",
      "RUS\n",
      "FRA\n",
      "PRK\n",
      "USA\n",
      "USA\n",
      "FRA\n",
      "FRA\n",
      "FRA\n",
      "USA\n",
      "USA\n",
      "FRA\n",
      "IRN\n",
      "USA\n",
      "IND\n",
      "USA\n",
      "USA\n",
      "FRA\n",
      "RUS\n",
      "JPN\n",
      "FRA\n",
      "USA\n",
      "USA\n",
      "CHN\n",
      "USA\n",
      "USA\n",
      "IRN\n",
      "USA\n",
      "JPN\n",
      "FRA\n",
      "USA\n",
      "IND\n",
      "IND\n",
      "PRK\n",
      "USA\n",
      "FRA\n",
      "USA\n",
      "FRA\n",
      "IRN\n",
      "USA\n",
      "FRA\n",
      "JPN\n",
      "USA\n",
      "KAZ\n",
      "CHN\n",
      "USA\n",
      "FRA\n",
      "IND\n",
      "KAZ\n",
      "CHN\n",
      "USA\n",
      "USA\n",
      "JPN\n",
      "FRA\n",
      "JPN\n",
      "USA\n",
      "RUS\n",
      "FRA\n",
      "USA\n",
      "KAZ\n",
      "USA\n",
      "IND\n",
      "USA\n",
      "USA\n",
      "IRN\n",
      "USA\n",
      "FRA\n",
      "USA\n",
      "USA\n",
      "FRA\n",
      "IND\n",
      "USA\n",
      "USA\n",
      "USA\n",
      "USA\n",
      "USA\n",
      "FRA\n",
      "USA\n",
      "RUS\n",
      "JPN\n",
      "USA\n",
      "KAZ\n",
      "FRA\n",
      "IND\n",
      "USA\n",
      "FRA\n",
      "USA\n",
      "USA\n",
      "USA\n",
      "FRA\n",
      "RUS\n",
      "USA\n",
      "USA\n",
      "RUS\n",
      "USA\n",
      "FRA\n",
      "IND\n",
      "FRA\n",
      "ISR\n",
      "KAZ\n",
      "RUS\n",
      "KOR\n",
      "USA\n",
      "RUS\n",
      "USA\n",
      "FRA\n",
      "USA\n",
      "JPN\n",
      "KAZ\n",
      "RUS\n",
      "USA\n",
      "IND\n",
      "KAZ\n",
      "USA\n",
      "KAZ\n",
      "USA\n",
      "USA\n",
      "USA\n",
      "KAZ\n",
      "FRA\n",
      "USA\n",
      "USA\n",
      "KAZ\n",
      "JPN\n",
      "USA\n",
      "USA\n",
      "RUS\n",
      "FRA\n",
      "USA\n",
      "USA\n",
      "USA\n",
      "FRA\n",
      "USA\n",
      "IND\n",
      "JPN\n",
      "USA\n",
      "USA\n",
      "KOR\n",
      "FRA\n",
      "USA\n",
      "KAZ\n",
      "RUS\n",
      "USA\n",
      "USA\n",
      "RUS\n",
      "FRA\n",
      "USA\n",
      "KAZ\n",
      "USA\n",
      "USA\n",
      "FRA\n",
      "USA\n",
      "USA\n",
      "USA\n",
      "IND\n",
      "PRK\n",
      "USA\n",
      "USA\n",
      "RUS\n",
      "USA\n",
      "USA\n",
      "KAZ\n",
      "USA\n",
      "FRA\n",
      "USA\n",
      "IRN\n",
      "RUS\n",
      "JPN\n",
      "USA\n",
      "FRA\n",
      "RUS\n",
      "USA\n",
      "CHN\n",
      "CHN\n",
      "CHN\n",
      "USA\n",
      "CHN\n",
      "IND\n",
      "USA\n",
      "RUS\n",
      "USA\n",
      "CHN\n",
      "USA\n",
      "USA\n",
      "CHN\n",
      "KAZ\n",
      "IRN\n",
      "FRA\n",
      "USA\n",
      "RUS\n",
      "USA\n",
      "FRA\n",
      "USA\n",
      "RUS\n",
      "FRA\n",
      "USA\n",
      "CHN\n",
      "USA\n",
      "CHN\n",
      "RUS\n",
      "USA\n",
      "KAZ\n",
      "IND\n",
      "CHN\n",
      "FRA\n",
      "USA\n",
      "USA\n",
      "RUS\n",
      "USA\n",
      "USA\n",
      "USA\n",
      "USA\n",
      "FRA\n",
      "JPN\n",
      "USA\n",
      "IND\n",
      "USA\n",
      "FRA\n",
      "USA\n",
      "USA\n",
      "USA\n",
      "FRA\n",
      "CHN\n",
      "USA\n",
      "RUS\n",
      "CHN\n",
      "RUS\n",
      "USA\n",
      "USA\n",
      "USA\n",
      "FRA\n",
      "USA\n",
      "CHN\n",
      "USA\n",
      "JPN\n",
      "RUS\n",
      "IND\n",
      "FRA\n",
      "USA\n",
      "USA\n",
      "CHN\n",
      "RUS\n",
      "KAZ\n",
      "RUS\n",
      "USA\n",
      "KAZ\n",
      "ISR\n",
      "USA\n",
      "USA\n",
      "CHN\n",
      "CHN\n",
      "CHN\n",
      "FRA\n",
      "USA\n",
      "USA\n",
      "IND\n",
      "KAZ\n",
      "CHN\n",
      "CHN\n",
      "USA\n",
      "FRA\n",
      "USA\n",
      "JPN\n",
      "USA\n",
      "CHN\n",
      "USA\n",
      "IND\n",
      "RUS\n",
      "JPN\n",
      "USA\n",
      "USA\n",
      "USA\n",
      "FRA\n",
      "CHN\n",
      "USA\n",
      "USA\n",
      "USA\n",
      "CHN\n",
      "USA\n",
      "CHN\n",
      "FRA\n",
      "USA\n",
      "JPN\n",
      "CHN\n",
      "JPN\n",
      "USA\n",
      "CHN\n",
      "USA\n",
      "FRA\n",
      "RUS\n",
      "KAZ\n",
      "RUS\n",
      "RUS\n",
      "IND\n",
      "USA\n",
      "USA\n",
      "KAZ\n",
      "USA\n",
      "USA\n",
      "FRA\n",
      "RUS\n",
      "USA\n",
      "USA\n",
      "CHN\n",
      "RUS\n",
      "USA\n",
      "USA\n",
      "USA\n",
      "USA\n",
      "USA\n",
      "FRA\n",
      "JPN\n",
      "JPN\n",
      "USA\n",
      "JPN\n",
      "USA\n",
      "FRA\n",
      "RUS\n",
      "FRA\n",
      "USA\n",
      "RUS\n",
      "USA\n",
      "CHN\n",
      "FRA\n",
      "RUS\n",
      "USA\n",
      "USA\n",
      "CHN\n",
      "RUS\n",
      "KAZ\n",
      "USA\n",
      "FRA\n",
      "CHN\n",
      "USA\n",
      "JPN\n",
      "CHN\n",
      "USA\n",
      "RUS\n",
      "RUS\n",
      "USA\n",
      "IND\n",
      "USA\n",
      "USA\n",
      "USA\n",
      "CHN\n",
      "USA\n",
      "USA\n",
      "USA\n",
      "JPN\n",
      "FRA\n",
      "USA\n",
      "RUS\n",
      "USA\n",
      "RUS\n",
      "USA\n",
      "FRA\n",
      "USA\n",
      "USA\n",
      "CHN\n",
      "RUS\n",
      "USA\n",
      "CHN\n",
      "CHN\n",
      "CHN\n",
      "RUS\n",
      "IND\n",
      "CHN\n",
      "ISR\n",
      "USA\n",
      "CHN\n",
      "USA\n",
      "CHN\n",
      "RUS\n",
      "FRA\n",
      "USA\n",
      "KAZ\n",
      "USA\n",
      "USA\n",
      "KAZ\n",
      "KAZ\n",
      "USA\n",
      "USA\n",
      "USA\n",
      "USA\n",
      "CHN\n",
      "USA\n",
      "USA\n",
      "USA\n",
      "FRA\n",
      "RUS\n",
      "USA\n",
      "USA\n",
      "USA\n",
      "CHN\n",
      "USA\n",
      "USA\n",
      "KAZ\n",
      "USA\n",
      "JPN\n",
      "CHN\n",
      "CHN\n",
      "RUS\n",
      "CHN\n",
      "USA\n",
      "IND\n",
      "CHN\n",
      "USA\n",
      "FRA\n",
      "RUS\n",
      "CHN\n",
      "USA\n",
      "USA\n",
      "BRA\n",
      "USA\n",
      "RUS\n",
      "USA\n",
      "USA\n",
      "USA\n",
      "USA\n",
      "RUS\n",
      "USA\n",
      "RUS\n",
      "FRA\n",
      "USA\n",
      "USA\n",
      "RUS\n",
      "KAZ\n",
      "CHN\n",
      "USA\n",
      "JPN\n",
      "IND\n",
      "USA\n",
      "USA\n",
      "FRA\n",
      "USA\n",
      "RUS\n",
      "USA\n",
      "JPN\n",
      "USA\n",
      "FRA\n",
      "USA\n",
      "USA\n",
      "USA\n",
      "USA\n",
      "USA\n",
      "CHN\n",
      "RUS\n",
      "KAZ\n",
      "FRA\n",
      "JPN\n",
      "FRA\n",
      "USA\n",
      "RUS\n",
      "USA\n",
      "USA\n",
      "CHN\n",
      "USA\n",
      "RUS\n",
      "USA\n",
      "CHN\n",
      "IND\n",
      "JPN\n",
      "FRA\n",
      "FRA\n",
      "USA\n",
      "RUS\n",
      "FRA\n",
      "USA\n",
      "FRA\n",
      "USA\n",
      "RUS\n",
      "USA\n",
      "USA\n",
      "FRA\n",
      "ISR\n",
      "RUS\n",
      "CHN\n",
      "USA\n",
      "FRA\n",
      "USA\n",
      "RUS\n",
      "FRA\n",
      "CHN\n",
      "RUS\n",
      "USA\n",
      "USA\n",
      "FRA\n",
      "FRA\n",
      "USA\n",
      "USA\n",
      "USA\n",
      "JPN\n",
      "FRA\n",
      "USA\n",
      "RUS\n",
      "KAZ\n",
      "KAZ\n",
      "USA\n",
      "USA\n",
      "FRA\n",
      "RUS\n",
      "IND\n",
      "USA\n",
      "USA\n",
      "USA\n",
      "USA\n",
      "FRA\n",
      "USA\n",
      "USA\n",
      "FRA\n",
      "JPN\n",
      "USA\n",
      "USA\n",
      "USA\n",
      "USA\n",
      "RUS\n",
      "FRA\n",
      "USA\n",
      "USA\n",
      "USA\n",
      "FRA\n",
      "RUS\n",
      "USA\n",
      "USA\n",
      "USA\n",
      "IND\n",
      "USA\n",
      "USA\n",
      "FRA\n",
      "USA\n",
      "USA\n",
      "RUS\n",
      "USA\n",
      "FRA\n",
      "USA\n",
      "FRA\n",
      "CHN\n",
      "RUS\n",
      "CHN\n",
      "FRA\n",
      "USA\n",
      "RUS\n",
      "USA\n",
      "FRA\n",
      "USA\n",
      "RUS\n",
      "FRA\n",
      "USA\n",
      "CHN\n",
      "FRA\n",
      "USA\n",
      "USA\n",
      "USA\n",
      "USA\n",
      "FRA\n",
      "KAZ\n",
      "KAZ\n",
      "USA\n",
      "FRA\n",
      "USA\n",
      "FRA\n",
      "USA\n",
      "USA\n",
      "FRA\n",
      "USA\n",
      "USA\n",
      "USA\n",
      "RUS\n",
      "USA\n",
      "USA\n",
      "RUS\n",
      "CHN\n",
      "USA\n",
      "USA\n",
      "USA\n",
      "RUS\n",
      "USA\n",
      "USA\n",
      "USA\n",
      "FRA\n",
      "USA\n",
      "FRA\n",
      "USA\n",
      "USA\n",
      "KAZ\n",
      "FRA\n",
      "USA\n",
      "JPN\n",
      "USA\n",
      "USA\n",
      "USA\n",
      "CHN\n",
      "FRA\n",
      "USA\n",
      "USA\n",
      "RUS\n",
      "KAZ\n",
      "FRA\n",
      "USA\n",
      "USA\n",
      "USA\n",
      "BRA\n",
      "FRA\n",
      "USA\n",
      "FRA\n",
      "USA\n",
      "CHN\n",
      "JPN\n",
      "FRA\n",
      "FRA\n",
      "CHN\n",
      "USA\n",
      "FRA\n",
      "USA\n",
      "USA\n",
      "FRA\n",
      "RUS\n",
      "USA\n",
      "FRA\n",
      "USA\n",
      "USA\n",
      "USA\n",
      "KAZ\n",
      "USA\n",
      "RUS\n",
      "USA\n",
      "USA\n",
      "CHN\n",
      "USA\n",
      "IND\n",
      "USA\n",
      "USA\n",
      "USA\n",
      "CHN\n",
      "USA\n",
      "USA\n",
      "RUS\n",
      "USA\n",
      "KAZ\n",
      "USA\n",
      "USA\n",
      "USA\n",
      "FRA\n",
      "USA\n",
      "USA\n",
      "FRA\n",
      "USA\n",
      "USA\n",
      "USA\n",
      "USA\n",
      "USA\n",
      "RUS\n",
      "FRA\n",
      "CHN\n",
      "USA\n",
      "RUS\n",
      "USA\n",
      "FRA\n",
      "USA\n",
      "USA\n",
      "USA\n",
      "USA\n",
      "FRA\n",
      "USA\n",
      "FRA\n",
      "USA\n",
      "USA\n",
      "FRA\n",
      "USA\n",
      "RUS\n",
      "USA\n",
      "FRA\n",
      "KAZ\n",
      "USA\n",
      "PRK\n",
      "USA\n",
      "FRA\n",
      "USA\n",
      "CHN\n",
      "RUS\n",
      "USA\n",
      "USA\n",
      "KAZ\n",
      "KAZ\n",
      "RUS\n",
      "JPN\n",
      "RUS\n",
      "USA\n",
      "CHN\n",
      "RUS\n",
      "USA\n",
      "USA\n",
      "CHN\n",
      "USA\n",
      "USA\n",
      "USA\n",
      "RUS\n",
      "CHN\n",
      "FRA\n",
      "USA\n",
      "USA\n",
      "USA\n",
      "USA\n",
      "CHN\n",
      "FRA\n",
      "USA\n",
      "USA\n",
      "FRA\n",
      "USA\n",
      "JPN\n",
      "USA\n",
      "USA\n",
      "USA\n",
      "FRA\n",
      "USA\n",
      "ISR\n",
      "USA\n",
      "USA\n",
      "USA\n",
      "KAZ\n",
      "RUS\n",
      "USA\n",
      "FRA\n",
      "USA\n",
      "FRA\n",
      "KAZ\n",
      "USA\n",
      "CHN\n",
      "FRA\n",
      "JPN\n",
      "USA\n",
      "USA\n",
      "USA\n",
      "USA\n",
      "BRA\n",
      "FRA\n",
      "USA\n",
      "USA\n",
      "USA\n",
      "CHN\n",
      "USA\n",
      "USA\n",
      "IND\n",
      "USA\n",
      "USA\n",
      "RUS\n",
      "FRA\n",
      "RUS\n",
      "USA\n",
      "FRA\n",
      "CHN\n",
      "USA\n",
      "USA\n",
      "USA\n",
      "USA\n",
      "CHN\n",
      "FRA\n",
      "USA\n",
      "USA\n",
      "USA\n",
      "USA\n",
      "USA\n",
      "USA\n",
      "FRA\n",
      "CHN\n",
      "FRA\n",
      "USA\n",
      "KAZ\n",
      "USA\n",
      "RUS\n",
      "CHN\n",
      "USA\n",
      "USA\n",
      "USA\n",
      "RUS\n",
      "FRA\n",
      "USA\n",
      "USA\n",
      "USA\n",
      "RUS\n",
      "FRA\n",
      "USA\n",
      "USA\n",
      "RUS\n",
      "JPN\n",
      "USA\n",
      "FRA\n",
      "USA\n",
      "USA\n",
      "USA\n",
      "RUS\n",
      "USA\n",
      "KAZ\n",
      "USA\n",
      "USA\n",
      "USA\n",
      "FRA\n",
      "USA\n",
      "USA\n",
      "RUS\n",
      "CHN\n",
      "USA\n",
      "USA\n",
      "FRA\n",
      "USA\n",
      "RUS\n",
      "KAZ\n",
      "RUS\n",
      "USA\n",
      "CHN\n",
      "JPN\n",
      "RUS\n",
      "FRA\n",
      "USA\n",
      "USA\n",
      "FRA\n",
      "CHN\n",
      "USA\n",
      "USA\n",
      "USA\n",
      "FRA\n",
      "FRA\n",
      "USA\n",
      "USA\n",
      "USA\n",
      "FRA\n",
      "USA\n",
      "USA\n",
      "USA\n",
      "RUS\n",
      "USA\n",
      "FRA\n",
      "USA\n",
      "USA\n",
      "USA\n",
      "IND\n",
      "FRA\n",
      "USA\n",
      "USA\n",
      "USA\n",
      "RUS\n",
      "USA\n",
      "CHN\n",
      "FRA\n",
      "USA\n",
      "RUS\n",
      "USA\n",
      "FRA\n",
      "USA\n",
      "USA\n",
      "CHN\n",
      "KAZ\n",
      "KAZ\n",
      "USA\n",
      "FRA\n",
      "USA\n",
      "USA\n",
      "CHN\n",
      "FRA\n",
      "USA\n",
      "USA\n",
      "USA\n",
      "KAZ\n",
      "USA\n",
      "USA\n",
      "USA\n",
      "FRA\n",
      "RUS\n",
      "FRA\n",
      "USA\n",
      "USA\n",
      "RUS\n",
      "FRA\n",
      "USA\n",
      "USA\n",
      "RUS\n",
      "FRA\n",
      "RUS\n",
      "USA\n",
      "USA\n",
      "USA\n",
      "FRA\n",
      "RUS\n",
      "USA\n",
      "USA\n",
      "FRA\n",
      "KAZ\n",
      "USA\n",
      "RUS\n",
      "USA\n",
      "FRA\n",
      "USA\n",
      "FRA\n",
      "USA\n",
      "ISR\n",
      "USA\n",
      "FRA\n",
      "RUS\n",
      "USA\n",
      "USA\n",
      "RUS\n",
      "JPN\n",
      "RUS\n",
      "USA\n",
      "USA\n",
      "USA\n",
      "CHN\n",
      "RUS\n",
      "JPN\n",
      "USA\n",
      "USA\n",
      "KAZ\n",
      "RUS\n",
      "USA\n",
      "RUS\n",
      "RUS\n",
      "FRA\n",
      "CHN\n",
      "USA\n",
      "RUS\n",
      "KAZ\n",
      "KAZ\n",
      "USA\n",
      "KAZ\n",
      "USA\n",
      "FRA\n",
      "IND\n",
      "RUS\n",
      "FRA\n",
      "USA\n",
      "USA\n",
      "RUS\n",
      "USA\n",
      "FRA\n",
      "USA\n",
      "USA\n",
      "JPN\n",
      "CHN\n",
      "USA\n",
      "KAZ\n",
      "RUS\n",
      "FRA\n",
      "RUS\n",
      "USA\n",
      "RUS\n",
      "CHN\n",
      "RUS\n",
      "FRA\n",
      "USA\n",
      "CHN\n",
      "USA\n",
      "USA\n",
      "FRA\n",
      "RUS\n",
      "USA\n",
      "IND\n",
      "USA\n",
      "RUS\n",
      "KAZ\n",
      "USA\n",
      "USA\n",
      "USA\n",
      "USA\n",
      "USA\n",
      "USA\n",
      "RUS\n",
      "RUS\n",
      "CHN\n",
      "USA\n",
      "JPN\n",
      "USA\n",
      "USA\n",
      "RUS\n",
      "FRA\n",
      "RUS\n",
      "FRA\n",
      "USA\n",
      "USA\n",
      "USA\n",
      "USA\n",
      "FRA\n",
      "RUS\n",
      "USA\n",
      "RUS\n",
      "FRA\n",
      "USA\n",
      "CHN\n",
      "USA\n",
      "FRA\n",
      "IND\n",
      "KAZ\n",
      "KAZ\n",
      "USA\n",
      "USA\n",
      "RUS\n",
      "USA\n",
      "RUS\n",
      "USA\n",
      "RUS\n",
      "USA\n",
      "FRA\n",
      "USA\n",
      "KAZ\n",
      "USA\n",
      "FRA\n",
      "RUS\n",
      "USA\n",
      "RUS\n",
      "RUS\n",
      "USA\n",
      "FRA\n",
      "RUS\n",
      "KAZ\n",
      "USA\n",
      "USA\n",
      "RUS\n",
      "RUS\n",
      "RUS\n",
      "USA\n",
      "RUS\n",
      "RUS\n",
      "KAZ\n",
      "USA\n",
      "KAZ\n",
      "USA\n",
      "RUS\n",
      "RUS\n",
      "JPN\n",
      "USA\n",
      "RUS\n",
      "USA\n",
      "RUS\n",
      "USA\n",
      "RUS\n",
      "RUS\n",
      "RUS\n",
      "KAZ\n",
      "RUS\n",
      "CHN\n",
      "USA\n",
      "USA\n",
      "RUS\n",
      "FRA\n",
      "USA\n",
      "RUS\n",
      "RUS\n",
      "USA\n",
      "RUS\n",
      "KAZ\n",
      "RUS\n",
      "FRA\n",
      "USA\n",
      "RUS\n",
      "RUS\n",
      "USA\n",
      "CHN\n",
      "USA\n",
      "USA\n",
      "FRA\n",
      "USA\n",
      "USA\n",
      "CHN\n",
      "RUS\n",
      "FRA\n",
      "CHN\n",
      "RUS\n",
      "USA\n",
      "USA\n",
      "USA\n",
      "RUS\n",
      "FRA\n",
      "RUS\n",
      "USA\n",
      "USA\n",
      "RUS\n",
      "USA\n",
      "USA\n",
      "USA\n",
      "RUS\n",
      "USA\n",
      "USA\n",
      "USA\n",
      "FRA\n",
      "RUS\n",
      "USA\n",
      "USA\n",
      "USA\n",
      "USA\n",
      "RUS\n",
      "RUS\n",
      "FRA\n",
      "RUS\n",
      "JPN\n",
      "USA\n",
      "KAZ\n",
      "RUS\n",
      "USA\n",
      "CHN\n",
      "KAZ\n",
      "RUS\n",
      "FRA\n",
      "USA\n",
      "USA\n",
      "RUS\n",
      "USA\n",
      "RUS\n",
      "USA\n",
      "FRA\n",
      "RUS\n",
      "RUS\n",
      "FRA\n",
      "RUS\n",
      "USA\n",
      "KAZ\n",
      "JPN\n",
      "KAZ\n",
      "JPN\n",
      "JPN\n",
      "RUS\n",
      "RUS\n",
      "FRA\n",
      "USA\n",
      "RUS\n",
      "USA\n",
      "FRA\n",
      "USA\n",
      "RUS\n",
      "RUS\n",
      "RUS\n",
      "RUS\n",
      "USA\n",
      "RUS\n",
      "USA\n",
      "RUS\n",
      "USA\n",
      "USA\n",
      "RUS\n",
      "USA\n",
      "RUS\n",
      "USA\n",
      "USA\n",
      "FRA\n",
      "RUS\n",
      "RUS\n",
      "RUS\n",
      "USA\n",
      "USA\n",
      "FRA\n",
      "RUS\n",
      "RUS\n",
      "RUS\n",
      "RUS\n",
      "RUS\n",
      "KAZ\n",
      "FRA\n",
      "USA\n",
      "RUS\n",
      "RUS\n",
      "KAZ\n",
      "USA\n",
      "USA\n",
      "RUS\n",
      "USA\n",
      "RUS\n",
      "KAZ\n",
      "FRA\n",
      "RUS\n",
      "USA\n",
      "KAZ\n",
      "USA\n",
      "USA\n",
      "USA\n",
      "FRA\n",
      "USA\n",
      "CHN\n",
      "KAZ\n",
      "USA\n",
      "RUS\n",
      "RUS\n",
      "RUS\n",
      "CHN\n",
      "FRA\n",
      "RUS\n",
      "JPN\n",
      "JPN\n",
      "RUS\n",
      "KAZ\n",
      "RUS\n",
      "RUS\n",
      "RUS\n",
      "USA\n",
      "RUS\n",
      "FRA\n",
      "CHN\n",
      "RUS\n",
      "USA\n",
      "RUS\n",
      "RUS\n",
      "USA\n",
      "USA\n",
      "USA\n",
      "KAZ\n",
      "RUS\n",
      "RUS\n",
      "RUS\n",
      "USA\n",
      "RUS\n",
      "USA\n",
      "USA\n",
      "CHN\n",
      "RUS\n",
      "USA\n",
      "ISR\n",
      "RUS\n",
      "USA\n",
      "RUS\n",
      "KAZ\n",
      "USA\n",
      "USA\n",
      "RUS\n",
      "RUS\n",
      "FRA\n",
      "USA\n",
      "JPN\n",
      "JPN\n",
      "RUS\n",
      "CHN\n",
      "USA\n",
      "RUS\n",
      "USA\n",
      "JPN\n",
      "RUS\n",
      "FRA\n",
      "RUS\n",
      "USA\n",
      "USA\n",
      "RUS\n",
      "USA\n",
      "RUS\n",
      "KAZ\n",
      "RUS\n",
      "USA\n",
      "FRA\n",
      "RUS\n",
      "USA\n",
      "RUS\n",
      "KAZ\n",
      "RUS\n",
      "USA\n",
      "RUS\n",
      "USA\n",
      "JPN\n",
      "USA\n",
      "RUS\n",
      "USA\n",
      "USA\n",
      "FRA\n",
      "USA\n",
      "RUS\n",
      "KAZ\n",
      "FRA\n",
      "RUS\n",
      "USA\n",
      "RUS\n",
      "USA\n",
      "RUS\n",
      "RUS\n",
      "RUS\n",
      "FRA\n",
      "IND\n",
      "USA\n",
      "USA\n",
      "RUS\n",
      "FRA\n",
      "USA\n",
      "RUS\n",
      "USA\n",
      "FRA\n",
      "RUS\n",
      "RUS\n",
      "RUS\n",
      "JPN\n",
      "KAZ\n",
      "RUS\n",
      "USA\n",
      "RUS\n",
      "RUS\n",
      "FRA\n",
      "RUS\n",
      "RUS\n",
      "RUS\n",
      "CHN\n",
      "FRA\n",
      "USA\n",
      "KAZ\n",
      "KAZ\n",
      "KAZ\n",
      "USA\n",
      "FRA\n",
      "RUS\n",
      "RUS\n",
      "RUS\n",
      "USA\n",
      "RUS\n",
      "USA\n",
      "ISR\n",
      "JPN\n",
      "FRA\n",
      "CHN\n",
      "USA\n",
      "USA\n",
      "RUS\n",
      "CHN\n",
      "IND\n",
      "RUS\n",
      "RUS\n",
      "FRA\n",
      "RUS\n",
      "RUS\n",
      "RUS\n",
      "RUS\n",
      "RUS\n",
      "FRA\n",
      "RUS\n",
      "RUS\n",
      "RUS\n",
      "KAZ\n",
      "RUS\n",
      "FRA\n",
      "KAZ\n",
      "KAZ\n",
      "RUS\n",
      "KEN\n",
      "RUS\n",
      "RUS\n",
      "KAZ\n",
      "RUS\n",
      "KAZ\n",
      "FRA\n",
      "KAZ\n",
      "RUS\n",
      "CHN\n",
      "RUS\n",
      "JPN\n",
      "USA\n",
      "RUS\n",
      "RUS\n",
      "RUS\n",
      "RUS\n",
      "RUS\n",
      "RUS\n",
      "KAZ\n",
      "RUS\n",
      "USA\n",
      "FRA\n",
      "USA\n",
      "RUS\n",
      "RUS\n",
      "KAZ\n",
      "FRA\n",
      "CHN\n",
      "RUS\n",
      "KAZ\n",
      "RUS\n",
      "JPN\n",
      "RUS\n",
      "CHN\n",
      "KAZ\n",
      "RUS\n",
      "RUS\n",
      "KAZ\n",
      "RUS\n",
      "RUS\n",
      "RUS\n",
      "USA\n",
      "KAZ\n",
      "RUS\n",
      "RUS\n",
      "RUS\n",
      "RUS\n",
      "KAZ\n",
      "USA\n",
      "KAZ\n",
      "RUS\n",
      "KAZ\n",
      "USA\n",
      "IND\n",
      "KAZ\n",
      "RUS\n",
      "RUS\n",
      "RUS\n",
      "JPN\n",
      "RUS\n",
      "KAZ\n",
      "USA\n",
      "JPN\n",
      "KAZ\n",
      "RUS\n",
      "RUS\n",
      "RUS\n",
      "RUS\n",
      "RUS\n",
      "RUS\n",
      "RUS\n",
      "RUS\n",
      "RUS\n",
      "RUS\n",
      "RUS\n",
      "RUS\n",
      "USA\n",
      "RUS\n",
      "RUS\n",
      "RUS\n",
      "RUS\n",
      "RUS\n",
      "RUS\n",
      "RUS\n",
      "KAZ\n",
      "RUS\n",
      "RUS\n",
      "RUS\n",
      "CHN\n",
      "RUS\n",
      "RUS\n",
      "USA\n",
      "RUS\n",
      "RUS\n",
      "RUS\n",
      "RUS\n",
      "KAZ\n",
      "JPN\n",
      "KAZ\n",
      "RUS\n",
      "KAZ\n",
      "RUS\n",
      "RUS\n",
      "RUS\n",
      "RUS\n",
      "RUS\n",
      "RUS\n",
      "RUS\n",
      "FRA\n",
      "RUS\n",
      "RUS\n",
      "RUS\n",
      "RUS\n",
      "USA\n",
      "RUS\n",
      "FRA\n",
      "KAZ\n",
      "KAZ\n",
      "KAZ\n",
      "FRA\n",
      "RUS\n",
      "JPN\n",
      "RUS\n",
      "USA\n",
      "RUS\n",
      "CHN\n",
      "USA\n",
      "RUS\n",
      "RUS\n",
      "RUS\n",
      "USA\n",
      "RUS\n",
      "KAZ\n",
      "RUS\n",
      "RUS\n",
      "RUS\n",
      "RUS\n",
      "RUS\n",
      "USA\n",
      "RUS\n",
      "RUS\n",
      "USA\n",
      "RUS\n",
      "RUS\n",
      "RUS\n",
      "KAZ\n",
      "RUS\n",
      "KAZ\n",
      "CHN\n",
      "RUS\n",
      "USA\n",
      "USA\n",
      "RUS\n",
      "KAZ\n",
      "RUS\n",
      "RUS\n",
      "USA\n",
      "RUS\n",
      "KAZ\n",
      "FRA\n",
      "RUS\n",
      "USA\n",
      "USA\n",
      "KAZ\n",
      "RUS\n",
      "JPN\n",
      "RUS\n",
      "KAZ\n",
      "USA\n",
      "RUS\n",
      "RUS\n",
      "FRA\n",
      "USA\n",
      "KAZ\n",
      "RUS\n",
      "RUS\n",
      "USA\n",
      "RUS\n",
      "RUS\n",
      "RUS\n",
      "RUS\n",
      "RUS\n",
      "FRA\n",
      "USA\n",
      "KAZ\n",
      "KAZ\n",
      "RUS\n",
      "KAZ\n",
      "USA\n",
      "USA\n",
      "RUS\n",
      "RUS\n",
      "USA\n",
      "RUS\n",
      "RUS\n",
      "FRA\n",
      "USA\n",
      "JPN\n",
      "RUS\n",
      "RUS\n",
      "USA\n",
      "RUS\n",
      "KAZ\n",
      "RUS\n",
      "RUS\n",
      "RUS\n",
      "USA\n",
      "RUS\n",
      "RUS\n",
      "RUS\n",
      "USA\n",
      "USA\n",
      "RUS\n",
      "RUS\n",
      "FRA\n",
      "USA\n",
      "KAZ\n",
      "RUS\n",
      "RUS\n",
      "USA\n",
      "RUS\n",
      "RUS\n",
      "RUS\n",
      "RUS\n",
      "CHN\n",
      "USA\n",
      "RUS\n",
      "USA\n",
      "KAZ\n",
      "USA\n",
      "RUS\n",
      "RUS\n",
      "RUS\n",
      "KAZ\n",
      "FRA\n",
      "JPN\n",
      "RUS\n",
      "RUS\n",
      "RUS\n",
      "RUS\n",
      "RUS\n",
      "USA\n",
      "RUS\n",
      "USA\n",
      "USA\n",
      "RUS\n",
      "RUS\n",
      "RUS\n",
      "KAZ\n",
      "RUS\n",
      "FRA\n",
      "RUS\n",
      "RUS\n",
      "RUS\n",
      "USA\n",
      "USA\n",
      "CHN\n",
      "USA\n",
      "RUS\n",
      "RUS\n",
      "RUS\n",
      "RUS\n",
      "FRA\n",
      "RUS\n",
      "JPN\n",
      "RUS\n",
      "USA\n",
      "USA\n",
      "RUS\n",
      "USA\n",
      "CHN\n",
      "RUS\n",
      "JPN\n",
      "RUS\n",
      "RUS\n",
      "RUS\n",
      "RUS\n",
      "RUS\n",
      "RUS\n",
      "RUS\n",
      "USA\n",
      "RUS\n",
      "RUS\n",
      "USA\n",
      "RUS\n",
      "KAZ\n",
      "RUS\n",
      "RUS\n",
      "FRA\n",
      "RUS\n",
      "RUS\n",
      "RUS\n",
      "RUS\n",
      "USA\n",
      "RUS\n",
      "RUS\n",
      "CHN\n",
      "JPN\n",
      "RUS\n",
      "USA\n",
      "KAZ\n",
      "KAZ\n",
      "USA\n",
      "RUS\n",
      "RUS\n",
      "KAZ\n",
      "RUS\n",
      "USA\n",
      "USA\n",
      "FRA\n",
      "USA\n",
      "RUS\n",
      "RUS\n",
      "USA\n",
      "RUS\n",
      "KAZ\n",
      "RUS\n",
      "RUS\n",
      "RUS\n",
      "RUS\n",
      "RUS\n",
      "USA\n",
      "IND\n",
      "RUS\n",
      "RUS\n",
      "USA\n",
      "KAZ\n",
      "RUS\n",
      "USA\n",
      "RUS\n",
      "RUS\n",
      "RUS\n",
      "RUS\n",
      "JPN\n",
      "RUS\n",
      "USA\n",
      "JPN\n",
      "RUS\n",
      "RUS\n",
      "RUS\n",
      "RUS\n",
      "RUS\n",
      "USA\n",
      "RUS\n",
      "KAZ\n",
      "RUS\n",
      "USA\n",
      "USA\n",
      "RUS\n",
      "USA\n",
      "RUS\n",
      "RUS\n",
      "USA\n",
      "RUS\n",
      "RUS\n",
      "RUS\n",
      "CHN\n",
      "FRA\n",
      "KAZ\n",
      "JPN\n",
      "RUS\n",
      "KAZ\n",
      "RUS\n",
      "RUS\n",
      "KAZ\n",
      "RUS\n",
      "KAZ\n",
      "RUS\n",
      "RUS\n",
      "RUS\n",
      "USA\n",
      "RUS\n",
      "RUS\n",
      "KAZ\n",
      "RUS\n",
      "RUS\n",
      "RUS\n",
      "KAZ\n",
      "RUS\n",
      "RUS\n",
      "RUS\n",
      "KAZ\n",
      "USA\n",
      "RUS\n",
      "RUS\n",
      "KAZ\n",
      "RUS\n",
      "RUS\n",
      "RUS\n",
      "RUS\n",
      "RUS\n",
      "RUS\n",
      "RUS\n",
      "RUS\n",
      "RUS\n",
      "USA\n",
      "USA\n",
      "USA\n",
      "RUS\n",
      "RUS\n",
      "RUS\n",
      "RUS\n",
      "RUS\n",
      "KAZ\n",
      "RUS\n",
      "USA\n",
      "RUS\n",
      "RUS\n",
      "KAZ\n",
      "FRA\n",
      "USA\n",
      "RUS\n",
      "USA\n",
      "RUS\n",
      "RUS\n",
      "RUS\n",
      "RUS\n",
      "RUS\n",
      "USA\n",
      "RUS\n",
      "USA\n",
      "RUS\n",
      "RUS\n",
      "RUS\n",
      "RUS\n",
      "RUS\n",
      "RUS\n",
      "CHN\n",
      "RUS\n",
      "KAZ\n",
      "RUS\n",
      "USA\n",
      "RUS\n",
      "RUS\n",
      "KAZ\n",
      "RUS\n",
      "JPN\n",
      "RUS\n",
      "RUS\n",
      "USA\n",
      "KAZ\n",
      "RUS\n",
      "KAZ\n",
      "RUS\n",
      "USA\n",
      "RUS\n",
      "FRA\n",
      "RUS\n",
      "RUS\n",
      "IND\n",
      "USA\n",
      "RUS\n",
      "RUS\n",
      "RUS\n",
      "USA\n",
      "USA\n",
      "RUS\n",
      "RUS\n",
      "RUS\n",
      "KAZ\n",
      "KAZ\n",
      "USA\n",
      "KAZ\n",
      "RUS\n",
      "KAZ\n",
      "USA\n",
      "USA\n",
      "JPN\n",
      "RUS\n",
      "RUS\n",
      "JPN\n",
      "RUS\n",
      "KAZ\n",
      "RUS\n",
      "RUS\n",
      "RUS\n",
      "RUS\n",
      "RUS\n",
      "RUS\n",
      "KAZ\n",
      "RUS\n",
      "USA\n",
      "RUS\n",
      "USA\n",
      "USA\n",
      "RUS\n",
      "RUS\n",
      "RUS\n",
      "RUS\n",
      "RUS\n",
      "KAZ\n",
      "USA\n",
      "RUS\n",
      "RUS\n",
      "RUS\n",
      "RUS\n",
      "RUS\n",
      "RUS\n",
      "IND\n",
      "RUS\n",
      "RUS\n",
      "RUS\n",
      "RUS\n",
      "USA\n",
      "KAZ\n",
      "RUS\n",
      "RUS\n",
      "RUS\n",
      "USA\n",
      "FRA\n",
      "RUS\n",
      "RUS\n",
      "KAZ\n",
      "USA\n",
      "RUS\n",
      "KAZ\n",
      "RUS\n",
      "RUS\n",
      "RUS\n",
      "RUS\n",
      "KAZ\n",
      "USA\n",
      "JPN\n",
      "JPN\n",
      "RUS\n",
      "RUS\n",
      "USA\n",
      "USA\n",
      "RUS\n",
      "RUS\n",
      "RUS\n",
      "USA\n",
      "RUS\n",
      "RUS\n",
      "FRA\n",
      "RUS\n",
      "RUS\n",
      "USA\n",
      "RUS\n",
      "RUS\n",
      "RUS\n",
      "RUS\n",
      "RUS\n",
      "RUS\n",
      "USA\n",
      "RUS\n",
      "USA\n",
      "RUS\n",
      "RUS\n",
      "IND\n",
      "RUS\n",
      "CHN\n",
      "RUS\n",
      "RUS\n",
      "RUS\n",
      "RUS\n",
      "RUS\n",
      "USA\n",
      "USA\n",
      "RUS\n",
      "RUS\n",
      "RUS\n",
      "USA\n",
      "USA\n",
      "KAZ\n",
      "KAZ\n",
      "RUS\n",
      "RUS\n",
      "RUS\n",
      "RUS\n",
      "RUS\n",
      "USA\n",
      "RUS\n",
      "RUS\n",
      "RUS\n",
      "USA\n",
      "RUS\n",
      "RUS\n",
      "RUS\n",
      "JPN\n",
      "KAZ\n",
      "RUS\n",
      "RUS\n",
      "RUS\n",
      "RUS\n",
      "RUS\n",
      "RUS\n",
      "RUS\n",
      "RUS\n",
      "RUS\n",
      "RUS\n",
      "RUS\n",
      "USA\n",
      "USA\n",
      "KAZ\n",
      "RUS\n",
      "RUS\n",
      "RUS\n",
      "RUS\n",
      "RUS\n",
      "RUS\n",
      "USA\n",
      "RUS\n",
      "KAZ\n",
      "RUS\n",
      "RUS\n",
      "RUS\n",
      "USA\n",
      "RUS\n",
      "RUS\n",
      "USA\n",
      "RUS\n",
      "RUS\n",
      "RUS\n",
      "RUS\n",
      "JPN\n",
      "RUS\n",
      "RUS\n",
      "RUS\n",
      "RUS\n",
      "USA\n",
      "RUS\n",
      "USA\n",
      "RUS\n",
      "RUS\n",
      "USA\n",
      "RUS\n",
      "RUS\n",
      "USA\n",
      "RUS\n",
      "USA\n",
      "RUS\n",
      "USA\n",
      "KAZ\n",
      "RUS\n",
      "RUS\n",
      "RUS\n",
      "RUS\n",
      "USA\n",
      "KAZ\n",
      "RUS\n",
      "RUS\n",
      "USA\n",
      "RUS\n",
      "RUS\n",
      "RUS\n",
      "RUS\n",
      "CHN\n",
      "USA\n",
      "KAZ\n",
      "USA\n",
      "RUS\n",
      "KAZ\n",
      "RUS\n",
      "USA\n",
      "RUS\n",
      "USA\n",
      "RUS\n",
      "RUS\n",
      "KAZ\n",
      "RUS\n",
      "RUS\n",
      "USA\n",
      "USA\n",
      "RUS\n",
      "JPN\n",
      "KAZ\n",
      "USA\n",
      "RUS\n",
      "JPN\n",
      "RUS\n",
      "CHN\n",
      "KAZ\n",
      "RUS\n",
      "RUS\n",
      "RUS\n",
      "RUS\n",
      "RUS\n",
      "USA\n",
      "RUS\n",
      "KAZ\n",
      "RUS\n",
      "RUS\n",
      "KAZ\n",
      "RUS\n",
      "RUS\n",
      "RUS\n",
      "RUS\n",
      "KAZ\n",
      "USA\n",
      "KAZ\n",
      "USA\n",
      "RUS\n",
      "RUS\n",
      "RUS\n",
      "RUS\n",
      "RUS\n",
      "RUS\n",
      "KAZ\n",
      "RUS\n",
      "RUS\n",
      "RUS\n",
      "KAZ\n",
      "KAZ\n",
      "USA\n",
      "RUS\n",
      "RUS\n",
      "USA\n",
      "KAZ\n",
      "RUS\n",
      "KAZ\n",
      "RUS\n",
      "KAZ\n",
      "CHN\n",
      "RUS\n",
      "RUS\n",
      "RUS\n",
      "USA\n",
      "RUS\n",
      "RUS\n",
      "RUS\n",
      "RUS\n",
      "RUS\n",
      "KAZ\n",
      "USA\n",
      "USA\n",
      "KAZ\n",
      "RUS\n",
      "RUS\n",
      "RUS\n",
      "RUS\n",
      "KAZ\n",
      "RUS\n",
      "RUS\n",
      "RUS\n",
      "RUS\n",
      "RUS\n",
      "RUS\n",
      "RUS\n",
      "RUS\n",
      "RUS\n",
      "KAZ\n",
      "USA\n",
      "RUS\n",
      "KAZ\n",
      "USA\n",
      "KAZ\n",
      "RUS\n",
      "KAZ\n",
      "RUS\n",
      "RUS\n",
      "RUS\n",
      "RUS\n",
      "KAZ\n",
      "RUS\n",
      "USA\n",
      "RUS\n",
      "RUS\n",
      "USA\n",
      "KAZ\n",
      "RUS\n",
      "KAZ\n",
      "USA\n",
      "RUS\n",
      "RUS\n",
      "RUS\n",
      "RUS\n",
      "KAZ\n",
      "RUS\n",
      "RUS\n",
      "RUS\n",
      "RUS\n",
      "RUS\n",
      "RUS\n",
      "RUS\n",
      "RUS\n",
      "USA\n",
      "RUS\n",
      "RUS\n",
      "RUS\n",
      "JPN\n",
      "KAZ\n",
      "RUS\n",
      "JPN\n",
      "RUS\n",
      "RUS\n",
      "RUS\n",
      "KAZ\n",
      "USA\n",
      "RUS\n",
      "RUS\n",
      "KAZ\n",
      "RUS\n",
      "KAZ\n",
      "RUS\n",
      "RUS\n",
      "KAZ\n",
      "USA\n",
      "RUS\n",
      "KAZ\n",
      "RUS\n",
      "RUS\n",
      "RUS\n",
      "RUS\n",
      "CHN\n",
      "RUS\n",
      "RUS\n",
      "KAZ\n",
      "KAZ\n",
      "KAZ\n",
      "RUS\n",
      "KAZ\n",
      "CHN\n",
      "RUS\n",
      "RUS\n",
      "RUS\n",
      "RUS\n",
      "KAZ\n",
      "KAZ\n",
      "RUS\n",
      "KAZ\n",
      "KAZ\n",
      "RUS\n",
      "RUS\n",
      "RUS\n",
      "KAZ\n",
      "RUS\n",
      "USA\n",
      "KAZ\n",
      "RUS\n",
      "RUS\n",
      "CHN\n",
      "KAZ\n",
      "RUS\n",
      "RUS\n",
      "RUS\n",
      "RUS\n",
      "USA\n",
      "RUS\n",
      "RUS\n",
      "RUS\n",
      "RUS\n",
      "KAZ\n",
      "USA\n",
      "RUS\n",
      "KAZ\n",
      "RUS\n",
      "RUS\n",
      "RUS\n",
      "RUS\n",
      "USA\n",
      "KAZ\n",
      "KAZ\n",
      "RUS\n",
      "RUS\n",
      "KAZ\n",
      "USA\n",
      "RUS\n",
      "RUS\n",
      "RUS\n",
      "RUS\n",
      "KAZ\n",
      "RUS\n",
      "USA\n",
      "RUS\n",
      "RUS\n",
      "KAZ\n",
      "RUS\n",
      "RUS\n",
      "USA\n",
      "RUS\n",
      "RUS\n",
      "KAZ\n",
      "USA\n",
      "RUS\n",
      "RUS\n",
      "RUS\n",
      "RUS\n",
      "RUS\n",
      "RUS\n",
      "RUS\n",
      "USA\n",
      "KAZ\n",
      "KAZ\n",
      "RUS\n",
      "USA\n",
      "KAZ\n",
      "RUS\n",
      "RUS\n",
      "KAZ\n",
      "JPN\n",
      "RUS\n",
      "KAZ\n",
      "RUS\n",
      "KAZ\n",
      "RUS\n",
      "JPN\n",
      "RUS\n",
      "USA\n",
      "KAZ\n",
      "RUS\n",
      "RUS\n",
      "KAZ\n",
      "RUS\n",
      "USA\n",
      "RUS\n",
      "RUS\n",
      "RUS\n",
      "RUS\n",
      "KAZ\n",
      "RUS\n",
      "RUS\n",
      "KAZ\n",
      "CHN\n",
      "USA\n",
      "KAZ\n",
      "RUS\n",
      "USA\n",
      "RUS\n",
      "RUS\n",
      "RUS\n",
      "RUS\n",
      "KAZ\n",
      "KAZ\n",
      "CHN\n",
      "RUS\n",
      "RUS\n",
      "RUS\n",
      "KAZ\n",
      "RUS\n",
      "USA\n",
      "KAZ\n",
      "RUS\n",
      "KAZ\n",
      "FRA\n",
      "USA\n",
      "RUS\n",
      "RUS\n",
      "RUS\n",
      "RUS\n",
      "RUS\n",
      "KAZ\n",
      "RUS\n",
      "USA\n",
      "JPN\n",
      "RUS\n",
      "RUS\n",
      "RUS\n",
      "RUS\n",
      "RUS\n",
      "USA\n",
      "RUS\n",
      "KAZ\n",
      "RUS\n",
      "CHN\n",
      "RUS\n",
      "RUS\n",
      "RUS\n",
      "USA\n",
      "KAZ\n",
      "RUS\n",
      "RUS\n",
      "RUS\n",
      "RUS\n",
      "RUS\n",
      "RUS\n",
      "RUS\n",
      "RUS\n",
      "USA\n",
      "RUS\n",
      "USA\n",
      "RUS\n",
      "RUS\n",
      "RUS\n",
      "RUS\n",
      "KAZ\n",
      "RUS\n",
      "RUS\n",
      "KAZ\n",
      "USA\n",
      "KAZ\n",
      "USA\n",
      "FRA\n",
      "KEN\n",
      "RUS\n",
      "RUS\n",
      "RUS\n",
      "RUS\n",
      "USA\n",
      "RUS\n",
      "KAZ\n",
      "RUS\n",
      "USA\n",
      "RUS\n",
      "RUS\n",
      "KAZ\n",
      "KAZ\n",
      "KAZ\n",
      "RUS\n",
      "RUS\n",
      "KAZ\n",
      "RUS\n",
      "RUS\n",
      "KAZ\n",
      "USA\n",
      "RUS\n",
      "KAZ\n",
      "JPN\n",
      "USA\n",
      "RUS\n",
      "RUS\n",
      "FRA\n",
      "RUS\n",
      "RUS\n",
      "RUS\n",
      "RUS\n",
      "RUS\n",
      "RUS\n",
      "KAZ\n",
      "KAZ\n",
      "KAZ\n",
      "RUS\n",
      "KAZ\n",
      "RUS\n",
      "RUS\n",
      "RUS\n",
      "RUS\n",
      "USA\n",
      "KAZ\n",
      "RUS\n",
      "USA\n",
      "RUS\n",
      "RUS\n",
      "RUS\n",
      "CHN\n",
      "RUS\n",
      "RUS\n",
      "RUS\n",
      "USA\n",
      "RUS\n",
      "KAZ\n",
      "RUS\n",
      "RUS\n",
      "RUS\n",
      "RUS\n",
      "KEN\n",
      "RUS\n",
      "RUS\n",
      "KAZ\n",
      "RUS\n",
      "RUS\n",
      "RUS\n",
      "RUS\n",
      "KAZ\n",
      "KAZ\n",
      "RUS\n",
      "USA\n",
      "KAZ\n",
      "RUS\n",
      "KAZ\n",
      "RUS\n",
      "RUS\n",
      "KAZ\n",
      "RUS\n",
      "USA\n",
      "CHN\n",
      "RUS\n",
      "RUS\n",
      "RUS\n",
      "RUS\n",
      "KAZ\n",
      "RUS\n",
      "RUS\n",
      "RUS\n",
      "RUS\n",
      "RUS\n",
      "RUS\n",
      "RUS\n",
      "USA\n",
      "KAZ\n",
      "USA\n",
      "RUS\n",
      "KAZ\n",
      "KAZ\n",
      "RUS\n",
      "RUS\n",
      "RUS\n",
      "KAZ\n",
      "RUS\n",
      "KAZ\n",
      "KAZ\n",
      "RUS\n",
      "RUS\n",
      "RUS\n",
      "RUS\n",
      "RUS\n",
      "KAZ\n",
      "RUS\n",
      "USA\n",
      "RUS\n",
      "KAZ\n",
      "KAZ\n",
      "RUS\n",
      "KAZ\n",
      "RUS\n",
      "RUS\n",
      "RUS\n",
      "RUS\n",
      "KEN\n",
      "USA\n",
      "KAZ\n",
      "USA\n",
      "RUS\n",
      "JPN\n",
      "RUS\n",
      "KAZ\n",
      "RUS\n",
      "RUS\n",
      "RUS\n",
      "KAZ\n",
      "RUS\n",
      "RUS\n",
      "RUS\n",
      "RUS\n",
      "KAZ\n",
      "RUS\n",
      "USA\n",
      "RUS\n",
      "RUS\n",
      "RUS\n",
      "RUS\n",
      "RUS\n",
      "RUS\n",
      "KAZ\n",
      "RUS\n",
      "USA\n",
      "KAZ\n",
      "USA\n",
      "RUS\n",
      "USA\n",
      "RUS\n",
      "RUS\n",
      "RUS\n",
      "RUS\n",
      "RUS\n",
      "RUS\n",
      "RUS\n",
      "RUS\n",
      "RUS\n",
      "KAZ\n",
      "RUS\n",
      "RUS\n",
      "RUS\n",
      "RUS\n",
      "USA\n",
      "KAZ\n",
      "RUS\n",
      "CHN\n",
      "RUS\n",
      "RUS\n",
      "RUS\n",
      "KAZ\n",
      "RUS\n",
      "RUS\n",
      "KAZ\n",
      "USA\n",
      "RUS\n",
      "USA\n",
      "RUS\n",
      "RUS\n",
      "USA\n",
      "RUS\n",
      "USA\n",
      "RUS\n",
      "RUS\n",
      "RUS\n",
      "RUS\n",
      "USA\n",
      "RUS\n",
      "RUS\n",
      "KAZ\n",
      "USA\n",
      "KAZ\n",
      "RUS\n",
      "RUS\n",
      "RUS\n",
      "RUS\n",
      "RUS\n",
      "USA\n",
      "RUS\n",
      "RUS\n",
      "RUS\n",
      "FRA\n",
      "RUS\n",
      "RUS\n",
      "USA\n",
      "USA\n",
      "RUS\n",
      "RUS\n",
      "KAZ\n",
      "RUS\n",
      "RUS\n",
      "RUS\n",
      "USA\n",
      "RUS\n",
      "KAZ\n",
      "RUS\n",
      "RUS\n",
      "USA\n",
      "USA\n",
      "KAZ\n",
      "RUS\n",
      "RUS\n",
      "KAZ\n",
      "RUS\n",
      "KAZ\n",
      "KAZ\n",
      "RUS\n",
      "RUS\n",
      "RUS\n",
      "KAZ\n",
      "RUS\n",
      "RUS\n",
      "RUS\n",
      "USA\n",
      "RUS\n",
      "USA\n",
      "USA\n",
      "RUS\n",
      "RUS\n",
      "KAZ\n",
      "RUS\n",
      "KAZ\n",
      "KAZ\n",
      "KEN\n",
      "RUS\n",
      "RUS\n",
      "RUS\n",
      "RUS\n",
      "RUS\n",
      "RUS\n",
      "RUS\n",
      "RUS\n",
      "RUS\n",
      "USA\n",
      "RUS\n",
      "RUS\n",
      "USA\n",
      "RUS\n",
      "RUS\n",
      "RUS\n",
      "KAZ\n",
      "RUS\n",
      "RUS\n",
      "USA\n",
      "KAZ\n",
      "RUS\n",
      "KAZ\n",
      "USA\n",
      "JPN\n",
      "RUS\n",
      "RUS\n",
      "CHN\n",
      "KAZ\n",
      "KAZ\n",
      "RUS\n",
      "RUS\n",
      "RUS\n",
      "RUS\n",
      "RUS\n",
      "USA\n",
      "KAZ\n",
      "RUS\n",
      "KAZ\n",
      "RUS\n",
      "RUS\n",
      "KAZ\n",
      "RUS\n",
      "RUS\n",
      "KAZ\n",
      "USA\n",
      "KAZ\n",
      "KAZ\n",
      "USA\n",
      "RUS\n",
      "RUS\n",
      "RUS\n",
      "RUS\n",
      "RUS\n",
      "RUS\n",
      "USA\n",
      "RUS\n",
      "KAZ\n",
      "RUS\n",
      "KAZ\n",
      "RUS\n",
      "RUS\n",
      "RUS\n",
      "KAZ\n",
      "RUS\n",
      "KAZ\n",
      "RUS\n",
      "RUS\n",
      "RUS\n",
      "USA\n",
      "RUS\n",
      "RUS\n",
      "USA\n",
      "RUS\n",
      "USA\n",
      "RUS\n",
      "USA\n",
      "KAZ\n",
      "KAZ\n",
      "RUS\n",
      "KAZ\n",
      "RUS\n",
      "USA\n",
      "USA\n",
      "KAZ\n",
      "RUS\n",
      "RUS\n",
      "RUS\n",
      "KAZ\n",
      "USA\n",
      "RUS\n",
      "RUS\n",
      "RUS\n",
      "KAZ\n",
      "RUS\n",
      "RUS\n",
      "KAZ\n",
      "FRA\n",
      "USA\n",
      "KAZ\n",
      "RUS\n",
      "RUS\n",
      "RUS\n",
      "RUS\n",
      "RUS\n",
      "RUS\n",
      "RUS\n",
      "RUS\n",
      "RUS\n",
      "RUS\n",
      "KEN\n",
      "FRA\n",
      "USA\n",
      "RUS\n",
      "AUS\n",
      "USA\n",
      "RUS\n",
      "KAZ\n",
      "RUS\n",
      "RUS\n",
      "RUS\n",
      "KAZ\n",
      "KAZ\n",
      "JPN\n",
      "RUS\n",
      "RUS\n",
      "RUS\n",
      "RUS\n",
      "RUS\n",
      "KAZ\n",
      "RUS\n",
      "KAZ\n",
      "USA\n",
      "KAZ\n",
      "USA\n",
      "KAZ\n",
      "RUS\n",
      "KAZ\n",
      "RUS\n",
      "RUS\n",
      "USA\n",
      "RUS\n",
      "RUS\n",
      "KAZ\n",
      "RUS\n",
      "KAZ\n",
      "RUS\n",
      "KAZ\n",
      "USA\n",
      "KAZ\n",
      "RUS\n",
      "KAZ\n",
      "RUS\n",
      "USA\n",
      "RUS\n",
      "KAZ\n",
      "RUS\n",
      "RUS\n",
      "RUS\n",
      "KAZ\n",
      "RUS\n",
      "KAZ\n",
      "KAZ\n",
      "USA\n",
      "RUS\n",
      "KAZ\n",
      "USA\n",
      "RUS\n",
      "RUS\n",
      "KEN\n",
      "KAZ\n",
      "USA\n",
      "RUS\n",
      "KAZ\n",
      "RUS\n",
      "FRA\n",
      "RUS\n",
      "RUS\n",
      "RUS\n",
      "KAZ\n",
      "RUS\n",
      "RUS\n",
      "USA\n",
      "RUS\n",
      "RUS\n",
      "RUS\n",
      "KAZ\n",
      "CHN\n",
      "KAZ\n",
      "KAZ\n",
      "KAZ\n",
      "JPN\n",
      "RUS\n",
      "RUS\n",
      "JPN\n",
      "RUS\n",
      "USA\n",
      "RUS\n",
      "USA\n",
      "USA\n",
      "KAZ\n",
      "RUS\n",
      "RUS\n",
      "KAZ\n",
      "KAZ\n",
      "RUS\n",
      "RUS\n",
      "RUS\n",
      "RUS\n",
      "KAZ\n",
      "RUS\n",
      "FRA\n",
      "KEN\n",
      "RUS\n",
      "RUS\n",
      "KAZ\n",
      "RUS\n",
      "USA\n",
      "RUS\n",
      "RUS\n",
      "KAZ\n",
      "RUS\n",
      "KAZ\n",
      "KAZ\n",
      "USA\n",
      "AUS\n",
      "RUS\n",
      "KAZ\n",
      "USA\n",
      "KAZ\n",
      "KAZ\n",
      "KAZ\n",
      "RUS\n",
      "RUS\n",
      "RUS\n",
      "RUS\n",
      "KAZ\n",
      "RUS\n",
      "KAZ\n",
      "KAZ\n",
      "KAZ\n",
      "RUS\n",
      "KAZ\n",
      "RUS\n",
      "JPN\n",
      "KAZ\n",
      "RUS\n",
      "KAZ\n",
      "RUS\n",
      "USA\n",
      "KAZ\n",
      "KAZ\n",
      "RUS\n",
      "RUS\n",
      "USA\n",
      "KAZ\n",
      "RUS\n",
      "RUS\n",
      "RUS\n",
      "RUS\n",
      "KAZ\n",
      "RUS\n",
      "RUS\n",
      "KAZ\n",
      "RUS\n",
      "RUS\n",
      "KAZ\n",
      "RUS\n",
      "USA\n",
      "RUS\n",
      "USA\n",
      "RUS\n",
      "RUS\n",
      "RUS\n",
      "AUS\n",
      "KAZ\n",
      "KAZ\n",
      "RUS\n",
      "KAZ\n",
      "RUS\n",
      "RUS\n",
      "RUS\n",
      "RUS\n",
      "CHN\n",
      "RUS\n",
      "USA\n",
      "RUS\n",
      "USA\n",
      "RUS\n",
      "USA\n",
      "KAZ\n",
      "RUS\n",
      "RUS\n",
      "RUS\n",
      "RUS\n",
      "RUS\n",
      "RUS\n",
      "FRA\n",
      "RUS\n",
      "RUS\n",
      "RUS\n",
      "JPN\n",
      "RUS\n",
      "KAZ\n",
      "RUS\n",
      "RUS\n",
      "RUS\n",
      "RUS\n",
      "RUS\n",
      "USA\n",
      "KAZ\n",
      "RUS\n",
      "RUS\n",
      "RUS\n",
      "KAZ\n",
      "RUS\n",
      "RUS\n",
      "RUS\n",
      "KAZ\n",
      "RUS\n",
      "RUS\n",
      "CHN\n",
      "KAZ\n",
      "USA\n",
      "RUS\n",
      "RUS\n",
      "KAZ\n",
      "USA\n",
      "RUS\n",
      "KAZ\n",
      "KAZ\n",
      "RUS\n",
      "RUS\n",
      "RUS\n",
      "RUS\n",
      "KAZ\n",
      "KAZ\n",
      "KAZ\n",
      "RUS\n",
      "RUS\n",
      "KAZ\n",
      "JPN\n",
      "KAZ\n",
      "KAZ\n",
      "RUS\n",
      "KAZ\n",
      "USA\n",
      "RUS\n",
      "RUS\n",
      "KAZ\n",
      "RUS\n",
      "USA\n",
      "KAZ\n",
      "KAZ\n",
      "RUS\n",
      "KAZ\n",
      "RUS\n",
      "USA\n",
      "RUS\n",
      "KAZ\n",
      "AUS\n",
      "KAZ\n",
      "KAZ\n",
      "RUS\n",
      "KAZ\n",
      "RUS\n",
      "USA\n",
      "RUS\n",
      "KAZ\n",
      "RUS\n",
      "USA\n",
      "RUS\n",
      "USA\n",
      "RUS\n",
      "KAZ\n",
      "USA\n",
      "KAZ\n",
      "USA\n",
      "KAZ\n",
      "RUS\n",
      "RUS\n",
      "RUS\n",
      "KAZ\n",
      "RUS\n",
      "USA\n",
      "KAZ\n",
      "RUS\n",
      "KAZ\n",
      "RUS\n",
      "USA\n",
      "RUS\n",
      "RUS\n",
      "RUS\n",
      "RUS\n",
      "RUS\n",
      "USA\n",
      "USA\n",
      "KAZ\n",
      "RUS\n",
      "USA\n",
      "KAZ\n",
      "KAZ\n",
      "USA\n",
      "RUS\n",
      "RUS\n",
      "KAZ\n",
      "KAZ\n",
      "USA\n",
      "KAZ\n",
      "KAZ\n",
      "KAZ\n",
      "RUS\n",
      "KAZ\n",
      "KAZ\n",
      "RUS\n",
      "USA\n",
      "RUS\n",
      "KAZ\n",
      "RUS\n",
      "KAZ\n",
      "USA\n",
      "USA\n",
      "RUS\n",
      "RUS\n",
      "RUS\n",
      "AUS\n",
      "RUS\n",
      "KAZ\n",
      "RUS\n",
      "KAZ\n",
      "USA\n",
      "KAZ\n",
      "KAZ\n",
      "RUS\n",
      "KAZ\n",
      "KAZ\n",
      "KAZ\n",
      "KAZ\n",
      "USA\n",
      "RUS\n",
      "RUS\n",
      "KAZ\n",
      "RUS\n",
      "KAZ\n",
      "USA\n",
      "KAZ\n",
      "RUS\n",
      "RUS\n",
      "KAZ\n",
      "KAZ\n",
      "KAZ\n",
      "KAZ\n",
      "RUS\n",
      "KAZ\n",
      "USA\n",
      "USA\n",
      "KAZ\n",
      "USA\n",
      "USA\n",
      "USA\n",
      "KAZ\n",
      "RUS\n",
      "RUS\n",
      "USA\n",
      "KAZ\n",
      "KAZ\n",
      "RUS\n",
      "RUS\n",
      "KAZ\n",
      "KAZ\n",
      "KAZ\n",
      "USA\n",
      "RUS\n",
      "RUS\n",
      "USA\n",
      "RUS\n",
      "KAZ\n",
      "RUS\n",
      "RUS\n",
      "RUS\n",
      "RUS\n",
      "RUS\n",
      "KAZ\n",
      "KAZ\n",
      "KAZ\n",
      "KAZ\n",
      "KAZ\n",
      "RUS\n",
      "RUS\n",
      "USA\n",
      "KAZ\n",
      "KAZ\n",
      "RUS\n",
      "KAZ\n",
      "USA\n",
      "USA\n",
      "RUS\n",
      "KAZ\n",
      "KAZ\n",
      "KAZ\n",
      "RUS\n",
      "RUS\n",
      "USA\n",
      "RUS\n",
      "RUS\n",
      "RUS\n",
      "USA\n",
      "KAZ\n",
      "RUS\n",
      "RUS\n",
      "KAZ\n",
      "KAZ\n",
      "USA\n",
      "RUS\n",
      "USA\n",
      "RUS\n",
      "USA\n",
      "KAZ\n",
      "RUS\n",
      "RUS\n",
      "RUS\n",
      "USA\n",
      "RUS\n",
      "AUS\n",
      "RUS\n",
      "RUS\n",
      "KAZ\n",
      "RUS\n",
      "USA\n",
      "USA\n",
      "USA\n",
      "RUS\n",
      "RUS\n",
      "KAZ\n",
      "KAZ\n",
      "KAZ\n",
      "KAZ\n",
      "USA\n",
      "RUS\n",
      "KAZ\n",
      "KAZ\n",
      "KAZ\n",
      "KAZ\n",
      "RUS\n",
      "KAZ\n",
      "KAZ\n",
      "RUS\n",
      "RUS\n",
      "KAZ\n",
      "USA\n",
      "KAZ\n",
      "KAZ\n",
      "RUS\n",
      "RUS\n",
      "USA\n",
      "RUS\n",
      "KAZ\n",
      "RUS\n",
      "USA\n",
      "KAZ\n",
      "KAZ\n",
      "USA\n",
      "KAZ\n",
      "USA\n",
      "KAZ\n",
      "KAZ\n",
      "USA\n",
      "KAZ\n",
      "USA\n",
      "RUS\n",
      "USA\n",
      "RUS\n",
      "KAZ\n",
      "RUS\n",
      "USA\n",
      "RUS\n",
      "KAZ\n",
      "RUS\n",
      "RUS\n",
      "USA\n",
      "KAZ\n",
      "KAZ\n",
      "USA\n",
      "RUS\n",
      "KAZ\n",
      "KAZ\n",
      "RUS\n",
      "KAZ\n",
      "USA\n",
      "USA\n",
      "RUS\n",
      "USA\n",
      "KEN\n",
      "KAZ\n",
      "USA\n",
      "KAZ\n",
      "KAZ\n",
      "USA\n",
      "RUS\n",
      "JPN\n",
      "RUS\n",
      "KAZ\n",
      "KAZ\n",
      "RUS\n",
      "RUS\n",
      "RUS\n",
      "RUS\n",
      "KAZ\n",
      "RUS\n",
      "RUS\n",
      "KAZ\n",
      "USA\n",
      "FRA\n",
      "RUS\n",
      "RUS\n",
      "FRA\n",
      "KAZ\n",
      "USA\n",
      "USA\n",
      "USA\n",
      "KAZ\n",
      "RUS\n",
      "USA\n",
      "RUS\n",
      "KAZ\n",
      "JPN\n",
      "RUS\n",
      "USA\n",
      "KAZ\n",
      "RUS\n",
      "USA\n",
      "USA\n",
      "USA\n",
      "KAZ\n",
      "KAZ\n",
      "KAZ\n",
      "KAZ\n",
      "RUS\n",
      "USA\n",
      "USA\n",
      "USA\n",
      "USA\n",
      "USA\n",
      "KAZ\n",
      "USA\n",
      "KAZ\n",
      "KAZ\n",
      "KAZ\n",
      "RUS\n",
      "USA\n",
      "USA\n",
      "USA\n",
      "JPN\n",
      "USA\n",
      "KAZ\n",
      "USA\n",
      "KAZ\n",
      "USA\n",
      "USA\n",
      "KAZ\n",
      "USA\n",
      "USA\n",
      "KAZ\n",
      "USA\n",
      "USA\n",
      "USA\n",
      "KAZ\n",
      "USA\n",
      "KAZ\n",
      "KAZ\n",
      "USA\n",
      "USA\n",
      "KAZ\n",
      "USA\n",
      "USA\n",
      "RUS\n",
      "KAZ\n",
      "USA\n",
      "KAZ\n",
      "RUS\n",
      "USA\n",
      "USA\n",
      "KAZ\n",
      "USA\n",
      "USA\n",
      "USA\n",
      "USA\n",
      "USA\n",
      "RUS\n",
      "USA\n",
      "RUS\n",
      "USA\n",
      "USA\n",
      "KAZ\n",
      "KAZ\n",
      "RUS\n",
      "KAZ\n",
      "KAZ\n",
      "USA\n",
      "USA\n",
      "USA\n",
      "RUS\n",
      "KAZ\n",
      "USA\n",
      "KAZ\n",
      "KAZ\n",
      "KAZ\n",
      "USA\n",
      "RUS\n",
      "USA\n",
      "KAZ\n",
      "USA\n",
      "KAZ\n",
      "RUS\n",
      "KAZ\n",
      "FRA\n",
      "USA\n",
      "RUS\n",
      "KAZ\n",
      "KAZ\n",
      "RUS\n",
      "KAZ\n",
      "USA\n",
      "KAZ\n",
      "RUS\n",
      "KAZ\n",
      "KAZ\n",
      "USA\n",
      "RUS\n",
      "KAZ\n",
      "USA\n",
      "KAZ\n",
      "USA\n",
      "KAZ\n",
      "KAZ\n",
      "FRA\n",
      "RUS\n",
      "KAZ\n",
      "KAZ\n",
      "KAZ\n",
      "USA\n",
      "RUS\n",
      "KAZ\n",
      "KAZ\n",
      "USA\n",
      "RUS\n",
      "KAZ\n",
      "USA\n",
      "KAZ\n",
      "USA\n",
      "KAZ\n",
      "USA\n",
      "KAZ\n",
      "KAZ\n",
      "KAZ\n",
      "KAZ\n",
      "KAZ\n",
      "USA\n",
      "KAZ\n",
      "USA\n",
      "USA\n",
      "KAZ\n",
      "USA\n",
      "RUS\n",
      "USA\n",
      "KAZ\n",
      "KAZ\n",
      "KAZ\n",
      "KAZ\n",
      "USA\n",
      "RUS\n",
      "USA\n",
      "KAZ\n",
      "USA\n",
      "KAZ\n",
      "KAZ\n",
      "USA\n",
      "USA\n",
      "USA\n",
      "KAZ\n",
      "USA\n",
      "KAZ\n",
      "KAZ\n",
      "USA\n",
      "USA\n",
      "KAZ\n",
      "KAZ\n",
      "KAZ\n",
      "USA\n",
      "KAZ\n",
      "USA\n",
      "USA\n",
      "KAZ\n",
      "KAZ\n",
      "USA\n",
      "KAZ\n",
      "KAZ\n",
      "USA\n",
      "KAZ\n",
      "KAZ\n",
      "KAZ\n",
      "RUS\n",
      "USA\n",
      "USA\n",
      "RUS\n",
      "USA\n",
      "RUS\n",
      "USA\n",
      "USA\n",
      "USA\n",
      "KAZ\n",
      "USA\n",
      "USA\n",
      "RUS\n",
      "USA\n",
      "RUS\n",
      "KAZ\n",
      "USA\n",
      "USA\n",
      "KAZ\n",
      "RUS\n",
      "KAZ\n",
      "USA\n",
      "KAZ\n",
      "KAZ\n",
      "USA\n",
      "KAZ\n",
      "KAZ\n",
      "USA\n",
      "USA\n",
      "KAZ\n",
      "USA\n",
      "USA\n",
      "KAZ\n",
      "RUS\n",
      "KAZ\n",
      "KAZ\n",
      "USA\n",
      "KAZ\n",
      "RUS\n",
      "USA\n",
      "USA\n",
      "KAZ\n",
      "KAZ\n",
      "USA\n",
      "KAZ\n",
      "USA\n",
      "KAZ\n",
      "KAZ\n",
      "RUS\n",
      "KAZ\n",
      "USA\n",
      "USA\n",
      "KAZ\n",
      "KAZ\n",
      "USA\n",
      "KAZ\n",
      "KAZ\n",
      "USA\n",
      "KAZ\n",
      "KAZ\n",
      "KAZ\n",
      "KAZ\n",
      "RUS\n",
      "USA\n",
      "RUS\n",
      "USA\n",
      "KAZ\n",
      "USA\n",
      "KAZ\n",
      "USA\n",
      "USA\n",
      "KAZ\n",
      "USA\n",
      "RUS\n",
      "KAZ\n",
      "USA\n",
      "KAZ\n",
      "KAZ\n",
      "KAZ\n",
      "USA\n",
      "RUS\n",
      "KAZ\n",
      "USA\n",
      "USA\n",
      "USA\n",
      "RUS\n",
      "RUS\n",
      "USA\n",
      "USA\n",
      "KAZ\n",
      "USA\n",
      "KAZ\n",
      "USA\n",
      "KAZ\n",
      "USA\n",
      "RUS\n",
      "KAZ\n",
      "RUS\n",
      "USA\n",
      "USA\n",
      "KAZ\n",
      "USA\n",
      "KAZ\n",
      "RUS\n",
      "RUS\n",
      "USA\n",
      "KAZ\n",
      "KAZ\n",
      "USA\n",
      "KAZ\n",
      "KAZ\n",
      "KAZ\n",
      "USA\n",
      "USA\n",
      "USA\n",
      "USA\n",
      "USA\n",
      "USA\n",
      "USA\n",
      "USA\n",
      "USA\n",
      "USA\n",
      "KAZ\n",
      "KAZ\n",
      "USA\n",
      "USA\n",
      "USA\n",
      "RUS\n",
      "KAZ\n",
      "RUS\n",
      "USA\n",
      "KAZ\n",
      "USA\n",
      "USA\n",
      "USA\n",
      "USA\n",
      "USA\n",
      "KAZ\n",
      "USA\n",
      "USA\n",
      "KAZ\n",
      "USA\n",
      "KAZ\n",
      "USA\n",
      "USA\n",
      "KAZ\n",
      "USA\n",
      "RUS\n",
      "KAZ\n",
      "KAZ\n",
      "USA\n",
      "USA\n",
      "KAZ\n",
      "USA\n",
      "USA\n",
      "USA\n",
      "USA\n",
      "USA\n",
      "RUS\n",
      "USA\n",
      "USA\n",
      "USA\n",
      "USA\n",
      "USA\n",
      "USA\n",
      "KAZ\n",
      "USA\n",
      "RUS\n",
      "USA\n",
      "USA\n",
      "USA\n",
      "USA\n",
      "USA\n",
      "USA\n",
      "USA\n",
      "USA\n",
      "USA\n",
      "KAZ\n",
      "RUS\n",
      "USA\n",
      "USA\n",
      "USA\n",
      "RUS\n",
      "RUS\n",
      "USA\n",
      "USA\n",
      "USA\n",
      "USA\n",
      "USA\n",
      "USA\n",
      "USA\n",
      "USA\n",
      "USA\n",
      "USA\n",
      "RUS\n",
      "USA\n",
      "KAZ\n",
      "USA\n",
      "USA\n",
      "USA\n",
      "USA\n",
      "USA\n",
      "USA\n",
      "USA\n",
      "RUS\n",
      "USA\n",
      "USA\n",
      "USA\n",
      "USA\n",
      "USA\n",
      "USA\n",
      "USA\n",
      "USA\n",
      "USA\n",
      "USA\n",
      "USA\n",
      "KAZ\n",
      "USA\n",
      "USA\n",
      "USA\n",
      "USA\n",
      "USA\n",
      "USA\n",
      "USA\n",
      "USA\n",
      "USA\n",
      "USA\n",
      "USA\n",
      "USA\n",
      "KAZ\n",
      "USA\n",
      "USA\n",
      "USA\n",
      "KAZ\n",
      "USA\n",
      "KAZ\n",
      "USA\n",
      "USA\n",
      "USA\n",
      "USA\n",
      "USA\n",
      "KAZ\n",
      "KAZ\n",
      "USA\n",
      "USA\n",
      "KAZ\n",
      "USA\n",
      "USA\n",
      "USA\n",
      "USA\n",
      "USA\n",
      "KAZ\n",
      "USA\n",
      "USA\n",
      "USA\n",
      "USA\n",
      "USA\n",
      "KAZ\n",
      "USA\n",
      "KAZ\n",
      "USA\n",
      "USA\n",
      "USA\n",
      "KAZ\n",
      "USA\n",
      "USA\n",
      "USA\n",
      "USA\n",
      "USA\n",
      "KAZ\n",
      "USA\n",
      "USA\n",
      "USA\n",
      "KAZ\n",
      "USA\n",
      "KAZ\n",
      "USA\n",
      "KAZ\n",
      "USA\n",
      "USA\n",
      "USA\n",
      "USA\n",
      "USA\n",
      "USA\n",
      "USA\n",
      "USA\n",
      "USA\n",
      "KAZ\n",
      "USA\n",
      "USA\n",
      "KAZ\n",
      "USA\n",
      "USA\n",
      "USA\n",
      "USA\n",
      "USA\n",
      "USA\n",
      "KAZ\n",
      "USA\n",
      "USA\n",
      "USA\n",
      "USA\n",
      "USA\n",
      "KAZ\n",
      "USA\n",
      "USA\n",
      "KAZ\n",
      "USA\n",
      "USA\n",
      "KAZ\n",
      "USA\n",
      "USA\n",
      "KAZ\n",
      "USA\n",
      "USA\n",
      "USA\n",
      "USA\n",
      "USA\n",
      "USA\n",
      "USA\n",
      "USA\n",
      "USA\n",
      "USA\n",
      "USA\n",
      "KAZ\n",
      "USA\n",
      "KAZ\n",
      "USA\n",
      "USA\n",
      "USA\n",
      "USA\n",
      "USA\n",
      "USA\n",
      "KAZ\n",
      "KAZ\n"
     ]
    }
   ],
   "source": [
    "def get_iso():\n",
    "    for x in df_data[\"country\"]:\n",
    "        print(iso[x])\n",
    "            \n",
    "            \n",
    "get_iso()"
   ]
  },
  {
   "cell_type": "markdown",
   "metadata": {},
   "source": [
    "#### Creating a new column called 'iso' with extracted iso values from country names by using the lambda function on the 'country' column."
   ]
  },
  {
   "cell_type": "code",
   "execution_count": 114,
   "metadata": {},
   "outputs": [],
   "source": [
    "df_data[\"iso\"] = df_data[\"country\"].apply(lambda x:iso[x])"
   ]
  },
  {
   "cell_type": "code",
   "execution_count": 115,
   "metadata": {},
   "outputs": [
    {
     "data": {
      "text/html": [
       "<div>\n",
       "<style scoped>\n",
       "    .dataframe tbody tr th:only-of-type {\n",
       "        vertical-align: middle;\n",
       "    }\n",
       "\n",
       "    .dataframe tbody tr th {\n",
       "        vertical-align: top;\n",
       "    }\n",
       "\n",
       "    .dataframe thead th {\n",
       "        text-align: right;\n",
       "    }\n",
       "</style>\n",
       "<table border=\"1\" class=\"dataframe\">\n",
       "  <thead>\n",
       "    <tr style=\"text-align: right;\">\n",
       "      <th></th>\n",
       "      <th>Organisation</th>\n",
       "      <th>Location</th>\n",
       "      <th>Date</th>\n",
       "      <th>Detail</th>\n",
       "      <th>Rocket_Status</th>\n",
       "      <th>Price</th>\n",
       "      <th>Mission_Status</th>\n",
       "      <th>country</th>\n",
       "      <th>iso</th>\n",
       "      <th>year</th>\n",
       "    </tr>\n",
       "  </thead>\n",
       "  <tbody>\n",
       "    <tr>\n",
       "      <th>0</th>\n",
       "      <td>SpaceX</td>\n",
       "      <td>LC-39A, Kennedy Space Center, Florida, USA</td>\n",
       "      <td>2020-08-07 05:12:00+00:00</td>\n",
       "      <td>Falcon 9 Block 5 | Starlink V1 L9 &amp; BlackSky</td>\n",
       "      <td>StatusActive</td>\n",
       "      <td>50.00</td>\n",
       "      <td>Success</td>\n",
       "      <td>United States of America</td>\n",
       "      <td>USA</td>\n",
       "      <td>2020</td>\n",
       "    </tr>\n",
       "    <tr>\n",
       "      <th>1</th>\n",
       "      <td>CASC</td>\n",
       "      <td>Site 9401 (SLS-2), Jiuquan Satellite Launch Ce...</td>\n",
       "      <td>2020-08-06 04:01:00+00:00</td>\n",
       "      <td>Long March 2D | Gaofen-9 04 &amp; Q-SAT</td>\n",
       "      <td>StatusActive</td>\n",
       "      <td>29.75</td>\n",
       "      <td>Success</td>\n",
       "      <td>China</td>\n",
       "      <td>CHN</td>\n",
       "      <td>2020</td>\n",
       "    </tr>\n",
       "    <tr>\n",
       "      <th>2</th>\n",
       "      <td>SpaceX</td>\n",
       "      <td>Pad A, Boca Chica, Texas, USA</td>\n",
       "      <td>2020-08-04 23:57:00+00:00</td>\n",
       "      <td>Starship Prototype | 150 Meter Hop</td>\n",
       "      <td>StatusActive</td>\n",
       "      <td>NaN</td>\n",
       "      <td>Success</td>\n",
       "      <td>United States of America</td>\n",
       "      <td>USA</td>\n",
       "      <td>2020</td>\n",
       "    </tr>\n",
       "    <tr>\n",
       "      <th>3</th>\n",
       "      <td>Roscosmos</td>\n",
       "      <td>Site 200/39, Baikonur Cosmodrome, Kazakhstan</td>\n",
       "      <td>2020-07-30 21:25:00+00:00</td>\n",
       "      <td>Proton-M/Briz-M | Ekspress-80 &amp; Ekspress-103</td>\n",
       "      <td>StatusActive</td>\n",
       "      <td>65.00</td>\n",
       "      <td>Success</td>\n",
       "      <td>Kazakhstan</td>\n",
       "      <td>KAZ</td>\n",
       "      <td>2020</td>\n",
       "    </tr>\n",
       "    <tr>\n",
       "      <th>4</th>\n",
       "      <td>ULA</td>\n",
       "      <td>SLC-41, Cape Canaveral AFS, Florida, USA</td>\n",
       "      <td>2020-07-30 11:50:00+00:00</td>\n",
       "      <td>Atlas V 541 | Perseverance</td>\n",
       "      <td>StatusActive</td>\n",
       "      <td>145.00</td>\n",
       "      <td>Success</td>\n",
       "      <td>United States of America</td>\n",
       "      <td>USA</td>\n",
       "      <td>2020</td>\n",
       "    </tr>\n",
       "    <tr>\n",
       "      <th>...</th>\n",
       "      <td>...</td>\n",
       "      <td>...</td>\n",
       "      <td>...</td>\n",
       "      <td>...</td>\n",
       "      <td>...</td>\n",
       "      <td>...</td>\n",
       "      <td>...</td>\n",
       "      <td>...</td>\n",
       "      <td>...</td>\n",
       "      <td>...</td>\n",
       "    </tr>\n",
       "    <tr>\n",
       "      <th>4319</th>\n",
       "      <td>US Navy</td>\n",
       "      <td>LC-18A, Cape Canaveral AFS, Florida, USA</td>\n",
       "      <td>1958-02-05 07:33:00+00:00</td>\n",
       "      <td>Vanguard | Vanguard TV3BU</td>\n",
       "      <td>StatusRetired</td>\n",
       "      <td>NaN</td>\n",
       "      <td>Failure</td>\n",
       "      <td>United States of America</td>\n",
       "      <td>USA</td>\n",
       "      <td>1958</td>\n",
       "    </tr>\n",
       "    <tr>\n",
       "      <th>4320</th>\n",
       "      <td>AMBA</td>\n",
       "      <td>LC-26A, Cape Canaveral AFS, Florida, USA</td>\n",
       "      <td>1958-02-01 03:48:00+00:00</td>\n",
       "      <td>Juno I | Explorer 1</td>\n",
       "      <td>StatusRetired</td>\n",
       "      <td>NaN</td>\n",
       "      <td>Success</td>\n",
       "      <td>United States of America</td>\n",
       "      <td>USA</td>\n",
       "      <td>1958</td>\n",
       "    </tr>\n",
       "    <tr>\n",
       "      <th>4321</th>\n",
       "      <td>US Navy</td>\n",
       "      <td>LC-18A, Cape Canaveral AFS, Florida, USA</td>\n",
       "      <td>1957-12-06 16:44:00+00:00</td>\n",
       "      <td>Vanguard | Vanguard TV3</td>\n",
       "      <td>StatusRetired</td>\n",
       "      <td>NaN</td>\n",
       "      <td>Failure</td>\n",
       "      <td>United States of America</td>\n",
       "      <td>USA</td>\n",
       "      <td>1957</td>\n",
       "    </tr>\n",
       "    <tr>\n",
       "      <th>4322</th>\n",
       "      <td>RVSN USSR</td>\n",
       "      <td>Site 1/5, Baikonur Cosmodrome, Kazakhstan</td>\n",
       "      <td>1957-11-03 02:30:00+00:00</td>\n",
       "      <td>Sputnik 8K71PS | Sputnik-2</td>\n",
       "      <td>StatusRetired</td>\n",
       "      <td>NaN</td>\n",
       "      <td>Success</td>\n",
       "      <td>Kazakhstan</td>\n",
       "      <td>KAZ</td>\n",
       "      <td>1957</td>\n",
       "    </tr>\n",
       "    <tr>\n",
       "      <th>4323</th>\n",
       "      <td>RVSN USSR</td>\n",
       "      <td>Site 1/5, Baikonur Cosmodrome, Kazakhstan</td>\n",
       "      <td>1957-10-04 19:28:00+00:00</td>\n",
       "      <td>Sputnik 8K71PS | Sputnik-1</td>\n",
       "      <td>StatusRetired</td>\n",
       "      <td>NaN</td>\n",
       "      <td>Success</td>\n",
       "      <td>Kazakhstan</td>\n",
       "      <td>KAZ</td>\n",
       "      <td>1957</td>\n",
       "    </tr>\n",
       "  </tbody>\n",
       "</table>\n",
       "<p>4324 rows × 10 columns</p>\n",
       "</div>"
      ],
      "text/plain": [
       "     Organisation                                           Location  \\\n",
       "0          SpaceX         LC-39A, Kennedy Space Center, Florida, USA   \n",
       "1            CASC  Site 9401 (SLS-2), Jiuquan Satellite Launch Ce...   \n",
       "2          SpaceX                      Pad A, Boca Chica, Texas, USA   \n",
       "3       Roscosmos       Site 200/39, Baikonur Cosmodrome, Kazakhstan   \n",
       "4             ULA           SLC-41, Cape Canaveral AFS, Florida, USA   \n",
       "...           ...                                                ...   \n",
       "4319      US Navy           LC-18A, Cape Canaveral AFS, Florida, USA   \n",
       "4320         AMBA           LC-26A, Cape Canaveral AFS, Florida, USA   \n",
       "4321      US Navy           LC-18A, Cape Canaveral AFS, Florida, USA   \n",
       "4322    RVSN USSR          Site 1/5, Baikonur Cosmodrome, Kazakhstan   \n",
       "4323    RVSN USSR          Site 1/5, Baikonur Cosmodrome, Kazakhstan   \n",
       "\n",
       "                           Date                                        Detail  \\\n",
       "0     2020-08-07 05:12:00+00:00  Falcon 9 Block 5 | Starlink V1 L9 & BlackSky   \n",
       "1     2020-08-06 04:01:00+00:00           Long March 2D | Gaofen-9 04 & Q-SAT   \n",
       "2     2020-08-04 23:57:00+00:00            Starship Prototype | 150 Meter Hop   \n",
       "3     2020-07-30 21:25:00+00:00  Proton-M/Briz-M | Ekspress-80 & Ekspress-103   \n",
       "4     2020-07-30 11:50:00+00:00                    Atlas V 541 | Perseverance   \n",
       "...                         ...                                           ...   \n",
       "4319  1958-02-05 07:33:00+00:00                     Vanguard | Vanguard TV3BU   \n",
       "4320  1958-02-01 03:48:00+00:00                           Juno I | Explorer 1   \n",
       "4321  1957-12-06 16:44:00+00:00                       Vanguard | Vanguard TV3   \n",
       "4322  1957-11-03 02:30:00+00:00                    Sputnik 8K71PS | Sputnik-2   \n",
       "4323  1957-10-04 19:28:00+00:00                    Sputnik 8K71PS | Sputnik-1   \n",
       "\n",
       "      Rocket_Status  Price Mission_Status                   country  iso  year  \n",
       "0      StatusActive  50.00        Success  United States of America  USA  2020  \n",
       "1      StatusActive  29.75        Success                     China  CHN  2020  \n",
       "2      StatusActive    NaN        Success  United States of America  USA  2020  \n",
       "3      StatusActive  65.00        Success                Kazakhstan  KAZ  2020  \n",
       "4      StatusActive 145.00        Success  United States of America  USA  2020  \n",
       "...             ...    ...            ...                       ...  ...   ...  \n",
       "4319  StatusRetired    NaN        Failure  United States of America  USA  1958  \n",
       "4320  StatusRetired    NaN        Success  United States of America  USA  1958  \n",
       "4321  StatusRetired    NaN        Failure  United States of America  USA  1957  \n",
       "4322  StatusRetired    NaN        Success                Kazakhstan  KAZ  1957  \n",
       "4323  StatusRetired    NaN        Success                Kazakhstan  KAZ  1957  \n",
       "\n",
       "[4324 rows x 10 columns]"
      ]
     },
     "execution_count": 115,
     "metadata": {},
     "output_type": "execute_result"
    }
   ],
   "source": [
    "df_data"
   ]
  },
  {
   "cell_type": "code",
   "execution_count": 116,
   "metadata": {},
   "outputs": [],
   "source": [
    "df_msn_cnt = df_data.groupby(\"iso\", as_index=False)[\"Mission_Status\"].count()"
   ]
  },
  {
   "cell_type": "code",
   "execution_count": 117,
   "metadata": {},
   "outputs": [
    {
     "data": {
      "application/vnd.plotly.v1+json": {
       "config": {
        "plotlyServerURL": "https://plot.ly"
       },
       "data": [
        {
         "coloraxis": "coloraxis",
         "geo": "geo",
         "hovertemplate": "<b>%{hovertext}</b><br><br>iso=%{location}<br>Mission_Status=%{z}<extra></extra>",
         "hovertext": [
          "AUS",
          "BRA",
          "CHN",
          "FRA",
          "IND",
          "IRN",
          "ISR",
          "JPN",
          "KAZ",
          "KEN",
          "KOR",
          "NZL",
          "PRK",
          "RUS",
          "USA"
         ],
         "locations": [
          "AUS",
          "BRA",
          "CHN",
          "FRA",
          "IND",
          "IRN",
          "ISR",
          "JPN",
          "KAZ",
          "KEN",
          "KOR",
          "NZL",
          "PRK",
          "RUS",
          "USA"
         ],
         "name": "",
         "type": "choropleth",
         "z": [
          6,
          3,
          269,
          303,
          76,
          14,
          11,
          126,
          701,
          9,
          3,
          13,
          5,
          1398,
          1387
         ]
        }
       ],
       "layout": {
        "coloraxis": {
         "colorbar": {
          "title": {
           "text": "Mission_Status"
          }
         },
         "colorscale": [
          [
           0,
           "#0d0887"
          ],
          [
           0.1111111111111111,
           "#46039f"
          ],
          [
           0.2222222222222222,
           "#7201a8"
          ],
          [
           0.3333333333333333,
           "#9c179e"
          ],
          [
           0.4444444444444444,
           "#bd3786"
          ],
          [
           0.5555555555555556,
           "#d8576b"
          ],
          [
           0.6666666666666666,
           "#ed7953"
          ],
          [
           0.7777777777777778,
           "#fb9f3a"
          ],
          [
           0.8888888888888888,
           "#fdca26"
          ],
          [
           1,
           "#f0f921"
          ]
         ]
        },
        "geo": {
         "center": {},
         "domain": {
          "x": [
           0,
           1
          ],
          "y": [
           0,
           1
          ]
         }
        },
        "legend": {
         "tracegroupgap": 0
        },
        "template": {
         "data": {
          "bar": [
           {
            "error_x": {
             "color": "#2a3f5f"
            },
            "error_y": {
             "color": "#2a3f5f"
            },
            "marker": {
             "line": {
              "color": "#E5ECF6",
              "width": 0.5
             },
             "pattern": {
              "fillmode": "overlay",
              "size": 10,
              "solidity": 0.2
             }
            },
            "type": "bar"
           }
          ],
          "barpolar": [
           {
            "marker": {
             "line": {
              "color": "#E5ECF6",
              "width": 0.5
             },
             "pattern": {
              "fillmode": "overlay",
              "size": 10,
              "solidity": 0.2
             }
            },
            "type": "barpolar"
           }
          ],
          "carpet": [
           {
            "aaxis": {
             "endlinecolor": "#2a3f5f",
             "gridcolor": "white",
             "linecolor": "white",
             "minorgridcolor": "white",
             "startlinecolor": "#2a3f5f"
            },
            "baxis": {
             "endlinecolor": "#2a3f5f",
             "gridcolor": "white",
             "linecolor": "white",
             "minorgridcolor": "white",
             "startlinecolor": "#2a3f5f"
            },
            "type": "carpet"
           }
          ],
          "choropleth": [
           {
            "colorbar": {
             "outlinewidth": 0,
             "ticks": ""
            },
            "type": "choropleth"
           }
          ],
          "contour": [
           {
            "colorbar": {
             "outlinewidth": 0,
             "ticks": ""
            },
            "colorscale": [
             [
              0,
              "#0d0887"
             ],
             [
              0.1111111111111111,
              "#46039f"
             ],
             [
              0.2222222222222222,
              "#7201a8"
             ],
             [
              0.3333333333333333,
              "#9c179e"
             ],
             [
              0.4444444444444444,
              "#bd3786"
             ],
             [
              0.5555555555555556,
              "#d8576b"
             ],
             [
              0.6666666666666666,
              "#ed7953"
             ],
             [
              0.7777777777777778,
              "#fb9f3a"
             ],
             [
              0.8888888888888888,
              "#fdca26"
             ],
             [
              1,
              "#f0f921"
             ]
            ],
            "type": "contour"
           }
          ],
          "contourcarpet": [
           {
            "colorbar": {
             "outlinewidth": 0,
             "ticks": ""
            },
            "type": "contourcarpet"
           }
          ],
          "heatmap": [
           {
            "colorbar": {
             "outlinewidth": 0,
             "ticks": ""
            },
            "colorscale": [
             [
              0,
              "#0d0887"
             ],
             [
              0.1111111111111111,
              "#46039f"
             ],
             [
              0.2222222222222222,
              "#7201a8"
             ],
             [
              0.3333333333333333,
              "#9c179e"
             ],
             [
              0.4444444444444444,
              "#bd3786"
             ],
             [
              0.5555555555555556,
              "#d8576b"
             ],
             [
              0.6666666666666666,
              "#ed7953"
             ],
             [
              0.7777777777777778,
              "#fb9f3a"
             ],
             [
              0.8888888888888888,
              "#fdca26"
             ],
             [
              1,
              "#f0f921"
             ]
            ],
            "type": "heatmap"
           }
          ],
          "heatmapgl": [
           {
            "colorbar": {
             "outlinewidth": 0,
             "ticks": ""
            },
            "colorscale": [
             [
              0,
              "#0d0887"
             ],
             [
              0.1111111111111111,
              "#46039f"
             ],
             [
              0.2222222222222222,
              "#7201a8"
             ],
             [
              0.3333333333333333,
              "#9c179e"
             ],
             [
              0.4444444444444444,
              "#bd3786"
             ],
             [
              0.5555555555555556,
              "#d8576b"
             ],
             [
              0.6666666666666666,
              "#ed7953"
             ],
             [
              0.7777777777777778,
              "#fb9f3a"
             ],
             [
              0.8888888888888888,
              "#fdca26"
             ],
             [
              1,
              "#f0f921"
             ]
            ],
            "type": "heatmapgl"
           }
          ],
          "histogram": [
           {
            "marker": {
             "pattern": {
              "fillmode": "overlay",
              "size": 10,
              "solidity": 0.2
             }
            },
            "type": "histogram"
           }
          ],
          "histogram2d": [
           {
            "colorbar": {
             "outlinewidth": 0,
             "ticks": ""
            },
            "colorscale": [
             [
              0,
              "#0d0887"
             ],
             [
              0.1111111111111111,
              "#46039f"
             ],
             [
              0.2222222222222222,
              "#7201a8"
             ],
             [
              0.3333333333333333,
              "#9c179e"
             ],
             [
              0.4444444444444444,
              "#bd3786"
             ],
             [
              0.5555555555555556,
              "#d8576b"
             ],
             [
              0.6666666666666666,
              "#ed7953"
             ],
             [
              0.7777777777777778,
              "#fb9f3a"
             ],
             [
              0.8888888888888888,
              "#fdca26"
             ],
             [
              1,
              "#f0f921"
             ]
            ],
            "type": "histogram2d"
           }
          ],
          "histogram2dcontour": [
           {
            "colorbar": {
             "outlinewidth": 0,
             "ticks": ""
            },
            "colorscale": [
             [
              0,
              "#0d0887"
             ],
             [
              0.1111111111111111,
              "#46039f"
             ],
             [
              0.2222222222222222,
              "#7201a8"
             ],
             [
              0.3333333333333333,
              "#9c179e"
             ],
             [
              0.4444444444444444,
              "#bd3786"
             ],
             [
              0.5555555555555556,
              "#d8576b"
             ],
             [
              0.6666666666666666,
              "#ed7953"
             ],
             [
              0.7777777777777778,
              "#fb9f3a"
             ],
             [
              0.8888888888888888,
              "#fdca26"
             ],
             [
              1,
              "#f0f921"
             ]
            ],
            "type": "histogram2dcontour"
           }
          ],
          "mesh3d": [
           {
            "colorbar": {
             "outlinewidth": 0,
             "ticks": ""
            },
            "type": "mesh3d"
           }
          ],
          "parcoords": [
           {
            "line": {
             "colorbar": {
              "outlinewidth": 0,
              "ticks": ""
             }
            },
            "type": "parcoords"
           }
          ],
          "pie": [
           {
            "automargin": true,
            "type": "pie"
           }
          ],
          "scatter": [
           {
            "fillpattern": {
             "fillmode": "overlay",
             "size": 10,
             "solidity": 0.2
            },
            "type": "scatter"
           }
          ],
          "scatter3d": [
           {
            "line": {
             "colorbar": {
              "outlinewidth": 0,
              "ticks": ""
             }
            },
            "marker": {
             "colorbar": {
              "outlinewidth": 0,
              "ticks": ""
             }
            },
            "type": "scatter3d"
           }
          ],
          "scattercarpet": [
           {
            "marker": {
             "colorbar": {
              "outlinewidth": 0,
              "ticks": ""
             }
            },
            "type": "scattercarpet"
           }
          ],
          "scattergeo": [
           {
            "marker": {
             "colorbar": {
              "outlinewidth": 0,
              "ticks": ""
             }
            },
            "type": "scattergeo"
           }
          ],
          "scattergl": [
           {
            "marker": {
             "colorbar": {
              "outlinewidth": 0,
              "ticks": ""
             }
            },
            "type": "scattergl"
           }
          ],
          "scattermapbox": [
           {
            "marker": {
             "colorbar": {
              "outlinewidth": 0,
              "ticks": ""
             }
            },
            "type": "scattermapbox"
           }
          ],
          "scatterpolar": [
           {
            "marker": {
             "colorbar": {
              "outlinewidth": 0,
              "ticks": ""
             }
            },
            "type": "scatterpolar"
           }
          ],
          "scatterpolargl": [
           {
            "marker": {
             "colorbar": {
              "outlinewidth": 0,
              "ticks": ""
             }
            },
            "type": "scatterpolargl"
           }
          ],
          "scatterternary": [
           {
            "marker": {
             "colorbar": {
              "outlinewidth": 0,
              "ticks": ""
             }
            },
            "type": "scatterternary"
           }
          ],
          "surface": [
           {
            "colorbar": {
             "outlinewidth": 0,
             "ticks": ""
            },
            "colorscale": [
             [
              0,
              "#0d0887"
             ],
             [
              0.1111111111111111,
              "#46039f"
             ],
             [
              0.2222222222222222,
              "#7201a8"
             ],
             [
              0.3333333333333333,
              "#9c179e"
             ],
             [
              0.4444444444444444,
              "#bd3786"
             ],
             [
              0.5555555555555556,
              "#d8576b"
             ],
             [
              0.6666666666666666,
              "#ed7953"
             ],
             [
              0.7777777777777778,
              "#fb9f3a"
             ],
             [
              0.8888888888888888,
              "#fdca26"
             ],
             [
              1,
              "#f0f921"
             ]
            ],
            "type": "surface"
           }
          ],
          "table": [
           {
            "cells": {
             "fill": {
              "color": "#EBF0F8"
             },
             "line": {
              "color": "white"
             }
            },
            "header": {
             "fill": {
              "color": "#C8D4E3"
             },
             "line": {
              "color": "white"
             }
            },
            "type": "table"
           }
          ]
         },
         "layout": {
          "annotationdefaults": {
           "arrowcolor": "#2a3f5f",
           "arrowhead": 0,
           "arrowwidth": 1
          },
          "autotypenumbers": "strict",
          "coloraxis": {
           "colorbar": {
            "outlinewidth": 0,
            "ticks": ""
           }
          },
          "colorscale": {
           "diverging": [
            [
             0,
             "#8e0152"
            ],
            [
             0.1,
             "#c51b7d"
            ],
            [
             0.2,
             "#de77ae"
            ],
            [
             0.3,
             "#f1b6da"
            ],
            [
             0.4,
             "#fde0ef"
            ],
            [
             0.5,
             "#f7f7f7"
            ],
            [
             0.6,
             "#e6f5d0"
            ],
            [
             0.7,
             "#b8e186"
            ],
            [
             0.8,
             "#7fbc41"
            ],
            [
             0.9,
             "#4d9221"
            ],
            [
             1,
             "#276419"
            ]
           ],
           "sequential": [
            [
             0,
             "#0d0887"
            ],
            [
             0.1111111111111111,
             "#46039f"
            ],
            [
             0.2222222222222222,
             "#7201a8"
            ],
            [
             0.3333333333333333,
             "#9c179e"
            ],
            [
             0.4444444444444444,
             "#bd3786"
            ],
            [
             0.5555555555555556,
             "#d8576b"
            ],
            [
             0.6666666666666666,
             "#ed7953"
            ],
            [
             0.7777777777777778,
             "#fb9f3a"
            ],
            [
             0.8888888888888888,
             "#fdca26"
            ],
            [
             1,
             "#f0f921"
            ]
           ],
           "sequentialminus": [
            [
             0,
             "#0d0887"
            ],
            [
             0.1111111111111111,
             "#46039f"
            ],
            [
             0.2222222222222222,
             "#7201a8"
            ],
            [
             0.3333333333333333,
             "#9c179e"
            ],
            [
             0.4444444444444444,
             "#bd3786"
            ],
            [
             0.5555555555555556,
             "#d8576b"
            ],
            [
             0.6666666666666666,
             "#ed7953"
            ],
            [
             0.7777777777777778,
             "#fb9f3a"
            ],
            [
             0.8888888888888888,
             "#fdca26"
            ],
            [
             1,
             "#f0f921"
            ]
           ]
          },
          "colorway": [
           "#636efa",
           "#EF553B",
           "#00cc96",
           "#ab63fa",
           "#FFA15A",
           "#19d3f3",
           "#FF6692",
           "#B6E880",
           "#FF97FF",
           "#FECB52"
          ],
          "font": {
           "color": "#2a3f5f"
          },
          "geo": {
           "bgcolor": "white",
           "lakecolor": "white",
           "landcolor": "#E5ECF6",
           "showlakes": true,
           "showland": true,
           "subunitcolor": "white"
          },
          "hoverlabel": {
           "align": "left"
          },
          "hovermode": "closest",
          "mapbox": {
           "style": "light"
          },
          "paper_bgcolor": "white",
          "plot_bgcolor": "#E5ECF6",
          "polar": {
           "angularaxis": {
            "gridcolor": "white",
            "linecolor": "white",
            "ticks": ""
           },
           "bgcolor": "#E5ECF6",
           "radialaxis": {
            "gridcolor": "white",
            "linecolor": "white",
            "ticks": ""
           }
          },
          "scene": {
           "xaxis": {
            "backgroundcolor": "#E5ECF6",
            "gridcolor": "white",
            "gridwidth": 2,
            "linecolor": "white",
            "showbackground": true,
            "ticks": "",
            "zerolinecolor": "white"
           },
           "yaxis": {
            "backgroundcolor": "#E5ECF6",
            "gridcolor": "white",
            "gridwidth": 2,
            "linecolor": "white",
            "showbackground": true,
            "ticks": "",
            "zerolinecolor": "white"
           },
           "zaxis": {
            "backgroundcolor": "#E5ECF6",
            "gridcolor": "white",
            "gridwidth": 2,
            "linecolor": "white",
            "showbackground": true,
            "ticks": "",
            "zerolinecolor": "white"
           }
          },
          "shapedefaults": {
           "line": {
            "color": "#2a3f5f"
           }
          },
          "ternary": {
           "aaxis": {
            "gridcolor": "white",
            "linecolor": "white",
            "ticks": ""
           },
           "baxis": {
            "gridcolor": "white",
            "linecolor": "white",
            "ticks": ""
           },
           "bgcolor": "#E5ECF6",
           "caxis": {
            "gridcolor": "white",
            "linecolor": "white",
            "ticks": ""
           }
          },
          "title": {
           "x": 0.05
          },
          "xaxis": {
           "automargin": true,
           "gridcolor": "white",
           "linecolor": "white",
           "ticks": "",
           "title": {
            "standoff": 15
           },
           "zerolinecolor": "white",
           "zerolinewidth": 2
          },
          "yaxis": {
           "automargin": true,
           "gridcolor": "white",
           "linecolor": "white",
           "ticks": "",
           "title": {
            "standoff": 15
           },
           "zerolinecolor": "white",
           "zerolinewidth": 2
          }
         }
        },
        "title": {
         "text": "Number of Missions by Country"
        }
       }
      },
      "text/html": [
       "<div>                            <div id=\"c79fa1a7-bb56-4945-9a71-47f490b928e4\" class=\"plotly-graph-div\" style=\"height:525px; width:100%;\"></div>            <script type=\"text/javascript\">                require([\"plotly\"], function(Plotly) {                    window.PLOTLYENV=window.PLOTLYENV || {};                                    if (document.getElementById(\"c79fa1a7-bb56-4945-9a71-47f490b928e4\")) {                    Plotly.newPlot(                        \"c79fa1a7-bb56-4945-9a71-47f490b928e4\",                        [{\"coloraxis\":\"coloraxis\",\"geo\":\"geo\",\"hovertemplate\":\"<b>%{hovertext}</b><br><br>iso=%{location}<br>Mission_Status=%{z}<extra></extra>\",\"hovertext\":[\"AUS\",\"BRA\",\"CHN\",\"FRA\",\"IND\",\"IRN\",\"ISR\",\"JPN\",\"KAZ\",\"KEN\",\"KOR\",\"NZL\",\"PRK\",\"RUS\",\"USA\"],\"locations\":[\"AUS\",\"BRA\",\"CHN\",\"FRA\",\"IND\",\"IRN\",\"ISR\",\"JPN\",\"KAZ\",\"KEN\",\"KOR\",\"NZL\",\"PRK\",\"RUS\",\"USA\"],\"name\":\"\",\"z\":[6,3,269,303,76,14,11,126,701,9,3,13,5,1398,1387],\"type\":\"choropleth\"}],                        {\"template\":{\"data\":{\"histogram2dcontour\":[{\"type\":\"histogram2dcontour\",\"colorbar\":{\"outlinewidth\":0,\"ticks\":\"\"},\"colorscale\":[[0.0,\"#0d0887\"],[0.1111111111111111,\"#46039f\"],[0.2222222222222222,\"#7201a8\"],[0.3333333333333333,\"#9c179e\"],[0.4444444444444444,\"#bd3786\"],[0.5555555555555556,\"#d8576b\"],[0.6666666666666666,\"#ed7953\"],[0.7777777777777778,\"#fb9f3a\"],[0.8888888888888888,\"#fdca26\"],[1.0,\"#f0f921\"]]}],\"choropleth\":[{\"type\":\"choropleth\",\"colorbar\":{\"outlinewidth\":0,\"ticks\":\"\"}}],\"histogram2d\":[{\"type\":\"histogram2d\",\"colorbar\":{\"outlinewidth\":0,\"ticks\":\"\"},\"colorscale\":[[0.0,\"#0d0887\"],[0.1111111111111111,\"#46039f\"],[0.2222222222222222,\"#7201a8\"],[0.3333333333333333,\"#9c179e\"],[0.4444444444444444,\"#bd3786\"],[0.5555555555555556,\"#d8576b\"],[0.6666666666666666,\"#ed7953\"],[0.7777777777777778,\"#fb9f3a\"],[0.8888888888888888,\"#fdca26\"],[1.0,\"#f0f921\"]]}],\"heatmap\":[{\"type\":\"heatmap\",\"colorbar\":{\"outlinewidth\":0,\"ticks\":\"\"},\"colorscale\":[[0.0,\"#0d0887\"],[0.1111111111111111,\"#46039f\"],[0.2222222222222222,\"#7201a8\"],[0.3333333333333333,\"#9c179e\"],[0.4444444444444444,\"#bd3786\"],[0.5555555555555556,\"#d8576b\"],[0.6666666666666666,\"#ed7953\"],[0.7777777777777778,\"#fb9f3a\"],[0.8888888888888888,\"#fdca26\"],[1.0,\"#f0f921\"]]}],\"heatmapgl\":[{\"type\":\"heatmapgl\",\"colorbar\":{\"outlinewidth\":0,\"ticks\":\"\"},\"colorscale\":[[0.0,\"#0d0887\"],[0.1111111111111111,\"#46039f\"],[0.2222222222222222,\"#7201a8\"],[0.3333333333333333,\"#9c179e\"],[0.4444444444444444,\"#bd3786\"],[0.5555555555555556,\"#d8576b\"],[0.6666666666666666,\"#ed7953\"],[0.7777777777777778,\"#fb9f3a\"],[0.8888888888888888,\"#fdca26\"],[1.0,\"#f0f921\"]]}],\"contourcarpet\":[{\"type\":\"contourcarpet\",\"colorbar\":{\"outlinewidth\":0,\"ticks\":\"\"}}],\"contour\":[{\"type\":\"contour\",\"colorbar\":{\"outlinewidth\":0,\"ticks\":\"\"},\"colorscale\":[[0.0,\"#0d0887\"],[0.1111111111111111,\"#46039f\"],[0.2222222222222222,\"#7201a8\"],[0.3333333333333333,\"#9c179e\"],[0.4444444444444444,\"#bd3786\"],[0.5555555555555556,\"#d8576b\"],[0.6666666666666666,\"#ed7953\"],[0.7777777777777778,\"#fb9f3a\"],[0.8888888888888888,\"#fdca26\"],[1.0,\"#f0f921\"]]}],\"surface\":[{\"type\":\"surface\",\"colorbar\":{\"outlinewidth\":0,\"ticks\":\"\"},\"colorscale\":[[0.0,\"#0d0887\"],[0.1111111111111111,\"#46039f\"],[0.2222222222222222,\"#7201a8\"],[0.3333333333333333,\"#9c179e\"],[0.4444444444444444,\"#bd3786\"],[0.5555555555555556,\"#d8576b\"],[0.6666666666666666,\"#ed7953\"],[0.7777777777777778,\"#fb9f3a\"],[0.8888888888888888,\"#fdca26\"],[1.0,\"#f0f921\"]]}],\"mesh3d\":[{\"type\":\"mesh3d\",\"colorbar\":{\"outlinewidth\":0,\"ticks\":\"\"}}],\"scatter\":[{\"fillpattern\":{\"fillmode\":\"overlay\",\"size\":10,\"solidity\":0.2},\"type\":\"scatter\"}],\"parcoords\":[{\"type\":\"parcoords\",\"line\":{\"colorbar\":{\"outlinewidth\":0,\"ticks\":\"\"}}}],\"scatterpolargl\":[{\"type\":\"scatterpolargl\",\"marker\":{\"colorbar\":{\"outlinewidth\":0,\"ticks\":\"\"}}}],\"bar\":[{\"error_x\":{\"color\":\"#2a3f5f\"},\"error_y\":{\"color\":\"#2a3f5f\"},\"marker\":{\"line\":{\"color\":\"#E5ECF6\",\"width\":0.5},\"pattern\":{\"fillmode\":\"overlay\",\"size\":10,\"solidity\":0.2}},\"type\":\"bar\"}],\"scattergeo\":[{\"type\":\"scattergeo\",\"marker\":{\"colorbar\":{\"outlinewidth\":0,\"ticks\":\"\"}}}],\"scatterpolar\":[{\"type\":\"scatterpolar\",\"marker\":{\"colorbar\":{\"outlinewidth\":0,\"ticks\":\"\"}}}],\"histogram\":[{\"marker\":{\"pattern\":{\"fillmode\":\"overlay\",\"size\":10,\"solidity\":0.2}},\"type\":\"histogram\"}],\"scattergl\":[{\"type\":\"scattergl\",\"marker\":{\"colorbar\":{\"outlinewidth\":0,\"ticks\":\"\"}}}],\"scatter3d\":[{\"type\":\"scatter3d\",\"line\":{\"colorbar\":{\"outlinewidth\":0,\"ticks\":\"\"}},\"marker\":{\"colorbar\":{\"outlinewidth\":0,\"ticks\":\"\"}}}],\"scattermapbox\":[{\"type\":\"scattermapbox\",\"marker\":{\"colorbar\":{\"outlinewidth\":0,\"ticks\":\"\"}}}],\"scatterternary\":[{\"type\":\"scatterternary\",\"marker\":{\"colorbar\":{\"outlinewidth\":0,\"ticks\":\"\"}}}],\"scattercarpet\":[{\"type\":\"scattercarpet\",\"marker\":{\"colorbar\":{\"outlinewidth\":0,\"ticks\":\"\"}}}],\"carpet\":[{\"aaxis\":{\"endlinecolor\":\"#2a3f5f\",\"gridcolor\":\"white\",\"linecolor\":\"white\",\"minorgridcolor\":\"white\",\"startlinecolor\":\"#2a3f5f\"},\"baxis\":{\"endlinecolor\":\"#2a3f5f\",\"gridcolor\":\"white\",\"linecolor\":\"white\",\"minorgridcolor\":\"white\",\"startlinecolor\":\"#2a3f5f\"},\"type\":\"carpet\"}],\"table\":[{\"cells\":{\"fill\":{\"color\":\"#EBF0F8\"},\"line\":{\"color\":\"white\"}},\"header\":{\"fill\":{\"color\":\"#C8D4E3\"},\"line\":{\"color\":\"white\"}},\"type\":\"table\"}],\"barpolar\":[{\"marker\":{\"line\":{\"color\":\"#E5ECF6\",\"width\":0.5},\"pattern\":{\"fillmode\":\"overlay\",\"size\":10,\"solidity\":0.2}},\"type\":\"barpolar\"}],\"pie\":[{\"automargin\":true,\"type\":\"pie\"}]},\"layout\":{\"autotypenumbers\":\"strict\",\"colorway\":[\"#636efa\",\"#EF553B\",\"#00cc96\",\"#ab63fa\",\"#FFA15A\",\"#19d3f3\",\"#FF6692\",\"#B6E880\",\"#FF97FF\",\"#FECB52\"],\"font\":{\"color\":\"#2a3f5f\"},\"hovermode\":\"closest\",\"hoverlabel\":{\"align\":\"left\"},\"paper_bgcolor\":\"white\",\"plot_bgcolor\":\"#E5ECF6\",\"polar\":{\"bgcolor\":\"#E5ECF6\",\"angularaxis\":{\"gridcolor\":\"white\",\"linecolor\":\"white\",\"ticks\":\"\"},\"radialaxis\":{\"gridcolor\":\"white\",\"linecolor\":\"white\",\"ticks\":\"\"}},\"ternary\":{\"bgcolor\":\"#E5ECF6\",\"aaxis\":{\"gridcolor\":\"white\",\"linecolor\":\"white\",\"ticks\":\"\"},\"baxis\":{\"gridcolor\":\"white\",\"linecolor\":\"white\",\"ticks\":\"\"},\"caxis\":{\"gridcolor\":\"white\",\"linecolor\":\"white\",\"ticks\":\"\"}},\"coloraxis\":{\"colorbar\":{\"outlinewidth\":0,\"ticks\":\"\"}},\"colorscale\":{\"sequential\":[[0.0,\"#0d0887\"],[0.1111111111111111,\"#46039f\"],[0.2222222222222222,\"#7201a8\"],[0.3333333333333333,\"#9c179e\"],[0.4444444444444444,\"#bd3786\"],[0.5555555555555556,\"#d8576b\"],[0.6666666666666666,\"#ed7953\"],[0.7777777777777778,\"#fb9f3a\"],[0.8888888888888888,\"#fdca26\"],[1.0,\"#f0f921\"]],\"sequentialminus\":[[0.0,\"#0d0887\"],[0.1111111111111111,\"#46039f\"],[0.2222222222222222,\"#7201a8\"],[0.3333333333333333,\"#9c179e\"],[0.4444444444444444,\"#bd3786\"],[0.5555555555555556,\"#d8576b\"],[0.6666666666666666,\"#ed7953\"],[0.7777777777777778,\"#fb9f3a\"],[0.8888888888888888,\"#fdca26\"],[1.0,\"#f0f921\"]],\"diverging\":[[0,\"#8e0152\"],[0.1,\"#c51b7d\"],[0.2,\"#de77ae\"],[0.3,\"#f1b6da\"],[0.4,\"#fde0ef\"],[0.5,\"#f7f7f7\"],[0.6,\"#e6f5d0\"],[0.7,\"#b8e186\"],[0.8,\"#7fbc41\"],[0.9,\"#4d9221\"],[1,\"#276419\"]]},\"xaxis\":{\"gridcolor\":\"white\",\"linecolor\":\"white\",\"ticks\":\"\",\"title\":{\"standoff\":15},\"zerolinecolor\":\"white\",\"automargin\":true,\"zerolinewidth\":2},\"yaxis\":{\"gridcolor\":\"white\",\"linecolor\":\"white\",\"ticks\":\"\",\"title\":{\"standoff\":15},\"zerolinecolor\":\"white\",\"automargin\":true,\"zerolinewidth\":2},\"scene\":{\"xaxis\":{\"backgroundcolor\":\"#E5ECF6\",\"gridcolor\":\"white\",\"linecolor\":\"white\",\"showbackground\":true,\"ticks\":\"\",\"zerolinecolor\":\"white\",\"gridwidth\":2},\"yaxis\":{\"backgroundcolor\":\"#E5ECF6\",\"gridcolor\":\"white\",\"linecolor\":\"white\",\"showbackground\":true,\"ticks\":\"\",\"zerolinecolor\":\"white\",\"gridwidth\":2},\"zaxis\":{\"backgroundcolor\":\"#E5ECF6\",\"gridcolor\":\"white\",\"linecolor\":\"white\",\"showbackground\":true,\"ticks\":\"\",\"zerolinecolor\":\"white\",\"gridwidth\":2}},\"shapedefaults\":{\"line\":{\"color\":\"#2a3f5f\"}},\"annotationdefaults\":{\"arrowcolor\":\"#2a3f5f\",\"arrowhead\":0,\"arrowwidth\":1},\"geo\":{\"bgcolor\":\"white\",\"landcolor\":\"#E5ECF6\",\"subunitcolor\":\"white\",\"showland\":true,\"showlakes\":true,\"lakecolor\":\"white\"},\"title\":{\"x\":0.05},\"mapbox\":{\"style\":\"light\"}}},\"geo\":{\"domain\":{\"x\":[0.0,1.0],\"y\":[0.0,1.0]},\"center\":{}},\"coloraxis\":{\"colorbar\":{\"title\":{\"text\":\"Mission_Status\"}},\"colorscale\":[[0.0,\"#0d0887\"],[0.1111111111111111,\"#46039f\"],[0.2222222222222222,\"#7201a8\"],[0.3333333333333333,\"#9c179e\"],[0.4444444444444444,\"#bd3786\"],[0.5555555555555556,\"#d8576b\"],[0.6666666666666666,\"#ed7953\"],[0.7777777777777778,\"#fb9f3a\"],[0.8888888888888888,\"#fdca26\"],[1.0,\"#f0f921\"]]},\"legend\":{\"tracegroupgap\":0},\"title\":{\"text\":\"Number of Missions by Country\"}},                        {\"responsive\": true}                    ).then(function(){\n",
       "                            \n",
       "var gd = document.getElementById('c79fa1a7-bb56-4945-9a71-47f490b928e4');\n",
       "var x = new MutationObserver(function (mutations, observer) {{\n",
       "        var display = window.getComputedStyle(gd).display;\n",
       "        if (!display || display === 'none') {{\n",
       "            console.log([gd, 'removed!']);\n",
       "            Plotly.purge(gd);\n",
       "            observer.disconnect();\n",
       "        }}\n",
       "}});\n",
       "\n",
       "// Listen for the removal of the full notebook cells\n",
       "var notebookContainer = gd.closest('#notebook-container');\n",
       "if (notebookContainer) {{\n",
       "    x.observe(notebookContainer, {childList: true});\n",
       "}}\n",
       "\n",
       "// Listen for the clearing of the current output cell\n",
       "var outputEl = gd.closest('.output');\n",
       "if (outputEl) {{\n",
       "    x.observe(outputEl, {childList: true});\n",
       "}}\n",
       "\n",
       "                        })                };                });            </script>        </div>"
      ]
     },
     "metadata": {},
     "output_type": "display_data"
    }
   ],
   "source": [
    "fig = px.choropleth(df_msn_cnt, locations=\"iso\",\n",
    "                    color=\"Mission_Status\", \n",
    "                    hover_name=\"iso\",\n",
    "                    color_continuous_scale=px.colors.sequential.Plasma,\n",
    "                   title=\"Number of Missions by Country\")\n",
    "fig.show()"
   ]
  },
  {
   "cell_type": "markdown",
   "metadata": {
    "id": "F3pwYSUlo_AK"
   },
   "source": [
    "## Using a Choropleth Map to Show the Number of Failures by Country\n"
   ]
  },
  {
   "cell_type": "markdown",
   "metadata": {},
   "source": [
    "### First lets separate out only failures "
   ]
  },
  {
   "cell_type": "code",
   "execution_count": 118,
   "metadata": {},
   "outputs": [
    {
     "data": {
      "text/html": [
       "<div>\n",
       "<style scoped>\n",
       "    .dataframe tbody tr th:only-of-type {\n",
       "        vertical-align: middle;\n",
       "    }\n",
       "\n",
       "    .dataframe tbody tr th {\n",
       "        vertical-align: top;\n",
       "    }\n",
       "\n",
       "    .dataframe thead th {\n",
       "        text-align: right;\n",
       "    }\n",
       "</style>\n",
       "<table border=\"1\" class=\"dataframe\">\n",
       "  <thead>\n",
       "    <tr style=\"text-align: right;\">\n",
       "      <th></th>\n",
       "      <th>Organisation</th>\n",
       "      <th>Location</th>\n",
       "      <th>Date</th>\n",
       "      <th>Detail</th>\n",
       "      <th>Rocket_Status</th>\n",
       "      <th>Price</th>\n",
       "      <th>Mission_Status</th>\n",
       "      <th>country</th>\n",
       "      <th>iso</th>\n",
       "      <th>year</th>\n",
       "    </tr>\n",
       "  </thead>\n",
       "  <tbody>\n",
       "    <tr>\n",
       "      <th>11</th>\n",
       "      <td>ExPace</td>\n",
       "      <td>Site 95, Jiuquan Satellite Launch Center, China</td>\n",
       "      <td>2020-07-10 04:17:00+00:00</td>\n",
       "      <td>Kuaizhou 11 | Jilin-1 02E, CentiSpace-1 S2</td>\n",
       "      <td>StatusActive</td>\n",
       "      <td>28.30</td>\n",
       "      <td>Failure</td>\n",
       "      <td>China</td>\n",
       "      <td>CHN</td>\n",
       "      <td>2020</td>\n",
       "    </tr>\n",
       "    <tr>\n",
       "      <th>15</th>\n",
       "      <td>Rocket Lab</td>\n",
       "      <td>Rocket Lab LC-1A, M?hia Peninsula, New Zealand</td>\n",
       "      <td>2020-07-04 21:19:00+00:00</td>\n",
       "      <td>Electron/Curie | Pics Or It Didn??¦t Happen</td>\n",
       "      <td>StatusActive</td>\n",
       "      <td>7.50</td>\n",
       "      <td>Failure</td>\n",
       "      <td>New Zealand</td>\n",
       "      <td>NZL</td>\n",
       "      <td>2020</td>\n",
       "    </tr>\n",
       "    <tr>\n",
       "      <th>27</th>\n",
       "      <td>Virgin Orbit</td>\n",
       "      <td>Cosmic Girl, Mojave Air and Space Port, Califo...</td>\n",
       "      <td>2020-05-25 19:50:00+00:00</td>\n",
       "      <td>LauncherOne | Demo Flight</td>\n",
       "      <td>StatusActive</td>\n",
       "      <td>12.00</td>\n",
       "      <td>Failure</td>\n",
       "      <td>United States of America</td>\n",
       "      <td>USA</td>\n",
       "      <td>2020</td>\n",
       "    </tr>\n",
       "    <tr>\n",
       "      <th>36</th>\n",
       "      <td>CASC</td>\n",
       "      <td>LC-2, Xichang Satellite Launch Center, China</td>\n",
       "      <td>2020-04-09 11:46:00+00:00</td>\n",
       "      <td>Long March 3B/E | Nusantara Dua</td>\n",
       "      <td>StatusActive</td>\n",
       "      <td>29.15</td>\n",
       "      <td>Failure</td>\n",
       "      <td>China</td>\n",
       "      <td>CHN</td>\n",
       "      <td>2020</td>\n",
       "    </tr>\n",
       "    <tr>\n",
       "      <th>43</th>\n",
       "      <td>CASC</td>\n",
       "      <td>LC-201, Wenchang Satellite Launch Center, China</td>\n",
       "      <td>2020-03-16 13:34:00+00:00</td>\n",
       "      <td>Long March 7A | XJY-6</td>\n",
       "      <td>StatusActive</td>\n",
       "      <td>NaN</td>\n",
       "      <td>Failure</td>\n",
       "      <td>China</td>\n",
       "      <td>CHN</td>\n",
       "      <td>2020</td>\n",
       "    </tr>\n",
       "    <tr>\n",
       "      <th>...</th>\n",
       "      <td>...</td>\n",
       "      <td>...</td>\n",
       "      <td>...</td>\n",
       "      <td>...</td>\n",
       "      <td>...</td>\n",
       "      <td>...</td>\n",
       "      <td>...</td>\n",
       "      <td>...</td>\n",
       "      <td>...</td>\n",
       "      <td>...</td>\n",
       "    </tr>\n",
       "    <tr>\n",
       "      <th>4314</th>\n",
       "      <td>US Navy</td>\n",
       "      <td>LC-18A, Cape Canaveral AFS, Florida, USA</td>\n",
       "      <td>1958-04-28 02:53:00+00:00</td>\n",
       "      <td>Vanguard | Vanguard TV5</td>\n",
       "      <td>StatusRetired</td>\n",
       "      <td>NaN</td>\n",
       "      <td>Failure</td>\n",
       "      <td>United States of America</td>\n",
       "      <td>USA</td>\n",
       "      <td>1958</td>\n",
       "    </tr>\n",
       "    <tr>\n",
       "      <th>4315</th>\n",
       "      <td>RVSN USSR</td>\n",
       "      <td>Site 1/5, Baikonur Cosmodrome, Kazakhstan</td>\n",
       "      <td>1958-04-27 09:01:00+00:00</td>\n",
       "      <td>Sputnik 8A91 | Sputnik-3 #1</td>\n",
       "      <td>StatusRetired</td>\n",
       "      <td>NaN</td>\n",
       "      <td>Failure</td>\n",
       "      <td>Kazakhstan</td>\n",
       "      <td>KAZ</td>\n",
       "      <td>1958</td>\n",
       "    </tr>\n",
       "    <tr>\n",
       "      <th>4318</th>\n",
       "      <td>AMBA</td>\n",
       "      <td>LC-26A, Cape Canaveral AFS, Florida, USA</td>\n",
       "      <td>1958-03-05 18:27:00+00:00</td>\n",
       "      <td>Juno I | Explorer 2</td>\n",
       "      <td>StatusRetired</td>\n",
       "      <td>NaN</td>\n",
       "      <td>Failure</td>\n",
       "      <td>United States of America</td>\n",
       "      <td>USA</td>\n",
       "      <td>1958</td>\n",
       "    </tr>\n",
       "    <tr>\n",
       "      <th>4319</th>\n",
       "      <td>US Navy</td>\n",
       "      <td>LC-18A, Cape Canaveral AFS, Florida, USA</td>\n",
       "      <td>1958-02-05 07:33:00+00:00</td>\n",
       "      <td>Vanguard | Vanguard TV3BU</td>\n",
       "      <td>StatusRetired</td>\n",
       "      <td>NaN</td>\n",
       "      <td>Failure</td>\n",
       "      <td>United States of America</td>\n",
       "      <td>USA</td>\n",
       "      <td>1958</td>\n",
       "    </tr>\n",
       "    <tr>\n",
       "      <th>4321</th>\n",
       "      <td>US Navy</td>\n",
       "      <td>LC-18A, Cape Canaveral AFS, Florida, USA</td>\n",
       "      <td>1957-12-06 16:44:00+00:00</td>\n",
       "      <td>Vanguard | Vanguard TV3</td>\n",
       "      <td>StatusRetired</td>\n",
       "      <td>NaN</td>\n",
       "      <td>Failure</td>\n",
       "      <td>United States of America</td>\n",
       "      <td>USA</td>\n",
       "      <td>1957</td>\n",
       "    </tr>\n",
       "  </tbody>\n",
       "</table>\n",
       "<p>339 rows × 10 columns</p>\n",
       "</div>"
      ],
      "text/plain": [
       "      Organisation                                           Location  \\\n",
       "11          ExPace    Site 95, Jiuquan Satellite Launch Center, China   \n",
       "15      Rocket Lab    Rocket Lab LC-1A, M?hia Peninsula, New Zealand   \n",
       "27    Virgin Orbit  Cosmic Girl, Mojave Air and Space Port, Califo...   \n",
       "36            CASC       LC-2, Xichang Satellite Launch Center, China   \n",
       "43            CASC    LC-201, Wenchang Satellite Launch Center, China   \n",
       "...            ...                                                ...   \n",
       "4314       US Navy           LC-18A, Cape Canaveral AFS, Florida, USA   \n",
       "4315     RVSN USSR          Site 1/5, Baikonur Cosmodrome, Kazakhstan   \n",
       "4318          AMBA           LC-26A, Cape Canaveral AFS, Florida, USA   \n",
       "4319       US Navy           LC-18A, Cape Canaveral AFS, Florida, USA   \n",
       "4321       US Navy           LC-18A, Cape Canaveral AFS, Florida, USA   \n",
       "\n",
       "                           Date                                       Detail  \\\n",
       "11    2020-07-10 04:17:00+00:00   Kuaizhou 11 | Jilin-1 02E, CentiSpace-1 S2   \n",
       "15    2020-07-04 21:19:00+00:00  Electron/Curie | Pics Or It Didn??¦t Happen   \n",
       "27    2020-05-25 19:50:00+00:00                    LauncherOne | Demo Flight   \n",
       "36    2020-04-09 11:46:00+00:00              Long March 3B/E | Nusantara Dua   \n",
       "43    2020-03-16 13:34:00+00:00                        Long March 7A | XJY-6   \n",
       "...                         ...                                          ...   \n",
       "4314  1958-04-28 02:53:00+00:00                      Vanguard | Vanguard TV5   \n",
       "4315  1958-04-27 09:01:00+00:00                  Sputnik 8A91 | Sputnik-3 #1   \n",
       "4318  1958-03-05 18:27:00+00:00                          Juno I | Explorer 2   \n",
       "4319  1958-02-05 07:33:00+00:00                    Vanguard | Vanguard TV3BU   \n",
       "4321  1957-12-06 16:44:00+00:00                      Vanguard | Vanguard TV3   \n",
       "\n",
       "      Rocket_Status  Price Mission_Status                   country  iso  year  \n",
       "11     StatusActive  28.30        Failure                     China  CHN  2020  \n",
       "15     StatusActive   7.50        Failure               New Zealand  NZL  2020  \n",
       "27     StatusActive  12.00        Failure  United States of America  USA  2020  \n",
       "36     StatusActive  29.15        Failure                     China  CHN  2020  \n",
       "43     StatusActive    NaN        Failure                     China  CHN  2020  \n",
       "...             ...    ...            ...                       ...  ...   ...  \n",
       "4314  StatusRetired    NaN        Failure  United States of America  USA  1958  \n",
       "4315  StatusRetired    NaN        Failure                Kazakhstan  KAZ  1958  \n",
       "4318  StatusRetired    NaN        Failure  United States of America  USA  1958  \n",
       "4319  StatusRetired    NaN        Failure  United States of America  USA  1958  \n",
       "4321  StatusRetired    NaN        Failure  United States of America  USA  1957  \n",
       "\n",
       "[339 rows x 10 columns]"
      ]
     },
     "execution_count": 118,
     "metadata": {},
     "output_type": "execute_result"
    }
   ],
   "source": [
    "df_fails = df_data[df_data[\"Mission_Status\"]==\"Failure\"]\n",
    "df_fails"
   ]
  },
  {
   "cell_type": "code",
   "execution_count": 74,
   "metadata": {},
   "outputs": [],
   "source": [
    "df_fails_cnt = df_fails.groupby(\"iso\", as_index=False)[\"Mission_Status\"].count()"
   ]
  },
  {
   "cell_type": "code",
   "execution_count": 75,
   "metadata": {},
   "outputs": [],
   "source": [
    "df_fails_cnt.rename(columns = {\"Mission_Status\":\"Number of Failures\"}, inplace=True)"
   ]
  },
  {
   "cell_type": "code",
   "execution_count": 76,
   "metadata": {},
   "outputs": [
    {
     "data": {
      "text/html": [
       "<div>\n",
       "<style scoped>\n",
       "    .dataframe tbody tr th:only-of-type {\n",
       "        vertical-align: middle;\n",
       "    }\n",
       "\n",
       "    .dataframe tbody tr th {\n",
       "        vertical-align: top;\n",
       "    }\n",
       "\n",
       "    .dataframe thead th {\n",
       "        text-align: right;\n",
       "    }\n",
       "</style>\n",
       "<table border=\"1\" class=\"dataframe\">\n",
       "  <thead>\n",
       "    <tr style=\"text-align: right;\">\n",
       "      <th></th>\n",
       "      <th>iso</th>\n",
       "      <th>Number of Failures</th>\n",
       "    </tr>\n",
       "  </thead>\n",
       "  <tbody>\n",
       "    <tr>\n",
       "      <th>0</th>\n",
       "      <td>AUS</td>\n",
       "      <td>3</td>\n",
       "    </tr>\n",
       "    <tr>\n",
       "      <th>1</th>\n",
       "      <td>BRA</td>\n",
       "      <td>2</td>\n",
       "    </tr>\n",
       "    <tr>\n",
       "      <th>2</th>\n",
       "      <td>CHN</td>\n",
       "      <td>19</td>\n",
       "    </tr>\n",
       "    <tr>\n",
       "      <th>3</th>\n",
       "      <td>FRA</td>\n",
       "      <td>13</td>\n",
       "    </tr>\n",
       "    <tr>\n",
       "      <th>4</th>\n",
       "      <td>IND</td>\n",
       "      <td>8</td>\n",
       "    </tr>\n",
       "    <tr>\n",
       "      <th>5</th>\n",
       "      <td>IRN</td>\n",
       "      <td>8</td>\n",
       "    </tr>\n",
       "    <tr>\n",
       "      <th>6</th>\n",
       "      <td>ISR</td>\n",
       "      <td>2</td>\n",
       "    </tr>\n",
       "    <tr>\n",
       "      <th>7</th>\n",
       "      <td>JPN</td>\n",
       "      <td>10</td>\n",
       "    </tr>\n",
       "    <tr>\n",
       "      <th>8</th>\n",
       "      <td>KAZ</td>\n",
       "      <td>72</td>\n",
       "    </tr>\n",
       "    <tr>\n",
       "      <th>9</th>\n",
       "      <td>KOR</td>\n",
       "      <td>2</td>\n",
       "    </tr>\n",
       "    <tr>\n",
       "      <th>10</th>\n",
       "      <td>NZL</td>\n",
       "      <td>2</td>\n",
       "    </tr>\n",
       "    <tr>\n",
       "      <th>11</th>\n",
       "      <td>PRK</td>\n",
       "      <td>3</td>\n",
       "    </tr>\n",
       "    <tr>\n",
       "      <th>12</th>\n",
       "      <td>RUS</td>\n",
       "      <td>63</td>\n",
       "    </tr>\n",
       "    <tr>\n",
       "      <th>13</th>\n",
       "      <td>USA</td>\n",
       "      <td>132</td>\n",
       "    </tr>\n",
       "  </tbody>\n",
       "</table>\n",
       "</div>"
      ],
      "text/plain": [
       "    iso  Number of Failures\n",
       "0   AUS                   3\n",
       "1   BRA                   2\n",
       "2   CHN                  19\n",
       "3   FRA                  13\n",
       "4   IND                   8\n",
       "5   IRN                   8\n",
       "6   ISR                   2\n",
       "7   JPN                  10\n",
       "8   KAZ                  72\n",
       "9   KOR                   2\n",
       "10  NZL                   2\n",
       "11  PRK                   3\n",
       "12  RUS                  63\n",
       "13  USA                 132"
      ]
     },
     "execution_count": 76,
     "metadata": {},
     "output_type": "execute_result"
    }
   ],
   "source": [
    "df_fails_cnt"
   ]
  },
  {
   "cell_type": "code",
   "execution_count": 77,
   "metadata": {},
   "outputs": [
    {
     "data": {
      "application/vnd.plotly.v1+json": {
       "config": {
        "plotlyServerURL": "https://plot.ly"
       },
       "data": [
        {
         "coloraxis": "coloraxis",
         "geo": "geo",
         "hovertemplate": "<b>%{hovertext}</b><br><br>iso=%{location}<br>Number of Failures=%{z}<extra></extra>",
         "hovertext": [
          "AUS",
          "BRA",
          "CHN",
          "FRA",
          "IND",
          "IRN",
          "ISR",
          "JPN",
          "KAZ",
          "KOR",
          "NZL",
          "PRK",
          "RUS",
          "USA"
         ],
         "locations": [
          "AUS",
          "BRA",
          "CHN",
          "FRA",
          "IND",
          "IRN",
          "ISR",
          "JPN",
          "KAZ",
          "KOR",
          "NZL",
          "PRK",
          "RUS",
          "USA"
         ],
         "name": "",
         "type": "choropleth",
         "z": [
          3,
          2,
          19,
          13,
          8,
          8,
          2,
          10,
          72,
          2,
          2,
          3,
          63,
          132
         ]
        }
       ],
       "layout": {
        "coloraxis": {
         "colorbar": {
          "title": {
           "text": "Number of Failures"
          }
         },
         "colorscale": [
          [
           0,
           "#0d0887"
          ],
          [
           0.1111111111111111,
           "#46039f"
          ],
          [
           0.2222222222222222,
           "#7201a8"
          ],
          [
           0.3333333333333333,
           "#9c179e"
          ],
          [
           0.4444444444444444,
           "#bd3786"
          ],
          [
           0.5555555555555556,
           "#d8576b"
          ],
          [
           0.6666666666666666,
           "#ed7953"
          ],
          [
           0.7777777777777778,
           "#fb9f3a"
          ],
          [
           0.8888888888888888,
           "#fdca26"
          ],
          [
           1,
           "#f0f921"
          ]
         ]
        },
        "geo": {
         "center": {},
         "domain": {
          "x": [
           0,
           1
          ],
          "y": [
           0,
           1
          ]
         }
        },
        "legend": {
         "tracegroupgap": 0
        },
        "template": {
         "data": {
          "bar": [
           {
            "error_x": {
             "color": "#2a3f5f"
            },
            "error_y": {
             "color": "#2a3f5f"
            },
            "marker": {
             "line": {
              "color": "#E5ECF6",
              "width": 0.5
             },
             "pattern": {
              "fillmode": "overlay",
              "size": 10,
              "solidity": 0.2
             }
            },
            "type": "bar"
           }
          ],
          "barpolar": [
           {
            "marker": {
             "line": {
              "color": "#E5ECF6",
              "width": 0.5
             },
             "pattern": {
              "fillmode": "overlay",
              "size": 10,
              "solidity": 0.2
             }
            },
            "type": "barpolar"
           }
          ],
          "carpet": [
           {
            "aaxis": {
             "endlinecolor": "#2a3f5f",
             "gridcolor": "white",
             "linecolor": "white",
             "minorgridcolor": "white",
             "startlinecolor": "#2a3f5f"
            },
            "baxis": {
             "endlinecolor": "#2a3f5f",
             "gridcolor": "white",
             "linecolor": "white",
             "minorgridcolor": "white",
             "startlinecolor": "#2a3f5f"
            },
            "type": "carpet"
           }
          ],
          "choropleth": [
           {
            "colorbar": {
             "outlinewidth": 0,
             "ticks": ""
            },
            "type": "choropleth"
           }
          ],
          "contour": [
           {
            "colorbar": {
             "outlinewidth": 0,
             "ticks": ""
            },
            "colorscale": [
             [
              0,
              "#0d0887"
             ],
             [
              0.1111111111111111,
              "#46039f"
             ],
             [
              0.2222222222222222,
              "#7201a8"
             ],
             [
              0.3333333333333333,
              "#9c179e"
             ],
             [
              0.4444444444444444,
              "#bd3786"
             ],
             [
              0.5555555555555556,
              "#d8576b"
             ],
             [
              0.6666666666666666,
              "#ed7953"
             ],
             [
              0.7777777777777778,
              "#fb9f3a"
             ],
             [
              0.8888888888888888,
              "#fdca26"
             ],
             [
              1,
              "#f0f921"
             ]
            ],
            "type": "contour"
           }
          ],
          "contourcarpet": [
           {
            "colorbar": {
             "outlinewidth": 0,
             "ticks": ""
            },
            "type": "contourcarpet"
           }
          ],
          "heatmap": [
           {
            "colorbar": {
             "outlinewidth": 0,
             "ticks": ""
            },
            "colorscale": [
             [
              0,
              "#0d0887"
             ],
             [
              0.1111111111111111,
              "#46039f"
             ],
             [
              0.2222222222222222,
              "#7201a8"
             ],
             [
              0.3333333333333333,
              "#9c179e"
             ],
             [
              0.4444444444444444,
              "#bd3786"
             ],
             [
              0.5555555555555556,
              "#d8576b"
             ],
             [
              0.6666666666666666,
              "#ed7953"
             ],
             [
              0.7777777777777778,
              "#fb9f3a"
             ],
             [
              0.8888888888888888,
              "#fdca26"
             ],
             [
              1,
              "#f0f921"
             ]
            ],
            "type": "heatmap"
           }
          ],
          "heatmapgl": [
           {
            "colorbar": {
             "outlinewidth": 0,
             "ticks": ""
            },
            "colorscale": [
             [
              0,
              "#0d0887"
             ],
             [
              0.1111111111111111,
              "#46039f"
             ],
             [
              0.2222222222222222,
              "#7201a8"
             ],
             [
              0.3333333333333333,
              "#9c179e"
             ],
             [
              0.4444444444444444,
              "#bd3786"
             ],
             [
              0.5555555555555556,
              "#d8576b"
             ],
             [
              0.6666666666666666,
              "#ed7953"
             ],
             [
              0.7777777777777778,
              "#fb9f3a"
             ],
             [
              0.8888888888888888,
              "#fdca26"
             ],
             [
              1,
              "#f0f921"
             ]
            ],
            "type": "heatmapgl"
           }
          ],
          "histogram": [
           {
            "marker": {
             "pattern": {
              "fillmode": "overlay",
              "size": 10,
              "solidity": 0.2
             }
            },
            "type": "histogram"
           }
          ],
          "histogram2d": [
           {
            "colorbar": {
             "outlinewidth": 0,
             "ticks": ""
            },
            "colorscale": [
             [
              0,
              "#0d0887"
             ],
             [
              0.1111111111111111,
              "#46039f"
             ],
             [
              0.2222222222222222,
              "#7201a8"
             ],
             [
              0.3333333333333333,
              "#9c179e"
             ],
             [
              0.4444444444444444,
              "#bd3786"
             ],
             [
              0.5555555555555556,
              "#d8576b"
             ],
             [
              0.6666666666666666,
              "#ed7953"
             ],
             [
              0.7777777777777778,
              "#fb9f3a"
             ],
             [
              0.8888888888888888,
              "#fdca26"
             ],
             [
              1,
              "#f0f921"
             ]
            ],
            "type": "histogram2d"
           }
          ],
          "histogram2dcontour": [
           {
            "colorbar": {
             "outlinewidth": 0,
             "ticks": ""
            },
            "colorscale": [
             [
              0,
              "#0d0887"
             ],
             [
              0.1111111111111111,
              "#46039f"
             ],
             [
              0.2222222222222222,
              "#7201a8"
             ],
             [
              0.3333333333333333,
              "#9c179e"
             ],
             [
              0.4444444444444444,
              "#bd3786"
             ],
             [
              0.5555555555555556,
              "#d8576b"
             ],
             [
              0.6666666666666666,
              "#ed7953"
             ],
             [
              0.7777777777777778,
              "#fb9f3a"
             ],
             [
              0.8888888888888888,
              "#fdca26"
             ],
             [
              1,
              "#f0f921"
             ]
            ],
            "type": "histogram2dcontour"
           }
          ],
          "mesh3d": [
           {
            "colorbar": {
             "outlinewidth": 0,
             "ticks": ""
            },
            "type": "mesh3d"
           }
          ],
          "parcoords": [
           {
            "line": {
             "colorbar": {
              "outlinewidth": 0,
              "ticks": ""
             }
            },
            "type": "parcoords"
           }
          ],
          "pie": [
           {
            "automargin": true,
            "type": "pie"
           }
          ],
          "scatter": [
           {
            "fillpattern": {
             "fillmode": "overlay",
             "size": 10,
             "solidity": 0.2
            },
            "type": "scatter"
           }
          ],
          "scatter3d": [
           {
            "line": {
             "colorbar": {
              "outlinewidth": 0,
              "ticks": ""
             }
            },
            "marker": {
             "colorbar": {
              "outlinewidth": 0,
              "ticks": ""
             }
            },
            "type": "scatter3d"
           }
          ],
          "scattercarpet": [
           {
            "marker": {
             "colorbar": {
              "outlinewidth": 0,
              "ticks": ""
             }
            },
            "type": "scattercarpet"
           }
          ],
          "scattergeo": [
           {
            "marker": {
             "colorbar": {
              "outlinewidth": 0,
              "ticks": ""
             }
            },
            "type": "scattergeo"
           }
          ],
          "scattergl": [
           {
            "marker": {
             "colorbar": {
              "outlinewidth": 0,
              "ticks": ""
             }
            },
            "type": "scattergl"
           }
          ],
          "scattermapbox": [
           {
            "marker": {
             "colorbar": {
              "outlinewidth": 0,
              "ticks": ""
             }
            },
            "type": "scattermapbox"
           }
          ],
          "scatterpolar": [
           {
            "marker": {
             "colorbar": {
              "outlinewidth": 0,
              "ticks": ""
             }
            },
            "type": "scatterpolar"
           }
          ],
          "scatterpolargl": [
           {
            "marker": {
             "colorbar": {
              "outlinewidth": 0,
              "ticks": ""
             }
            },
            "type": "scatterpolargl"
           }
          ],
          "scatterternary": [
           {
            "marker": {
             "colorbar": {
              "outlinewidth": 0,
              "ticks": ""
             }
            },
            "type": "scatterternary"
           }
          ],
          "surface": [
           {
            "colorbar": {
             "outlinewidth": 0,
             "ticks": ""
            },
            "colorscale": [
             [
              0,
              "#0d0887"
             ],
             [
              0.1111111111111111,
              "#46039f"
             ],
             [
              0.2222222222222222,
              "#7201a8"
             ],
             [
              0.3333333333333333,
              "#9c179e"
             ],
             [
              0.4444444444444444,
              "#bd3786"
             ],
             [
              0.5555555555555556,
              "#d8576b"
             ],
             [
              0.6666666666666666,
              "#ed7953"
             ],
             [
              0.7777777777777778,
              "#fb9f3a"
             ],
             [
              0.8888888888888888,
              "#fdca26"
             ],
             [
              1,
              "#f0f921"
             ]
            ],
            "type": "surface"
           }
          ],
          "table": [
           {
            "cells": {
             "fill": {
              "color": "#EBF0F8"
             },
             "line": {
              "color": "white"
             }
            },
            "header": {
             "fill": {
              "color": "#C8D4E3"
             },
             "line": {
              "color": "white"
             }
            },
            "type": "table"
           }
          ]
         },
         "layout": {
          "annotationdefaults": {
           "arrowcolor": "#2a3f5f",
           "arrowhead": 0,
           "arrowwidth": 1
          },
          "autotypenumbers": "strict",
          "coloraxis": {
           "colorbar": {
            "outlinewidth": 0,
            "ticks": ""
           }
          },
          "colorscale": {
           "diverging": [
            [
             0,
             "#8e0152"
            ],
            [
             0.1,
             "#c51b7d"
            ],
            [
             0.2,
             "#de77ae"
            ],
            [
             0.3,
             "#f1b6da"
            ],
            [
             0.4,
             "#fde0ef"
            ],
            [
             0.5,
             "#f7f7f7"
            ],
            [
             0.6,
             "#e6f5d0"
            ],
            [
             0.7,
             "#b8e186"
            ],
            [
             0.8,
             "#7fbc41"
            ],
            [
             0.9,
             "#4d9221"
            ],
            [
             1,
             "#276419"
            ]
           ],
           "sequential": [
            [
             0,
             "#0d0887"
            ],
            [
             0.1111111111111111,
             "#46039f"
            ],
            [
             0.2222222222222222,
             "#7201a8"
            ],
            [
             0.3333333333333333,
             "#9c179e"
            ],
            [
             0.4444444444444444,
             "#bd3786"
            ],
            [
             0.5555555555555556,
             "#d8576b"
            ],
            [
             0.6666666666666666,
             "#ed7953"
            ],
            [
             0.7777777777777778,
             "#fb9f3a"
            ],
            [
             0.8888888888888888,
             "#fdca26"
            ],
            [
             1,
             "#f0f921"
            ]
           ],
           "sequentialminus": [
            [
             0,
             "#0d0887"
            ],
            [
             0.1111111111111111,
             "#46039f"
            ],
            [
             0.2222222222222222,
             "#7201a8"
            ],
            [
             0.3333333333333333,
             "#9c179e"
            ],
            [
             0.4444444444444444,
             "#bd3786"
            ],
            [
             0.5555555555555556,
             "#d8576b"
            ],
            [
             0.6666666666666666,
             "#ed7953"
            ],
            [
             0.7777777777777778,
             "#fb9f3a"
            ],
            [
             0.8888888888888888,
             "#fdca26"
            ],
            [
             1,
             "#f0f921"
            ]
           ]
          },
          "colorway": [
           "#636efa",
           "#EF553B",
           "#00cc96",
           "#ab63fa",
           "#FFA15A",
           "#19d3f3",
           "#FF6692",
           "#B6E880",
           "#FF97FF",
           "#FECB52"
          ],
          "font": {
           "color": "#2a3f5f"
          },
          "geo": {
           "bgcolor": "white",
           "lakecolor": "white",
           "landcolor": "#E5ECF6",
           "showlakes": true,
           "showland": true,
           "subunitcolor": "white"
          },
          "hoverlabel": {
           "align": "left"
          },
          "hovermode": "closest",
          "mapbox": {
           "style": "light"
          },
          "paper_bgcolor": "white",
          "plot_bgcolor": "#E5ECF6",
          "polar": {
           "angularaxis": {
            "gridcolor": "white",
            "linecolor": "white",
            "ticks": ""
           },
           "bgcolor": "#E5ECF6",
           "radialaxis": {
            "gridcolor": "white",
            "linecolor": "white",
            "ticks": ""
           }
          },
          "scene": {
           "xaxis": {
            "backgroundcolor": "#E5ECF6",
            "gridcolor": "white",
            "gridwidth": 2,
            "linecolor": "white",
            "showbackground": true,
            "ticks": "",
            "zerolinecolor": "white"
           },
           "yaxis": {
            "backgroundcolor": "#E5ECF6",
            "gridcolor": "white",
            "gridwidth": 2,
            "linecolor": "white",
            "showbackground": true,
            "ticks": "",
            "zerolinecolor": "white"
           },
           "zaxis": {
            "backgroundcolor": "#E5ECF6",
            "gridcolor": "white",
            "gridwidth": 2,
            "linecolor": "white",
            "showbackground": true,
            "ticks": "",
            "zerolinecolor": "white"
           }
          },
          "shapedefaults": {
           "line": {
            "color": "#2a3f5f"
           }
          },
          "ternary": {
           "aaxis": {
            "gridcolor": "white",
            "linecolor": "white",
            "ticks": ""
           },
           "baxis": {
            "gridcolor": "white",
            "linecolor": "white",
            "ticks": ""
           },
           "bgcolor": "#E5ECF6",
           "caxis": {
            "gridcolor": "white",
            "linecolor": "white",
            "ticks": ""
           }
          },
          "title": {
           "x": 0.05
          },
          "xaxis": {
           "automargin": true,
           "gridcolor": "white",
           "linecolor": "white",
           "ticks": "",
           "title": {
            "standoff": 15
           },
           "zerolinecolor": "white",
           "zerolinewidth": 2
          },
          "yaxis": {
           "automargin": true,
           "gridcolor": "white",
           "linecolor": "white",
           "ticks": "",
           "title": {
            "standoff": 15
           },
           "zerolinecolor": "white",
           "zerolinewidth": 2
          }
         }
        },
        "title": {
         "text": "Number of Failures by Country"
        }
       }
      },
      "text/html": [
       "<div>                            <div id=\"ce8096e8-0d09-4475-83ea-29ea897eba3a\" class=\"plotly-graph-div\" style=\"height:525px; width:100%;\"></div>            <script type=\"text/javascript\">                require([\"plotly\"], function(Plotly) {                    window.PLOTLYENV=window.PLOTLYENV || {};                                    if (document.getElementById(\"ce8096e8-0d09-4475-83ea-29ea897eba3a\")) {                    Plotly.newPlot(                        \"ce8096e8-0d09-4475-83ea-29ea897eba3a\",                        [{\"coloraxis\":\"coloraxis\",\"geo\":\"geo\",\"hovertemplate\":\"<b>%{hovertext}</b><br><br>iso=%{location}<br>Number of Failures=%{z}<extra></extra>\",\"hovertext\":[\"AUS\",\"BRA\",\"CHN\",\"FRA\",\"IND\",\"IRN\",\"ISR\",\"JPN\",\"KAZ\",\"KOR\",\"NZL\",\"PRK\",\"RUS\",\"USA\"],\"locations\":[\"AUS\",\"BRA\",\"CHN\",\"FRA\",\"IND\",\"IRN\",\"ISR\",\"JPN\",\"KAZ\",\"KOR\",\"NZL\",\"PRK\",\"RUS\",\"USA\"],\"name\":\"\",\"z\":[3,2,19,13,8,8,2,10,72,2,2,3,63,132],\"type\":\"choropleth\"}],                        {\"template\":{\"data\":{\"histogram2dcontour\":[{\"type\":\"histogram2dcontour\",\"colorbar\":{\"outlinewidth\":0,\"ticks\":\"\"},\"colorscale\":[[0.0,\"#0d0887\"],[0.1111111111111111,\"#46039f\"],[0.2222222222222222,\"#7201a8\"],[0.3333333333333333,\"#9c179e\"],[0.4444444444444444,\"#bd3786\"],[0.5555555555555556,\"#d8576b\"],[0.6666666666666666,\"#ed7953\"],[0.7777777777777778,\"#fb9f3a\"],[0.8888888888888888,\"#fdca26\"],[1.0,\"#f0f921\"]]}],\"choropleth\":[{\"type\":\"choropleth\",\"colorbar\":{\"outlinewidth\":0,\"ticks\":\"\"}}],\"histogram2d\":[{\"type\":\"histogram2d\",\"colorbar\":{\"outlinewidth\":0,\"ticks\":\"\"},\"colorscale\":[[0.0,\"#0d0887\"],[0.1111111111111111,\"#46039f\"],[0.2222222222222222,\"#7201a8\"],[0.3333333333333333,\"#9c179e\"],[0.4444444444444444,\"#bd3786\"],[0.5555555555555556,\"#d8576b\"],[0.6666666666666666,\"#ed7953\"],[0.7777777777777778,\"#fb9f3a\"],[0.8888888888888888,\"#fdca26\"],[1.0,\"#f0f921\"]]}],\"heatmap\":[{\"type\":\"heatmap\",\"colorbar\":{\"outlinewidth\":0,\"ticks\":\"\"},\"colorscale\":[[0.0,\"#0d0887\"],[0.1111111111111111,\"#46039f\"],[0.2222222222222222,\"#7201a8\"],[0.3333333333333333,\"#9c179e\"],[0.4444444444444444,\"#bd3786\"],[0.5555555555555556,\"#d8576b\"],[0.6666666666666666,\"#ed7953\"],[0.7777777777777778,\"#fb9f3a\"],[0.8888888888888888,\"#fdca26\"],[1.0,\"#f0f921\"]]}],\"heatmapgl\":[{\"type\":\"heatmapgl\",\"colorbar\":{\"outlinewidth\":0,\"ticks\":\"\"},\"colorscale\":[[0.0,\"#0d0887\"],[0.1111111111111111,\"#46039f\"],[0.2222222222222222,\"#7201a8\"],[0.3333333333333333,\"#9c179e\"],[0.4444444444444444,\"#bd3786\"],[0.5555555555555556,\"#d8576b\"],[0.6666666666666666,\"#ed7953\"],[0.7777777777777778,\"#fb9f3a\"],[0.8888888888888888,\"#fdca26\"],[1.0,\"#f0f921\"]]}],\"contourcarpet\":[{\"type\":\"contourcarpet\",\"colorbar\":{\"outlinewidth\":0,\"ticks\":\"\"}}],\"contour\":[{\"type\":\"contour\",\"colorbar\":{\"outlinewidth\":0,\"ticks\":\"\"},\"colorscale\":[[0.0,\"#0d0887\"],[0.1111111111111111,\"#46039f\"],[0.2222222222222222,\"#7201a8\"],[0.3333333333333333,\"#9c179e\"],[0.4444444444444444,\"#bd3786\"],[0.5555555555555556,\"#d8576b\"],[0.6666666666666666,\"#ed7953\"],[0.7777777777777778,\"#fb9f3a\"],[0.8888888888888888,\"#fdca26\"],[1.0,\"#f0f921\"]]}],\"surface\":[{\"type\":\"surface\",\"colorbar\":{\"outlinewidth\":0,\"ticks\":\"\"},\"colorscale\":[[0.0,\"#0d0887\"],[0.1111111111111111,\"#46039f\"],[0.2222222222222222,\"#7201a8\"],[0.3333333333333333,\"#9c179e\"],[0.4444444444444444,\"#bd3786\"],[0.5555555555555556,\"#d8576b\"],[0.6666666666666666,\"#ed7953\"],[0.7777777777777778,\"#fb9f3a\"],[0.8888888888888888,\"#fdca26\"],[1.0,\"#f0f921\"]]}],\"mesh3d\":[{\"type\":\"mesh3d\",\"colorbar\":{\"outlinewidth\":0,\"ticks\":\"\"}}],\"scatter\":[{\"fillpattern\":{\"fillmode\":\"overlay\",\"size\":10,\"solidity\":0.2},\"type\":\"scatter\"}],\"parcoords\":[{\"type\":\"parcoords\",\"line\":{\"colorbar\":{\"outlinewidth\":0,\"ticks\":\"\"}}}],\"scatterpolargl\":[{\"type\":\"scatterpolargl\",\"marker\":{\"colorbar\":{\"outlinewidth\":0,\"ticks\":\"\"}}}],\"bar\":[{\"error_x\":{\"color\":\"#2a3f5f\"},\"error_y\":{\"color\":\"#2a3f5f\"},\"marker\":{\"line\":{\"color\":\"#E5ECF6\",\"width\":0.5},\"pattern\":{\"fillmode\":\"overlay\",\"size\":10,\"solidity\":0.2}},\"type\":\"bar\"}],\"scattergeo\":[{\"type\":\"scattergeo\",\"marker\":{\"colorbar\":{\"outlinewidth\":0,\"ticks\":\"\"}}}],\"scatterpolar\":[{\"type\":\"scatterpolar\",\"marker\":{\"colorbar\":{\"outlinewidth\":0,\"ticks\":\"\"}}}],\"histogram\":[{\"marker\":{\"pattern\":{\"fillmode\":\"overlay\",\"size\":10,\"solidity\":0.2}},\"type\":\"histogram\"}],\"scattergl\":[{\"type\":\"scattergl\",\"marker\":{\"colorbar\":{\"outlinewidth\":0,\"ticks\":\"\"}}}],\"scatter3d\":[{\"type\":\"scatter3d\",\"line\":{\"colorbar\":{\"outlinewidth\":0,\"ticks\":\"\"}},\"marker\":{\"colorbar\":{\"outlinewidth\":0,\"ticks\":\"\"}}}],\"scattermapbox\":[{\"type\":\"scattermapbox\",\"marker\":{\"colorbar\":{\"outlinewidth\":0,\"ticks\":\"\"}}}],\"scatterternary\":[{\"type\":\"scatterternary\",\"marker\":{\"colorbar\":{\"outlinewidth\":0,\"ticks\":\"\"}}}],\"scattercarpet\":[{\"type\":\"scattercarpet\",\"marker\":{\"colorbar\":{\"outlinewidth\":0,\"ticks\":\"\"}}}],\"carpet\":[{\"aaxis\":{\"endlinecolor\":\"#2a3f5f\",\"gridcolor\":\"white\",\"linecolor\":\"white\",\"minorgridcolor\":\"white\",\"startlinecolor\":\"#2a3f5f\"},\"baxis\":{\"endlinecolor\":\"#2a3f5f\",\"gridcolor\":\"white\",\"linecolor\":\"white\",\"minorgridcolor\":\"white\",\"startlinecolor\":\"#2a3f5f\"},\"type\":\"carpet\"}],\"table\":[{\"cells\":{\"fill\":{\"color\":\"#EBF0F8\"},\"line\":{\"color\":\"white\"}},\"header\":{\"fill\":{\"color\":\"#C8D4E3\"},\"line\":{\"color\":\"white\"}},\"type\":\"table\"}],\"barpolar\":[{\"marker\":{\"line\":{\"color\":\"#E5ECF6\",\"width\":0.5},\"pattern\":{\"fillmode\":\"overlay\",\"size\":10,\"solidity\":0.2}},\"type\":\"barpolar\"}],\"pie\":[{\"automargin\":true,\"type\":\"pie\"}]},\"layout\":{\"autotypenumbers\":\"strict\",\"colorway\":[\"#636efa\",\"#EF553B\",\"#00cc96\",\"#ab63fa\",\"#FFA15A\",\"#19d3f3\",\"#FF6692\",\"#B6E880\",\"#FF97FF\",\"#FECB52\"],\"font\":{\"color\":\"#2a3f5f\"},\"hovermode\":\"closest\",\"hoverlabel\":{\"align\":\"left\"},\"paper_bgcolor\":\"white\",\"plot_bgcolor\":\"#E5ECF6\",\"polar\":{\"bgcolor\":\"#E5ECF6\",\"angularaxis\":{\"gridcolor\":\"white\",\"linecolor\":\"white\",\"ticks\":\"\"},\"radialaxis\":{\"gridcolor\":\"white\",\"linecolor\":\"white\",\"ticks\":\"\"}},\"ternary\":{\"bgcolor\":\"#E5ECF6\",\"aaxis\":{\"gridcolor\":\"white\",\"linecolor\":\"white\",\"ticks\":\"\"},\"baxis\":{\"gridcolor\":\"white\",\"linecolor\":\"white\",\"ticks\":\"\"},\"caxis\":{\"gridcolor\":\"white\",\"linecolor\":\"white\",\"ticks\":\"\"}},\"coloraxis\":{\"colorbar\":{\"outlinewidth\":0,\"ticks\":\"\"}},\"colorscale\":{\"sequential\":[[0.0,\"#0d0887\"],[0.1111111111111111,\"#46039f\"],[0.2222222222222222,\"#7201a8\"],[0.3333333333333333,\"#9c179e\"],[0.4444444444444444,\"#bd3786\"],[0.5555555555555556,\"#d8576b\"],[0.6666666666666666,\"#ed7953\"],[0.7777777777777778,\"#fb9f3a\"],[0.8888888888888888,\"#fdca26\"],[1.0,\"#f0f921\"]],\"sequentialminus\":[[0.0,\"#0d0887\"],[0.1111111111111111,\"#46039f\"],[0.2222222222222222,\"#7201a8\"],[0.3333333333333333,\"#9c179e\"],[0.4444444444444444,\"#bd3786\"],[0.5555555555555556,\"#d8576b\"],[0.6666666666666666,\"#ed7953\"],[0.7777777777777778,\"#fb9f3a\"],[0.8888888888888888,\"#fdca26\"],[1.0,\"#f0f921\"]],\"diverging\":[[0,\"#8e0152\"],[0.1,\"#c51b7d\"],[0.2,\"#de77ae\"],[0.3,\"#f1b6da\"],[0.4,\"#fde0ef\"],[0.5,\"#f7f7f7\"],[0.6,\"#e6f5d0\"],[0.7,\"#b8e186\"],[0.8,\"#7fbc41\"],[0.9,\"#4d9221\"],[1,\"#276419\"]]},\"xaxis\":{\"gridcolor\":\"white\",\"linecolor\":\"white\",\"ticks\":\"\",\"title\":{\"standoff\":15},\"zerolinecolor\":\"white\",\"automargin\":true,\"zerolinewidth\":2},\"yaxis\":{\"gridcolor\":\"white\",\"linecolor\":\"white\",\"ticks\":\"\",\"title\":{\"standoff\":15},\"zerolinecolor\":\"white\",\"automargin\":true,\"zerolinewidth\":2},\"scene\":{\"xaxis\":{\"backgroundcolor\":\"#E5ECF6\",\"gridcolor\":\"white\",\"linecolor\":\"white\",\"showbackground\":true,\"ticks\":\"\",\"zerolinecolor\":\"white\",\"gridwidth\":2},\"yaxis\":{\"backgroundcolor\":\"#E5ECF6\",\"gridcolor\":\"white\",\"linecolor\":\"white\",\"showbackground\":true,\"ticks\":\"\",\"zerolinecolor\":\"white\",\"gridwidth\":2},\"zaxis\":{\"backgroundcolor\":\"#E5ECF6\",\"gridcolor\":\"white\",\"linecolor\":\"white\",\"showbackground\":true,\"ticks\":\"\",\"zerolinecolor\":\"white\",\"gridwidth\":2}},\"shapedefaults\":{\"line\":{\"color\":\"#2a3f5f\"}},\"annotationdefaults\":{\"arrowcolor\":\"#2a3f5f\",\"arrowhead\":0,\"arrowwidth\":1},\"geo\":{\"bgcolor\":\"white\",\"landcolor\":\"#E5ECF6\",\"subunitcolor\":\"white\",\"showland\":true,\"showlakes\":true,\"lakecolor\":\"white\"},\"title\":{\"x\":0.05},\"mapbox\":{\"style\":\"light\"}}},\"geo\":{\"domain\":{\"x\":[0.0,1.0],\"y\":[0.0,1.0]},\"center\":{}},\"coloraxis\":{\"colorbar\":{\"title\":{\"text\":\"Number of Failures\"}},\"colorscale\":[[0.0,\"#0d0887\"],[0.1111111111111111,\"#46039f\"],[0.2222222222222222,\"#7201a8\"],[0.3333333333333333,\"#9c179e\"],[0.4444444444444444,\"#bd3786\"],[0.5555555555555556,\"#d8576b\"],[0.6666666666666666,\"#ed7953\"],[0.7777777777777778,\"#fb9f3a\"],[0.8888888888888888,\"#fdca26\"],[1.0,\"#f0f921\"]]},\"legend\":{\"tracegroupgap\":0},\"title\":{\"text\":\"Number of Failures by Country\"}},                        {\"responsive\": true}                    ).then(function(){\n",
       "                            \n",
       "var gd = document.getElementById('ce8096e8-0d09-4475-83ea-29ea897eba3a');\n",
       "var x = new MutationObserver(function (mutations, observer) {{\n",
       "        var display = window.getComputedStyle(gd).display;\n",
       "        if (!display || display === 'none') {{\n",
       "            console.log([gd, 'removed!']);\n",
       "            Plotly.purge(gd);\n",
       "            observer.disconnect();\n",
       "        }}\n",
       "}});\n",
       "\n",
       "// Listen for the removal of the full notebook cells\n",
       "var notebookContainer = gd.closest('#notebook-container');\n",
       "if (notebookContainer) {{\n",
       "    x.observe(notebookContainer, {childList: true});\n",
       "}}\n",
       "\n",
       "// Listen for the clearing of the current output cell\n",
       "var outputEl = gd.closest('.output');\n",
       "if (outputEl) {{\n",
       "    x.observe(outputEl, {childList: true});\n",
       "}}\n",
       "\n",
       "                        })                };                });            </script>        </div>"
      ]
     },
     "metadata": {},
     "output_type": "display_data"
    }
   ],
   "source": [
    "fig = px.choropleth(df_fails_cnt, locations=\"iso\",\n",
    "                    color=\"Number of Failures\", \n",
    "                    hover_name=\"iso\",\n",
    "                    color_continuous_scale=px.colors.sequential.Plasma,\n",
    "                   title=\"Number of Failures by Country\")\n",
    "fig.show()"
   ]
  },
  {
   "cell_type": "markdown",
   "metadata": {
    "id": "9LqcqSrKa-qN",
    "papermill": {
     "duration": 0.039343,
     "end_time": "2020-10-20T21:34:06.591694",
     "exception": false,
     "start_time": "2020-10-20T21:34:06.552351",
     "status": "completed"
    },
    "tags": []
   },
   "source": [
    "### Creating a Plotly Sunburst Chart of the countries, organisations, and mission status. "
   ]
  },
  {
   "cell_type": "code",
   "execution_count": 78,
   "metadata": {
    "id": "MwUfpoByo3_J"
   },
   "outputs": [
    {
     "data": {
      "application/vnd.plotly.v1+json": {
       "config": {
        "plotlyServerURL": "https://plot.ly"
       },
       "data": [
        {
         "branchvalues": "total",
         "domain": {
          "x": [
           0,
           1
          ],
          "y": [
           0,
           1
          ]
         },
         "hovertemplate": "labels=%{label}<br>count=%{value}<br>parent=%{parent}<br>id=%{id}<extra></extra>",
         "ids": [
          "Brazil/AEB/Failure",
          "United States of America/AMBA/Failure",
          "France/Arianespace/Failure",
          "United States of America/Boeing/Failure",
          "China/CASC/Failure",
          "China/CASIC/Failure",
          "Australia/CECLES/Failure",
          "France/CECLES/Failure",
          "France/CNES/Failure",
          "United States of America/EER/Failure",
          "France/ESA/Failure",
          "Russian Federation/Eurockot/Failure",
          "China/ExPace/Failure",
          "United States of America/Exos/Failure",
          "United States of America/General Dynamics/Failure",
          "Israel/IAI/Failure",
          "Iran, Islamic Republic of/ISA/Failure",
          "Japan/ISAS/Failure",
          "India/ISRO/Failure",
          "Japan/JAXA/Failure",
          "South Korea/KARI/Failure",
          "North Korea/KCST/Failure",
          "Kazakhstan/Kosmotras/Failure",
          "China/Landspace/Failure",
          "United States of America/Lockheed/Failure",
          "Japan/MHI/Failure",
          "Russian Federation/MITT/Failure",
          "United States of America/Martin Marietta/Failure",
          "United States of America/NASA/Failure",
          "United States of America/Northrop/Failure",
          "China/OneSpace/Failure",
          "Australia/RAE/Failure",
          "Kazakhstan/RVSN USSR/Failure",
          "Russian Federation/RVSN USSR/Failure",
          "New Zealand/Rocket Lab/Failure",
          "Kazakhstan/Roscosmos/Failure",
          "Russian Federation/Roscosmos/Failure",
          "Russian Federation/SRC/Failure",
          "United States of America/Sandia/Failure",
          "United States of America/Sea Launch/Failure",
          "United States of America/SpaceX/Failure",
          "United States of America/US Air Force/Failure",
          "United States of America/US Navy/Failure",
          "Japan/UT/Failure",
          "Kazakhstan/VKS RF/Failure",
          "Russian Federation/VKS RF/Failure",
          "United States of America/Virgin Orbit/Failure",
          "United States of America/AMBA/Partial Failure",
          "France/Arianespace/Partial Failure",
          "France/Arm??e de l'Air/Partial Failure",
          "United States of America/Boeing/Partial Failure",
          "China/CASC/Partial Failure",
          "France/ESA/Partial Failure",
          "United States of America/Exos/Partial Failure",
          "United States of America/General Dynamics/Partial Failure",
          "Kazakhstan/ILS/Partial Failure",
          "Japan/ISAS/Partial Failure",
          "India/ISRO/Partial Failure",
          "Kazakhstan/Land Launch/Partial Failure",
          "Japan/MHI/Partial Failure",
          "United States of America/Martin Marietta/Partial Failure",
          "United States of America/NASA/Partial Failure",
          "United States of America/Northrop/Partial Failure",
          "Kazakhstan/RVSN USSR/Partial Failure",
          "Russian Federation/RVSN USSR/Partial Failure",
          "Kazakhstan/Roscosmos/Partial Failure",
          "United States of America/SpaceX/Partial Failure",
          "United States of America/ULA/Partial Failure",
          "United States of America/US Air Force/Partial Failure",
          "United States of America/US Navy/Partial Failure",
          "Russian Federation/VKS RF/Partial Failure",
          "Brazil/AEB/Prelaunch Failure",
          "Iran, Islamic Republic of/ISA/Prelaunch Failure",
          "Kazakhstan/RVSN USSR/Prelaunch Failure",
          "United States of America/SpaceX/Prelaunch Failure",
          "Australia/AMBA/Success",
          "United States of America/AMBA/Success",
          "Kenya/ASI/Success",
          "France/Arianespace/Success",
          "Kazakhstan/Arianespace/Success",
          "France/Arm??e de l'Air/Success",
          "United States of America/Blue Origin/Success",
          "United States of America/Boeing/Success",
          "China/CASC/Success",
          "China/CASIC/Success",
          "Australia/CECLES/Success",
          "France/CNES/Success",
          "United States of America/Douglas/Success",
          "France/ESA/Success",
          "Russian Federation/Eurockot/Success",
          "China/ExPace/Success",
          "United States of America/General Dynamics/Success",
          "Israel/IAI/Success",
          "Kazakhstan/ILS/Success",
          "United States of America/ILS/Success",
          "Iran, Islamic Republic of/IRGC/Success",
          "Iran, Islamic Republic of/ISA/Success",
          "Japan/ISAS/Success",
          "India/ISRO/Success",
          "Japan/JAXA/Success",
          "South Korea/KARI/Success",
          "North Korea/KCST/Success",
          "Russian Federation/Khrunichev/Success",
          "Kazakhstan/Kosmotras/Success",
          "Russian Federation/Kosmotras/Success",
          "Kazakhstan/Land Launch/Success",
          "United States of America/Lockheed/Success",
          "Japan/MHI/Success",
          "Russian Federation/MITT/Success",
          "United States of America/Martin Marietta/Success",
          "United States of America/NASA/Success",
          "United States of America/Northrop/Success",
          "Kazakhstan/OKB-586/Success",
          "Australia/RAE/Success",
          "Kazakhstan/RVSN USSR/Success",
          "Russian Federation/RVSN USSR/Success",
          "New Zealand/Rocket Lab/Success",
          "Kazakhstan/Roscosmos/Success",
          "Russian Federation/Roscosmos/Success",
          "Russian Federation/SRC/Success",
          "United States of America/Sea Launch/Success",
          "United States of America/SpaceX/Success",
          "Kazakhstan/Starsem/Success",
          "United States of America/ULA/Success",
          "United States of America/US Air Force/Success",
          "United States of America/US Navy/Success",
          "Japan/UT/Success",
          "Kazakhstan/VKS RF/Success",
          "Russian Federation/VKS RF/Success",
          "Kazakhstan/Yuzhmash/Success",
          "Russian Federation/Yuzhmash/Success",
          "China/i-Space/Success",
          "Brazil/AEB",
          "Australia/AMBA",
          "United States of America/AMBA",
          "Kenya/ASI",
          "France/Arianespace",
          "Kazakhstan/Arianespace",
          "France/Arm??e de l'Air",
          "United States of America/Blue Origin",
          "United States of America/Boeing",
          "China/CASC",
          "China/CASIC",
          "Australia/CECLES",
          "France/CECLES",
          "France/CNES",
          "United States of America/Douglas",
          "United States of America/EER",
          "France/ESA",
          "Russian Federation/Eurockot",
          "China/ExPace",
          "United States of America/Exos",
          "United States of America/General Dynamics",
          "Israel/IAI",
          "Kazakhstan/ILS",
          "United States of America/ILS",
          "Iran, Islamic Republic of/IRGC",
          "Iran, Islamic Republic of/ISA",
          "Japan/ISAS",
          "India/ISRO",
          "Japan/JAXA",
          "South Korea/KARI",
          "North Korea/KCST",
          "Russian Federation/Khrunichev",
          "Kazakhstan/Kosmotras",
          "Russian Federation/Kosmotras",
          "Kazakhstan/Land Launch",
          "China/Landspace",
          "United States of America/Lockheed",
          "Japan/MHI",
          "Russian Federation/MITT",
          "United States of America/Martin Marietta",
          "United States of America/NASA",
          "United States of America/Northrop",
          "Kazakhstan/OKB-586",
          "China/OneSpace",
          "Australia/RAE",
          "Kazakhstan/RVSN USSR",
          "Russian Federation/RVSN USSR",
          "New Zealand/Rocket Lab",
          "Kazakhstan/Roscosmos",
          "Russian Federation/Roscosmos",
          "Russian Federation/SRC",
          "United States of America/Sandia",
          "United States of America/Sea Launch",
          "United States of America/SpaceX",
          "Kazakhstan/Starsem",
          "United States of America/ULA",
          "United States of America/US Air Force",
          "United States of America/US Navy",
          "Japan/UT",
          "Kazakhstan/VKS RF",
          "Russian Federation/VKS RF",
          "United States of America/Virgin Orbit",
          "Kazakhstan/Yuzhmash",
          "Russian Federation/Yuzhmash",
          "China/i-Space",
          "Australia",
          "Brazil",
          "China",
          "France",
          "India",
          "Iran, Islamic Republic of",
          "Israel",
          "Japan",
          "Kazakhstan",
          "Kenya",
          "New Zealand",
          "North Korea",
          "Russian Federation",
          "South Korea",
          "United States of America"
         ],
         "labels": [
          "Failure",
          "Failure",
          "Failure",
          "Failure",
          "Failure",
          "Failure",
          "Failure",
          "Failure",
          "Failure",
          "Failure",
          "Failure",
          "Failure",
          "Failure",
          "Failure",
          "Failure",
          "Failure",
          "Failure",
          "Failure",
          "Failure",
          "Failure",
          "Failure",
          "Failure",
          "Failure",
          "Failure",
          "Failure",
          "Failure",
          "Failure",
          "Failure",
          "Failure",
          "Failure",
          "Failure",
          "Failure",
          "Failure",
          "Failure",
          "Failure",
          "Failure",
          "Failure",
          "Failure",
          "Failure",
          "Failure",
          "Failure",
          "Failure",
          "Failure",
          "Failure",
          "Failure",
          "Failure",
          "Failure",
          "Partial Failure",
          "Partial Failure",
          "Partial Failure",
          "Partial Failure",
          "Partial Failure",
          "Partial Failure",
          "Partial Failure",
          "Partial Failure",
          "Partial Failure",
          "Partial Failure",
          "Partial Failure",
          "Partial Failure",
          "Partial Failure",
          "Partial Failure",
          "Partial Failure",
          "Partial Failure",
          "Partial Failure",
          "Partial Failure",
          "Partial Failure",
          "Partial Failure",
          "Partial Failure",
          "Partial Failure",
          "Partial Failure",
          "Partial Failure",
          "Prelaunch Failure",
          "Prelaunch Failure",
          "Prelaunch Failure",
          "Prelaunch Failure",
          "Success",
          "Success",
          "Success",
          "Success",
          "Success",
          "Success",
          "Success",
          "Success",
          "Success",
          "Success",
          "Success",
          "Success",
          "Success",
          "Success",
          "Success",
          "Success",
          "Success",
          "Success",
          "Success",
          "Success",
          "Success",
          "Success",
          "Success",
          "Success",
          "Success",
          "Success",
          "Success",
          "Success",
          "Success",
          "Success",
          "Success",
          "Success",
          "Success",
          "Success",
          "Success",
          "Success",
          "Success",
          "Success",
          "Success",
          "Success",
          "Success",
          "Success",
          "Success",
          "Success",
          "Success",
          "Success",
          "Success",
          "Success",
          "Success",
          "Success",
          "Success",
          "Success",
          "Success",
          "Success",
          "Success",
          "Success",
          "Success",
          "AEB",
          "AMBA",
          "AMBA",
          "ASI",
          "Arianespace",
          "Arianespace",
          "Arm??e de l'Air",
          "Blue Origin",
          "Boeing",
          "CASC",
          "CASIC",
          "CECLES",
          "CECLES",
          "CNES",
          "Douglas",
          "EER",
          "ESA",
          "Eurockot",
          "ExPace",
          "Exos",
          "General Dynamics",
          "IAI",
          "ILS",
          "ILS",
          "IRGC",
          "ISA",
          "ISAS",
          "ISRO",
          "JAXA",
          "KARI",
          "KCST",
          "Khrunichev",
          "Kosmotras",
          "Kosmotras",
          "Land Launch",
          "Landspace",
          "Lockheed",
          "MHI",
          "MITT",
          "Martin Marietta",
          "NASA",
          "Northrop",
          "OKB-586",
          "OneSpace",
          "RAE",
          "RVSN USSR",
          "RVSN USSR",
          "Rocket Lab",
          "Roscosmos",
          "Roscosmos",
          "SRC",
          "Sandia",
          "Sea Launch",
          "SpaceX",
          "Starsem",
          "ULA",
          "US Air Force",
          "US Navy",
          "UT",
          "VKS RF",
          "VKS RF",
          "Virgin Orbit",
          "Yuzhmash",
          "Yuzhmash",
          "i-Space",
          "Australia",
          "Brazil",
          "China",
          "France",
          "India",
          "Iran, Islamic Republic of",
          "Israel",
          "Japan",
          "Kazakhstan",
          "Kenya",
          "New Zealand",
          "North Korea",
          "Russian Federation",
          "South Korea",
          "United States of America"
         ],
         "name": "",
         "parents": [
          "Brazil/AEB",
          "United States of America/AMBA",
          "France/Arianespace",
          "United States of America/Boeing",
          "China/CASC",
          "China/CASIC",
          "Australia/CECLES",
          "France/CECLES",
          "France/CNES",
          "United States of America/EER",
          "France/ESA",
          "Russian Federation/Eurockot",
          "China/ExPace",
          "United States of America/Exos",
          "United States of America/General Dynamics",
          "Israel/IAI",
          "Iran, Islamic Republic of/ISA",
          "Japan/ISAS",
          "India/ISRO",
          "Japan/JAXA",
          "South Korea/KARI",
          "North Korea/KCST",
          "Kazakhstan/Kosmotras",
          "China/Landspace",
          "United States of America/Lockheed",
          "Japan/MHI",
          "Russian Federation/MITT",
          "United States of America/Martin Marietta",
          "United States of America/NASA",
          "United States of America/Northrop",
          "China/OneSpace",
          "Australia/RAE",
          "Kazakhstan/RVSN USSR",
          "Russian Federation/RVSN USSR",
          "New Zealand/Rocket Lab",
          "Kazakhstan/Roscosmos",
          "Russian Federation/Roscosmos",
          "Russian Federation/SRC",
          "United States of America/Sandia",
          "United States of America/Sea Launch",
          "United States of America/SpaceX",
          "United States of America/US Air Force",
          "United States of America/US Navy",
          "Japan/UT",
          "Kazakhstan/VKS RF",
          "Russian Federation/VKS RF",
          "United States of America/Virgin Orbit",
          "United States of America/AMBA",
          "France/Arianespace",
          "France/Arm??e de l'Air",
          "United States of America/Boeing",
          "China/CASC",
          "France/ESA",
          "United States of America/Exos",
          "United States of America/General Dynamics",
          "Kazakhstan/ILS",
          "Japan/ISAS",
          "India/ISRO",
          "Kazakhstan/Land Launch",
          "Japan/MHI",
          "United States of America/Martin Marietta",
          "United States of America/NASA",
          "United States of America/Northrop",
          "Kazakhstan/RVSN USSR",
          "Russian Federation/RVSN USSR",
          "Kazakhstan/Roscosmos",
          "United States of America/SpaceX",
          "United States of America/ULA",
          "United States of America/US Air Force",
          "United States of America/US Navy",
          "Russian Federation/VKS RF",
          "Brazil/AEB",
          "Iran, Islamic Republic of/ISA",
          "Kazakhstan/RVSN USSR",
          "United States of America/SpaceX",
          "Australia/AMBA",
          "United States of America/AMBA",
          "Kenya/ASI",
          "France/Arianespace",
          "Kazakhstan/Arianespace",
          "France/Arm??e de l'Air",
          "United States of America/Blue Origin",
          "United States of America/Boeing",
          "China/CASC",
          "China/CASIC",
          "Australia/CECLES",
          "France/CNES",
          "United States of America/Douglas",
          "France/ESA",
          "Russian Federation/Eurockot",
          "China/ExPace",
          "United States of America/General Dynamics",
          "Israel/IAI",
          "Kazakhstan/ILS",
          "United States of America/ILS",
          "Iran, Islamic Republic of/IRGC",
          "Iran, Islamic Republic of/ISA",
          "Japan/ISAS",
          "India/ISRO",
          "Japan/JAXA",
          "South Korea/KARI",
          "North Korea/KCST",
          "Russian Federation/Khrunichev",
          "Kazakhstan/Kosmotras",
          "Russian Federation/Kosmotras",
          "Kazakhstan/Land Launch",
          "United States of America/Lockheed",
          "Japan/MHI",
          "Russian Federation/MITT",
          "United States of America/Martin Marietta",
          "United States of America/NASA",
          "United States of America/Northrop",
          "Kazakhstan/OKB-586",
          "Australia/RAE",
          "Kazakhstan/RVSN USSR",
          "Russian Federation/RVSN USSR",
          "New Zealand/Rocket Lab",
          "Kazakhstan/Roscosmos",
          "Russian Federation/Roscosmos",
          "Russian Federation/SRC",
          "United States of America/Sea Launch",
          "United States of America/SpaceX",
          "Kazakhstan/Starsem",
          "United States of America/ULA",
          "United States of America/US Air Force",
          "United States of America/US Navy",
          "Japan/UT",
          "Kazakhstan/VKS RF",
          "Russian Federation/VKS RF",
          "Kazakhstan/Yuzhmash",
          "Russian Federation/Yuzhmash",
          "China/i-Space",
          "Brazil",
          "Australia",
          "United States of America",
          "Kenya",
          "France",
          "Kazakhstan",
          "France",
          "United States of America",
          "United States of America",
          "China",
          "China",
          "Australia",
          "France",
          "France",
          "United States of America",
          "United States of America",
          "France",
          "Russian Federation",
          "China",
          "United States of America",
          "United States of America",
          "Israel",
          "Kazakhstan",
          "United States of America",
          "Iran, Islamic Republic of",
          "Iran, Islamic Republic of",
          "Japan",
          "India",
          "Japan",
          "South Korea",
          "North Korea",
          "Russian Federation",
          "Kazakhstan",
          "Russian Federation",
          "Kazakhstan",
          "China",
          "United States of America",
          "Japan",
          "Russian Federation",
          "United States of America",
          "United States of America",
          "United States of America",
          "Kazakhstan",
          "China",
          "Australia",
          "Kazakhstan",
          "Russian Federation",
          "New Zealand",
          "Kazakhstan",
          "Russian Federation",
          "Russian Federation",
          "United States of America",
          "United States of America",
          "United States of America",
          "Kazakhstan",
          "United States of America",
          "United States of America",
          "United States of America",
          "Japan",
          "Kazakhstan",
          "Russian Federation",
          "United States of America",
          "Kazakhstan",
          "Russian Federation",
          "China",
          "",
          "",
          "",
          "",
          "",
          "",
          "",
          "",
          "",
          "",
          "",
          "",
          "",
          "",
          ""
         ],
         "type": "sunburst",
         "values": [
          2,
          3,
          7,
          3,
          14,
          2,
          2,
          1,
          2,
          1,
          3,
          1,
          1,
          1,
          37,
          2,
          8,
          3,
          8,
          1,
          2,
          3,
          1,
          1,
          5,
          2,
          1,
          11,
          11,
          7,
          1,
          1,
          66,
          55,
          2,
          2,
          1,
          1,
          1,
          3,
          4,
          30,
          14,
          4,
          3,
          4,
          1,
          1,
          3,
          1,
          2,
          6,
          1,
          3,
          11,
          1,
          1,
          5,
          1,
          2,
          3,
          6,
          2,
          17,
          24,
          1,
          1,
          1,
          2,
          1,
          6,
          1,
          1,
          1,
          1,
          1,
          3,
          9,
          267,
          2,
          3,
          12,
          131,
          231,
          3,
          1,
          6,
          1,
          9,
          12,
          9,
          203,
          9,
          5,
          40,
          1,
          4,
          26,
          63,
          6,
          1,
          2,
          1,
          11,
          10,
          6,
          74,
          80,
          6,
          100,
          186,
          74,
          2,
          1,
          495,
          1119,
          11,
          44,
          7,
          2,
          33,
          94,
          1,
          139,
          129,
          2,
          1,
          41,
          147,
          1,
          1,
          1,
          3,
          1,
          7,
          9,
          277,
          2,
          4,
          12,
          136,
          251,
          5,
          3,
          1,
          8,
          1,
          1,
          13,
          13,
          10,
          4,
          251,
          11,
          6,
          40,
          1,
          13,
          30,
          76,
          7,
          3,
          5,
          1,
          12,
          10,
          7,
          1,
          79,
          84,
          7,
          114,
          203,
          83,
          2,
          1,
          2,
          579,
          1198,
          13,
          47,
          8,
          3,
          1,
          36,
          100,
          1,
          140,
          161,
          17,
          5,
          44,
          157,
          1,
          1,
          1,
          1,
          6,
          3,
          269,
          303,
          76,
          14,
          11,
          126,
          701,
          9,
          13,
          5,
          1398,
          3,
          1387
         ]
        }
       ],
       "layout": {
        "legend": {
         "tracegroupgap": 0
        },
        "margin": {
         "t": 60
        },
        "template": {
         "data": {
          "bar": [
           {
            "error_x": {
             "color": "#2a3f5f"
            },
            "error_y": {
             "color": "#2a3f5f"
            },
            "marker": {
             "line": {
              "color": "#E5ECF6",
              "width": 0.5
             },
             "pattern": {
              "fillmode": "overlay",
              "size": 10,
              "solidity": 0.2
             }
            },
            "type": "bar"
           }
          ],
          "barpolar": [
           {
            "marker": {
             "line": {
              "color": "#E5ECF6",
              "width": 0.5
             },
             "pattern": {
              "fillmode": "overlay",
              "size": 10,
              "solidity": 0.2
             }
            },
            "type": "barpolar"
           }
          ],
          "carpet": [
           {
            "aaxis": {
             "endlinecolor": "#2a3f5f",
             "gridcolor": "white",
             "linecolor": "white",
             "minorgridcolor": "white",
             "startlinecolor": "#2a3f5f"
            },
            "baxis": {
             "endlinecolor": "#2a3f5f",
             "gridcolor": "white",
             "linecolor": "white",
             "minorgridcolor": "white",
             "startlinecolor": "#2a3f5f"
            },
            "type": "carpet"
           }
          ],
          "choropleth": [
           {
            "colorbar": {
             "outlinewidth": 0,
             "ticks": ""
            },
            "type": "choropleth"
           }
          ],
          "contour": [
           {
            "colorbar": {
             "outlinewidth": 0,
             "ticks": ""
            },
            "colorscale": [
             [
              0,
              "#0d0887"
             ],
             [
              0.1111111111111111,
              "#46039f"
             ],
             [
              0.2222222222222222,
              "#7201a8"
             ],
             [
              0.3333333333333333,
              "#9c179e"
             ],
             [
              0.4444444444444444,
              "#bd3786"
             ],
             [
              0.5555555555555556,
              "#d8576b"
             ],
             [
              0.6666666666666666,
              "#ed7953"
             ],
             [
              0.7777777777777778,
              "#fb9f3a"
             ],
             [
              0.8888888888888888,
              "#fdca26"
             ],
             [
              1,
              "#f0f921"
             ]
            ],
            "type": "contour"
           }
          ],
          "contourcarpet": [
           {
            "colorbar": {
             "outlinewidth": 0,
             "ticks": ""
            },
            "type": "contourcarpet"
           }
          ],
          "heatmap": [
           {
            "colorbar": {
             "outlinewidth": 0,
             "ticks": ""
            },
            "colorscale": [
             [
              0,
              "#0d0887"
             ],
             [
              0.1111111111111111,
              "#46039f"
             ],
             [
              0.2222222222222222,
              "#7201a8"
             ],
             [
              0.3333333333333333,
              "#9c179e"
             ],
             [
              0.4444444444444444,
              "#bd3786"
             ],
             [
              0.5555555555555556,
              "#d8576b"
             ],
             [
              0.6666666666666666,
              "#ed7953"
             ],
             [
              0.7777777777777778,
              "#fb9f3a"
             ],
             [
              0.8888888888888888,
              "#fdca26"
             ],
             [
              1,
              "#f0f921"
             ]
            ],
            "type": "heatmap"
           }
          ],
          "heatmapgl": [
           {
            "colorbar": {
             "outlinewidth": 0,
             "ticks": ""
            },
            "colorscale": [
             [
              0,
              "#0d0887"
             ],
             [
              0.1111111111111111,
              "#46039f"
             ],
             [
              0.2222222222222222,
              "#7201a8"
             ],
             [
              0.3333333333333333,
              "#9c179e"
             ],
             [
              0.4444444444444444,
              "#bd3786"
             ],
             [
              0.5555555555555556,
              "#d8576b"
             ],
             [
              0.6666666666666666,
              "#ed7953"
             ],
             [
              0.7777777777777778,
              "#fb9f3a"
             ],
             [
              0.8888888888888888,
              "#fdca26"
             ],
             [
              1,
              "#f0f921"
             ]
            ],
            "type": "heatmapgl"
           }
          ],
          "histogram": [
           {
            "marker": {
             "pattern": {
              "fillmode": "overlay",
              "size": 10,
              "solidity": 0.2
             }
            },
            "type": "histogram"
           }
          ],
          "histogram2d": [
           {
            "colorbar": {
             "outlinewidth": 0,
             "ticks": ""
            },
            "colorscale": [
             [
              0,
              "#0d0887"
             ],
             [
              0.1111111111111111,
              "#46039f"
             ],
             [
              0.2222222222222222,
              "#7201a8"
             ],
             [
              0.3333333333333333,
              "#9c179e"
             ],
             [
              0.4444444444444444,
              "#bd3786"
             ],
             [
              0.5555555555555556,
              "#d8576b"
             ],
             [
              0.6666666666666666,
              "#ed7953"
             ],
             [
              0.7777777777777778,
              "#fb9f3a"
             ],
             [
              0.8888888888888888,
              "#fdca26"
             ],
             [
              1,
              "#f0f921"
             ]
            ],
            "type": "histogram2d"
           }
          ],
          "histogram2dcontour": [
           {
            "colorbar": {
             "outlinewidth": 0,
             "ticks": ""
            },
            "colorscale": [
             [
              0,
              "#0d0887"
             ],
             [
              0.1111111111111111,
              "#46039f"
             ],
             [
              0.2222222222222222,
              "#7201a8"
             ],
             [
              0.3333333333333333,
              "#9c179e"
             ],
             [
              0.4444444444444444,
              "#bd3786"
             ],
             [
              0.5555555555555556,
              "#d8576b"
             ],
             [
              0.6666666666666666,
              "#ed7953"
             ],
             [
              0.7777777777777778,
              "#fb9f3a"
             ],
             [
              0.8888888888888888,
              "#fdca26"
             ],
             [
              1,
              "#f0f921"
             ]
            ],
            "type": "histogram2dcontour"
           }
          ],
          "mesh3d": [
           {
            "colorbar": {
             "outlinewidth": 0,
             "ticks": ""
            },
            "type": "mesh3d"
           }
          ],
          "parcoords": [
           {
            "line": {
             "colorbar": {
              "outlinewidth": 0,
              "ticks": ""
             }
            },
            "type": "parcoords"
           }
          ],
          "pie": [
           {
            "automargin": true,
            "type": "pie"
           }
          ],
          "scatter": [
           {
            "fillpattern": {
             "fillmode": "overlay",
             "size": 10,
             "solidity": 0.2
            },
            "type": "scatter"
           }
          ],
          "scatter3d": [
           {
            "line": {
             "colorbar": {
              "outlinewidth": 0,
              "ticks": ""
             }
            },
            "marker": {
             "colorbar": {
              "outlinewidth": 0,
              "ticks": ""
             }
            },
            "type": "scatter3d"
           }
          ],
          "scattercarpet": [
           {
            "marker": {
             "colorbar": {
              "outlinewidth": 0,
              "ticks": ""
             }
            },
            "type": "scattercarpet"
           }
          ],
          "scattergeo": [
           {
            "marker": {
             "colorbar": {
              "outlinewidth": 0,
              "ticks": ""
             }
            },
            "type": "scattergeo"
           }
          ],
          "scattergl": [
           {
            "marker": {
             "colorbar": {
              "outlinewidth": 0,
              "ticks": ""
             }
            },
            "type": "scattergl"
           }
          ],
          "scattermapbox": [
           {
            "marker": {
             "colorbar": {
              "outlinewidth": 0,
              "ticks": ""
             }
            },
            "type": "scattermapbox"
           }
          ],
          "scatterpolar": [
           {
            "marker": {
             "colorbar": {
              "outlinewidth": 0,
              "ticks": ""
             }
            },
            "type": "scatterpolar"
           }
          ],
          "scatterpolargl": [
           {
            "marker": {
             "colorbar": {
              "outlinewidth": 0,
              "ticks": ""
             }
            },
            "type": "scatterpolargl"
           }
          ],
          "scatterternary": [
           {
            "marker": {
             "colorbar": {
              "outlinewidth": 0,
              "ticks": ""
             }
            },
            "type": "scatterternary"
           }
          ],
          "surface": [
           {
            "colorbar": {
             "outlinewidth": 0,
             "ticks": ""
            },
            "colorscale": [
             [
              0,
              "#0d0887"
             ],
             [
              0.1111111111111111,
              "#46039f"
             ],
             [
              0.2222222222222222,
              "#7201a8"
             ],
             [
              0.3333333333333333,
              "#9c179e"
             ],
             [
              0.4444444444444444,
              "#bd3786"
             ],
             [
              0.5555555555555556,
              "#d8576b"
             ],
             [
              0.6666666666666666,
              "#ed7953"
             ],
             [
              0.7777777777777778,
              "#fb9f3a"
             ],
             [
              0.8888888888888888,
              "#fdca26"
             ],
             [
              1,
              "#f0f921"
             ]
            ],
            "type": "surface"
           }
          ],
          "table": [
           {
            "cells": {
             "fill": {
              "color": "#EBF0F8"
             },
             "line": {
              "color": "white"
             }
            },
            "header": {
             "fill": {
              "color": "#C8D4E3"
             },
             "line": {
              "color": "white"
             }
            },
            "type": "table"
           }
          ]
         },
         "layout": {
          "annotationdefaults": {
           "arrowcolor": "#2a3f5f",
           "arrowhead": 0,
           "arrowwidth": 1
          },
          "autotypenumbers": "strict",
          "coloraxis": {
           "colorbar": {
            "outlinewidth": 0,
            "ticks": ""
           }
          },
          "colorscale": {
           "diverging": [
            [
             0,
             "#8e0152"
            ],
            [
             0.1,
             "#c51b7d"
            ],
            [
             0.2,
             "#de77ae"
            ],
            [
             0.3,
             "#f1b6da"
            ],
            [
             0.4,
             "#fde0ef"
            ],
            [
             0.5,
             "#f7f7f7"
            ],
            [
             0.6,
             "#e6f5d0"
            ],
            [
             0.7,
             "#b8e186"
            ],
            [
             0.8,
             "#7fbc41"
            ],
            [
             0.9,
             "#4d9221"
            ],
            [
             1,
             "#276419"
            ]
           ],
           "sequential": [
            [
             0,
             "#0d0887"
            ],
            [
             0.1111111111111111,
             "#46039f"
            ],
            [
             0.2222222222222222,
             "#7201a8"
            ],
            [
             0.3333333333333333,
             "#9c179e"
            ],
            [
             0.4444444444444444,
             "#bd3786"
            ],
            [
             0.5555555555555556,
             "#d8576b"
            ],
            [
             0.6666666666666666,
             "#ed7953"
            ],
            [
             0.7777777777777778,
             "#fb9f3a"
            ],
            [
             0.8888888888888888,
             "#fdca26"
            ],
            [
             1,
             "#f0f921"
            ]
           ],
           "sequentialminus": [
            [
             0,
             "#0d0887"
            ],
            [
             0.1111111111111111,
             "#46039f"
            ],
            [
             0.2222222222222222,
             "#7201a8"
            ],
            [
             0.3333333333333333,
             "#9c179e"
            ],
            [
             0.4444444444444444,
             "#bd3786"
            ],
            [
             0.5555555555555556,
             "#d8576b"
            ],
            [
             0.6666666666666666,
             "#ed7953"
            ],
            [
             0.7777777777777778,
             "#fb9f3a"
            ],
            [
             0.8888888888888888,
             "#fdca26"
            ],
            [
             1,
             "#f0f921"
            ]
           ]
          },
          "colorway": [
           "#636efa",
           "#EF553B",
           "#00cc96",
           "#ab63fa",
           "#FFA15A",
           "#19d3f3",
           "#FF6692",
           "#B6E880",
           "#FF97FF",
           "#FECB52"
          ],
          "font": {
           "color": "#2a3f5f"
          },
          "geo": {
           "bgcolor": "white",
           "lakecolor": "white",
           "landcolor": "#E5ECF6",
           "showlakes": true,
           "showland": true,
           "subunitcolor": "white"
          },
          "hoverlabel": {
           "align": "left"
          },
          "hovermode": "closest",
          "mapbox": {
           "style": "light"
          },
          "paper_bgcolor": "white",
          "plot_bgcolor": "#E5ECF6",
          "polar": {
           "angularaxis": {
            "gridcolor": "white",
            "linecolor": "white",
            "ticks": ""
           },
           "bgcolor": "#E5ECF6",
           "radialaxis": {
            "gridcolor": "white",
            "linecolor": "white",
            "ticks": ""
           }
          },
          "scene": {
           "xaxis": {
            "backgroundcolor": "#E5ECF6",
            "gridcolor": "white",
            "gridwidth": 2,
            "linecolor": "white",
            "showbackground": true,
            "ticks": "",
            "zerolinecolor": "white"
           },
           "yaxis": {
            "backgroundcolor": "#E5ECF6",
            "gridcolor": "white",
            "gridwidth": 2,
            "linecolor": "white",
            "showbackground": true,
            "ticks": "",
            "zerolinecolor": "white"
           },
           "zaxis": {
            "backgroundcolor": "#E5ECF6",
            "gridcolor": "white",
            "gridwidth": 2,
            "linecolor": "white",
            "showbackground": true,
            "ticks": "",
            "zerolinecolor": "white"
           }
          },
          "shapedefaults": {
           "line": {
            "color": "#2a3f5f"
           }
          },
          "ternary": {
           "aaxis": {
            "gridcolor": "white",
            "linecolor": "white",
            "ticks": ""
           },
           "baxis": {
            "gridcolor": "white",
            "linecolor": "white",
            "ticks": ""
           },
           "bgcolor": "#E5ECF6",
           "caxis": {
            "gridcolor": "white",
            "linecolor": "white",
            "ticks": ""
           }
          },
          "title": {
           "x": 0.05
          },
          "xaxis": {
           "automargin": true,
           "gridcolor": "white",
           "linecolor": "white",
           "ticks": "",
           "title": {
            "standoff": 15
           },
           "zerolinecolor": "white",
           "zerolinewidth": 2
          },
          "yaxis": {
           "automargin": true,
           "gridcolor": "white",
           "linecolor": "white",
           "ticks": "",
           "title": {
            "standoff": 15
           },
           "zerolinecolor": "white",
           "zerolinewidth": 2
          }
         }
        }
       }
      },
      "text/html": [
       "<div>                            <div id=\"8ed92b66-1487-4132-bfc6-fe59e3920bb2\" class=\"plotly-graph-div\" style=\"height:525px; width:100%;\"></div>            <script type=\"text/javascript\">                require([\"plotly\"], function(Plotly) {                    window.PLOTLYENV=window.PLOTLYENV || {};                                    if (document.getElementById(\"8ed92b66-1487-4132-bfc6-fe59e3920bb2\")) {                    Plotly.newPlot(                        \"8ed92b66-1487-4132-bfc6-fe59e3920bb2\",                        [{\"branchvalues\":\"total\",\"domain\":{\"x\":[0.0,1.0],\"y\":[0.0,1.0]},\"hovertemplate\":\"labels=%{label}<br>count=%{value}<br>parent=%{parent}<br>id=%{id}<extra></extra>\",\"ids\":[\"Brazil/AEB/Failure\",\"United States of America/AMBA/Failure\",\"France/Arianespace/Failure\",\"United States of America/Boeing/Failure\",\"China/CASC/Failure\",\"China/CASIC/Failure\",\"Australia/CECLES/Failure\",\"France/CECLES/Failure\",\"France/CNES/Failure\",\"United States of America/EER/Failure\",\"France/ESA/Failure\",\"Russian Federation/Eurockot/Failure\",\"China/ExPace/Failure\",\"United States of America/Exos/Failure\",\"United States of America/General Dynamics/Failure\",\"Israel/IAI/Failure\",\"Iran, Islamic Republic of/ISA/Failure\",\"Japan/ISAS/Failure\",\"India/ISRO/Failure\",\"Japan/JAXA/Failure\",\"South Korea/KARI/Failure\",\"North Korea/KCST/Failure\",\"Kazakhstan/Kosmotras/Failure\",\"China/Landspace/Failure\",\"United States of America/Lockheed/Failure\",\"Japan/MHI/Failure\",\"Russian Federation/MITT/Failure\",\"United States of America/Martin Marietta/Failure\",\"United States of America/NASA/Failure\",\"United States of America/Northrop/Failure\",\"China/OneSpace/Failure\",\"Australia/RAE/Failure\",\"Kazakhstan/RVSN USSR/Failure\",\"Russian Federation/RVSN USSR/Failure\",\"New Zealand/Rocket Lab/Failure\",\"Kazakhstan/Roscosmos/Failure\",\"Russian Federation/Roscosmos/Failure\",\"Russian Federation/SRC/Failure\",\"United States of America/Sandia/Failure\",\"United States of America/Sea Launch/Failure\",\"United States of America/SpaceX/Failure\",\"United States of America/US Air Force/Failure\",\"United States of America/US Navy/Failure\",\"Japan/UT/Failure\",\"Kazakhstan/VKS RF/Failure\",\"Russian Federation/VKS RF/Failure\",\"United States of America/Virgin Orbit/Failure\",\"United States of America/AMBA/Partial Failure\",\"France/Arianespace/Partial Failure\",\"France/Arm??e de l'Air/Partial Failure\",\"United States of America/Boeing/Partial Failure\",\"China/CASC/Partial Failure\",\"France/ESA/Partial Failure\",\"United States of America/Exos/Partial Failure\",\"United States of America/General Dynamics/Partial Failure\",\"Kazakhstan/ILS/Partial Failure\",\"Japan/ISAS/Partial Failure\",\"India/ISRO/Partial Failure\",\"Kazakhstan/Land Launch/Partial Failure\",\"Japan/MHI/Partial Failure\",\"United States of America/Martin Marietta/Partial Failure\",\"United States of America/NASA/Partial Failure\",\"United States of America/Northrop/Partial Failure\",\"Kazakhstan/RVSN USSR/Partial Failure\",\"Russian Federation/RVSN USSR/Partial Failure\",\"Kazakhstan/Roscosmos/Partial Failure\",\"United States of America/SpaceX/Partial Failure\",\"United States of America/ULA/Partial Failure\",\"United States of America/US Air Force/Partial Failure\",\"United States of America/US Navy/Partial Failure\",\"Russian Federation/VKS RF/Partial Failure\",\"Brazil/AEB/Prelaunch Failure\",\"Iran, Islamic Republic of/ISA/Prelaunch Failure\",\"Kazakhstan/RVSN USSR/Prelaunch Failure\",\"United States of America/SpaceX/Prelaunch Failure\",\"Australia/AMBA/Success\",\"United States of America/AMBA/Success\",\"Kenya/ASI/Success\",\"France/Arianespace/Success\",\"Kazakhstan/Arianespace/Success\",\"France/Arm??e de l'Air/Success\",\"United States of America/Blue Origin/Success\",\"United States of America/Boeing/Success\",\"China/CASC/Success\",\"China/CASIC/Success\",\"Australia/CECLES/Success\",\"France/CNES/Success\",\"United States of America/Douglas/Success\",\"France/ESA/Success\",\"Russian Federation/Eurockot/Success\",\"China/ExPace/Success\",\"United States of America/General Dynamics/Success\",\"Israel/IAI/Success\",\"Kazakhstan/ILS/Success\",\"United States of America/ILS/Success\",\"Iran, Islamic Republic of/IRGC/Success\",\"Iran, Islamic Republic of/ISA/Success\",\"Japan/ISAS/Success\",\"India/ISRO/Success\",\"Japan/JAXA/Success\",\"South Korea/KARI/Success\",\"North Korea/KCST/Success\",\"Russian Federation/Khrunichev/Success\",\"Kazakhstan/Kosmotras/Success\",\"Russian Federation/Kosmotras/Success\",\"Kazakhstan/Land Launch/Success\",\"United States of America/Lockheed/Success\",\"Japan/MHI/Success\",\"Russian Federation/MITT/Success\",\"United States of America/Martin Marietta/Success\",\"United States of America/NASA/Success\",\"United States of America/Northrop/Success\",\"Kazakhstan/OKB-586/Success\",\"Australia/RAE/Success\",\"Kazakhstan/RVSN USSR/Success\",\"Russian Federation/RVSN USSR/Success\",\"New Zealand/Rocket Lab/Success\",\"Kazakhstan/Roscosmos/Success\",\"Russian Federation/Roscosmos/Success\",\"Russian Federation/SRC/Success\",\"United States of America/Sea Launch/Success\",\"United States of America/SpaceX/Success\",\"Kazakhstan/Starsem/Success\",\"United States of America/ULA/Success\",\"United States of America/US Air Force/Success\",\"United States of America/US Navy/Success\",\"Japan/UT/Success\",\"Kazakhstan/VKS RF/Success\",\"Russian Federation/VKS RF/Success\",\"Kazakhstan/Yuzhmash/Success\",\"Russian Federation/Yuzhmash/Success\",\"China/i-Space/Success\",\"Brazil/AEB\",\"Australia/AMBA\",\"United States of America/AMBA\",\"Kenya/ASI\",\"France/Arianespace\",\"Kazakhstan/Arianespace\",\"France/Arm??e de l'Air\",\"United States of America/Blue Origin\",\"United States of America/Boeing\",\"China/CASC\",\"China/CASIC\",\"Australia/CECLES\",\"France/CECLES\",\"France/CNES\",\"United States of America/Douglas\",\"United States of America/EER\",\"France/ESA\",\"Russian Federation/Eurockot\",\"China/ExPace\",\"United States of America/Exos\",\"United States of America/General Dynamics\",\"Israel/IAI\",\"Kazakhstan/ILS\",\"United States of America/ILS\",\"Iran, Islamic Republic of/IRGC\",\"Iran, Islamic Republic of/ISA\",\"Japan/ISAS\",\"India/ISRO\",\"Japan/JAXA\",\"South Korea/KARI\",\"North Korea/KCST\",\"Russian Federation/Khrunichev\",\"Kazakhstan/Kosmotras\",\"Russian Federation/Kosmotras\",\"Kazakhstan/Land Launch\",\"China/Landspace\",\"United States of America/Lockheed\",\"Japan/MHI\",\"Russian Federation/MITT\",\"United States of America/Martin Marietta\",\"United States of America/NASA\",\"United States of America/Northrop\",\"Kazakhstan/OKB-586\",\"China/OneSpace\",\"Australia/RAE\",\"Kazakhstan/RVSN USSR\",\"Russian Federation/RVSN USSR\",\"New Zealand/Rocket Lab\",\"Kazakhstan/Roscosmos\",\"Russian Federation/Roscosmos\",\"Russian Federation/SRC\",\"United States of America/Sandia\",\"United States of America/Sea Launch\",\"United States of America/SpaceX\",\"Kazakhstan/Starsem\",\"United States of America/ULA\",\"United States of America/US Air Force\",\"United States of America/US Navy\",\"Japan/UT\",\"Kazakhstan/VKS RF\",\"Russian Federation/VKS RF\",\"United States of America/Virgin Orbit\",\"Kazakhstan/Yuzhmash\",\"Russian Federation/Yuzhmash\",\"China/i-Space\",\"Australia\",\"Brazil\",\"China\",\"France\",\"India\",\"Iran, Islamic Republic of\",\"Israel\",\"Japan\",\"Kazakhstan\",\"Kenya\",\"New Zealand\",\"North Korea\",\"Russian Federation\",\"South Korea\",\"United States of America\"],\"labels\":[\"Failure\",\"Failure\",\"Failure\",\"Failure\",\"Failure\",\"Failure\",\"Failure\",\"Failure\",\"Failure\",\"Failure\",\"Failure\",\"Failure\",\"Failure\",\"Failure\",\"Failure\",\"Failure\",\"Failure\",\"Failure\",\"Failure\",\"Failure\",\"Failure\",\"Failure\",\"Failure\",\"Failure\",\"Failure\",\"Failure\",\"Failure\",\"Failure\",\"Failure\",\"Failure\",\"Failure\",\"Failure\",\"Failure\",\"Failure\",\"Failure\",\"Failure\",\"Failure\",\"Failure\",\"Failure\",\"Failure\",\"Failure\",\"Failure\",\"Failure\",\"Failure\",\"Failure\",\"Failure\",\"Failure\",\"Partial Failure\",\"Partial Failure\",\"Partial Failure\",\"Partial Failure\",\"Partial Failure\",\"Partial Failure\",\"Partial Failure\",\"Partial Failure\",\"Partial Failure\",\"Partial Failure\",\"Partial Failure\",\"Partial Failure\",\"Partial Failure\",\"Partial Failure\",\"Partial Failure\",\"Partial Failure\",\"Partial Failure\",\"Partial Failure\",\"Partial Failure\",\"Partial Failure\",\"Partial Failure\",\"Partial Failure\",\"Partial Failure\",\"Partial Failure\",\"Prelaunch Failure\",\"Prelaunch Failure\",\"Prelaunch Failure\",\"Prelaunch Failure\",\"Success\",\"Success\",\"Success\",\"Success\",\"Success\",\"Success\",\"Success\",\"Success\",\"Success\",\"Success\",\"Success\",\"Success\",\"Success\",\"Success\",\"Success\",\"Success\",\"Success\",\"Success\",\"Success\",\"Success\",\"Success\",\"Success\",\"Success\",\"Success\",\"Success\",\"Success\",\"Success\",\"Success\",\"Success\",\"Success\",\"Success\",\"Success\",\"Success\",\"Success\",\"Success\",\"Success\",\"Success\",\"Success\",\"Success\",\"Success\",\"Success\",\"Success\",\"Success\",\"Success\",\"Success\",\"Success\",\"Success\",\"Success\",\"Success\",\"Success\",\"Success\",\"Success\",\"Success\",\"Success\",\"Success\",\"Success\",\"Success\",\"AEB\",\"AMBA\",\"AMBA\",\"ASI\",\"Arianespace\",\"Arianespace\",\"Arm??e de l'Air\",\"Blue Origin\",\"Boeing\",\"CASC\",\"CASIC\",\"CECLES\",\"CECLES\",\"CNES\",\"Douglas\",\"EER\",\"ESA\",\"Eurockot\",\"ExPace\",\"Exos\",\"General Dynamics\",\"IAI\",\"ILS\",\"ILS\",\"IRGC\",\"ISA\",\"ISAS\",\"ISRO\",\"JAXA\",\"KARI\",\"KCST\",\"Khrunichev\",\"Kosmotras\",\"Kosmotras\",\"Land Launch\",\"Landspace\",\"Lockheed\",\"MHI\",\"MITT\",\"Martin Marietta\",\"NASA\",\"Northrop\",\"OKB-586\",\"OneSpace\",\"RAE\",\"RVSN USSR\",\"RVSN USSR\",\"Rocket Lab\",\"Roscosmos\",\"Roscosmos\",\"SRC\",\"Sandia\",\"Sea Launch\",\"SpaceX\",\"Starsem\",\"ULA\",\"US Air Force\",\"US Navy\",\"UT\",\"VKS RF\",\"VKS RF\",\"Virgin Orbit\",\"Yuzhmash\",\"Yuzhmash\",\"i-Space\",\"Australia\",\"Brazil\",\"China\",\"France\",\"India\",\"Iran, Islamic Republic of\",\"Israel\",\"Japan\",\"Kazakhstan\",\"Kenya\",\"New Zealand\",\"North Korea\",\"Russian Federation\",\"South Korea\",\"United States of America\"],\"name\":\"\",\"parents\":[\"Brazil/AEB\",\"United States of America/AMBA\",\"France/Arianespace\",\"United States of America/Boeing\",\"China/CASC\",\"China/CASIC\",\"Australia/CECLES\",\"France/CECLES\",\"France/CNES\",\"United States of America/EER\",\"France/ESA\",\"Russian Federation/Eurockot\",\"China/ExPace\",\"United States of America/Exos\",\"United States of America/General Dynamics\",\"Israel/IAI\",\"Iran, Islamic Republic of/ISA\",\"Japan/ISAS\",\"India/ISRO\",\"Japan/JAXA\",\"South Korea/KARI\",\"North Korea/KCST\",\"Kazakhstan/Kosmotras\",\"China/Landspace\",\"United States of America/Lockheed\",\"Japan/MHI\",\"Russian Federation/MITT\",\"United States of America/Martin Marietta\",\"United States of America/NASA\",\"United States of America/Northrop\",\"China/OneSpace\",\"Australia/RAE\",\"Kazakhstan/RVSN USSR\",\"Russian Federation/RVSN USSR\",\"New Zealand/Rocket Lab\",\"Kazakhstan/Roscosmos\",\"Russian Federation/Roscosmos\",\"Russian Federation/SRC\",\"United States of America/Sandia\",\"United States of America/Sea Launch\",\"United States of America/SpaceX\",\"United States of America/US Air Force\",\"United States of America/US Navy\",\"Japan/UT\",\"Kazakhstan/VKS RF\",\"Russian Federation/VKS RF\",\"United States of America/Virgin Orbit\",\"United States of America/AMBA\",\"France/Arianespace\",\"France/Arm??e de l'Air\",\"United States of America/Boeing\",\"China/CASC\",\"France/ESA\",\"United States of America/Exos\",\"United States of America/General Dynamics\",\"Kazakhstan/ILS\",\"Japan/ISAS\",\"India/ISRO\",\"Kazakhstan/Land Launch\",\"Japan/MHI\",\"United States of America/Martin Marietta\",\"United States of America/NASA\",\"United States of America/Northrop\",\"Kazakhstan/RVSN USSR\",\"Russian Federation/RVSN USSR\",\"Kazakhstan/Roscosmos\",\"United States of America/SpaceX\",\"United States of America/ULA\",\"United States of America/US Air Force\",\"United States of America/US Navy\",\"Russian Federation/VKS RF\",\"Brazil/AEB\",\"Iran, Islamic Republic of/ISA\",\"Kazakhstan/RVSN USSR\",\"United States of America/SpaceX\",\"Australia/AMBA\",\"United States of America/AMBA\",\"Kenya/ASI\",\"France/Arianespace\",\"Kazakhstan/Arianespace\",\"France/Arm??e de l'Air\",\"United States of America/Blue Origin\",\"United States of America/Boeing\",\"China/CASC\",\"China/CASIC\",\"Australia/CECLES\",\"France/CNES\",\"United States of America/Douglas\",\"France/ESA\",\"Russian Federation/Eurockot\",\"China/ExPace\",\"United States of America/General Dynamics\",\"Israel/IAI\",\"Kazakhstan/ILS\",\"United States of America/ILS\",\"Iran, Islamic Republic of/IRGC\",\"Iran, Islamic Republic of/ISA\",\"Japan/ISAS\",\"India/ISRO\",\"Japan/JAXA\",\"South Korea/KARI\",\"North Korea/KCST\",\"Russian Federation/Khrunichev\",\"Kazakhstan/Kosmotras\",\"Russian Federation/Kosmotras\",\"Kazakhstan/Land Launch\",\"United States of America/Lockheed\",\"Japan/MHI\",\"Russian Federation/MITT\",\"United States of America/Martin Marietta\",\"United States of America/NASA\",\"United States of America/Northrop\",\"Kazakhstan/OKB-586\",\"Australia/RAE\",\"Kazakhstan/RVSN USSR\",\"Russian Federation/RVSN USSR\",\"New Zealand/Rocket Lab\",\"Kazakhstan/Roscosmos\",\"Russian Federation/Roscosmos\",\"Russian Federation/SRC\",\"United States of America/Sea Launch\",\"United States of America/SpaceX\",\"Kazakhstan/Starsem\",\"United States of America/ULA\",\"United States of America/US Air Force\",\"United States of America/US Navy\",\"Japan/UT\",\"Kazakhstan/VKS RF\",\"Russian Federation/VKS RF\",\"Kazakhstan/Yuzhmash\",\"Russian Federation/Yuzhmash\",\"China/i-Space\",\"Brazil\",\"Australia\",\"United States of America\",\"Kenya\",\"France\",\"Kazakhstan\",\"France\",\"United States of America\",\"United States of America\",\"China\",\"China\",\"Australia\",\"France\",\"France\",\"United States of America\",\"United States of America\",\"France\",\"Russian Federation\",\"China\",\"United States of America\",\"United States of America\",\"Israel\",\"Kazakhstan\",\"United States of America\",\"Iran, Islamic Republic of\",\"Iran, Islamic Republic of\",\"Japan\",\"India\",\"Japan\",\"South Korea\",\"North Korea\",\"Russian Federation\",\"Kazakhstan\",\"Russian Federation\",\"Kazakhstan\",\"China\",\"United States of America\",\"Japan\",\"Russian Federation\",\"United States of America\",\"United States of America\",\"United States of America\",\"Kazakhstan\",\"China\",\"Australia\",\"Kazakhstan\",\"Russian Federation\",\"New Zealand\",\"Kazakhstan\",\"Russian Federation\",\"Russian Federation\",\"United States of America\",\"United States of America\",\"United States of America\",\"Kazakhstan\",\"United States of America\",\"United States of America\",\"United States of America\",\"Japan\",\"Kazakhstan\",\"Russian Federation\",\"United States of America\",\"Kazakhstan\",\"Russian Federation\",\"China\",\"\",\"\",\"\",\"\",\"\",\"\",\"\",\"\",\"\",\"\",\"\",\"\",\"\",\"\",\"\"],\"values\":[2,3,7,3,14,2,2,1,2,1,3,1,1,1,37,2,8,3,8,1,2,3,1,1,5,2,1,11,11,7,1,1,66,55,2,2,1,1,1,3,4,30,14,4,3,4,1,1,3,1,2,6,1,3,11,1,1,5,1,2,3,6,2,17,24,1,1,1,2,1,6,1,1,1,1,1,3,9,267,2,3,12,131,231,3,1,6,1,9,12,9,203,9,5,40,1,4,26,63,6,1,2,1,11,10,6,74,80,6,100,186,74,2,1,495,1119,11,44,7,2,33,94,1,139,129,2,1,41,147,1,1,1,3,1,7,9,277,2,4,12,136,251,5,3,1,8,1,1,13,13,10,4,251,11,6,40,1,13,30,76,7,3,5,1,12,10,7,1,79,84,7,114,203,83,2,1,2,579,1198,13,47,8,3,1,36,100,1,140,161,17,5,44,157,1,1,1,1,6,3,269,303,76,14,11,126,701,9,13,5,1398,3,1387],\"type\":\"sunburst\"}],                        {\"template\":{\"data\":{\"histogram2dcontour\":[{\"type\":\"histogram2dcontour\",\"colorbar\":{\"outlinewidth\":0,\"ticks\":\"\"},\"colorscale\":[[0.0,\"#0d0887\"],[0.1111111111111111,\"#46039f\"],[0.2222222222222222,\"#7201a8\"],[0.3333333333333333,\"#9c179e\"],[0.4444444444444444,\"#bd3786\"],[0.5555555555555556,\"#d8576b\"],[0.6666666666666666,\"#ed7953\"],[0.7777777777777778,\"#fb9f3a\"],[0.8888888888888888,\"#fdca26\"],[1.0,\"#f0f921\"]]}],\"choropleth\":[{\"type\":\"choropleth\",\"colorbar\":{\"outlinewidth\":0,\"ticks\":\"\"}}],\"histogram2d\":[{\"type\":\"histogram2d\",\"colorbar\":{\"outlinewidth\":0,\"ticks\":\"\"},\"colorscale\":[[0.0,\"#0d0887\"],[0.1111111111111111,\"#46039f\"],[0.2222222222222222,\"#7201a8\"],[0.3333333333333333,\"#9c179e\"],[0.4444444444444444,\"#bd3786\"],[0.5555555555555556,\"#d8576b\"],[0.6666666666666666,\"#ed7953\"],[0.7777777777777778,\"#fb9f3a\"],[0.8888888888888888,\"#fdca26\"],[1.0,\"#f0f921\"]]}],\"heatmap\":[{\"type\":\"heatmap\",\"colorbar\":{\"outlinewidth\":0,\"ticks\":\"\"},\"colorscale\":[[0.0,\"#0d0887\"],[0.1111111111111111,\"#46039f\"],[0.2222222222222222,\"#7201a8\"],[0.3333333333333333,\"#9c179e\"],[0.4444444444444444,\"#bd3786\"],[0.5555555555555556,\"#d8576b\"],[0.6666666666666666,\"#ed7953\"],[0.7777777777777778,\"#fb9f3a\"],[0.8888888888888888,\"#fdca26\"],[1.0,\"#f0f921\"]]}],\"heatmapgl\":[{\"type\":\"heatmapgl\",\"colorbar\":{\"outlinewidth\":0,\"ticks\":\"\"},\"colorscale\":[[0.0,\"#0d0887\"],[0.1111111111111111,\"#46039f\"],[0.2222222222222222,\"#7201a8\"],[0.3333333333333333,\"#9c179e\"],[0.4444444444444444,\"#bd3786\"],[0.5555555555555556,\"#d8576b\"],[0.6666666666666666,\"#ed7953\"],[0.7777777777777778,\"#fb9f3a\"],[0.8888888888888888,\"#fdca26\"],[1.0,\"#f0f921\"]]}],\"contourcarpet\":[{\"type\":\"contourcarpet\",\"colorbar\":{\"outlinewidth\":0,\"ticks\":\"\"}}],\"contour\":[{\"type\":\"contour\",\"colorbar\":{\"outlinewidth\":0,\"ticks\":\"\"},\"colorscale\":[[0.0,\"#0d0887\"],[0.1111111111111111,\"#46039f\"],[0.2222222222222222,\"#7201a8\"],[0.3333333333333333,\"#9c179e\"],[0.4444444444444444,\"#bd3786\"],[0.5555555555555556,\"#d8576b\"],[0.6666666666666666,\"#ed7953\"],[0.7777777777777778,\"#fb9f3a\"],[0.8888888888888888,\"#fdca26\"],[1.0,\"#f0f921\"]]}],\"surface\":[{\"type\":\"surface\",\"colorbar\":{\"outlinewidth\":0,\"ticks\":\"\"},\"colorscale\":[[0.0,\"#0d0887\"],[0.1111111111111111,\"#46039f\"],[0.2222222222222222,\"#7201a8\"],[0.3333333333333333,\"#9c179e\"],[0.4444444444444444,\"#bd3786\"],[0.5555555555555556,\"#d8576b\"],[0.6666666666666666,\"#ed7953\"],[0.7777777777777778,\"#fb9f3a\"],[0.8888888888888888,\"#fdca26\"],[1.0,\"#f0f921\"]]}],\"mesh3d\":[{\"type\":\"mesh3d\",\"colorbar\":{\"outlinewidth\":0,\"ticks\":\"\"}}],\"scatter\":[{\"fillpattern\":{\"fillmode\":\"overlay\",\"size\":10,\"solidity\":0.2},\"type\":\"scatter\"}],\"parcoords\":[{\"type\":\"parcoords\",\"line\":{\"colorbar\":{\"outlinewidth\":0,\"ticks\":\"\"}}}],\"scatterpolargl\":[{\"type\":\"scatterpolargl\",\"marker\":{\"colorbar\":{\"outlinewidth\":0,\"ticks\":\"\"}}}],\"bar\":[{\"error_x\":{\"color\":\"#2a3f5f\"},\"error_y\":{\"color\":\"#2a3f5f\"},\"marker\":{\"line\":{\"color\":\"#E5ECF6\",\"width\":0.5},\"pattern\":{\"fillmode\":\"overlay\",\"size\":10,\"solidity\":0.2}},\"type\":\"bar\"}],\"scattergeo\":[{\"type\":\"scattergeo\",\"marker\":{\"colorbar\":{\"outlinewidth\":0,\"ticks\":\"\"}}}],\"scatterpolar\":[{\"type\":\"scatterpolar\",\"marker\":{\"colorbar\":{\"outlinewidth\":0,\"ticks\":\"\"}}}],\"histogram\":[{\"marker\":{\"pattern\":{\"fillmode\":\"overlay\",\"size\":10,\"solidity\":0.2}},\"type\":\"histogram\"}],\"scattergl\":[{\"type\":\"scattergl\",\"marker\":{\"colorbar\":{\"outlinewidth\":0,\"ticks\":\"\"}}}],\"scatter3d\":[{\"type\":\"scatter3d\",\"line\":{\"colorbar\":{\"outlinewidth\":0,\"ticks\":\"\"}},\"marker\":{\"colorbar\":{\"outlinewidth\":0,\"ticks\":\"\"}}}],\"scattermapbox\":[{\"type\":\"scattermapbox\",\"marker\":{\"colorbar\":{\"outlinewidth\":0,\"ticks\":\"\"}}}],\"scatterternary\":[{\"type\":\"scatterternary\",\"marker\":{\"colorbar\":{\"outlinewidth\":0,\"ticks\":\"\"}}}],\"scattercarpet\":[{\"type\":\"scattercarpet\",\"marker\":{\"colorbar\":{\"outlinewidth\":0,\"ticks\":\"\"}}}],\"carpet\":[{\"aaxis\":{\"endlinecolor\":\"#2a3f5f\",\"gridcolor\":\"white\",\"linecolor\":\"white\",\"minorgridcolor\":\"white\",\"startlinecolor\":\"#2a3f5f\"},\"baxis\":{\"endlinecolor\":\"#2a3f5f\",\"gridcolor\":\"white\",\"linecolor\":\"white\",\"minorgridcolor\":\"white\",\"startlinecolor\":\"#2a3f5f\"},\"type\":\"carpet\"}],\"table\":[{\"cells\":{\"fill\":{\"color\":\"#EBF0F8\"},\"line\":{\"color\":\"white\"}},\"header\":{\"fill\":{\"color\":\"#C8D4E3\"},\"line\":{\"color\":\"white\"}},\"type\":\"table\"}],\"barpolar\":[{\"marker\":{\"line\":{\"color\":\"#E5ECF6\",\"width\":0.5},\"pattern\":{\"fillmode\":\"overlay\",\"size\":10,\"solidity\":0.2}},\"type\":\"barpolar\"}],\"pie\":[{\"automargin\":true,\"type\":\"pie\"}]},\"layout\":{\"autotypenumbers\":\"strict\",\"colorway\":[\"#636efa\",\"#EF553B\",\"#00cc96\",\"#ab63fa\",\"#FFA15A\",\"#19d3f3\",\"#FF6692\",\"#B6E880\",\"#FF97FF\",\"#FECB52\"],\"font\":{\"color\":\"#2a3f5f\"},\"hovermode\":\"closest\",\"hoverlabel\":{\"align\":\"left\"},\"paper_bgcolor\":\"white\",\"plot_bgcolor\":\"#E5ECF6\",\"polar\":{\"bgcolor\":\"#E5ECF6\",\"angularaxis\":{\"gridcolor\":\"white\",\"linecolor\":\"white\",\"ticks\":\"\"},\"radialaxis\":{\"gridcolor\":\"white\",\"linecolor\":\"white\",\"ticks\":\"\"}},\"ternary\":{\"bgcolor\":\"#E5ECF6\",\"aaxis\":{\"gridcolor\":\"white\",\"linecolor\":\"white\",\"ticks\":\"\"},\"baxis\":{\"gridcolor\":\"white\",\"linecolor\":\"white\",\"ticks\":\"\"},\"caxis\":{\"gridcolor\":\"white\",\"linecolor\":\"white\",\"ticks\":\"\"}},\"coloraxis\":{\"colorbar\":{\"outlinewidth\":0,\"ticks\":\"\"}},\"colorscale\":{\"sequential\":[[0.0,\"#0d0887\"],[0.1111111111111111,\"#46039f\"],[0.2222222222222222,\"#7201a8\"],[0.3333333333333333,\"#9c179e\"],[0.4444444444444444,\"#bd3786\"],[0.5555555555555556,\"#d8576b\"],[0.6666666666666666,\"#ed7953\"],[0.7777777777777778,\"#fb9f3a\"],[0.8888888888888888,\"#fdca26\"],[1.0,\"#f0f921\"]],\"sequentialminus\":[[0.0,\"#0d0887\"],[0.1111111111111111,\"#46039f\"],[0.2222222222222222,\"#7201a8\"],[0.3333333333333333,\"#9c179e\"],[0.4444444444444444,\"#bd3786\"],[0.5555555555555556,\"#d8576b\"],[0.6666666666666666,\"#ed7953\"],[0.7777777777777778,\"#fb9f3a\"],[0.8888888888888888,\"#fdca26\"],[1.0,\"#f0f921\"]],\"diverging\":[[0,\"#8e0152\"],[0.1,\"#c51b7d\"],[0.2,\"#de77ae\"],[0.3,\"#f1b6da\"],[0.4,\"#fde0ef\"],[0.5,\"#f7f7f7\"],[0.6,\"#e6f5d0\"],[0.7,\"#b8e186\"],[0.8,\"#7fbc41\"],[0.9,\"#4d9221\"],[1,\"#276419\"]]},\"xaxis\":{\"gridcolor\":\"white\",\"linecolor\":\"white\",\"ticks\":\"\",\"title\":{\"standoff\":15},\"zerolinecolor\":\"white\",\"automargin\":true,\"zerolinewidth\":2},\"yaxis\":{\"gridcolor\":\"white\",\"linecolor\":\"white\",\"ticks\":\"\",\"title\":{\"standoff\":15},\"zerolinecolor\":\"white\",\"automargin\":true,\"zerolinewidth\":2},\"scene\":{\"xaxis\":{\"backgroundcolor\":\"#E5ECF6\",\"gridcolor\":\"white\",\"linecolor\":\"white\",\"showbackground\":true,\"ticks\":\"\",\"zerolinecolor\":\"white\",\"gridwidth\":2},\"yaxis\":{\"backgroundcolor\":\"#E5ECF6\",\"gridcolor\":\"white\",\"linecolor\":\"white\",\"showbackground\":true,\"ticks\":\"\",\"zerolinecolor\":\"white\",\"gridwidth\":2},\"zaxis\":{\"backgroundcolor\":\"#E5ECF6\",\"gridcolor\":\"white\",\"linecolor\":\"white\",\"showbackground\":true,\"ticks\":\"\",\"zerolinecolor\":\"white\",\"gridwidth\":2}},\"shapedefaults\":{\"line\":{\"color\":\"#2a3f5f\"}},\"annotationdefaults\":{\"arrowcolor\":\"#2a3f5f\",\"arrowhead\":0,\"arrowwidth\":1},\"geo\":{\"bgcolor\":\"white\",\"landcolor\":\"#E5ECF6\",\"subunitcolor\":\"white\",\"showland\":true,\"showlakes\":true,\"lakecolor\":\"white\"},\"title\":{\"x\":0.05},\"mapbox\":{\"style\":\"light\"}}},\"legend\":{\"tracegroupgap\":0},\"margin\":{\"t\":60}},                        {\"responsive\": true}                    ).then(function(){\n",
       "                            \n",
       "var gd = document.getElementById('8ed92b66-1487-4132-bfc6-fe59e3920bb2');\n",
       "var x = new MutationObserver(function (mutations, observer) {{\n",
       "        var display = window.getComputedStyle(gd).display;\n",
       "        if (!display || display === 'none') {{\n",
       "            console.log([gd, 'removed!']);\n",
       "            Plotly.purge(gd);\n",
       "            observer.disconnect();\n",
       "        }}\n",
       "}});\n",
       "\n",
       "// Listen for the removal of the full notebook cells\n",
       "var notebookContainer = gd.closest('#notebook-container');\n",
       "if (notebookContainer) {{\n",
       "    x.observe(notebookContainer, {childList: true});\n",
       "}}\n",
       "\n",
       "// Listen for the clearing of the current output cell\n",
       "var outputEl = gd.closest('.output');\n",
       "if (outputEl) {{\n",
       "    x.observe(outputEl, {childList: true});\n",
       "}}\n",
       "\n",
       "                        })                };                });            </script>        </div>"
      ]
     },
     "metadata": {},
     "output_type": "display_data"
    }
   ],
   "source": [
    "fig = px.sunburst(df_data,\n",
    "path=['country', 'Organisation', 'Mission_Status']\n",
    "                 )\n",
    "\n",
    "fig.show()"
   ]
  },
  {
   "cell_type": "markdown",
   "metadata": {
    "id": "70pG1BCZa-qY",
    "papermill": {
     "duration": 0.062712,
     "end_time": "2020-10-20T21:34:07.951200",
     "exception": false,
     "start_time": "2020-10-20T21:34:07.888488",
     "status": "completed"
    },
    "tags": []
   },
   "source": [
    "### Analysing the Total Amount of Money Spent by Organisation on Space Missions"
   ]
  },
  {
   "cell_type": "code",
   "execution_count": 79,
   "metadata": {
    "id": "IaJYxwEVpKHy"
   },
   "outputs": [
    {
     "data": {
      "text/html": [
       "<div>\n",
       "<style scoped>\n",
       "    .dataframe tbody tr th:only-of-type {\n",
       "        vertical-align: middle;\n",
       "    }\n",
       "\n",
       "    .dataframe tbody tr th {\n",
       "        vertical-align: top;\n",
       "    }\n",
       "\n",
       "    .dataframe thead th {\n",
       "        text-align: right;\n",
       "    }\n",
       "</style>\n",
       "<table border=\"1\" class=\"dataframe\">\n",
       "  <thead>\n",
       "    <tr style=\"text-align: right;\">\n",
       "      <th></th>\n",
       "      <th>Organisation</th>\n",
       "      <th>Location</th>\n",
       "      <th>Date</th>\n",
       "      <th>Detail</th>\n",
       "      <th>Rocket_Status</th>\n",
       "      <th>Price</th>\n",
       "      <th>Mission_Status</th>\n",
       "      <th>country</th>\n",
       "      <th>iso</th>\n",
       "    </tr>\n",
       "  </thead>\n",
       "  <tbody>\n",
       "    <tr>\n",
       "      <th>0</th>\n",
       "      <td>SpaceX</td>\n",
       "      <td>LC-39A, Kennedy Space Center, Florida, USA</td>\n",
       "      <td>2020-08-07 05:12:00+00:00</td>\n",
       "      <td>Falcon 9 Block 5 | Starlink V1 L9 &amp; BlackSky</td>\n",
       "      <td>StatusActive</td>\n",
       "      <td>50.00</td>\n",
       "      <td>Success</td>\n",
       "      <td>United States of America</td>\n",
       "      <td>USA</td>\n",
       "    </tr>\n",
       "    <tr>\n",
       "      <th>1</th>\n",
       "      <td>CASC</td>\n",
       "      <td>Site 9401 (SLS-2), Jiuquan Satellite Launch Ce...</td>\n",
       "      <td>2020-08-06 04:01:00+00:00</td>\n",
       "      <td>Long March 2D | Gaofen-9 04 &amp; Q-SAT</td>\n",
       "      <td>StatusActive</td>\n",
       "      <td>29.75</td>\n",
       "      <td>Success</td>\n",
       "      <td>China</td>\n",
       "      <td>CHN</td>\n",
       "    </tr>\n",
       "    <tr>\n",
       "      <th>2</th>\n",
       "      <td>SpaceX</td>\n",
       "      <td>Pad A, Boca Chica, Texas, USA</td>\n",
       "      <td>2020-08-04 23:57:00+00:00</td>\n",
       "      <td>Starship Prototype | 150 Meter Hop</td>\n",
       "      <td>StatusActive</td>\n",
       "      <td>NaN</td>\n",
       "      <td>Success</td>\n",
       "      <td>United States of America</td>\n",
       "      <td>USA</td>\n",
       "    </tr>\n",
       "    <tr>\n",
       "      <th>3</th>\n",
       "      <td>Roscosmos</td>\n",
       "      <td>Site 200/39, Baikonur Cosmodrome, Kazakhstan</td>\n",
       "      <td>2020-07-30 21:25:00+00:00</td>\n",
       "      <td>Proton-M/Briz-M | Ekspress-80 &amp; Ekspress-103</td>\n",
       "      <td>StatusActive</td>\n",
       "      <td>65.00</td>\n",
       "      <td>Success</td>\n",
       "      <td>Kazakhstan</td>\n",
       "      <td>KAZ</td>\n",
       "    </tr>\n",
       "    <tr>\n",
       "      <th>4</th>\n",
       "      <td>ULA</td>\n",
       "      <td>SLC-41, Cape Canaveral AFS, Florida, USA</td>\n",
       "      <td>2020-07-30 11:50:00+00:00</td>\n",
       "      <td>Atlas V 541 | Perseverance</td>\n",
       "      <td>StatusActive</td>\n",
       "      <td>145.00</td>\n",
       "      <td>Success</td>\n",
       "      <td>United States of America</td>\n",
       "      <td>USA</td>\n",
       "    </tr>\n",
       "  </tbody>\n",
       "</table>\n",
       "</div>"
      ],
      "text/plain": [
       "  Organisation                                           Location  \\\n",
       "0       SpaceX         LC-39A, Kennedy Space Center, Florida, USA   \n",
       "1         CASC  Site 9401 (SLS-2), Jiuquan Satellite Launch Ce...   \n",
       "2       SpaceX                      Pad A, Boca Chica, Texas, USA   \n",
       "3    Roscosmos       Site 200/39, Baikonur Cosmodrome, Kazakhstan   \n",
       "4          ULA           SLC-41, Cape Canaveral AFS, Florida, USA   \n",
       "\n",
       "                        Date                                        Detail  \\\n",
       "0  2020-08-07 05:12:00+00:00  Falcon 9 Block 5 | Starlink V1 L9 & BlackSky   \n",
       "1  2020-08-06 04:01:00+00:00           Long March 2D | Gaofen-9 04 & Q-SAT   \n",
       "2  2020-08-04 23:57:00+00:00            Starship Prototype | 150 Meter Hop   \n",
       "3  2020-07-30 21:25:00+00:00  Proton-M/Briz-M | Ekspress-80 & Ekspress-103   \n",
       "4  2020-07-30 11:50:00+00:00                    Atlas V 541 | Perseverance   \n",
       "\n",
       "  Rocket_Status  Price Mission_Status                   country  iso  \n",
       "0  StatusActive  50.00        Success  United States of America  USA  \n",
       "1  StatusActive  29.75        Success                     China  CHN  \n",
       "2  StatusActive    NaN        Success  United States of America  USA  \n",
       "3  StatusActive  65.00        Success                Kazakhstan  KAZ  \n",
       "4  StatusActive 145.00        Success  United States of America  USA  "
      ]
     },
     "execution_count": 79,
     "metadata": {},
     "output_type": "execute_result"
    }
   ],
   "source": [
    "df_data.head()"
   ]
  },
  {
   "cell_type": "code",
   "execution_count": 80,
   "metadata": {
    "id": "orIFf-appPDL"
   },
   "outputs": [
    {
     "data": {
      "text/html": [
       "<div>\n",
       "<style scoped>\n",
       "    .dataframe tbody tr th:only-of-type {\n",
       "        vertical-align: middle;\n",
       "    }\n",
       "\n",
       "    .dataframe tbody tr th {\n",
       "        vertical-align: top;\n",
       "    }\n",
       "\n",
       "    .dataframe thead th {\n",
       "        text-align: right;\n",
       "    }\n",
       "</style>\n",
       "<table border=\"1\" class=\"dataframe\">\n",
       "  <thead>\n",
       "    <tr style=\"text-align: right;\">\n",
       "      <th></th>\n",
       "      <th>Organisation</th>\n",
       "      <th>Price</th>\n",
       "    </tr>\n",
       "  </thead>\n",
       "  <tbody>\n",
       "    <tr>\n",
       "      <th>35</th>\n",
       "      <td>NASA</td>\n",
       "      <td>76,280.00</td>\n",
       "    </tr>\n",
       "    <tr>\n",
       "      <th>3</th>\n",
       "      <td>Arianespace</td>\n",
       "      <td>16,345.00</td>\n",
       "    </tr>\n",
       "    <tr>\n",
       "      <th>48</th>\n",
       "      <td>ULA</td>\n",
       "      <td>14,798.00</td>\n",
       "    </tr>\n",
       "    <tr>\n",
       "      <th>40</th>\n",
       "      <td>RVSN USSR</td>\n",
       "      <td>10,000.00</td>\n",
       "    </tr>\n",
       "    <tr>\n",
       "      <th>7</th>\n",
       "      <td>CASC</td>\n",
       "      <td>6,340.26</td>\n",
       "    </tr>\n",
       "    <tr>\n",
       "      <th>46</th>\n",
       "      <td>SpaceX</td>\n",
       "      <td>5,444.00</td>\n",
       "    </tr>\n",
       "    <tr>\n",
       "      <th>36</th>\n",
       "      <td>Northrop</td>\n",
       "      <td>3,930.00</td>\n",
       "    </tr>\n",
       "    <tr>\n",
       "      <th>32</th>\n",
       "      <td>MHI</td>\n",
       "      <td>3,532.50</td>\n",
       "    </tr>\n",
       "    <tr>\n",
       "      <th>23</th>\n",
       "      <td>ISRO</td>\n",
       "      <td>2,177.00</td>\n",
       "    </tr>\n",
       "    <tr>\n",
       "      <th>49</th>\n",
       "      <td>US Air Force</td>\n",
       "      <td>1,550.92</td>\n",
       "    </tr>\n",
       "    <tr>\n",
       "      <th>52</th>\n",
       "      <td>VKS RF</td>\n",
       "      <td>1,548.90</td>\n",
       "    </tr>\n",
       "    <tr>\n",
       "      <th>19</th>\n",
       "      <td>ILS</td>\n",
       "      <td>1,320.00</td>\n",
       "    </tr>\n",
       "    <tr>\n",
       "      <th>6</th>\n",
       "      <td>Boeing</td>\n",
       "      <td>1,241.00</td>\n",
       "    </tr>\n",
       "    <tr>\n",
       "      <th>42</th>\n",
       "      <td>Roscosmos</td>\n",
       "      <td>1,187.50</td>\n",
       "    </tr>\n",
       "    <tr>\n",
       "      <th>34</th>\n",
       "      <td>Martin Marietta</td>\n",
       "      <td>721.40</td>\n",
       "    </tr>\n",
       "    <tr>\n",
       "      <th>28</th>\n",
       "      <td>Kosmotras</td>\n",
       "      <td>638.00</td>\n",
       "    </tr>\n",
       "    <tr>\n",
       "      <th>14</th>\n",
       "      <td>Eurockot</td>\n",
       "      <td>543.40</td>\n",
       "    </tr>\n",
       "    <tr>\n",
       "      <th>31</th>\n",
       "      <td>Lockheed</td>\n",
       "      <td>280.00</td>\n",
       "    </tr>\n",
       "    <tr>\n",
       "      <th>24</th>\n",
       "      <td>JAXA</td>\n",
       "      <td>168.00</td>\n",
       "    </tr>\n",
       "    <tr>\n",
       "      <th>41</th>\n",
       "      <td>Rocket Lab</td>\n",
       "      <td>97.50</td>\n",
       "    </tr>\n",
       "    <tr>\n",
       "      <th>13</th>\n",
       "      <td>ESA</td>\n",
       "      <td>37.00</td>\n",
       "    </tr>\n",
       "    <tr>\n",
       "      <th>15</th>\n",
       "      <td>ExPace</td>\n",
       "      <td>28.30</td>\n",
       "    </tr>\n",
       "    <tr>\n",
       "      <th>12</th>\n",
       "      <td>EER</td>\n",
       "      <td>20.00</td>\n",
       "    </tr>\n",
       "    <tr>\n",
       "      <th>44</th>\n",
       "      <td>Sandia</td>\n",
       "      <td>15.00</td>\n",
       "    </tr>\n",
       "    <tr>\n",
       "      <th>53</th>\n",
       "      <td>Virgin Orbit</td>\n",
       "      <td>12.00</td>\n",
       "    </tr>\n",
       "    <tr>\n",
       "      <th>43</th>\n",
       "      <td>SRC</td>\n",
       "      <td>0.00</td>\n",
       "    </tr>\n",
       "    <tr>\n",
       "      <th>54</th>\n",
       "      <td>Yuzhmash</td>\n",
       "      <td>0.00</td>\n",
       "    </tr>\n",
       "    <tr>\n",
       "      <th>39</th>\n",
       "      <td>RAE</td>\n",
       "      <td>0.00</td>\n",
       "    </tr>\n",
       "    <tr>\n",
       "      <th>38</th>\n",
       "      <td>OneSpace</td>\n",
       "      <td>0.00</td>\n",
       "    </tr>\n",
       "    <tr>\n",
       "      <th>37</th>\n",
       "      <td>OKB-586</td>\n",
       "      <td>0.00</td>\n",
       "    </tr>\n",
       "    <tr>\n",
       "      <th>50</th>\n",
       "      <td>US Navy</td>\n",
       "      <td>0.00</td>\n",
       "    </tr>\n",
       "    <tr>\n",
       "      <th>45</th>\n",
       "      <td>Sea Launch</td>\n",
       "      <td>0.00</td>\n",
       "    </tr>\n",
       "    <tr>\n",
       "      <th>51</th>\n",
       "      <td>UT</td>\n",
       "      <td>0.00</td>\n",
       "    </tr>\n",
       "    <tr>\n",
       "      <th>47</th>\n",
       "      <td>Starsem</td>\n",
       "      <td>0.00</td>\n",
       "    </tr>\n",
       "    <tr>\n",
       "      <th>0</th>\n",
       "      <td>AEB</td>\n",
       "      <td>0.00</td>\n",
       "    </tr>\n",
       "    <tr>\n",
       "      <th>33</th>\n",
       "      <td>MITT</td>\n",
       "      <td>0.00</td>\n",
       "    </tr>\n",
       "    <tr>\n",
       "      <th>17</th>\n",
       "      <td>General Dynamics</td>\n",
       "      <td>0.00</td>\n",
       "    </tr>\n",
       "    <tr>\n",
       "      <th>2</th>\n",
       "      <td>ASI</td>\n",
       "      <td>0.00</td>\n",
       "    </tr>\n",
       "    <tr>\n",
       "      <th>4</th>\n",
       "      <td>Arm??e de l'Air</td>\n",
       "      <td>0.00</td>\n",
       "    </tr>\n",
       "    <tr>\n",
       "      <th>5</th>\n",
       "      <td>Blue Origin</td>\n",
       "      <td>0.00</td>\n",
       "    </tr>\n",
       "    <tr>\n",
       "      <th>8</th>\n",
       "      <td>CASIC</td>\n",
       "      <td>0.00</td>\n",
       "    </tr>\n",
       "    <tr>\n",
       "      <th>9</th>\n",
       "      <td>CECLES</td>\n",
       "      <td>0.00</td>\n",
       "    </tr>\n",
       "    <tr>\n",
       "      <th>10</th>\n",
       "      <td>CNES</td>\n",
       "      <td>0.00</td>\n",
       "    </tr>\n",
       "    <tr>\n",
       "      <th>11</th>\n",
       "      <td>Douglas</td>\n",
       "      <td>0.00</td>\n",
       "    </tr>\n",
       "    <tr>\n",
       "      <th>16</th>\n",
       "      <td>Exos</td>\n",
       "      <td>0.00</td>\n",
       "    </tr>\n",
       "    <tr>\n",
       "      <th>18</th>\n",
       "      <td>IAI</td>\n",
       "      <td>0.00</td>\n",
       "    </tr>\n",
       "    <tr>\n",
       "      <th>30</th>\n",
       "      <td>Landspace</td>\n",
       "      <td>0.00</td>\n",
       "    </tr>\n",
       "    <tr>\n",
       "      <th>20</th>\n",
       "      <td>IRGC</td>\n",
       "      <td>0.00</td>\n",
       "    </tr>\n",
       "    <tr>\n",
       "      <th>21</th>\n",
       "      <td>ISA</td>\n",
       "      <td>0.00</td>\n",
       "    </tr>\n",
       "    <tr>\n",
       "      <th>22</th>\n",
       "      <td>ISAS</td>\n",
       "      <td>0.00</td>\n",
       "    </tr>\n",
       "    <tr>\n",
       "      <th>25</th>\n",
       "      <td>KARI</td>\n",
       "      <td>0.00</td>\n",
       "    </tr>\n",
       "    <tr>\n",
       "      <th>26</th>\n",
       "      <td>KCST</td>\n",
       "      <td>0.00</td>\n",
       "    </tr>\n",
       "    <tr>\n",
       "      <th>27</th>\n",
       "      <td>Khrunichev</td>\n",
       "      <td>0.00</td>\n",
       "    </tr>\n",
       "    <tr>\n",
       "      <th>1</th>\n",
       "      <td>AMBA</td>\n",
       "      <td>0.00</td>\n",
       "    </tr>\n",
       "    <tr>\n",
       "      <th>29</th>\n",
       "      <td>Land Launch</td>\n",
       "      <td>0.00</td>\n",
       "    </tr>\n",
       "    <tr>\n",
       "      <th>55</th>\n",
       "      <td>i-Space</td>\n",
       "      <td>0.00</td>\n",
       "    </tr>\n",
       "  </tbody>\n",
       "</table>\n",
       "</div>"
      ],
      "text/plain": [
       "        Organisation     Price\n",
       "35              NASA 76,280.00\n",
       "3        Arianespace 16,345.00\n",
       "48               ULA 14,798.00\n",
       "40         RVSN USSR 10,000.00\n",
       "7               CASC  6,340.26\n",
       "46            SpaceX  5,444.00\n",
       "36          Northrop  3,930.00\n",
       "32               MHI  3,532.50\n",
       "23              ISRO  2,177.00\n",
       "49      US Air Force  1,550.92\n",
       "52            VKS RF  1,548.90\n",
       "19               ILS  1,320.00\n",
       "6             Boeing  1,241.00\n",
       "42         Roscosmos  1,187.50\n",
       "34   Martin Marietta    721.40\n",
       "28         Kosmotras    638.00\n",
       "14          Eurockot    543.40\n",
       "31          Lockheed    280.00\n",
       "24              JAXA    168.00\n",
       "41        Rocket Lab     97.50\n",
       "13               ESA     37.00\n",
       "15            ExPace     28.30\n",
       "12               EER     20.00\n",
       "44            Sandia     15.00\n",
       "53      Virgin Orbit     12.00\n",
       "43               SRC      0.00\n",
       "54          Yuzhmash      0.00\n",
       "39               RAE      0.00\n",
       "38          OneSpace      0.00\n",
       "37           OKB-586      0.00\n",
       "50           US Navy      0.00\n",
       "45        Sea Launch      0.00\n",
       "51                UT      0.00\n",
       "47           Starsem      0.00\n",
       "0                AEB      0.00\n",
       "33              MITT      0.00\n",
       "17  General Dynamics      0.00\n",
       "2                ASI      0.00\n",
       "4    Arm??e de l'Air      0.00\n",
       "5        Blue Origin      0.00\n",
       "8              CASIC      0.00\n",
       "9             CECLES      0.00\n",
       "10              CNES      0.00\n",
       "11           Douglas      0.00\n",
       "16              Exos      0.00\n",
       "18               IAI      0.00\n",
       "30         Landspace      0.00\n",
       "20              IRGC      0.00\n",
       "21               ISA      0.00\n",
       "22              ISAS      0.00\n",
       "25              KARI      0.00\n",
       "26              KCST      0.00\n",
       "27        Khrunichev      0.00\n",
       "1               AMBA      0.00\n",
       "29       Land Launch      0.00\n",
       "55           i-Space      0.00"
      ]
     },
     "execution_count": 80,
     "metadata": {},
     "output_type": "execute_result"
    }
   ],
   "source": [
    "df_org_exp= df_data.groupby(\"Organisation\",as_index=False).sum(\"Price\").sort_values(\"Price\",ascending=False)\n",
    "df_org_exp"
   ]
  },
  {
   "cell_type": "markdown",
   "metadata": {},
   "source": [
    "### Looks like NASA tops the chart with expenditure overall. We see there are a lot of zero values. It is a better idea to get rid of them in order to plot averages etc accurately."
   ]
  },
  {
   "cell_type": "code",
   "execution_count": 81,
   "metadata": {
    "id": "86OMPfpEpO7R"
   },
   "outputs": [
    {
     "data": {
      "text/html": [
       "<div>\n",
       "<style scoped>\n",
       "    .dataframe tbody tr th:only-of-type {\n",
       "        vertical-align: middle;\n",
       "    }\n",
       "\n",
       "    .dataframe tbody tr th {\n",
       "        vertical-align: top;\n",
       "    }\n",
       "\n",
       "    .dataframe thead th {\n",
       "        text-align: right;\n",
       "    }\n",
       "</style>\n",
       "<table border=\"1\" class=\"dataframe\">\n",
       "  <thead>\n",
       "    <tr style=\"text-align: right;\">\n",
       "      <th></th>\n",
       "      <th>Organisation</th>\n",
       "      <th>Price</th>\n",
       "    </tr>\n",
       "  </thead>\n",
       "  <tbody>\n",
       "    <tr>\n",
       "      <th>35</th>\n",
       "      <td>NASA</td>\n",
       "      <td>76,280.00</td>\n",
       "    </tr>\n",
       "    <tr>\n",
       "      <th>3</th>\n",
       "      <td>Arianespace</td>\n",
       "      <td>16,345.00</td>\n",
       "    </tr>\n",
       "    <tr>\n",
       "      <th>48</th>\n",
       "      <td>ULA</td>\n",
       "      <td>14,798.00</td>\n",
       "    </tr>\n",
       "    <tr>\n",
       "      <th>40</th>\n",
       "      <td>RVSN USSR</td>\n",
       "      <td>10,000.00</td>\n",
       "    </tr>\n",
       "    <tr>\n",
       "      <th>7</th>\n",
       "      <td>CASC</td>\n",
       "      <td>6,340.26</td>\n",
       "    </tr>\n",
       "    <tr>\n",
       "      <th>46</th>\n",
       "      <td>SpaceX</td>\n",
       "      <td>5,444.00</td>\n",
       "    </tr>\n",
       "    <tr>\n",
       "      <th>36</th>\n",
       "      <td>Northrop</td>\n",
       "      <td>3,930.00</td>\n",
       "    </tr>\n",
       "    <tr>\n",
       "      <th>32</th>\n",
       "      <td>MHI</td>\n",
       "      <td>3,532.50</td>\n",
       "    </tr>\n",
       "    <tr>\n",
       "      <th>23</th>\n",
       "      <td>ISRO</td>\n",
       "      <td>2,177.00</td>\n",
       "    </tr>\n",
       "    <tr>\n",
       "      <th>49</th>\n",
       "      <td>US Air Force</td>\n",
       "      <td>1,550.92</td>\n",
       "    </tr>\n",
       "    <tr>\n",
       "      <th>52</th>\n",
       "      <td>VKS RF</td>\n",
       "      <td>1,548.90</td>\n",
       "    </tr>\n",
       "    <tr>\n",
       "      <th>19</th>\n",
       "      <td>ILS</td>\n",
       "      <td>1,320.00</td>\n",
       "    </tr>\n",
       "    <tr>\n",
       "      <th>6</th>\n",
       "      <td>Boeing</td>\n",
       "      <td>1,241.00</td>\n",
       "    </tr>\n",
       "    <tr>\n",
       "      <th>42</th>\n",
       "      <td>Roscosmos</td>\n",
       "      <td>1,187.50</td>\n",
       "    </tr>\n",
       "    <tr>\n",
       "      <th>34</th>\n",
       "      <td>Martin Marietta</td>\n",
       "      <td>721.40</td>\n",
       "    </tr>\n",
       "    <tr>\n",
       "      <th>28</th>\n",
       "      <td>Kosmotras</td>\n",
       "      <td>638.00</td>\n",
       "    </tr>\n",
       "    <tr>\n",
       "      <th>14</th>\n",
       "      <td>Eurockot</td>\n",
       "      <td>543.40</td>\n",
       "    </tr>\n",
       "    <tr>\n",
       "      <th>31</th>\n",
       "      <td>Lockheed</td>\n",
       "      <td>280.00</td>\n",
       "    </tr>\n",
       "    <tr>\n",
       "      <th>24</th>\n",
       "      <td>JAXA</td>\n",
       "      <td>168.00</td>\n",
       "    </tr>\n",
       "    <tr>\n",
       "      <th>41</th>\n",
       "      <td>Rocket Lab</td>\n",
       "      <td>97.50</td>\n",
       "    </tr>\n",
       "    <tr>\n",
       "      <th>13</th>\n",
       "      <td>ESA</td>\n",
       "      <td>37.00</td>\n",
       "    </tr>\n",
       "    <tr>\n",
       "      <th>15</th>\n",
       "      <td>ExPace</td>\n",
       "      <td>28.30</td>\n",
       "    </tr>\n",
       "    <tr>\n",
       "      <th>12</th>\n",
       "      <td>EER</td>\n",
       "      <td>20.00</td>\n",
       "    </tr>\n",
       "    <tr>\n",
       "      <th>44</th>\n",
       "      <td>Sandia</td>\n",
       "      <td>15.00</td>\n",
       "    </tr>\n",
       "    <tr>\n",
       "      <th>53</th>\n",
       "      <td>Virgin Orbit</td>\n",
       "      <td>12.00</td>\n",
       "    </tr>\n",
       "  </tbody>\n",
       "</table>\n",
       "</div>"
      ],
      "text/plain": [
       "       Organisation     Price\n",
       "35             NASA 76,280.00\n",
       "3       Arianespace 16,345.00\n",
       "48              ULA 14,798.00\n",
       "40        RVSN USSR 10,000.00\n",
       "7              CASC  6,340.26\n",
       "46           SpaceX  5,444.00\n",
       "36         Northrop  3,930.00\n",
       "32              MHI  3,532.50\n",
       "23             ISRO  2,177.00\n",
       "49     US Air Force  1,550.92\n",
       "52           VKS RF  1,548.90\n",
       "19              ILS  1,320.00\n",
       "6            Boeing  1,241.00\n",
       "42        Roscosmos  1,187.50\n",
       "34  Martin Marietta    721.40\n",
       "28        Kosmotras    638.00\n",
       "14         Eurockot    543.40\n",
       "31         Lockheed    280.00\n",
       "24             JAXA    168.00\n",
       "41       Rocket Lab     97.50\n",
       "13              ESA     37.00\n",
       "15           ExPace     28.30\n",
       "12              EER     20.00\n",
       "44           Sandia     15.00\n",
       "53     Virgin Orbit     12.00"
      ]
     },
     "execution_count": 81,
     "metadata": {},
     "output_type": "execute_result"
    }
   ],
   "source": [
    "df_org_exp_cln = df_org_exp[df_org_exp[\"Price\"]>0]\n",
    "df_org_exp_cln"
   ]
  },
  {
   "cell_type": "code",
   "execution_count": 82,
   "metadata": {},
   "outputs": [
    {
     "data": {
      "image/png": "[encoded data removed]",
      "text/plain": [
       "<Figure size 1500x800 with 1 Axes>"
      ]
     },
     "metadata": {},
     "output_type": "display_data"
    }
   ],
   "source": [
    "sns.set(rc = {'figure.figsize':(15, 8)})\n",
    "\n",
    "sns.barplot(df_org_exp_cln,x=\"Organisation\",y=\"Price\")\n",
    "plt.xticks(rotation=45)\n",
    "plt.title(\"Expenses by Organisation\",fontsize=20)\n",
    "plt.ylabel(\"Price in USD Millions\",fontsize=15)\n",
    "plt.xlabel(\"Organisation\",fontsize=15)\n",
    "\n",
    "plt.show()"
   ]
  },
  {
   "cell_type": "markdown",
   "metadata": {
    "id": "DpsWkPxzpPXs"
   },
   "source": [
    "## Analysing the Amount of Money Spent by Organisation per Launch"
   ]
  },
  {
   "cell_type": "code",
   "execution_count": 83,
   "metadata": {
    "id": "opYJ6GiRpTk5"
   },
   "outputs": [
    {
     "data": {
      "text/html": [
       "<div>\n",
       "<style scoped>\n",
       "    .dataframe tbody tr th:only-of-type {\n",
       "        vertical-align: middle;\n",
       "    }\n",
       "\n",
       "    .dataframe tbody tr th {\n",
       "        vertical-align: top;\n",
       "    }\n",
       "\n",
       "    .dataframe thead th {\n",
       "        text-align: right;\n",
       "    }\n",
       "</style>\n",
       "<table border=\"1\" class=\"dataframe\">\n",
       "  <thead>\n",
       "    <tr style=\"text-align: right;\">\n",
       "      <th></th>\n",
       "      <th>Organisation</th>\n",
       "      <th>Price</th>\n",
       "    </tr>\n",
       "  </thead>\n",
       "  <tbody>\n",
       "    <tr>\n",
       "      <th>40</th>\n",
       "      <td>RVSN USSR</td>\n",
       "      <td>5,000.00</td>\n",
       "    </tr>\n",
       "    <tr>\n",
       "      <th>35</th>\n",
       "      <td>NASA</td>\n",
       "      <td>511.95</td>\n",
       "    </tr>\n",
       "    <tr>\n",
       "      <th>6</th>\n",
       "      <td>Boeing</td>\n",
       "      <td>177.29</td>\n",
       "    </tr>\n",
       "    <tr>\n",
       "      <th>3</th>\n",
       "      <td>Arianespace</td>\n",
       "      <td>170.26</td>\n",
       "    </tr>\n",
       "    <tr>\n",
       "      <th>48</th>\n",
       "      <td>ULA</td>\n",
       "      <td>151.00</td>\n",
       "    </tr>\n",
       "    <tr>\n",
       "      <th>19</th>\n",
       "      <td>ILS</td>\n",
       "      <td>101.54</td>\n",
       "    </tr>\n",
       "    <tr>\n",
       "      <th>32</th>\n",
       "      <td>MHI</td>\n",
       "      <td>95.47</td>\n",
       "    </tr>\n",
       "    <tr>\n",
       "      <th>34</th>\n",
       "      <td>Martin Marietta</td>\n",
       "      <td>80.16</td>\n",
       "    </tr>\n",
       "    <tr>\n",
       "      <th>49</th>\n",
       "      <td>US Air Force</td>\n",
       "      <td>59.65</td>\n",
       "    </tr>\n",
       "    <tr>\n",
       "      <th>24</th>\n",
       "      <td>JAXA</td>\n",
       "      <td>56.00</td>\n",
       "    </tr>\n",
       "    <tr>\n",
       "      <th>46</th>\n",
       "      <td>SpaceX</td>\n",
       "      <td>54.99</td>\n",
       "    </tr>\n",
       "    <tr>\n",
       "      <th>42</th>\n",
       "      <td>Roscosmos</td>\n",
       "      <td>51.63</td>\n",
       "    </tr>\n",
       "    <tr>\n",
       "      <th>36</th>\n",
       "      <td>Northrop</td>\n",
       "      <td>47.35</td>\n",
       "    </tr>\n",
       "    <tr>\n",
       "      <th>52</th>\n",
       "      <td>VKS RF</td>\n",
       "      <td>46.94</td>\n",
       "    </tr>\n",
       "    <tr>\n",
       "      <th>14</th>\n",
       "      <td>Eurockot</td>\n",
       "      <td>41.80</td>\n",
       "    </tr>\n",
       "    <tr>\n",
       "      <th>7</th>\n",
       "      <td>CASC</td>\n",
       "      <td>40.13</td>\n",
       "    </tr>\n",
       "    <tr>\n",
       "      <th>13</th>\n",
       "      <td>ESA</td>\n",
       "      <td>37.00</td>\n",
       "    </tr>\n",
       "    <tr>\n",
       "      <th>31</th>\n",
       "      <td>Lockheed</td>\n",
       "      <td>35.00</td>\n",
       "    </tr>\n",
       "    <tr>\n",
       "      <th>23</th>\n",
       "      <td>ISRO</td>\n",
       "      <td>32.49</td>\n",
       "    </tr>\n",
       "    <tr>\n",
       "      <th>28</th>\n",
       "      <td>Kosmotras</td>\n",
       "      <td>29.00</td>\n",
       "    </tr>\n",
       "    <tr>\n",
       "      <th>15</th>\n",
       "      <td>ExPace</td>\n",
       "      <td>28.30</td>\n",
       "    </tr>\n",
       "    <tr>\n",
       "      <th>12</th>\n",
       "      <td>EER</td>\n",
       "      <td>20.00</td>\n",
       "    </tr>\n",
       "    <tr>\n",
       "      <th>44</th>\n",
       "      <td>Sandia</td>\n",
       "      <td>15.00</td>\n",
       "    </tr>\n",
       "    <tr>\n",
       "      <th>53</th>\n",
       "      <td>Virgin Orbit</td>\n",
       "      <td>12.00</td>\n",
       "    </tr>\n",
       "    <tr>\n",
       "      <th>41</th>\n",
       "      <td>Rocket Lab</td>\n",
       "      <td>7.50</td>\n",
       "    </tr>\n",
       "    <tr>\n",
       "      <th>0</th>\n",
       "      <td>AEB</td>\n",
       "      <td>NaN</td>\n",
       "    </tr>\n",
       "    <tr>\n",
       "      <th>1</th>\n",
       "      <td>AMBA</td>\n",
       "      <td>NaN</td>\n",
       "    </tr>\n",
       "    <tr>\n",
       "      <th>2</th>\n",
       "      <td>ASI</td>\n",
       "      <td>NaN</td>\n",
       "    </tr>\n",
       "    <tr>\n",
       "      <th>4</th>\n",
       "      <td>Arm??e de l'Air</td>\n",
       "      <td>NaN</td>\n",
       "    </tr>\n",
       "    <tr>\n",
       "      <th>5</th>\n",
       "      <td>Blue Origin</td>\n",
       "      <td>NaN</td>\n",
       "    </tr>\n",
       "    <tr>\n",
       "      <th>8</th>\n",
       "      <td>CASIC</td>\n",
       "      <td>NaN</td>\n",
       "    </tr>\n",
       "    <tr>\n",
       "      <th>9</th>\n",
       "      <td>CECLES</td>\n",
       "      <td>NaN</td>\n",
       "    </tr>\n",
       "    <tr>\n",
       "      <th>10</th>\n",
       "      <td>CNES</td>\n",
       "      <td>NaN</td>\n",
       "    </tr>\n",
       "    <tr>\n",
       "      <th>11</th>\n",
       "      <td>Douglas</td>\n",
       "      <td>NaN</td>\n",
       "    </tr>\n",
       "    <tr>\n",
       "      <th>16</th>\n",
       "      <td>Exos</td>\n",
       "      <td>NaN</td>\n",
       "    </tr>\n",
       "    <tr>\n",
       "      <th>17</th>\n",
       "      <td>General Dynamics</td>\n",
       "      <td>NaN</td>\n",
       "    </tr>\n",
       "    <tr>\n",
       "      <th>18</th>\n",
       "      <td>IAI</td>\n",
       "      <td>NaN</td>\n",
       "    </tr>\n",
       "    <tr>\n",
       "      <th>20</th>\n",
       "      <td>IRGC</td>\n",
       "      <td>NaN</td>\n",
       "    </tr>\n",
       "    <tr>\n",
       "      <th>21</th>\n",
       "      <td>ISA</td>\n",
       "      <td>NaN</td>\n",
       "    </tr>\n",
       "    <tr>\n",
       "      <th>22</th>\n",
       "      <td>ISAS</td>\n",
       "      <td>NaN</td>\n",
       "    </tr>\n",
       "    <tr>\n",
       "      <th>25</th>\n",
       "      <td>KARI</td>\n",
       "      <td>NaN</td>\n",
       "    </tr>\n",
       "    <tr>\n",
       "      <th>26</th>\n",
       "      <td>KCST</td>\n",
       "      <td>NaN</td>\n",
       "    </tr>\n",
       "    <tr>\n",
       "      <th>27</th>\n",
       "      <td>Khrunichev</td>\n",
       "      <td>NaN</td>\n",
       "    </tr>\n",
       "    <tr>\n",
       "      <th>29</th>\n",
       "      <td>Land Launch</td>\n",
       "      <td>NaN</td>\n",
       "    </tr>\n",
       "    <tr>\n",
       "      <th>30</th>\n",
       "      <td>Landspace</td>\n",
       "      <td>NaN</td>\n",
       "    </tr>\n",
       "    <tr>\n",
       "      <th>33</th>\n",
       "      <td>MITT</td>\n",
       "      <td>NaN</td>\n",
       "    </tr>\n",
       "    <tr>\n",
       "      <th>37</th>\n",
       "      <td>OKB-586</td>\n",
       "      <td>NaN</td>\n",
       "    </tr>\n",
       "    <tr>\n",
       "      <th>38</th>\n",
       "      <td>OneSpace</td>\n",
       "      <td>NaN</td>\n",
       "    </tr>\n",
       "    <tr>\n",
       "      <th>39</th>\n",
       "      <td>RAE</td>\n",
       "      <td>NaN</td>\n",
       "    </tr>\n",
       "    <tr>\n",
       "      <th>43</th>\n",
       "      <td>SRC</td>\n",
       "      <td>NaN</td>\n",
       "    </tr>\n",
       "    <tr>\n",
       "      <th>45</th>\n",
       "      <td>Sea Launch</td>\n",
       "      <td>NaN</td>\n",
       "    </tr>\n",
       "    <tr>\n",
       "      <th>47</th>\n",
       "      <td>Starsem</td>\n",
       "      <td>NaN</td>\n",
       "    </tr>\n",
       "    <tr>\n",
       "      <th>50</th>\n",
       "      <td>US Navy</td>\n",
       "      <td>NaN</td>\n",
       "    </tr>\n",
       "    <tr>\n",
       "      <th>51</th>\n",
       "      <td>UT</td>\n",
       "      <td>NaN</td>\n",
       "    </tr>\n",
       "    <tr>\n",
       "      <th>54</th>\n",
       "      <td>Yuzhmash</td>\n",
       "      <td>NaN</td>\n",
       "    </tr>\n",
       "    <tr>\n",
       "      <th>55</th>\n",
       "      <td>i-Space</td>\n",
       "      <td>NaN</td>\n",
       "    </tr>\n",
       "  </tbody>\n",
       "</table>\n",
       "</div>"
      ],
      "text/plain": [
       "        Organisation    Price\n",
       "40         RVSN USSR 5,000.00\n",
       "35              NASA   511.95\n",
       "6             Boeing   177.29\n",
       "3        Arianespace   170.26\n",
       "48               ULA   151.00\n",
       "19               ILS   101.54\n",
       "32               MHI    95.47\n",
       "34   Martin Marietta    80.16\n",
       "49      US Air Force    59.65\n",
       "24              JAXA    56.00\n",
       "46            SpaceX    54.99\n",
       "42         Roscosmos    51.63\n",
       "36          Northrop    47.35\n",
       "52            VKS RF    46.94\n",
       "14          Eurockot    41.80\n",
       "7               CASC    40.13\n",
       "13               ESA    37.00\n",
       "31          Lockheed    35.00\n",
       "23              ISRO    32.49\n",
       "28         Kosmotras    29.00\n",
       "15            ExPace    28.30\n",
       "12               EER    20.00\n",
       "44            Sandia    15.00\n",
       "53      Virgin Orbit    12.00\n",
       "41        Rocket Lab     7.50\n",
       "0                AEB      NaN\n",
       "1               AMBA      NaN\n",
       "2                ASI      NaN\n",
       "4    Arm??e de l'Air      NaN\n",
       "5        Blue Origin      NaN\n",
       "8              CASIC      NaN\n",
       "9             CECLES      NaN\n",
       "10              CNES      NaN\n",
       "11           Douglas      NaN\n",
       "16              Exos      NaN\n",
       "17  General Dynamics      NaN\n",
       "18               IAI      NaN\n",
       "20              IRGC      NaN\n",
       "21               ISA      NaN\n",
       "22              ISAS      NaN\n",
       "25              KARI      NaN\n",
       "26              KCST      NaN\n",
       "27        Khrunichev      NaN\n",
       "29       Land Launch      NaN\n",
       "30         Landspace      NaN\n",
       "33              MITT      NaN\n",
       "37           OKB-586      NaN\n",
       "38          OneSpace      NaN\n",
       "39               RAE      NaN\n",
       "43               SRC      NaN\n",
       "45        Sea Launch      NaN\n",
       "47           Starsem      NaN\n",
       "50           US Navy      NaN\n",
       "51                UT      NaN\n",
       "54          Yuzhmash      NaN\n",
       "55           i-Space      NaN"
      ]
     },
     "execution_count": 83,
     "metadata": {},
     "output_type": "execute_result"
    }
   ],
   "source": [
    "df_org_avg_exp= df_data.groupby(\"Organisation\",as_index=False).mean(\"Price\").sort_values(\"Price\", ascending=False)\n",
    "df_org_avg_exp"
   ]
  },
  {
   "cell_type": "markdown",
   "metadata": {},
   "source": [
    "#### Getting rid of all NaN values."
   ]
  },
  {
   "cell_type": "code",
   "execution_count": 84,
   "metadata": {},
   "outputs": [],
   "source": [
    "df_org_avg_exp=df_org_avg_exp.dropna()"
   ]
  },
  {
   "cell_type": "code",
   "execution_count": 85,
   "metadata": {},
   "outputs": [],
   "source": [
    "df_org_avg_exp=df_org_avg_exp.drop(index=40)"
   ]
  },
  {
   "cell_type": "code",
   "execution_count": 86,
   "metadata": {},
   "outputs": [
    {
     "data": {
      "text/html": [
       "<div>\n",
       "<style scoped>\n",
       "    .dataframe tbody tr th:only-of-type {\n",
       "        vertical-align: middle;\n",
       "    }\n",
       "\n",
       "    .dataframe tbody tr th {\n",
       "        vertical-align: top;\n",
       "    }\n",
       "\n",
       "    .dataframe thead th {\n",
       "        text-align: right;\n",
       "    }\n",
       "</style>\n",
       "<table border=\"1\" class=\"dataframe\">\n",
       "  <thead>\n",
       "    <tr style=\"text-align: right;\">\n",
       "      <th></th>\n",
       "      <th>Organisation</th>\n",
       "      <th>Price</th>\n",
       "    </tr>\n",
       "  </thead>\n",
       "  <tbody>\n",
       "    <tr>\n",
       "      <th>35</th>\n",
       "      <td>NASA</td>\n",
       "      <td>511.95</td>\n",
       "    </tr>\n",
       "    <tr>\n",
       "      <th>6</th>\n",
       "      <td>Boeing</td>\n",
       "      <td>177.29</td>\n",
       "    </tr>\n",
       "    <tr>\n",
       "      <th>3</th>\n",
       "      <td>Arianespace</td>\n",
       "      <td>170.26</td>\n",
       "    </tr>\n",
       "    <tr>\n",
       "      <th>48</th>\n",
       "      <td>ULA</td>\n",
       "      <td>151.00</td>\n",
       "    </tr>\n",
       "    <tr>\n",
       "      <th>19</th>\n",
       "      <td>ILS</td>\n",
       "      <td>101.54</td>\n",
       "    </tr>\n",
       "    <tr>\n",
       "      <th>32</th>\n",
       "      <td>MHI</td>\n",
       "      <td>95.47</td>\n",
       "    </tr>\n",
       "    <tr>\n",
       "      <th>34</th>\n",
       "      <td>Martin Marietta</td>\n",
       "      <td>80.16</td>\n",
       "    </tr>\n",
       "    <tr>\n",
       "      <th>49</th>\n",
       "      <td>US Air Force</td>\n",
       "      <td>59.65</td>\n",
       "    </tr>\n",
       "    <tr>\n",
       "      <th>24</th>\n",
       "      <td>JAXA</td>\n",
       "      <td>56.00</td>\n",
       "    </tr>\n",
       "    <tr>\n",
       "      <th>46</th>\n",
       "      <td>SpaceX</td>\n",
       "      <td>54.99</td>\n",
       "    </tr>\n",
       "    <tr>\n",
       "      <th>42</th>\n",
       "      <td>Roscosmos</td>\n",
       "      <td>51.63</td>\n",
       "    </tr>\n",
       "    <tr>\n",
       "      <th>36</th>\n",
       "      <td>Northrop</td>\n",
       "      <td>47.35</td>\n",
       "    </tr>\n",
       "    <tr>\n",
       "      <th>52</th>\n",
       "      <td>VKS RF</td>\n",
       "      <td>46.94</td>\n",
       "    </tr>\n",
       "    <tr>\n",
       "      <th>14</th>\n",
       "      <td>Eurockot</td>\n",
       "      <td>41.80</td>\n",
       "    </tr>\n",
       "    <tr>\n",
       "      <th>7</th>\n",
       "      <td>CASC</td>\n",
       "      <td>40.13</td>\n",
       "    </tr>\n",
       "    <tr>\n",
       "      <th>13</th>\n",
       "      <td>ESA</td>\n",
       "      <td>37.00</td>\n",
       "    </tr>\n",
       "    <tr>\n",
       "      <th>31</th>\n",
       "      <td>Lockheed</td>\n",
       "      <td>35.00</td>\n",
       "    </tr>\n",
       "    <tr>\n",
       "      <th>23</th>\n",
       "      <td>ISRO</td>\n",
       "      <td>32.49</td>\n",
       "    </tr>\n",
       "    <tr>\n",
       "      <th>28</th>\n",
       "      <td>Kosmotras</td>\n",
       "      <td>29.00</td>\n",
       "    </tr>\n",
       "    <tr>\n",
       "      <th>15</th>\n",
       "      <td>ExPace</td>\n",
       "      <td>28.30</td>\n",
       "    </tr>\n",
       "    <tr>\n",
       "      <th>12</th>\n",
       "      <td>EER</td>\n",
       "      <td>20.00</td>\n",
       "    </tr>\n",
       "    <tr>\n",
       "      <th>44</th>\n",
       "      <td>Sandia</td>\n",
       "      <td>15.00</td>\n",
       "    </tr>\n",
       "    <tr>\n",
       "      <th>53</th>\n",
       "      <td>Virgin Orbit</td>\n",
       "      <td>12.00</td>\n",
       "    </tr>\n",
       "    <tr>\n",
       "      <th>41</th>\n",
       "      <td>Rocket Lab</td>\n",
       "      <td>7.50</td>\n",
       "    </tr>\n",
       "  </tbody>\n",
       "</table>\n",
       "</div>"
      ],
      "text/plain": [
       "       Organisation  Price\n",
       "35             NASA 511.95\n",
       "6            Boeing 177.29\n",
       "3       Arianespace 170.26\n",
       "48              ULA 151.00\n",
       "19              ILS 101.54\n",
       "32              MHI  95.47\n",
       "34  Martin Marietta  80.16\n",
       "49     US Air Force  59.65\n",
       "24             JAXA  56.00\n",
       "46           SpaceX  54.99\n",
       "42        Roscosmos  51.63\n",
       "36         Northrop  47.35\n",
       "52           VKS RF  46.94\n",
       "14         Eurockot  41.80\n",
       "7              CASC  40.13\n",
       "13              ESA  37.00\n",
       "31         Lockheed  35.00\n",
       "23             ISRO  32.49\n",
       "28        Kosmotras  29.00\n",
       "15           ExPace  28.30\n",
       "12              EER  20.00\n",
       "44           Sandia  15.00\n",
       "53     Virgin Orbit  12.00\n",
       "41       Rocket Lab   7.50"
      ]
     },
     "execution_count": 86,
     "metadata": {},
     "output_type": "execute_result"
    }
   ],
   "source": [
    "df_org_avg_exp"
   ]
  },
  {
   "cell_type": "code",
   "execution_count": 87,
   "metadata": {
    "id": "VEkHzAk2pTvj"
   },
   "outputs": [
    {
     "data": {
      "image/png": "[encoded data removed]",
      "text/plain": [
       "<Figure size 1500x800 with 1 Axes>"
      ]
     },
     "metadata": {},
     "output_type": "display_data"
    }
   ],
   "source": [
    "sns.set(rc = {'figure.figsize':(15, 8)})\n",
    "\n",
    "sns.barplot(df_org_avg_exp,x=\"Organisation\",y=\"Price\")\n",
    "plt.xticks(rotation=45)\n",
    "plt.title(\"Average Expenses by Organisation\",fontsize=20)\n",
    "plt.ylabel(\"Average Expenditure per launch( USD Millions)\",fontsize=15)\n",
    "plt.xlabel(\"Organisation\",fontsize=15)\n",
    "plt.tight_layout()\n",
    "plt.show()"
   ]
  },
  {
   "cell_type": "code",
   "execution_count": null,
   "metadata": {
    "id": "R5rFf501pKXD"
   },
   "outputs": [],
   "source": []
  },
  {
   "cell_type": "code",
   "execution_count": null,
   "metadata": {
    "id": "_9FohVh3pcAJ"
   },
   "outputs": [],
   "source": []
  },
  {
   "cell_type": "code",
   "execution_count": null,
   "metadata": {
    "id": "b2pggcZBpb4x"
   },
   "outputs": [],
   "source": []
  },
  {
   "cell_type": "markdown",
   "metadata": {
    "id": "NomJVLi3tIaM"
   },
   "source": [
    "### Charting the Number of Launches by month.\n",
    "\n",
    "Which month has seen the highest number of launches in all time?"
   ]
  },
  {
   "cell_type": "code",
   "execution_count": 88,
   "metadata": {
    "id": "H1N2aBs5tH9z"
   },
   "outputs": [],
   "source": [
    "df_data_month = df_data[[\"Date\",\"Mission_Status\"]]"
   ]
  },
  {
   "cell_type": "code",
   "execution_count": 89,
   "metadata": {
    "id": "pfw0aX1lpdRv"
   },
   "outputs": [],
   "source": [
    "df_data_month[\"month\"] = df_data_month[\"Date\"].apply(lambda x:x.month)"
   ]
  },
  {
   "cell_type": "code",
   "execution_count": 90,
   "metadata": {},
   "outputs": [
    {
     "data": {
      "text/html": [
       "<div>\n",
       "<style scoped>\n",
       "    .dataframe tbody tr th:only-of-type {\n",
       "        vertical-align: middle;\n",
       "    }\n",
       "\n",
       "    .dataframe tbody tr th {\n",
       "        vertical-align: top;\n",
       "    }\n",
       "\n",
       "    .dataframe thead th {\n",
       "        text-align: right;\n",
       "    }\n",
       "</style>\n",
       "<table border=\"1\" class=\"dataframe\">\n",
       "  <thead>\n",
       "    <tr style=\"text-align: right;\">\n",
       "      <th></th>\n",
       "      <th>Date</th>\n",
       "      <th>Mission_Status</th>\n",
       "      <th>month</th>\n",
       "    </tr>\n",
       "  </thead>\n",
       "  <tbody>\n",
       "    <tr>\n",
       "      <th>0</th>\n",
       "      <td>2020-08-07 05:12:00+00:00</td>\n",
       "      <td>Success</td>\n",
       "      <td>8</td>\n",
       "    </tr>\n",
       "    <tr>\n",
       "      <th>1</th>\n",
       "      <td>2020-08-06 04:01:00+00:00</td>\n",
       "      <td>Success</td>\n",
       "      <td>8</td>\n",
       "    </tr>\n",
       "    <tr>\n",
       "      <th>2</th>\n",
       "      <td>2020-08-04 23:57:00+00:00</td>\n",
       "      <td>Success</td>\n",
       "      <td>8</td>\n",
       "    </tr>\n",
       "    <tr>\n",
       "      <th>3</th>\n",
       "      <td>2020-07-30 21:25:00+00:00</td>\n",
       "      <td>Success</td>\n",
       "      <td>7</td>\n",
       "    </tr>\n",
       "    <tr>\n",
       "      <th>4</th>\n",
       "      <td>2020-07-30 11:50:00+00:00</td>\n",
       "      <td>Success</td>\n",
       "      <td>7</td>\n",
       "    </tr>\n",
       "    <tr>\n",
       "      <th>...</th>\n",
       "      <td>...</td>\n",
       "      <td>...</td>\n",
       "      <td>...</td>\n",
       "    </tr>\n",
       "    <tr>\n",
       "      <th>4319</th>\n",
       "      <td>1958-02-05 07:33:00+00:00</td>\n",
       "      <td>Failure</td>\n",
       "      <td>2</td>\n",
       "    </tr>\n",
       "    <tr>\n",
       "      <th>4320</th>\n",
       "      <td>1958-02-01 03:48:00+00:00</td>\n",
       "      <td>Success</td>\n",
       "      <td>2</td>\n",
       "    </tr>\n",
       "    <tr>\n",
       "      <th>4321</th>\n",
       "      <td>1957-12-06 16:44:00+00:00</td>\n",
       "      <td>Failure</td>\n",
       "      <td>12</td>\n",
       "    </tr>\n",
       "    <tr>\n",
       "      <th>4322</th>\n",
       "      <td>1957-11-03 02:30:00+00:00</td>\n",
       "      <td>Success</td>\n",
       "      <td>11</td>\n",
       "    </tr>\n",
       "    <tr>\n",
       "      <th>4323</th>\n",
       "      <td>1957-10-04 19:28:00+00:00</td>\n",
       "      <td>Success</td>\n",
       "      <td>10</td>\n",
       "    </tr>\n",
       "  </tbody>\n",
       "</table>\n",
       "<p>4324 rows × 3 columns</p>\n",
       "</div>"
      ],
      "text/plain": [
       "                           Date Mission_Status  month\n",
       "0     2020-08-07 05:12:00+00:00        Success      8\n",
       "1     2020-08-06 04:01:00+00:00        Success      8\n",
       "2     2020-08-04 23:57:00+00:00        Success      8\n",
       "3     2020-07-30 21:25:00+00:00        Success      7\n",
       "4     2020-07-30 11:50:00+00:00        Success      7\n",
       "...                         ...            ...    ...\n",
       "4319  1958-02-05 07:33:00+00:00        Failure      2\n",
       "4320  1958-02-01 03:48:00+00:00        Success      2\n",
       "4321  1957-12-06 16:44:00+00:00        Failure     12\n",
       "4322  1957-11-03 02:30:00+00:00        Success     11\n",
       "4323  1957-10-04 19:28:00+00:00        Success     10\n",
       "\n",
       "[4324 rows x 3 columns]"
      ]
     },
     "execution_count": 90,
     "metadata": {},
     "output_type": "execute_result"
    }
   ],
   "source": [
    "df_data_month"
   ]
  },
  {
   "cell_type": "code",
   "execution_count": 91,
   "metadata": {},
   "outputs": [],
   "source": [
    "df_mon_cnt = df_data_month.groupby(\"month\",as_index=False)[\"Mission_Status\"].count()"
   ]
  },
  {
   "cell_type": "code",
   "execution_count": 92,
   "metadata": {},
   "outputs": [
    {
     "data": {
      "text/html": [
       "<div>\n",
       "<style scoped>\n",
       "    .dataframe tbody tr th:only-of-type {\n",
       "        vertical-align: middle;\n",
       "    }\n",
       "\n",
       "    .dataframe tbody tr th {\n",
       "        vertical-align: top;\n",
       "    }\n",
       "\n",
       "    .dataframe thead th {\n",
       "        text-align: right;\n",
       "    }\n",
       "</style>\n",
       "<table border=\"1\" class=\"dataframe\">\n",
       "  <thead>\n",
       "    <tr style=\"text-align: right;\">\n",
       "      <th></th>\n",
       "      <th>month</th>\n",
       "      <th>Mission_Status</th>\n",
       "    </tr>\n",
       "  </thead>\n",
       "  <tbody>\n",
       "    <tr>\n",
       "      <th>0</th>\n",
       "      <td>1</td>\n",
       "      <td>268</td>\n",
       "    </tr>\n",
       "    <tr>\n",
       "      <th>1</th>\n",
       "      <td>2</td>\n",
       "      <td>336</td>\n",
       "    </tr>\n",
       "    <tr>\n",
       "      <th>2</th>\n",
       "      <td>3</td>\n",
       "      <td>353</td>\n",
       "    </tr>\n",
       "    <tr>\n",
       "      <th>3</th>\n",
       "      <td>4</td>\n",
       "      <td>383</td>\n",
       "    </tr>\n",
       "    <tr>\n",
       "      <th>4</th>\n",
       "      <td>5</td>\n",
       "      <td>326</td>\n",
       "    </tr>\n",
       "    <tr>\n",
       "      <th>5</th>\n",
       "      <td>6</td>\n",
       "      <td>402</td>\n",
       "    </tr>\n",
       "    <tr>\n",
       "      <th>6</th>\n",
       "      <td>7</td>\n",
       "      <td>351</td>\n",
       "    </tr>\n",
       "    <tr>\n",
       "      <th>7</th>\n",
       "      <td>8</td>\n",
       "      <td>373</td>\n",
       "    </tr>\n",
       "    <tr>\n",
       "      <th>8</th>\n",
       "      <td>9</td>\n",
       "      <td>365</td>\n",
       "    </tr>\n",
       "    <tr>\n",
       "      <th>9</th>\n",
       "      <td>10</td>\n",
       "      <td>381</td>\n",
       "    </tr>\n",
       "    <tr>\n",
       "      <th>10</th>\n",
       "      <td>11</td>\n",
       "      <td>336</td>\n",
       "    </tr>\n",
       "    <tr>\n",
       "      <th>11</th>\n",
       "      <td>12</td>\n",
       "      <td>450</td>\n",
       "    </tr>\n",
       "  </tbody>\n",
       "</table>\n",
       "</div>"
      ],
      "text/plain": [
       "    month  Mission_Status\n",
       "0       1             268\n",
       "1       2             336\n",
       "2       3             353\n",
       "3       4             383\n",
       "4       5             326\n",
       "5       6             402\n",
       "6       7             351\n",
       "7       8             373\n",
       "8       9             365\n",
       "9      10             381\n",
       "10     11             336\n",
       "11     12             450"
      ]
     },
     "execution_count": 92,
     "metadata": {},
     "output_type": "execute_result"
    }
   ],
   "source": [
    "df_mon_cnt"
   ]
  },
  {
   "cell_type": "code",
   "execution_count": 93,
   "metadata": {},
   "outputs": [
    {
     "data": {
      "image/png": "[encoded data removed]",
      "text/plain": [
       "<Figure size 800x400 with 1 Axes>"
      ]
     },
     "metadata": {},
     "output_type": "display_data"
    }
   ],
   "source": [
    "sns.set(rc = {'figure.figsize':(8, 4)})\n",
    "sns.barplot(df_mon_cnt,x=\"month\",y=\"Mission_Status\",palette=\"crest\")\n",
    "plt.ylabel(\"Number of Missions\",fontsize=10)\n",
    "plt.xlabel(\"Month\",fontsize =10)\n",
    "plt.title(\"Number of missions by Month\")\n",
    "plt.tight_layout()"
   ]
  },
  {
   "cell_type": "markdown",
   "metadata": {
    "id": "8OYrWyiOa-qs",
    "papermill": {
     "duration": 0.047152,
     "end_time": "2020-10-20T21:34:11.681371",
     "exception": false,
     "start_time": "2020-10-20T21:34:11.634219",
     "status": "completed"
    },
    "tags": []
   },
   "source": [
    "### Charting the Number of Launches over Time by the Top 10 Organisations. \n",
    "\n",
    "How has the dominance of launches changed over time between the different players? "
   ]
  },
  {
   "cell_type": "code",
   "execution_count": 94,
   "metadata": {
    "id": "RcsrPPpAqVFj"
   },
   "outputs": [
    {
     "data": {
      "text/plain": [
       "Organisation\n",
       "RVSN USSR           1777\n",
       "Arianespace          279\n",
       "General Dynamics     251\n",
       "CASC                 251\n",
       "NASA                 203\n",
       "VKS RF               201\n",
       "US Air Force         161\n",
       "ULA                  140\n",
       "Boeing               136\n",
       "Martin Marietta      114\n",
       "Name: Organisation, dtype: int64"
      ]
     },
     "execution_count": 94,
     "metadata": {},
     "output_type": "execute_result"
    }
   ],
   "source": [
    "df_data.groupby(\"Organisation\")[\"Organisation\"].count().sort_values(ascending=False).head(10)"
   ]
  },
  {
   "cell_type": "code",
   "execution_count": 95,
   "metadata": {},
   "outputs": [],
   "source": [
    "df_data[\"year\"] = df_data[\"Date\"].apply(lambda x:x.year)"
   ]
  },
  {
   "cell_type": "code",
   "execution_count": 96,
   "metadata": {
    "id": "1IgfafiyqWEe"
   },
   "outputs": [
    {
     "name": "stderr",
     "output_type": "stream",
     "text": [
      "/var/folders/mq/8mg7dy2n5hl_p580ygz8nh640000gn/T/ipykernel_99331/87590229.py:2: FutureWarning:\n",
      "\n",
      "In a future version of pandas, a length 1 tuple will be returned when iterating over a groupby with a grouper equal to a list of length 1. Don't supply a list with a single grouper to avoid this warning.\n",
      "\n"
     ]
    },
    {
     "data": {
      "application/vnd.plotly.v1+json": {
       "config": {
        "plotlyServerURL": "https://plot.ly"
       },
       "data": [
        {
         "hovertemplate": "Organisation=RVSN USSR<br>year=%{x}<br>launches=%{marker.size}<extra></extra>",
         "legendgroup": "RVSN USSR",
         "marker": {
          "color": "#636efa",
          "size": [
           2,
           24,
           36,
           53,
           51,
           74,
           79,
           82,
           87,
           93,
           79,
           84,
           83,
           89,
           95,
           97,
           71,
           36,
           40,
           51,
           53,
           46,
           42,
           51,
           49,
           42,
           36,
           26,
           37,
           28
          ],
          "sizemode": "area",
          "sizeref": 0.2425,
          "symbol": "circle"
         },
         "mode": "markers",
         "name": "RVSN USSR",
         "orientation": "v",
         "showlegend": true,
         "type": "scatter",
         "x": [
          1957,
          1963,
          1964,
          1965,
          1966,
          1967,
          1968,
          1969,
          1970,
          1971,
          1972,
          1973,
          1974,
          1975,
          1976,
          1977,
          1978,
          1979,
          1980,
          1981,
          1982,
          1983,
          1984,
          1985,
          1986,
          1987,
          1988,
          1989,
          1990,
          1991
         ],
         "xaxis": "x",
         "y": [
          2,
          24,
          36,
          53,
          51,
          74,
          79,
          82,
          87,
          93,
          79,
          84,
          83,
          89,
          95,
          97,
          71,
          36,
          40,
          51,
          53,
          46,
          42,
          51,
          49,
          42,
          36,
          26,
          37,
          28
         ],
         "yaxis": "y"
        },
        {
         "hovertemplate": "Organisation=US Navy<br>year=%{x}<br>launches=%{marker.size}<extra></extra>",
         "legendgroup": "US Navy",
         "marker": {
          "color": "#EF553B",
          "size": [
           12
          ],
          "sizemode": "area",
          "sizeref": 0.2425,
          "symbol": "circle"
         },
         "mode": "markers",
         "name": "US Navy",
         "orientation": "v",
         "showlegend": true,
         "type": "scatter",
         "x": [
          1958
         ],
         "xaxis": "x",
         "y": [
          12
         ],
         "yaxis": "y"
        },
        {
         "hovertemplate": "Organisation=US Air Force<br>year=%{x}<br>launches=%{marker.size}<extra></extra>",
         "legendgroup": "US Air Force",
         "marker": {
          "color": "#00cc96",
          "size": [
           10,
           21,
           23,
           41
          ],
          "sizemode": "area",
          "sizeref": 0.2425,
          "symbol": "circle"
         },
         "mode": "markers",
         "name": "US Air Force",
         "orientation": "v",
         "showlegend": true,
         "type": "scatter",
         "x": [
          1959,
          1960,
          1961,
          1962
         ],
         "xaxis": "x",
         "y": [
          10,
          21,
          23,
          41
         ],
         "yaxis": "y"
        },
        {
         "hovertemplate": "Organisation=VKS RF<br>year=%{x}<br>launches=%{marker.size}<extra></extra>",
         "legendgroup": "VKS RF",
         "marker": {
          "color": "#ab63fa",
          "size": [
           14,
           26,
           21
          ],
          "sizemode": "area",
          "sizeref": 0.2425,
          "symbol": "circle"
         },
         "mode": "markers",
         "name": "VKS RF",
         "orientation": "v",
         "showlegend": true,
         "type": "scatter",
         "x": [
          1992,
          1993,
          1994
         ],
         "xaxis": "x",
         "y": [
          14,
          26,
          21
         ],
         "yaxis": "y"
        },
        {
         "hovertemplate": "Organisation=Lockheed<br>year=%{x}<br>launches=%{marker.size}<extra></extra>",
         "legendgroup": "Lockheed",
         "marker": {
          "color": "#FFA15A",
          "size": [
           12
          ],
          "sizemode": "area",
          "sizeref": 0.2425,
          "symbol": "circle"
         },
         "mode": "markers",
         "name": "Lockheed",
         "orientation": "v",
         "showlegend": true,
         "type": "scatter",
         "x": [
          1995
         ],
         "xaxis": "x",
         "y": [
          12
         ],
         "yaxis": "y"
        },
        {
         "hovertemplate": "Organisation=Arianespace<br>year=%{x}<br>launches=%{marker.size}<extra></extra>",
         "legendgroup": "Arianespace",
         "marker": {
          "color": "#19d3f3",
          "size": [
           10,
           11,
           12,
           8,
           12,
           5,
           12
          ],
          "sizemode": "area",
          "sizeref": 0.2425,
          "symbol": "circle"
         },
         "mode": "markers",
         "name": "Arianespace",
         "orientation": "v",
         "showlegend": true,
         "type": "scatter",
         "x": [
          1996,
          1997,
          2000,
          2001,
          2002,
          2005,
          2015
         ],
         "xaxis": "x",
         "y": [
          10,
          11,
          12,
          8,
          12,
          5,
          12
         ],
         "yaxis": "y"
        },
        {
         "hovertemplate": "Organisation=Boeing<br>year=%{x}<br>launches=%{marker.size}<extra></extra>",
         "legendgroup": "Boeing",
         "marker": {
          "color": "#FF6692",
          "size": [
           13,
           11,
           9,
           8,
           8
          ],
          "sizemode": "area",
          "sizeref": 0.2425,
          "symbol": "circle"
         },
         "mode": "markers",
         "name": "Boeing",
         "orientation": "v",
         "showlegend": true,
         "type": "scatter",
         "x": [
          1998,
          1999,
          2003,
          2004,
          2006
         ],
         "xaxis": "x",
         "y": [
          13,
          11,
          9,
          8,
          8
         ],
         "yaxis": "y"
        },
        {
         "hovertemplate": "Organisation=ULA<br>year=%{x}<br>launches=%{marker.size}<extra></extra>",
         "legendgroup": "ULA",
         "marker": {
          "color": "#B6E880",
          "size": [
           13,
           16,
           8,
           11,
           10,
           11,
           14
          ],
          "sizemode": "area",
          "sizeref": 0.2425,
          "symbol": "circle"
         },
         "mode": "markers",
         "name": "ULA",
         "orientation": "v",
         "showlegend": true,
         "type": "scatter",
         "x": [
          2007,
          2009,
          2010,
          2011,
          2012,
          2013,
          2014
         ],
         "xaxis": "x",
         "y": [
          13,
          16,
          8,
          11,
          10,
          11,
          14
         ],
         "yaxis": "y"
        },
        {
         "hovertemplate": "Organisation=CASC<br>year=%{x}<br>launches=%{marker.size}<extra></extra>",
         "legendgroup": "CASC",
         "marker": {
          "color": "#FF97FF",
          "size": [
           9,
           22,
           37,
           27,
           19
          ],
          "sizemode": "area",
          "sizeref": 0.2425,
          "symbol": "circle"
         },
         "mode": "markers",
         "name": "CASC",
         "orientation": "v",
         "showlegend": true,
         "type": "scatter",
         "x": [
          2008,
          2016,
          2018,
          2019,
          2020
         ],
         "xaxis": "x",
         "y": [
          9,
          22,
          37,
          27,
          19
         ],
         "yaxis": "y"
        },
        {
         "hovertemplate": "Organisation=SpaceX<br>year=%{x}<br>launches=%{marker.size}<extra></extra>",
         "legendgroup": "SpaceX",
         "marker": {
          "color": "#FECB52",
          "size": [
           18
          ],
          "sizemode": "area",
          "sizeref": 0.2425,
          "symbol": "circle"
         },
         "mode": "markers",
         "name": "SpaceX",
         "orientation": "v",
         "showlegend": true,
         "type": "scatter",
         "x": [
          2017
         ],
         "xaxis": "x",
         "y": [
          18
         ],
         "yaxis": "y"
        }
       ],
       "layout": {
        "legend": {
         "itemsizing": "constant",
         "title": {
          "text": "Organisation"
         },
         "tracegroupgap": 0
        },
        "template": {
         "data": {
          "bar": [
           {
            "error_x": {
             "color": "#2a3f5f"
            },
            "error_y": {
             "color": "#2a3f5f"
            },
            "marker": {
             "line": {
              "color": "#E5ECF6",
              "width": 0.5
             },
             "pattern": {
              "fillmode": "overlay",
              "size": 10,
              "solidity": 0.2
             }
            },
            "type": "bar"
           }
          ],
          "barpolar": [
           {
            "marker": {
             "line": {
              "color": "#E5ECF6",
              "width": 0.5
             },
             "pattern": {
              "fillmode": "overlay",
              "size": 10,
              "solidity": 0.2
             }
            },
            "type": "barpolar"
           }
          ],
          "carpet": [
           {
            "aaxis": {
             "endlinecolor": "#2a3f5f",
             "gridcolor": "white",
             "linecolor": "white",
             "minorgridcolor": "white",
             "startlinecolor": "#2a3f5f"
            },
            "baxis": {
             "endlinecolor": "#2a3f5f",
             "gridcolor": "white",
             "linecolor": "white",
             "minorgridcolor": "white",
             "startlinecolor": "#2a3f5f"
            },
            "type": "carpet"
           }
          ],
          "choropleth": [
           {
            "colorbar": {
             "outlinewidth": 0,
             "ticks": ""
            },
            "type": "choropleth"
           }
          ],
          "contour": [
           {
            "colorbar": {
             "outlinewidth": 0,
             "ticks": ""
            },
            "colorscale": [
             [
              0,
              "#0d0887"
             ],
             [
              0.1111111111111111,
              "#46039f"
             ],
             [
              0.2222222222222222,
              "#7201a8"
             ],
             [
              0.3333333333333333,
              "#9c179e"
             ],
             [
              0.4444444444444444,
              "#bd3786"
             ],
             [
              0.5555555555555556,
              "#d8576b"
             ],
             [
              0.6666666666666666,
              "#ed7953"
             ],
             [
              0.7777777777777778,
              "#fb9f3a"
             ],
             [
              0.8888888888888888,
              "#fdca26"
             ],
             [
              1,
              "#f0f921"
             ]
            ],
            "type": "contour"
           }
          ],
          "contourcarpet": [
           {
            "colorbar": {
             "outlinewidth": 0,
             "ticks": ""
            },
            "type": "contourcarpet"
           }
          ],
          "heatmap": [
           {
            "colorbar": {
             "outlinewidth": 0,
             "ticks": ""
            },
            "colorscale": [
             [
              0,
              "#0d0887"
             ],
             [
              0.1111111111111111,
              "#46039f"
             ],
             [
              0.2222222222222222,
              "#7201a8"
             ],
             [
              0.3333333333333333,
              "#9c179e"
             ],
             [
              0.4444444444444444,
              "#bd3786"
             ],
             [
              0.5555555555555556,
              "#d8576b"
             ],
             [
              0.6666666666666666,
              "#ed7953"
             ],
             [
              0.7777777777777778,
              "#fb9f3a"
             ],
             [
              0.8888888888888888,
              "#fdca26"
             ],
             [
              1,
              "#f0f921"
             ]
            ],
            "type": "heatmap"
           }
          ],
          "heatmapgl": [
           {
            "colorbar": {
             "outlinewidth": 0,
             "ticks": ""
            },
            "colorscale": [
             [
              0,
              "#0d0887"
             ],
             [
              0.1111111111111111,
              "#46039f"
             ],
             [
              0.2222222222222222,
              "#7201a8"
             ],
             [
              0.3333333333333333,
              "#9c179e"
             ],
             [
              0.4444444444444444,
              "#bd3786"
             ],
             [
              0.5555555555555556,
              "#d8576b"
             ],
             [
              0.6666666666666666,
              "#ed7953"
             ],
             [
              0.7777777777777778,
              "#fb9f3a"
             ],
             [
              0.8888888888888888,
              "#fdca26"
             ],
             [
              1,
              "#f0f921"
             ]
            ],
            "type": "heatmapgl"
           }
          ],
          "histogram": [
           {
            "marker": {
             "pattern": {
              "fillmode": "overlay",
              "size": 10,
              "solidity": 0.2
             }
            },
            "type": "histogram"
           }
          ],
          "histogram2d": [
           {
            "colorbar": {
             "outlinewidth": 0,
             "ticks": ""
            },
            "colorscale": [
             [
              0,
              "#0d0887"
             ],
             [
              0.1111111111111111,
              "#46039f"
             ],
             [
              0.2222222222222222,
              "#7201a8"
             ],
             [
              0.3333333333333333,
              "#9c179e"
             ],
             [
              0.4444444444444444,
              "#bd3786"
             ],
             [
              0.5555555555555556,
              "#d8576b"
             ],
             [
              0.6666666666666666,
              "#ed7953"
             ],
             [
              0.7777777777777778,
              "#fb9f3a"
             ],
             [
              0.8888888888888888,
              "#fdca26"
             ],
             [
              1,
              "#f0f921"
             ]
            ],
            "type": "histogram2d"
           }
          ],
          "histogram2dcontour": [
           {
            "colorbar": {
             "outlinewidth": 0,
             "ticks": ""
            },
            "colorscale": [
             [
              0,
              "#0d0887"
             ],
             [
              0.1111111111111111,
              "#46039f"
             ],
             [
              0.2222222222222222,
              "#7201a8"
             ],
             [
              0.3333333333333333,
              "#9c179e"
             ],
             [
              0.4444444444444444,
              "#bd3786"
             ],
             [
              0.5555555555555556,
              "#d8576b"
             ],
             [
              0.6666666666666666,
              "#ed7953"
             ],
             [
              0.7777777777777778,
              "#fb9f3a"
             ],
             [
              0.8888888888888888,
              "#fdca26"
             ],
             [
              1,
              "#f0f921"
             ]
            ],
            "type": "histogram2dcontour"
           }
          ],
          "mesh3d": [
           {
            "colorbar": {
             "outlinewidth": 0,
             "ticks": ""
            },
            "type": "mesh3d"
           }
          ],
          "parcoords": [
           {
            "line": {
             "colorbar": {
              "outlinewidth": 0,
              "ticks": ""
             }
            },
            "type": "parcoords"
           }
          ],
          "pie": [
           {
            "automargin": true,
            "type": "pie"
           }
          ],
          "scatter": [
           {
            "fillpattern": {
             "fillmode": "overlay",
             "size": 10,
             "solidity": 0.2
            },
            "type": "scatter"
           }
          ],
          "scatter3d": [
           {
            "line": {
             "colorbar": {
              "outlinewidth": 0,
              "ticks": ""
             }
            },
            "marker": {
             "colorbar": {
              "outlinewidth": 0,
              "ticks": ""
             }
            },
            "type": "scatter3d"
           }
          ],
          "scattercarpet": [
           {
            "marker": {
             "colorbar": {
              "outlinewidth": 0,
              "ticks": ""
             }
            },
            "type": "scattercarpet"
           }
          ],
          "scattergeo": [
           {
            "marker": {
             "colorbar": {
              "outlinewidth": 0,
              "ticks": ""
             }
            },
            "type": "scattergeo"
           }
          ],
          "scattergl": [
           {
            "marker": {
             "colorbar": {
              "outlinewidth": 0,
              "ticks": ""
             }
            },
            "type": "scattergl"
           }
          ],
          "scattermapbox": [
           {
            "marker": {
             "colorbar": {
              "outlinewidth": 0,
              "ticks": ""
             }
            },
            "type": "scattermapbox"
           }
          ],
          "scatterpolar": [
           {
            "marker": {
             "colorbar": {
              "outlinewidth": 0,
              "ticks": ""
             }
            },
            "type": "scatterpolar"
           }
          ],
          "scatterpolargl": [
           {
            "marker": {
             "colorbar": {
              "outlinewidth": 0,
              "ticks": ""
             }
            },
            "type": "scatterpolargl"
           }
          ],
          "scatterternary": [
           {
            "marker": {
             "colorbar": {
              "outlinewidth": 0,
              "ticks": ""
             }
            },
            "type": "scatterternary"
           }
          ],
          "surface": [
           {
            "colorbar": {
             "outlinewidth": 0,
             "ticks": ""
            },
            "colorscale": [
             [
              0,
              "#0d0887"
             ],
             [
              0.1111111111111111,
              "#46039f"
             ],
             [
              0.2222222222222222,
              "#7201a8"
             ],
             [
              0.3333333333333333,
              "#9c179e"
             ],
             [
              0.4444444444444444,
              "#bd3786"
             ],
             [
              0.5555555555555556,
              "#d8576b"
             ],
             [
              0.6666666666666666,
              "#ed7953"
             ],
             [
              0.7777777777777778,
              "#fb9f3a"
             ],
             [
              0.8888888888888888,
              "#fdca26"
             ],
             [
              1,
              "#f0f921"
             ]
            ],
            "type": "surface"
           }
          ],
          "table": [
           {
            "cells": {
             "fill": {
              "color": "#EBF0F8"
             },
             "line": {
              "color": "white"
             }
            },
            "header": {
             "fill": {
              "color": "#C8D4E3"
             },
             "line": {
              "color": "white"
             }
            },
            "type": "table"
           }
          ]
         },
         "layout": {
          "annotationdefaults": {
           "arrowcolor": "#2a3f5f",
           "arrowhead": 0,
           "arrowwidth": 1
          },
          "autotypenumbers": "strict",
          "coloraxis": {
           "colorbar": {
            "outlinewidth": 0,
            "ticks": ""
           }
          },
          "colorscale": {
           "diverging": [
            [
             0,
             "#8e0152"
            ],
            [
             0.1,
             "#c51b7d"
            ],
            [
             0.2,
             "#de77ae"
            ],
            [
             0.3,
             "#f1b6da"
            ],
            [
             0.4,
             "#fde0ef"
            ],
            [
             0.5,
             "#f7f7f7"
            ],
            [
             0.6,
             "#e6f5d0"
            ],
            [
             0.7,
             "#b8e186"
            ],
            [
             0.8,
             "#7fbc41"
            ],
            [
             0.9,
             "#4d9221"
            ],
            [
             1,
             "#276419"
            ]
           ],
           "sequential": [
            [
             0,
             "#0d0887"
            ],
            [
             0.1111111111111111,
             "#46039f"
            ],
            [
             0.2222222222222222,
             "#7201a8"
            ],
            [
             0.3333333333333333,
             "#9c179e"
            ],
            [
             0.4444444444444444,
             "#bd3786"
            ],
            [
             0.5555555555555556,
             "#d8576b"
            ],
            [
             0.6666666666666666,
             "#ed7953"
            ],
            [
             0.7777777777777778,
             "#fb9f3a"
            ],
            [
             0.8888888888888888,
             "#fdca26"
            ],
            [
             1,
             "#f0f921"
            ]
           ],
           "sequentialminus": [
            [
             0,
             "#0d0887"
            ],
            [
             0.1111111111111111,
             "#46039f"
            ],
            [
             0.2222222222222222,
             "#7201a8"
            ],
            [
             0.3333333333333333,
             "#9c179e"
            ],
            [
             0.4444444444444444,
             "#bd3786"
            ],
            [
             0.5555555555555556,
             "#d8576b"
            ],
            [
             0.6666666666666666,
             "#ed7953"
            ],
            [
             0.7777777777777778,
             "#fb9f3a"
            ],
            [
             0.8888888888888888,
             "#fdca26"
            ],
            [
             1,
             "#f0f921"
            ]
           ]
          },
          "colorway": [
           "#636efa",
           "#EF553B",
           "#00cc96",
           "#ab63fa",
           "#FFA15A",
           "#19d3f3",
           "#FF6692",
           "#B6E880",
           "#FF97FF",
           "#FECB52"
          ],
          "font": {
           "color": "#2a3f5f"
          },
          "geo": {
           "bgcolor": "white",
           "lakecolor": "white",
           "landcolor": "#E5ECF6",
           "showlakes": true,
           "showland": true,
           "subunitcolor": "white"
          },
          "hoverlabel": {
           "align": "left"
          },
          "hovermode": "closest",
          "mapbox": {
           "style": "light"
          },
          "paper_bgcolor": "white",
          "plot_bgcolor": "#E5ECF6",
          "polar": {
           "angularaxis": {
            "gridcolor": "white",
            "linecolor": "white",
            "ticks": ""
           },
           "bgcolor": "#E5ECF6",
           "radialaxis": {
            "gridcolor": "white",
            "linecolor": "white",
            "ticks": ""
           }
          },
          "scene": {
           "xaxis": {
            "backgroundcolor": "#E5ECF6",
            "gridcolor": "white",
            "gridwidth": 2,
            "linecolor": "white",
            "showbackground": true,
            "ticks": "",
            "zerolinecolor": "white"
           },
           "yaxis": {
            "backgroundcolor": "#E5ECF6",
            "gridcolor": "white",
            "gridwidth": 2,
            "linecolor": "white",
            "showbackground": true,
            "ticks": "",
            "zerolinecolor": "white"
           },
           "zaxis": {
            "backgroundcolor": "#E5ECF6",
            "gridcolor": "white",
            "gridwidth": 2,
            "linecolor": "white",
            "showbackground": true,
            "ticks": "",
            "zerolinecolor": "white"
           }
          },
          "shapedefaults": {
           "line": {
            "color": "#2a3f5f"
           }
          },
          "ternary": {
           "aaxis": {
            "gridcolor": "white",
            "linecolor": "white",
            "ticks": ""
           },
           "baxis": {
            "gridcolor": "white",
            "linecolor": "white",
            "ticks": ""
           },
           "bgcolor": "#E5ECF6",
           "caxis": {
            "gridcolor": "white",
            "linecolor": "white",
            "ticks": ""
           }
          },
          "title": {
           "x": 0.05
          },
          "xaxis": {
           "automargin": true,
           "gridcolor": "white",
           "linecolor": "white",
           "ticks": "",
           "title": {
            "standoff": 15
           },
           "zerolinecolor": "white",
           "zerolinewidth": 2
          },
          "yaxis": {
           "automargin": true,
           "gridcolor": "white",
           "linecolor": "white",
           "ticks": "",
           "title": {
            "standoff": 15
           },
           "zerolinecolor": "white",
           "zerolinewidth": 2
          }
         }
        },
        "title": {
         "text": "Leaders by launches for every year (Organisation)"
        },
        "width": 800,
        "xaxis": {
         "anchor": "y",
         "domain": [
          0,
          1
         ],
         "title": {
          "text": "year"
         }
        },
        "yaxis": {
         "anchor": "x",
         "domain": [
          0,
          1
         ],
         "title": {
          "text": "launches"
         }
        }
       }
      },
      "text/html": [
       "<div>                            <div id=\"d0414ef6-b1b4-4334-9468-aae63b65e086\" class=\"plotly-graph-div\" style=\"height:525px; width:800px;\"></div>            <script type=\"text/javascript\">                require([\"plotly\"], function(Plotly) {                    window.PLOTLYENV=window.PLOTLYENV || {};                                    if (document.getElementById(\"d0414ef6-b1b4-4334-9468-aae63b65e086\")) {                    Plotly.newPlot(                        \"d0414ef6-b1b4-4334-9468-aae63b65e086\",                        [{\"hovertemplate\":\"Organisation=RVSN USSR<br>year=%{x}<br>launches=%{marker.size}<extra></extra>\",\"legendgroup\":\"RVSN USSR\",\"marker\":{\"color\":\"#636efa\",\"size\":[2,24,36,53,51,74,79,82,87,93,79,84,83,89,95,97,71,36,40,51,53,46,42,51,49,42,36,26,37,28],\"sizemode\":\"area\",\"sizeref\":0.2425,\"symbol\":\"circle\"},\"mode\":\"markers\",\"name\":\"RVSN USSR\",\"orientation\":\"v\",\"showlegend\":true,\"x\":[1957,1963,1964,1965,1966,1967,1968,1969,1970,1971,1972,1973,1974,1975,1976,1977,1978,1979,1980,1981,1982,1983,1984,1985,1986,1987,1988,1989,1990,1991],\"xaxis\":\"x\",\"y\":[2,24,36,53,51,74,79,82,87,93,79,84,83,89,95,97,71,36,40,51,53,46,42,51,49,42,36,26,37,28],\"yaxis\":\"y\",\"type\":\"scatter\"},{\"hovertemplate\":\"Organisation=US Navy<br>year=%{x}<br>launches=%{marker.size}<extra></extra>\",\"legendgroup\":\"US Navy\",\"marker\":{\"color\":\"#EF553B\",\"size\":[12],\"sizemode\":\"area\",\"sizeref\":0.2425,\"symbol\":\"circle\"},\"mode\":\"markers\",\"name\":\"US Navy\",\"orientation\":\"v\",\"showlegend\":true,\"x\":[1958],\"xaxis\":\"x\",\"y\":[12],\"yaxis\":\"y\",\"type\":\"scatter\"},{\"hovertemplate\":\"Organisation=US Air Force<br>year=%{x}<br>launches=%{marker.size}<extra></extra>\",\"legendgroup\":\"US Air Force\",\"marker\":{\"color\":\"#00cc96\",\"size\":[10,21,23,41],\"sizemode\":\"area\",\"sizeref\":0.2425,\"symbol\":\"circle\"},\"mode\":\"markers\",\"name\":\"US Air Force\",\"orientation\":\"v\",\"showlegend\":true,\"x\":[1959,1960,1961,1962],\"xaxis\":\"x\",\"y\":[10,21,23,41],\"yaxis\":\"y\",\"type\":\"scatter\"},{\"hovertemplate\":\"Organisation=VKS RF<br>year=%{x}<br>launches=%{marker.size}<extra></extra>\",\"legendgroup\":\"VKS RF\",\"marker\":{\"color\":\"#ab63fa\",\"size\":[14,26,21],\"sizemode\":\"area\",\"sizeref\":0.2425,\"symbol\":\"circle\"},\"mode\":\"markers\",\"name\":\"VKS RF\",\"orientation\":\"v\",\"showlegend\":true,\"x\":[1992,1993,1994],\"xaxis\":\"x\",\"y\":[14,26,21],\"yaxis\":\"y\",\"type\":\"scatter\"},{\"hovertemplate\":\"Organisation=Lockheed<br>year=%{x}<br>launches=%{marker.size}<extra></extra>\",\"legendgroup\":\"Lockheed\",\"marker\":{\"color\":\"#FFA15A\",\"size\":[12],\"sizemode\":\"area\",\"sizeref\":0.2425,\"symbol\":\"circle\"},\"mode\":\"markers\",\"name\":\"Lockheed\",\"orientation\":\"v\",\"showlegend\":true,\"x\":[1995],\"xaxis\":\"x\",\"y\":[12],\"yaxis\":\"y\",\"type\":\"scatter\"},{\"hovertemplate\":\"Organisation=Arianespace<br>year=%{x}<br>launches=%{marker.size}<extra></extra>\",\"legendgroup\":\"Arianespace\",\"marker\":{\"color\":\"#19d3f3\",\"size\":[10,11,12,8,12,5,12],\"sizemode\":\"area\",\"sizeref\":0.2425,\"symbol\":\"circle\"},\"mode\":\"markers\",\"name\":\"Arianespace\",\"orientation\":\"v\",\"showlegend\":true,\"x\":[1996,1997,2000,2001,2002,2005,2015],\"xaxis\":\"x\",\"y\":[10,11,12,8,12,5,12],\"yaxis\":\"y\",\"type\":\"scatter\"},{\"hovertemplate\":\"Organisation=Boeing<br>year=%{x}<br>launches=%{marker.size}<extra></extra>\",\"legendgroup\":\"Boeing\",\"marker\":{\"color\":\"#FF6692\",\"size\":[13,11,9,8,8],\"sizemode\":\"area\",\"sizeref\":0.2425,\"symbol\":\"circle\"},\"mode\":\"markers\",\"name\":\"Boeing\",\"orientation\":\"v\",\"showlegend\":true,\"x\":[1998,1999,2003,2004,2006],\"xaxis\":\"x\",\"y\":[13,11,9,8,8],\"yaxis\":\"y\",\"type\":\"scatter\"},{\"hovertemplate\":\"Organisation=ULA<br>year=%{x}<br>launches=%{marker.size}<extra></extra>\",\"legendgroup\":\"ULA\",\"marker\":{\"color\":\"#B6E880\",\"size\":[13,16,8,11,10,11,14],\"sizemode\":\"area\",\"sizeref\":0.2425,\"symbol\":\"circle\"},\"mode\":\"markers\",\"name\":\"ULA\",\"orientation\":\"v\",\"showlegend\":true,\"x\":[2007,2009,2010,2011,2012,2013,2014],\"xaxis\":\"x\",\"y\":[13,16,8,11,10,11,14],\"yaxis\":\"y\",\"type\":\"scatter\"},{\"hovertemplate\":\"Organisation=CASC<br>year=%{x}<br>launches=%{marker.size}<extra></extra>\",\"legendgroup\":\"CASC\",\"marker\":{\"color\":\"#FF97FF\",\"size\":[9,22,37,27,19],\"sizemode\":\"area\",\"sizeref\":0.2425,\"symbol\":\"circle\"},\"mode\":\"markers\",\"name\":\"CASC\",\"orientation\":\"v\",\"showlegend\":true,\"x\":[2008,2016,2018,2019,2020],\"xaxis\":\"x\",\"y\":[9,22,37,27,19],\"yaxis\":\"y\",\"type\":\"scatter\"},{\"hovertemplate\":\"Organisation=SpaceX<br>year=%{x}<br>launches=%{marker.size}<extra></extra>\",\"legendgroup\":\"SpaceX\",\"marker\":{\"color\":\"#FECB52\",\"size\":[18],\"sizemode\":\"area\",\"sizeref\":0.2425,\"symbol\":\"circle\"},\"mode\":\"markers\",\"name\":\"SpaceX\",\"orientation\":\"v\",\"showlegend\":true,\"x\":[2017],\"xaxis\":\"x\",\"y\":[18],\"yaxis\":\"y\",\"type\":\"scatter\"}],                        {\"template\":{\"data\":{\"histogram2dcontour\":[{\"type\":\"histogram2dcontour\",\"colorbar\":{\"outlinewidth\":0,\"ticks\":\"\"},\"colorscale\":[[0.0,\"#0d0887\"],[0.1111111111111111,\"#46039f\"],[0.2222222222222222,\"#7201a8\"],[0.3333333333333333,\"#9c179e\"],[0.4444444444444444,\"#bd3786\"],[0.5555555555555556,\"#d8576b\"],[0.6666666666666666,\"#ed7953\"],[0.7777777777777778,\"#fb9f3a\"],[0.8888888888888888,\"#fdca26\"],[1.0,\"#f0f921\"]]}],\"choropleth\":[{\"type\":\"choropleth\",\"colorbar\":{\"outlinewidth\":0,\"ticks\":\"\"}}],\"histogram2d\":[{\"type\":\"histogram2d\",\"colorbar\":{\"outlinewidth\":0,\"ticks\":\"\"},\"colorscale\":[[0.0,\"#0d0887\"],[0.1111111111111111,\"#46039f\"],[0.2222222222222222,\"#7201a8\"],[0.3333333333333333,\"#9c179e\"],[0.4444444444444444,\"#bd3786\"],[0.5555555555555556,\"#d8576b\"],[0.6666666666666666,\"#ed7953\"],[0.7777777777777778,\"#fb9f3a\"],[0.8888888888888888,\"#fdca26\"],[1.0,\"#f0f921\"]]}],\"heatmap\":[{\"type\":\"heatmap\",\"colorbar\":{\"outlinewidth\":0,\"ticks\":\"\"},\"colorscale\":[[0.0,\"#0d0887\"],[0.1111111111111111,\"#46039f\"],[0.2222222222222222,\"#7201a8\"],[0.3333333333333333,\"#9c179e\"],[0.4444444444444444,\"#bd3786\"],[0.5555555555555556,\"#d8576b\"],[0.6666666666666666,\"#ed7953\"],[0.7777777777777778,\"#fb9f3a\"],[0.8888888888888888,\"#fdca26\"],[1.0,\"#f0f921\"]]}],\"heatmapgl\":[{\"type\":\"heatmapgl\",\"colorbar\":{\"outlinewidth\":0,\"ticks\":\"\"},\"colorscale\":[[0.0,\"#0d0887\"],[0.1111111111111111,\"#46039f\"],[0.2222222222222222,\"#7201a8\"],[0.3333333333333333,\"#9c179e\"],[0.4444444444444444,\"#bd3786\"],[0.5555555555555556,\"#d8576b\"],[0.6666666666666666,\"#ed7953\"],[0.7777777777777778,\"#fb9f3a\"],[0.8888888888888888,\"#fdca26\"],[1.0,\"#f0f921\"]]}],\"contourcarpet\":[{\"type\":\"contourcarpet\",\"colorbar\":{\"outlinewidth\":0,\"ticks\":\"\"}}],\"contour\":[{\"type\":\"contour\",\"colorbar\":{\"outlinewidth\":0,\"ticks\":\"\"},\"colorscale\":[[0.0,\"#0d0887\"],[0.1111111111111111,\"#46039f\"],[0.2222222222222222,\"#7201a8\"],[0.3333333333333333,\"#9c179e\"],[0.4444444444444444,\"#bd3786\"],[0.5555555555555556,\"#d8576b\"],[0.6666666666666666,\"#ed7953\"],[0.7777777777777778,\"#fb9f3a\"],[0.8888888888888888,\"#fdca26\"],[1.0,\"#f0f921\"]]}],\"surface\":[{\"type\":\"surface\",\"colorbar\":{\"outlinewidth\":0,\"ticks\":\"\"},\"colorscale\":[[0.0,\"#0d0887\"],[0.1111111111111111,\"#46039f\"],[0.2222222222222222,\"#7201a8\"],[0.3333333333333333,\"#9c179e\"],[0.4444444444444444,\"#bd3786\"],[0.5555555555555556,\"#d8576b\"],[0.6666666666666666,\"#ed7953\"],[0.7777777777777778,\"#fb9f3a\"],[0.8888888888888888,\"#fdca26\"],[1.0,\"#f0f921\"]]}],\"mesh3d\":[{\"type\":\"mesh3d\",\"colorbar\":{\"outlinewidth\":0,\"ticks\":\"\"}}],\"scatter\":[{\"fillpattern\":{\"fillmode\":\"overlay\",\"size\":10,\"solidity\":0.2},\"type\":\"scatter\"}],\"parcoords\":[{\"type\":\"parcoords\",\"line\":{\"colorbar\":{\"outlinewidth\":0,\"ticks\":\"\"}}}],\"scatterpolargl\":[{\"type\":\"scatterpolargl\",\"marker\":{\"colorbar\":{\"outlinewidth\":0,\"ticks\":\"\"}}}],\"bar\":[{\"error_x\":{\"color\":\"#2a3f5f\"},\"error_y\":{\"color\":\"#2a3f5f\"},\"marker\":{\"line\":{\"color\":\"#E5ECF6\",\"width\":0.5},\"pattern\":{\"fillmode\":\"overlay\",\"size\":10,\"solidity\":0.2}},\"type\":\"bar\"}],\"scattergeo\":[{\"type\":\"scattergeo\",\"marker\":{\"colorbar\":{\"outlinewidth\":0,\"ticks\":\"\"}}}],\"scatterpolar\":[{\"type\":\"scatterpolar\",\"marker\":{\"colorbar\":{\"outlinewidth\":0,\"ticks\":\"\"}}}],\"histogram\":[{\"marker\":{\"pattern\":{\"fillmode\":\"overlay\",\"size\":10,\"solidity\":0.2}},\"type\":\"histogram\"}],\"scattergl\":[{\"type\":\"scattergl\",\"marker\":{\"colorbar\":{\"outlinewidth\":0,\"ticks\":\"\"}}}],\"scatter3d\":[{\"type\":\"scatter3d\",\"line\":{\"colorbar\":{\"outlinewidth\":0,\"ticks\":\"\"}},\"marker\":{\"colorbar\":{\"outlinewidth\":0,\"ticks\":\"\"}}}],\"scattermapbox\":[{\"type\":\"scattermapbox\",\"marker\":{\"colorbar\":{\"outlinewidth\":0,\"ticks\":\"\"}}}],\"scatterternary\":[{\"type\":\"scatterternary\",\"marker\":{\"colorbar\":{\"outlinewidth\":0,\"ticks\":\"\"}}}],\"scattercarpet\":[{\"type\":\"scattercarpet\",\"marker\":{\"colorbar\":{\"outlinewidth\":0,\"ticks\":\"\"}}}],\"carpet\":[{\"aaxis\":{\"endlinecolor\":\"#2a3f5f\",\"gridcolor\":\"white\",\"linecolor\":\"white\",\"minorgridcolor\":\"white\",\"startlinecolor\":\"#2a3f5f\"},\"baxis\":{\"endlinecolor\":\"#2a3f5f\",\"gridcolor\":\"white\",\"linecolor\":\"white\",\"minorgridcolor\":\"white\",\"startlinecolor\":\"#2a3f5f\"},\"type\":\"carpet\"}],\"table\":[{\"cells\":{\"fill\":{\"color\":\"#EBF0F8\"},\"line\":{\"color\":\"white\"}},\"header\":{\"fill\":{\"color\":\"#C8D4E3\"},\"line\":{\"color\":\"white\"}},\"type\":\"table\"}],\"barpolar\":[{\"marker\":{\"line\":{\"color\":\"#E5ECF6\",\"width\":0.5},\"pattern\":{\"fillmode\":\"overlay\",\"size\":10,\"solidity\":0.2}},\"type\":\"barpolar\"}],\"pie\":[{\"automargin\":true,\"type\":\"pie\"}]},\"layout\":{\"autotypenumbers\":\"strict\",\"colorway\":[\"#636efa\",\"#EF553B\",\"#00cc96\",\"#ab63fa\",\"#FFA15A\",\"#19d3f3\",\"#FF6692\",\"#B6E880\",\"#FF97FF\",\"#FECB52\"],\"font\":{\"color\":\"#2a3f5f\"},\"hovermode\":\"closest\",\"hoverlabel\":{\"align\":\"left\"},\"paper_bgcolor\":\"white\",\"plot_bgcolor\":\"#E5ECF6\",\"polar\":{\"bgcolor\":\"#E5ECF6\",\"angularaxis\":{\"gridcolor\":\"white\",\"linecolor\":\"white\",\"ticks\":\"\"},\"radialaxis\":{\"gridcolor\":\"white\",\"linecolor\":\"white\",\"ticks\":\"\"}},\"ternary\":{\"bgcolor\":\"#E5ECF6\",\"aaxis\":{\"gridcolor\":\"white\",\"linecolor\":\"white\",\"ticks\":\"\"},\"baxis\":{\"gridcolor\":\"white\",\"linecolor\":\"white\",\"ticks\":\"\"},\"caxis\":{\"gridcolor\":\"white\",\"linecolor\":\"white\",\"ticks\":\"\"}},\"coloraxis\":{\"colorbar\":{\"outlinewidth\":0,\"ticks\":\"\"}},\"colorscale\":{\"sequential\":[[0.0,\"#0d0887\"],[0.1111111111111111,\"#46039f\"],[0.2222222222222222,\"#7201a8\"],[0.3333333333333333,\"#9c179e\"],[0.4444444444444444,\"#bd3786\"],[0.5555555555555556,\"#d8576b\"],[0.6666666666666666,\"#ed7953\"],[0.7777777777777778,\"#fb9f3a\"],[0.8888888888888888,\"#fdca26\"],[1.0,\"#f0f921\"]],\"sequentialminus\":[[0.0,\"#0d0887\"],[0.1111111111111111,\"#46039f\"],[0.2222222222222222,\"#7201a8\"],[0.3333333333333333,\"#9c179e\"],[0.4444444444444444,\"#bd3786\"],[0.5555555555555556,\"#d8576b\"],[0.6666666666666666,\"#ed7953\"],[0.7777777777777778,\"#fb9f3a\"],[0.8888888888888888,\"#fdca26\"],[1.0,\"#f0f921\"]],\"diverging\":[[0,\"#8e0152\"],[0.1,\"#c51b7d\"],[0.2,\"#de77ae\"],[0.3,\"#f1b6da\"],[0.4,\"#fde0ef\"],[0.5,\"#f7f7f7\"],[0.6,\"#e6f5d0\"],[0.7,\"#b8e186\"],[0.8,\"#7fbc41\"],[0.9,\"#4d9221\"],[1,\"#276419\"]]},\"xaxis\":{\"gridcolor\":\"white\",\"linecolor\":\"white\",\"ticks\":\"\",\"title\":{\"standoff\":15},\"zerolinecolor\":\"white\",\"automargin\":true,\"zerolinewidth\":2},\"yaxis\":{\"gridcolor\":\"white\",\"linecolor\":\"white\",\"ticks\":\"\",\"title\":{\"standoff\":15},\"zerolinecolor\":\"white\",\"automargin\":true,\"zerolinewidth\":2},\"scene\":{\"xaxis\":{\"backgroundcolor\":\"#E5ECF6\",\"gridcolor\":\"white\",\"linecolor\":\"white\",\"showbackground\":true,\"ticks\":\"\",\"zerolinecolor\":\"white\",\"gridwidth\":2},\"yaxis\":{\"backgroundcolor\":\"#E5ECF6\",\"gridcolor\":\"white\",\"linecolor\":\"white\",\"showbackground\":true,\"ticks\":\"\",\"zerolinecolor\":\"white\",\"gridwidth\":2},\"zaxis\":{\"backgroundcolor\":\"#E5ECF6\",\"gridcolor\":\"white\",\"linecolor\":\"white\",\"showbackground\":true,\"ticks\":\"\",\"zerolinecolor\":\"white\",\"gridwidth\":2}},\"shapedefaults\":{\"line\":{\"color\":\"#2a3f5f\"}},\"annotationdefaults\":{\"arrowcolor\":\"#2a3f5f\",\"arrowhead\":0,\"arrowwidth\":1},\"geo\":{\"bgcolor\":\"white\",\"landcolor\":\"#E5ECF6\",\"subunitcolor\":\"white\",\"showland\":true,\"showlakes\":true,\"lakecolor\":\"white\"},\"title\":{\"x\":0.05},\"mapbox\":{\"style\":\"light\"}}},\"xaxis\":{\"anchor\":\"y\",\"domain\":[0.0,1.0],\"title\":{\"text\":\"year\"}},\"yaxis\":{\"anchor\":\"x\",\"domain\":[0.0,1.0],\"title\":{\"text\":\"launches\"}},\"legend\":{\"title\":{\"text\":\"Organisation\"},\"tracegroupgap\":0,\"itemsizing\":\"constant\"},\"title\":{\"text\":\"Leaders by launches for every year (Organisation)\"},\"width\":800},                        {\"responsive\": true}                    ).then(function(){\n",
       "                            \n",
       "var gd = document.getElementById('d0414ef6-b1b4-4334-9468-aae63b65e086');\n",
       "var x = new MutationObserver(function (mutations, observer) {{\n",
       "        var display = window.getComputedStyle(gd).display;\n",
       "        if (!display || display === 'none') {{\n",
       "            console.log([gd, 'removed!']);\n",
       "            Plotly.purge(gd);\n",
       "            observer.disconnect();\n",
       "        }}\n",
       "}});\n",
       "\n",
       "// Listen for the removal of the full notebook cells\n",
       "var notebookContainer = gd.closest('#notebook-container');\n",
       "if (notebookContainer) {{\n",
       "    x.observe(notebookContainer, {childList: true});\n",
       "}}\n",
       "\n",
       "// Listen for the clearing of the current output cell\n",
       "var outputEl = gd.closest('.output');\n",
       "if (outputEl) {{\n",
       "    x.observe(outputEl, {childList: true});\n",
       "}}\n",
       "\n",
       "                        })                };                });            </script>        </div>"
      ]
     },
     "metadata": {},
     "output_type": "display_data"
    }
   ],
   "source": [
    "\n",
    "ds = df_data.groupby(['year', 'Organisation'])['Mission_Status'].count().reset_index().sort_values(['year', 'Mission_Status'], ascending=False)\n",
    "ds = pd.concat([group[1].head(1) for group in ds.groupby(['year'])])\n",
    "ds.columns = ['year', 'Organisation', 'launches']\n",
    "\n",
    "fig = px.scatter(\n",
    "    ds, \n",
    "    x=\"year\", \n",
    "    y=\"launches\", \n",
    "    color='Organisation', \n",
    "    size=\"launches\",\n",
    "    title='Leaders by launches for every year (Organisation)',\n",
    "    width=800\n",
    ")\n",
    "\n",
    "\n",
    "fig.show()"
   ]
  },
  {
   "cell_type": "markdown",
   "metadata": {
    "id": "akCDKT8CqVjG"
   },
   "source": [
    "### Space missions have gone down significantly over time. The 70s and 80s saw Russia clearly spending a lot and launching alot of space missions. However over time, the number of launches has gone down and so has the type of organisations. \n",
    "#### Private companies like SpaceX and countries like China have been the recent leader in terms of launches every year."
   ]
  },
  {
   "cell_type": "code",
   "execution_count": null,
   "metadata": {},
   "outputs": [],
   "source": []
  },
  {
   "cell_type": "code",
   "execution_count": null,
   "metadata": {},
   "outputs": [],
   "source": []
  },
  {
   "cell_type": "code",
   "execution_count": null,
   "metadata": {},
   "outputs": [],
   "source": []
  },
  {
   "cell_type": "markdown",
   "metadata": {
    "id": "6Cm8_ch6a-q7",
    "papermill": {
     "duration": 0.052399,
     "end_time": "2020-10-20T21:34:13.756781",
     "exception": false,
     "start_time": "2020-10-20T21:34:13.704382",
     "status": "completed"
    },
    "tags": []
   },
   "source": [
    "# Cold War Space Race: USA vs USSR\n",
    "\n",
    "The cold war lasted from the start of the dataset up until 1991. "
   ]
  },
  {
   "cell_type": "code",
   "execution_count": 97,
   "metadata": {
    "id": "AcE_U8csrICL"
   },
   "outputs": [],
   "source": [
    "df_us_rus = df_data[(df_data[\"iso\"]==\"USA\") | (df_data[\"iso\"]==\"RUS\")]"
   ]
  },
  {
   "cell_type": "code",
   "execution_count": 98,
   "metadata": {
    "id": "cOe_t4OmrHr9"
   },
   "outputs": [
    {
     "data": {
      "text/html": [
       "<div>\n",
       "<style scoped>\n",
       "    .dataframe tbody tr th:only-of-type {\n",
       "        vertical-align: middle;\n",
       "    }\n",
       "\n",
       "    .dataframe tbody tr th {\n",
       "        vertical-align: top;\n",
       "    }\n",
       "\n",
       "    .dataframe thead th {\n",
       "        text-align: right;\n",
       "    }\n",
       "</style>\n",
       "<table border=\"1\" class=\"dataframe\">\n",
       "  <thead>\n",
       "    <tr style=\"text-align: right;\">\n",
       "      <th></th>\n",
       "      <th>Organisation</th>\n",
       "      <th>Location</th>\n",
       "      <th>Date</th>\n",
       "      <th>Detail</th>\n",
       "      <th>Rocket_Status</th>\n",
       "      <th>Price</th>\n",
       "      <th>Mission_Status</th>\n",
       "      <th>country</th>\n",
       "      <th>iso</th>\n",
       "      <th>year</th>\n",
       "    </tr>\n",
       "  </thead>\n",
       "  <tbody>\n",
       "    <tr>\n",
       "      <th>0</th>\n",
       "      <td>SpaceX</td>\n",
       "      <td>LC-39A, Kennedy Space Center, Florida, USA</td>\n",
       "      <td>2020-08-07 05:12:00+00:00</td>\n",
       "      <td>Falcon 9 Block 5 | Starlink V1 L9 &amp; BlackSky</td>\n",
       "      <td>StatusActive</td>\n",
       "      <td>50.00</td>\n",
       "      <td>Success</td>\n",
       "      <td>United States of America</td>\n",
       "      <td>USA</td>\n",
       "      <td>2020</td>\n",
       "    </tr>\n",
       "    <tr>\n",
       "      <th>2</th>\n",
       "      <td>SpaceX</td>\n",
       "      <td>Pad A, Boca Chica, Texas, USA</td>\n",
       "      <td>2020-08-04 23:57:00+00:00</td>\n",
       "      <td>Starship Prototype | 150 Meter Hop</td>\n",
       "      <td>StatusActive</td>\n",
       "      <td>NaN</td>\n",
       "      <td>Success</td>\n",
       "      <td>United States of America</td>\n",
       "      <td>USA</td>\n",
       "      <td>2020</td>\n",
       "    </tr>\n",
       "    <tr>\n",
       "      <th>4</th>\n",
       "      <td>ULA</td>\n",
       "      <td>SLC-41, Cape Canaveral AFS, Florida, USA</td>\n",
       "      <td>2020-07-30 11:50:00+00:00</td>\n",
       "      <td>Atlas V 541 | Perseverance</td>\n",
       "      <td>StatusActive</td>\n",
       "      <td>145.00</td>\n",
       "      <td>Success</td>\n",
       "      <td>United States of America</td>\n",
       "      <td>USA</td>\n",
       "      <td>2020</td>\n",
       "    </tr>\n",
       "    <tr>\n",
       "      <th>8</th>\n",
       "      <td>SpaceX</td>\n",
       "      <td>SLC-40, Cape Canaveral AFS, Florida, USA</td>\n",
       "      <td>2020-07-20 21:30:00+00:00</td>\n",
       "      <td>Falcon 9 Block 5 | ANASIS-II</td>\n",
       "      <td>StatusActive</td>\n",
       "      <td>50.00</td>\n",
       "      <td>Success</td>\n",
       "      <td>United States of America</td>\n",
       "      <td>USA</td>\n",
       "      <td>2020</td>\n",
       "    </tr>\n",
       "    <tr>\n",
       "      <th>10</th>\n",
       "      <td>Northrop</td>\n",
       "      <td>LP-0B, Wallops Flight Facility, Virginia, USA</td>\n",
       "      <td>2020-07-15 13:46:00+00:00</td>\n",
       "      <td>Minotaur IV | NROL-129</td>\n",
       "      <td>StatusActive</td>\n",
       "      <td>46.00</td>\n",
       "      <td>Success</td>\n",
       "      <td>United States of America</td>\n",
       "      <td>USA</td>\n",
       "      <td>2020</td>\n",
       "    </tr>\n",
       "    <tr>\n",
       "      <th>...</th>\n",
       "      <td>...</td>\n",
       "      <td>...</td>\n",
       "      <td>...</td>\n",
       "      <td>...</td>\n",
       "      <td>...</td>\n",
       "      <td>...</td>\n",
       "      <td>...</td>\n",
       "      <td>...</td>\n",
       "      <td>...</td>\n",
       "      <td>...</td>\n",
       "    </tr>\n",
       "    <tr>\n",
       "      <th>4317</th>\n",
       "      <td>US Navy</td>\n",
       "      <td>LC-18A, Cape Canaveral AFS, Florida, USA</td>\n",
       "      <td>1958-03-17 12:15:00+00:00</td>\n",
       "      <td>Vanguard | Vanguard 1</td>\n",
       "      <td>StatusRetired</td>\n",
       "      <td>NaN</td>\n",
       "      <td>Success</td>\n",
       "      <td>United States of America</td>\n",
       "      <td>USA</td>\n",
       "      <td>1958</td>\n",
       "    </tr>\n",
       "    <tr>\n",
       "      <th>4318</th>\n",
       "      <td>AMBA</td>\n",
       "      <td>LC-26A, Cape Canaveral AFS, Florida, USA</td>\n",
       "      <td>1958-03-05 18:27:00+00:00</td>\n",
       "      <td>Juno I | Explorer 2</td>\n",
       "      <td>StatusRetired</td>\n",
       "      <td>NaN</td>\n",
       "      <td>Failure</td>\n",
       "      <td>United States of America</td>\n",
       "      <td>USA</td>\n",
       "      <td>1958</td>\n",
       "    </tr>\n",
       "    <tr>\n",
       "      <th>4319</th>\n",
       "      <td>US Navy</td>\n",
       "      <td>LC-18A, Cape Canaveral AFS, Florida, USA</td>\n",
       "      <td>1958-02-05 07:33:00+00:00</td>\n",
       "      <td>Vanguard | Vanguard TV3BU</td>\n",
       "      <td>StatusRetired</td>\n",
       "      <td>NaN</td>\n",
       "      <td>Failure</td>\n",
       "      <td>United States of America</td>\n",
       "      <td>USA</td>\n",
       "      <td>1958</td>\n",
       "    </tr>\n",
       "    <tr>\n",
       "      <th>4320</th>\n",
       "      <td>AMBA</td>\n",
       "      <td>LC-26A, Cape Canaveral AFS, Florida, USA</td>\n",
       "      <td>1958-02-01 03:48:00+00:00</td>\n",
       "      <td>Juno I | Explorer 1</td>\n",
       "      <td>StatusRetired</td>\n",
       "      <td>NaN</td>\n",
       "      <td>Success</td>\n",
       "      <td>United States of America</td>\n",
       "      <td>USA</td>\n",
       "      <td>1958</td>\n",
       "    </tr>\n",
       "    <tr>\n",
       "      <th>4321</th>\n",
       "      <td>US Navy</td>\n",
       "      <td>LC-18A, Cape Canaveral AFS, Florida, USA</td>\n",
       "      <td>1957-12-06 16:44:00+00:00</td>\n",
       "      <td>Vanguard | Vanguard TV3</td>\n",
       "      <td>StatusRetired</td>\n",
       "      <td>NaN</td>\n",
       "      <td>Failure</td>\n",
       "      <td>United States of America</td>\n",
       "      <td>USA</td>\n",
       "      <td>1957</td>\n",
       "    </tr>\n",
       "  </tbody>\n",
       "</table>\n",
       "<p>2785 rows × 10 columns</p>\n",
       "</div>"
      ],
      "text/plain": [
       "     Organisation                                       Location  \\\n",
       "0          SpaceX     LC-39A, Kennedy Space Center, Florida, USA   \n",
       "2          SpaceX                  Pad A, Boca Chica, Texas, USA   \n",
       "4             ULA       SLC-41, Cape Canaveral AFS, Florida, USA   \n",
       "8          SpaceX       SLC-40, Cape Canaveral AFS, Florida, USA   \n",
       "10       Northrop  LP-0B, Wallops Flight Facility, Virginia, USA   \n",
       "...           ...                                            ...   \n",
       "4317      US Navy       LC-18A, Cape Canaveral AFS, Florida, USA   \n",
       "4318         AMBA       LC-26A, Cape Canaveral AFS, Florida, USA   \n",
       "4319      US Navy       LC-18A, Cape Canaveral AFS, Florida, USA   \n",
       "4320         AMBA       LC-26A, Cape Canaveral AFS, Florida, USA   \n",
       "4321      US Navy       LC-18A, Cape Canaveral AFS, Florida, USA   \n",
       "\n",
       "                           Date                                        Detail  \\\n",
       "0     2020-08-07 05:12:00+00:00  Falcon 9 Block 5 | Starlink V1 L9 & BlackSky   \n",
       "2     2020-08-04 23:57:00+00:00            Starship Prototype | 150 Meter Hop   \n",
       "4     2020-07-30 11:50:00+00:00                    Atlas V 541 | Perseverance   \n",
       "8     2020-07-20 21:30:00+00:00                  Falcon 9 Block 5 | ANASIS-II   \n",
       "10    2020-07-15 13:46:00+00:00                        Minotaur IV | NROL-129   \n",
       "...                         ...                                           ...   \n",
       "4317  1958-03-17 12:15:00+00:00                         Vanguard | Vanguard 1   \n",
       "4318  1958-03-05 18:27:00+00:00                           Juno I | Explorer 2   \n",
       "4319  1958-02-05 07:33:00+00:00                     Vanguard | Vanguard TV3BU   \n",
       "4320  1958-02-01 03:48:00+00:00                           Juno I | Explorer 1   \n",
       "4321  1957-12-06 16:44:00+00:00                       Vanguard | Vanguard TV3   \n",
       "\n",
       "      Rocket_Status  Price Mission_Status                   country  iso  year  \n",
       "0      StatusActive  50.00        Success  United States of America  USA  2020  \n",
       "2      StatusActive    NaN        Success  United States of America  USA  2020  \n",
       "4      StatusActive 145.00        Success  United States of America  USA  2020  \n",
       "8      StatusActive  50.00        Success  United States of America  USA  2020  \n",
       "10     StatusActive  46.00        Success  United States of America  USA  2020  \n",
       "...             ...    ...            ...                       ...  ...   ...  \n",
       "4317  StatusRetired    NaN        Success  United States of America  USA  1958  \n",
       "4318  StatusRetired    NaN        Failure  United States of America  USA  1958  \n",
       "4319  StatusRetired    NaN        Failure  United States of America  USA  1958  \n",
       "4320  StatusRetired    NaN        Success  United States of America  USA  1958  \n",
       "4321  StatusRetired    NaN        Failure  United States of America  USA  1957  \n",
       "\n",
       "[2785 rows x 10 columns]"
      ]
     },
     "execution_count": 98,
     "metadata": {},
     "output_type": "execute_result"
    }
   ],
   "source": [
    "df_us_rus"
   ]
  },
  {
   "cell_type": "code",
   "execution_count": 99,
   "metadata": {},
   "outputs": [],
   "source": [
    "df_us_rus=df_us_rus[df_us_rus[\"year\"]<1991]"
   ]
  },
  {
   "cell_type": "code",
   "execution_count": 100,
   "metadata": {},
   "outputs": [],
   "source": [
    "dfusruspie = df_us_rus.groupby(\"country\")[\"Mission_Status\"].count()"
   ]
  },
  {
   "cell_type": "code",
   "execution_count": 101,
   "metadata": {},
   "outputs": [
    {
     "name": "stderr",
     "output_type": "stream",
     "text": [
      "/Users/sunny/anaconda3/lib/python3.10/site-packages/plotly/express/_core.py:137: FutureWarning:\n",
      "\n",
      "Support for multi-dimensional indexing (e.g. `obj[:, None]`) is deprecated and will be removed in a future version.  Convert to a numpy array before indexing instead.\n",
      "\n"
     ]
    },
    {
     "data": {
      "application/vnd.plotly.v1+json": {
       "config": {
        "plotlyServerURL": "https://plot.ly"
       },
       "data": [
        {
         "domain": {
          "x": [
           0,
           1
          ],
          "y": [
           0,
           1
          ]
         },
         "hovertemplate": "country=%{label}<br>value=%{value}<extra></extra>",
         "labels": [
          "Russian Federation",
          "United States of America"
         ],
         "legendgroup": "",
         "name": "",
         "showlegend": true,
         "type": "pie",
         "values": [
          1163,
          644
         ]
        }
       ],
       "layout": {
        "legend": {
         "tracegroupgap": 0
        },
        "template": {
         "data": {
          "bar": [
           {
            "error_x": {
             "color": "#2a3f5f"
            },
            "error_y": {
             "color": "#2a3f5f"
            },
            "marker": {
             "line": {
              "color": "#E5ECF6",
              "width": 0.5
             },
             "pattern": {
              "fillmode": "overlay",
              "size": 10,
              "solidity": 0.2
             }
            },
            "type": "bar"
           }
          ],
          "barpolar": [
           {
            "marker": {
             "line": {
              "color": "#E5ECF6",
              "width": 0.5
             },
             "pattern": {
              "fillmode": "overlay",
              "size": 10,
              "solidity": 0.2
             }
            },
            "type": "barpolar"
           }
          ],
          "carpet": [
           {
            "aaxis": {
             "endlinecolor": "#2a3f5f",
             "gridcolor": "white",
             "linecolor": "white",
             "minorgridcolor": "white",
             "startlinecolor": "#2a3f5f"
            },
            "baxis": {
             "endlinecolor": "#2a3f5f",
             "gridcolor": "white",
             "linecolor": "white",
             "minorgridcolor": "white",
             "startlinecolor": "#2a3f5f"
            },
            "type": "carpet"
           }
          ],
          "choropleth": [
           {
            "colorbar": {
             "outlinewidth": 0,
             "ticks": ""
            },
            "type": "choropleth"
           }
          ],
          "contour": [
           {
            "colorbar": {
             "outlinewidth": 0,
             "ticks": ""
            },
            "colorscale": [
             [
              0,
              "#0d0887"
             ],
             [
              0.1111111111111111,
              "#46039f"
             ],
             [
              0.2222222222222222,
              "#7201a8"
             ],
             [
              0.3333333333333333,
              "#9c179e"
             ],
             [
              0.4444444444444444,
              "#bd3786"
             ],
             [
              0.5555555555555556,
              "#d8576b"
             ],
             [
              0.6666666666666666,
              "#ed7953"
             ],
             [
              0.7777777777777778,
              "#fb9f3a"
             ],
             [
              0.8888888888888888,
              "#fdca26"
             ],
             [
              1,
              "#f0f921"
             ]
            ],
            "type": "contour"
           }
          ],
          "contourcarpet": [
           {
            "colorbar": {
             "outlinewidth": 0,
             "ticks": ""
            },
            "type": "contourcarpet"
           }
          ],
          "heatmap": [
           {
            "colorbar": {
             "outlinewidth": 0,
             "ticks": ""
            },
            "colorscale": [
             [
              0,
              "#0d0887"
             ],
             [
              0.1111111111111111,
              "#46039f"
             ],
             [
              0.2222222222222222,
              "#7201a8"
             ],
             [
              0.3333333333333333,
              "#9c179e"
             ],
             [
              0.4444444444444444,
              "#bd3786"
             ],
             [
              0.5555555555555556,
              "#d8576b"
             ],
             [
              0.6666666666666666,
              "#ed7953"
             ],
             [
              0.7777777777777778,
              "#fb9f3a"
             ],
             [
              0.8888888888888888,
              "#fdca26"
             ],
             [
              1,
              "#f0f921"
             ]
            ],
            "type": "heatmap"
           }
          ],
          "heatmapgl": [
           {
            "colorbar": {
             "outlinewidth": 0,
             "ticks": ""
            },
            "colorscale": [
             [
              0,
              "#0d0887"
             ],
             [
              0.1111111111111111,
              "#46039f"
             ],
             [
              0.2222222222222222,
              "#7201a8"
             ],
             [
              0.3333333333333333,
              "#9c179e"
             ],
             [
              0.4444444444444444,
              "#bd3786"
             ],
             [
              0.5555555555555556,
              "#d8576b"
             ],
             [
              0.6666666666666666,
              "#ed7953"
             ],
             [
              0.7777777777777778,
              "#fb9f3a"
             ],
             [
              0.8888888888888888,
              "#fdca26"
             ],
             [
              1,
              "#f0f921"
             ]
            ],
            "type": "heatmapgl"
           }
          ],
          "histogram": [
           {
            "marker": {
             "pattern": {
              "fillmode": "overlay",
              "size": 10,
              "solidity": 0.2
             }
            },
            "type": "histogram"
           }
          ],
          "histogram2d": [
           {
            "colorbar": {
             "outlinewidth": 0,
             "ticks": ""
            },
            "colorscale": [
             [
              0,
              "#0d0887"
             ],
             [
              0.1111111111111111,
              "#46039f"
             ],
             [
              0.2222222222222222,
              "#7201a8"
             ],
             [
              0.3333333333333333,
              "#9c179e"
             ],
             [
              0.4444444444444444,
              "#bd3786"
             ],
             [
              0.5555555555555556,
              "#d8576b"
             ],
             [
              0.6666666666666666,
              "#ed7953"
             ],
             [
              0.7777777777777778,
              "#fb9f3a"
             ],
             [
              0.8888888888888888,
              "#fdca26"
             ],
             [
              1,
              "#f0f921"
             ]
            ],
            "type": "histogram2d"
           }
          ],
          "histogram2dcontour": [
           {
            "colorbar": {
             "outlinewidth": 0,
             "ticks": ""
            },
            "colorscale": [
             [
              0,
              "#0d0887"
             ],
             [
              0.1111111111111111,
              "#46039f"
             ],
             [
              0.2222222222222222,
              "#7201a8"
             ],
             [
              0.3333333333333333,
              "#9c179e"
             ],
             [
              0.4444444444444444,
              "#bd3786"
             ],
             [
              0.5555555555555556,
              "#d8576b"
             ],
             [
              0.6666666666666666,
              "#ed7953"
             ],
             [
              0.7777777777777778,
              "#fb9f3a"
             ],
             [
              0.8888888888888888,
              "#fdca26"
             ],
             [
              1,
              "#f0f921"
             ]
            ],
            "type": "histogram2dcontour"
           }
          ],
          "mesh3d": [
           {
            "colorbar": {
             "outlinewidth": 0,
             "ticks": ""
            },
            "type": "mesh3d"
           }
          ],
          "parcoords": [
           {
            "line": {
             "colorbar": {
              "outlinewidth": 0,
              "ticks": ""
             }
            },
            "type": "parcoords"
           }
          ],
          "pie": [
           {
            "automargin": true,
            "type": "pie"
           }
          ],
          "scatter": [
           {
            "fillpattern": {
             "fillmode": "overlay",
             "size": 10,
             "solidity": 0.2
            },
            "type": "scatter"
           }
          ],
          "scatter3d": [
           {
            "line": {
             "colorbar": {
              "outlinewidth": 0,
              "ticks": ""
             }
            },
            "marker": {
             "colorbar": {
              "outlinewidth": 0,
              "ticks": ""
             }
            },
            "type": "scatter3d"
           }
          ],
          "scattercarpet": [
           {
            "marker": {
             "colorbar": {
              "outlinewidth": 0,
              "ticks": ""
             }
            },
            "type": "scattercarpet"
           }
          ],
          "scattergeo": [
           {
            "marker": {
             "colorbar": {
              "outlinewidth": 0,
              "ticks": ""
             }
            },
            "type": "scattergeo"
           }
          ],
          "scattergl": [
           {
            "marker": {
             "colorbar": {
              "outlinewidth": 0,
              "ticks": ""
             }
            },
            "type": "scattergl"
           }
          ],
          "scattermapbox": [
           {
            "marker": {
             "colorbar": {
              "outlinewidth": 0,
              "ticks": ""
             }
            },
            "type": "scattermapbox"
           }
          ],
          "scatterpolar": [
           {
            "marker": {
             "colorbar": {
              "outlinewidth": 0,
              "ticks": ""
             }
            },
            "type": "scatterpolar"
           }
          ],
          "scatterpolargl": [
           {
            "marker": {
             "colorbar": {
              "outlinewidth": 0,
              "ticks": ""
             }
            },
            "type": "scatterpolargl"
           }
          ],
          "scatterternary": [
           {
            "marker": {
             "colorbar": {
              "outlinewidth": 0,
              "ticks": ""
             }
            },
            "type": "scatterternary"
           }
          ],
          "surface": [
           {
            "colorbar": {
             "outlinewidth": 0,
             "ticks": ""
            },
            "colorscale": [
             [
              0,
              "#0d0887"
             ],
             [
              0.1111111111111111,
              "#46039f"
             ],
             [
              0.2222222222222222,
              "#7201a8"
             ],
             [
              0.3333333333333333,
              "#9c179e"
             ],
             [
              0.4444444444444444,
              "#bd3786"
             ],
             [
              0.5555555555555556,
              "#d8576b"
             ],
             [
              0.6666666666666666,
              "#ed7953"
             ],
             [
              0.7777777777777778,
              "#fb9f3a"
             ],
             [
              0.8888888888888888,
              "#fdca26"
             ],
             [
              1,
              "#f0f921"
             ]
            ],
            "type": "surface"
           }
          ],
          "table": [
           {
            "cells": {
             "fill": {
              "color": "#EBF0F8"
             },
             "line": {
              "color": "white"
             }
            },
            "header": {
             "fill": {
              "color": "#C8D4E3"
             },
             "line": {
              "color": "white"
             }
            },
            "type": "table"
           }
          ]
         },
         "layout": {
          "annotationdefaults": {
           "arrowcolor": "#2a3f5f",
           "arrowhead": 0,
           "arrowwidth": 1
          },
          "autotypenumbers": "strict",
          "coloraxis": {
           "colorbar": {
            "outlinewidth": 0,
            "ticks": ""
           }
          },
          "colorscale": {
           "diverging": [
            [
             0,
             "#8e0152"
            ],
            [
             0.1,
             "#c51b7d"
            ],
            [
             0.2,
             "#de77ae"
            ],
            [
             0.3,
             "#f1b6da"
            ],
            [
             0.4,
             "#fde0ef"
            ],
            [
             0.5,
             "#f7f7f7"
            ],
            [
             0.6,
             "#e6f5d0"
            ],
            [
             0.7,
             "#b8e186"
            ],
            [
             0.8,
             "#7fbc41"
            ],
            [
             0.9,
             "#4d9221"
            ],
            [
             1,
             "#276419"
            ]
           ],
           "sequential": [
            [
             0,
             "#0d0887"
            ],
            [
             0.1111111111111111,
             "#46039f"
            ],
            [
             0.2222222222222222,
             "#7201a8"
            ],
            [
             0.3333333333333333,
             "#9c179e"
            ],
            [
             0.4444444444444444,
             "#bd3786"
            ],
            [
             0.5555555555555556,
             "#d8576b"
            ],
            [
             0.6666666666666666,
             "#ed7953"
            ],
            [
             0.7777777777777778,
             "#fb9f3a"
            ],
            [
             0.8888888888888888,
             "#fdca26"
            ],
            [
             1,
             "#f0f921"
            ]
           ],
           "sequentialminus": [
            [
             0,
             "#0d0887"
            ],
            [
             0.1111111111111111,
             "#46039f"
            ],
            [
             0.2222222222222222,
             "#7201a8"
            ],
            [
             0.3333333333333333,
             "#9c179e"
            ],
            [
             0.4444444444444444,
             "#bd3786"
            ],
            [
             0.5555555555555556,
             "#d8576b"
            ],
            [
             0.6666666666666666,
             "#ed7953"
            ],
            [
             0.7777777777777778,
             "#fb9f3a"
            ],
            [
             0.8888888888888888,
             "#fdca26"
            ],
            [
             1,
             "#f0f921"
            ]
           ]
          },
          "colorway": [
           "#636efa",
           "#EF553B",
           "#00cc96",
           "#ab63fa",
           "#FFA15A",
           "#19d3f3",
           "#FF6692",
           "#B6E880",
           "#FF97FF",
           "#FECB52"
          ],
          "font": {
           "color": "#2a3f5f"
          },
          "geo": {
           "bgcolor": "white",
           "lakecolor": "white",
           "landcolor": "#E5ECF6",
           "showlakes": true,
           "showland": true,
           "subunitcolor": "white"
          },
          "hoverlabel": {
           "align": "left"
          },
          "hovermode": "closest",
          "mapbox": {
           "style": "light"
          },
          "paper_bgcolor": "white",
          "plot_bgcolor": "#E5ECF6",
          "polar": {
           "angularaxis": {
            "gridcolor": "white",
            "linecolor": "white",
            "ticks": ""
           },
           "bgcolor": "#E5ECF6",
           "radialaxis": {
            "gridcolor": "white",
            "linecolor": "white",
            "ticks": ""
           }
          },
          "scene": {
           "xaxis": {
            "backgroundcolor": "#E5ECF6",
            "gridcolor": "white",
            "gridwidth": 2,
            "linecolor": "white",
            "showbackground": true,
            "ticks": "",
            "zerolinecolor": "white"
           },
           "yaxis": {
            "backgroundcolor": "#E5ECF6",
            "gridcolor": "white",
            "gridwidth": 2,
            "linecolor": "white",
            "showbackground": true,
            "ticks": "",
            "zerolinecolor": "white"
           },
           "zaxis": {
            "backgroundcolor": "#E5ECF6",
            "gridcolor": "white",
            "gridwidth": 2,
            "linecolor": "white",
            "showbackground": true,
            "ticks": "",
            "zerolinecolor": "white"
           }
          },
          "shapedefaults": {
           "line": {
            "color": "#2a3f5f"
           }
          },
          "ternary": {
           "aaxis": {
            "gridcolor": "white",
            "linecolor": "white",
            "ticks": ""
           },
           "baxis": {
            "gridcolor": "white",
            "linecolor": "white",
            "ticks": ""
           },
           "bgcolor": "#E5ECF6",
           "caxis": {
            "gridcolor": "white",
            "linecolor": "white",
            "ticks": ""
           }
          },
          "title": {
           "x": 0.05
          },
          "xaxis": {
           "automargin": true,
           "gridcolor": "white",
           "linecolor": "white",
           "ticks": "",
           "title": {
            "standoff": 15
           },
           "zerolinecolor": "white",
           "zerolinewidth": 2
          },
          "yaxis": {
           "automargin": true,
           "gridcolor": "white",
           "linecolor": "white",
           "ticks": "",
           "title": {
            "standoff": 15
           },
           "zerolinecolor": "white",
           "zerolinewidth": 2
          }
         }
        },
        "title": {
         "text": "USA VS USSR Missions during Cold War"
        }
       }
      },
      "text/html": [
       "<div>                            <div id=\"9b46fb34-225f-404b-97ab-d3c6c4b7fef9\" class=\"plotly-graph-div\" style=\"height:525px; width:100%;\"></div>            <script type=\"text/javascript\">                require([\"plotly\"], function(Plotly) {                    window.PLOTLYENV=window.PLOTLYENV || {};                                    if (document.getElementById(\"9b46fb34-225f-404b-97ab-d3c6c4b7fef9\")) {                    Plotly.newPlot(                        \"9b46fb34-225f-404b-97ab-d3c6c4b7fef9\",                        [{\"domain\":{\"x\":[0.0,1.0],\"y\":[0.0,1.0]},\"hovertemplate\":\"country=%{label}<br>value=%{value}<extra></extra>\",\"labels\":[\"Russian Federation\",\"United States of America\"],\"legendgroup\":\"\",\"name\":\"\",\"showlegend\":true,\"values\":[1163,644],\"type\":\"pie\"}],                        {\"template\":{\"data\":{\"histogram2dcontour\":[{\"type\":\"histogram2dcontour\",\"colorbar\":{\"outlinewidth\":0,\"ticks\":\"\"},\"colorscale\":[[0.0,\"#0d0887\"],[0.1111111111111111,\"#46039f\"],[0.2222222222222222,\"#7201a8\"],[0.3333333333333333,\"#9c179e\"],[0.4444444444444444,\"#bd3786\"],[0.5555555555555556,\"#d8576b\"],[0.6666666666666666,\"#ed7953\"],[0.7777777777777778,\"#fb9f3a\"],[0.8888888888888888,\"#fdca26\"],[1.0,\"#f0f921\"]]}],\"choropleth\":[{\"type\":\"choropleth\",\"colorbar\":{\"outlinewidth\":0,\"ticks\":\"\"}}],\"histogram2d\":[{\"type\":\"histogram2d\",\"colorbar\":{\"outlinewidth\":0,\"ticks\":\"\"},\"colorscale\":[[0.0,\"#0d0887\"],[0.1111111111111111,\"#46039f\"],[0.2222222222222222,\"#7201a8\"],[0.3333333333333333,\"#9c179e\"],[0.4444444444444444,\"#bd3786\"],[0.5555555555555556,\"#d8576b\"],[0.6666666666666666,\"#ed7953\"],[0.7777777777777778,\"#fb9f3a\"],[0.8888888888888888,\"#fdca26\"],[1.0,\"#f0f921\"]]}],\"heatmap\":[{\"type\":\"heatmap\",\"colorbar\":{\"outlinewidth\":0,\"ticks\":\"\"},\"colorscale\":[[0.0,\"#0d0887\"],[0.1111111111111111,\"#46039f\"],[0.2222222222222222,\"#7201a8\"],[0.3333333333333333,\"#9c179e\"],[0.4444444444444444,\"#bd3786\"],[0.5555555555555556,\"#d8576b\"],[0.6666666666666666,\"#ed7953\"],[0.7777777777777778,\"#fb9f3a\"],[0.8888888888888888,\"#fdca26\"],[1.0,\"#f0f921\"]]}],\"heatmapgl\":[{\"type\":\"heatmapgl\",\"colorbar\":{\"outlinewidth\":0,\"ticks\":\"\"},\"colorscale\":[[0.0,\"#0d0887\"],[0.1111111111111111,\"#46039f\"],[0.2222222222222222,\"#7201a8\"],[0.3333333333333333,\"#9c179e\"],[0.4444444444444444,\"#bd3786\"],[0.5555555555555556,\"#d8576b\"],[0.6666666666666666,\"#ed7953\"],[0.7777777777777778,\"#fb9f3a\"],[0.8888888888888888,\"#fdca26\"],[1.0,\"#f0f921\"]]}],\"contourcarpet\":[{\"type\":\"contourcarpet\",\"colorbar\":{\"outlinewidth\":0,\"ticks\":\"\"}}],\"contour\":[{\"type\":\"contour\",\"colorbar\":{\"outlinewidth\":0,\"ticks\":\"\"},\"colorscale\":[[0.0,\"#0d0887\"],[0.1111111111111111,\"#46039f\"],[0.2222222222222222,\"#7201a8\"],[0.3333333333333333,\"#9c179e\"],[0.4444444444444444,\"#bd3786\"],[0.5555555555555556,\"#d8576b\"],[0.6666666666666666,\"#ed7953\"],[0.7777777777777778,\"#fb9f3a\"],[0.8888888888888888,\"#fdca26\"],[1.0,\"#f0f921\"]]}],\"surface\":[{\"type\":\"surface\",\"colorbar\":{\"outlinewidth\":0,\"ticks\":\"\"},\"colorscale\":[[0.0,\"#0d0887\"],[0.1111111111111111,\"#46039f\"],[0.2222222222222222,\"#7201a8\"],[0.3333333333333333,\"#9c179e\"],[0.4444444444444444,\"#bd3786\"],[0.5555555555555556,\"#d8576b\"],[0.6666666666666666,\"#ed7953\"],[0.7777777777777778,\"#fb9f3a\"],[0.8888888888888888,\"#fdca26\"],[1.0,\"#f0f921\"]]}],\"mesh3d\":[{\"type\":\"mesh3d\",\"colorbar\":{\"outlinewidth\":0,\"ticks\":\"\"}}],\"scatter\":[{\"fillpattern\":{\"fillmode\":\"overlay\",\"size\":10,\"solidity\":0.2},\"type\":\"scatter\"}],\"parcoords\":[{\"type\":\"parcoords\",\"line\":{\"colorbar\":{\"outlinewidth\":0,\"ticks\":\"\"}}}],\"scatterpolargl\":[{\"type\":\"scatterpolargl\",\"marker\":{\"colorbar\":{\"outlinewidth\":0,\"ticks\":\"\"}}}],\"bar\":[{\"error_x\":{\"color\":\"#2a3f5f\"},\"error_y\":{\"color\":\"#2a3f5f\"},\"marker\":{\"line\":{\"color\":\"#E5ECF6\",\"width\":0.5},\"pattern\":{\"fillmode\":\"overlay\",\"size\":10,\"solidity\":0.2}},\"type\":\"bar\"}],\"scattergeo\":[{\"type\":\"scattergeo\",\"marker\":{\"colorbar\":{\"outlinewidth\":0,\"ticks\":\"\"}}}],\"scatterpolar\":[{\"type\":\"scatterpolar\",\"marker\":{\"colorbar\":{\"outlinewidth\":0,\"ticks\":\"\"}}}],\"histogram\":[{\"marker\":{\"pattern\":{\"fillmode\":\"overlay\",\"size\":10,\"solidity\":0.2}},\"type\":\"histogram\"}],\"scattergl\":[{\"type\":\"scattergl\",\"marker\":{\"colorbar\":{\"outlinewidth\":0,\"ticks\":\"\"}}}],\"scatter3d\":[{\"type\":\"scatter3d\",\"line\":{\"colorbar\":{\"outlinewidth\":0,\"ticks\":\"\"}},\"marker\":{\"colorbar\":{\"outlinewidth\":0,\"ticks\":\"\"}}}],\"scattermapbox\":[{\"type\":\"scattermapbox\",\"marker\":{\"colorbar\":{\"outlinewidth\":0,\"ticks\":\"\"}}}],\"scatterternary\":[{\"type\":\"scatterternary\",\"marker\":{\"colorbar\":{\"outlinewidth\":0,\"ticks\":\"\"}}}],\"scattercarpet\":[{\"type\":\"scattercarpet\",\"marker\":{\"colorbar\":{\"outlinewidth\":0,\"ticks\":\"\"}}}],\"carpet\":[{\"aaxis\":{\"endlinecolor\":\"#2a3f5f\",\"gridcolor\":\"white\",\"linecolor\":\"white\",\"minorgridcolor\":\"white\",\"startlinecolor\":\"#2a3f5f\"},\"baxis\":{\"endlinecolor\":\"#2a3f5f\",\"gridcolor\":\"white\",\"linecolor\":\"white\",\"minorgridcolor\":\"white\",\"startlinecolor\":\"#2a3f5f\"},\"type\":\"carpet\"}],\"table\":[{\"cells\":{\"fill\":{\"color\":\"#EBF0F8\"},\"line\":{\"color\":\"white\"}},\"header\":{\"fill\":{\"color\":\"#C8D4E3\"},\"line\":{\"color\":\"white\"}},\"type\":\"table\"}],\"barpolar\":[{\"marker\":{\"line\":{\"color\":\"#E5ECF6\",\"width\":0.5},\"pattern\":{\"fillmode\":\"overlay\",\"size\":10,\"solidity\":0.2}},\"type\":\"barpolar\"}],\"pie\":[{\"automargin\":true,\"type\":\"pie\"}]},\"layout\":{\"autotypenumbers\":\"strict\",\"colorway\":[\"#636efa\",\"#EF553B\",\"#00cc96\",\"#ab63fa\",\"#FFA15A\",\"#19d3f3\",\"#FF6692\",\"#B6E880\",\"#FF97FF\",\"#FECB52\"],\"font\":{\"color\":\"#2a3f5f\"},\"hovermode\":\"closest\",\"hoverlabel\":{\"align\":\"left\"},\"paper_bgcolor\":\"white\",\"plot_bgcolor\":\"#E5ECF6\",\"polar\":{\"bgcolor\":\"#E5ECF6\",\"angularaxis\":{\"gridcolor\":\"white\",\"linecolor\":\"white\",\"ticks\":\"\"},\"radialaxis\":{\"gridcolor\":\"white\",\"linecolor\":\"white\",\"ticks\":\"\"}},\"ternary\":{\"bgcolor\":\"#E5ECF6\",\"aaxis\":{\"gridcolor\":\"white\",\"linecolor\":\"white\",\"ticks\":\"\"},\"baxis\":{\"gridcolor\":\"white\",\"linecolor\":\"white\",\"ticks\":\"\"},\"caxis\":{\"gridcolor\":\"white\",\"linecolor\":\"white\",\"ticks\":\"\"}},\"coloraxis\":{\"colorbar\":{\"outlinewidth\":0,\"ticks\":\"\"}},\"colorscale\":{\"sequential\":[[0.0,\"#0d0887\"],[0.1111111111111111,\"#46039f\"],[0.2222222222222222,\"#7201a8\"],[0.3333333333333333,\"#9c179e\"],[0.4444444444444444,\"#bd3786\"],[0.5555555555555556,\"#d8576b\"],[0.6666666666666666,\"#ed7953\"],[0.7777777777777778,\"#fb9f3a\"],[0.8888888888888888,\"#fdca26\"],[1.0,\"#f0f921\"]],\"sequentialminus\":[[0.0,\"#0d0887\"],[0.1111111111111111,\"#46039f\"],[0.2222222222222222,\"#7201a8\"],[0.3333333333333333,\"#9c179e\"],[0.4444444444444444,\"#bd3786\"],[0.5555555555555556,\"#d8576b\"],[0.6666666666666666,\"#ed7953\"],[0.7777777777777778,\"#fb9f3a\"],[0.8888888888888888,\"#fdca26\"],[1.0,\"#f0f921\"]],\"diverging\":[[0,\"#8e0152\"],[0.1,\"#c51b7d\"],[0.2,\"#de77ae\"],[0.3,\"#f1b6da\"],[0.4,\"#fde0ef\"],[0.5,\"#f7f7f7\"],[0.6,\"#e6f5d0\"],[0.7,\"#b8e186\"],[0.8,\"#7fbc41\"],[0.9,\"#4d9221\"],[1,\"#276419\"]]},\"xaxis\":{\"gridcolor\":\"white\",\"linecolor\":\"white\",\"ticks\":\"\",\"title\":{\"standoff\":15},\"zerolinecolor\":\"white\",\"automargin\":true,\"zerolinewidth\":2},\"yaxis\":{\"gridcolor\":\"white\",\"linecolor\":\"white\",\"ticks\":\"\",\"title\":{\"standoff\":15},\"zerolinecolor\":\"white\",\"automargin\":true,\"zerolinewidth\":2},\"scene\":{\"xaxis\":{\"backgroundcolor\":\"#E5ECF6\",\"gridcolor\":\"white\",\"linecolor\":\"white\",\"showbackground\":true,\"ticks\":\"\",\"zerolinecolor\":\"white\",\"gridwidth\":2},\"yaxis\":{\"backgroundcolor\":\"#E5ECF6\",\"gridcolor\":\"white\",\"linecolor\":\"white\",\"showbackground\":true,\"ticks\":\"\",\"zerolinecolor\":\"white\",\"gridwidth\":2},\"zaxis\":{\"backgroundcolor\":\"#E5ECF6\",\"gridcolor\":\"white\",\"linecolor\":\"white\",\"showbackground\":true,\"ticks\":\"\",\"zerolinecolor\":\"white\",\"gridwidth\":2}},\"shapedefaults\":{\"line\":{\"color\":\"#2a3f5f\"}},\"annotationdefaults\":{\"arrowcolor\":\"#2a3f5f\",\"arrowhead\":0,\"arrowwidth\":1},\"geo\":{\"bgcolor\":\"white\",\"landcolor\":\"#E5ECF6\",\"subunitcolor\":\"white\",\"showland\":true,\"showlakes\":true,\"lakecolor\":\"white\"},\"title\":{\"x\":0.05},\"mapbox\":{\"style\":\"light\"}}},\"legend\":{\"tracegroupgap\":0},\"title\":{\"text\":\"USA VS USSR Missions during Cold War\"}},                        {\"responsive\": true}                    ).then(function(){\n",
       "                            \n",
       "var gd = document.getElementById('9b46fb34-225f-404b-97ab-d3c6c4b7fef9');\n",
       "var x = new MutationObserver(function (mutations, observer) {{\n",
       "        var display = window.getComputedStyle(gd).display;\n",
       "        if (!display || display === 'none') {{\n",
       "            console.log([gd, 'removed!']);\n",
       "            Plotly.purge(gd);\n",
       "            observer.disconnect();\n",
       "        }}\n",
       "}});\n",
       "\n",
       "// Listen for the removal of the full notebook cells\n",
       "var notebookContainer = gd.closest('#notebook-container');\n",
       "if (notebookContainer) {{\n",
       "    x.observe(notebookContainer, {childList: true});\n",
       "}}\n",
       "\n",
       "// Listen for the clearing of the current output cell\n",
       "var outputEl = gd.closest('.output');\n",
       "if (outputEl) {{\n",
       "    x.observe(outputEl, {childList: true});\n",
       "}}\n",
       "\n",
       "                        })                };                });            </script>        </div>"
      ]
     },
     "metadata": {},
     "output_type": "display_data"
    }
   ],
   "source": [
    "colors = sns.color_palette('pastel')[0:5]\n",
    "px.pie(dfusruspie,\n",
    "       names = dfusruspie.index,\n",
    "       values=dfusruspie.values,\n",
    "      labels=dfusruspie.index,\n",
    "      title=\"USA VS USSR Missions during Cold War\")"
   ]
  },
  {
   "cell_type": "markdown",
   "metadata": {
    "id": "eWv4iZmra-rE",
    "papermill": {
     "duration": 0.079311,
     "end_time": "2020-10-20T21:34:14.933058",
     "exception": false,
     "start_time": "2020-10-20T21:34:14.853747",
     "status": "completed"
    },
    "tags": []
   },
   "source": [
    "### Charting the Total Number of Mission Failures Year on Year."
   ]
  },
  {
   "cell_type": "code",
   "execution_count": 102,
   "metadata": {
    "id": "I-Zss5-Mre-4"
   },
   "outputs": [],
   "source": [
    "df_fails = df_data[(df_data[\"Mission_Status\"]==\"Failure\") | (df_data[\"Mission_Status\"]==\"Partial Failure\")]"
   ]
  },
  {
   "cell_type": "code",
   "execution_count": 103,
   "metadata": {
    "id": "7Ps9Iq_crfYl"
   },
   "outputs": [],
   "source": [
    "df_fails_yr = df_fails.groupby(\"year\",as_index=False)[\"Mission_Status\"].count()"
   ]
  },
  {
   "cell_type": "code",
   "execution_count": 104,
   "metadata": {},
   "outputs": [
    {
     "data": {
      "text/html": [
       "<div>\n",
       "<style scoped>\n",
       "    .dataframe tbody tr th:only-of-type {\n",
       "        vertical-align: middle;\n",
       "    }\n",
       "\n",
       "    .dataframe tbody tr th {\n",
       "        vertical-align: top;\n",
       "    }\n",
       "\n",
       "    .dataframe thead th {\n",
       "        text-align: right;\n",
       "    }\n",
       "</style>\n",
       "<table border=\"1\" class=\"dataframe\">\n",
       "  <thead>\n",
       "    <tr style=\"text-align: right;\">\n",
       "      <th></th>\n",
       "      <th>year</th>\n",
       "      <th>Mission_Status</th>\n",
       "    </tr>\n",
       "  </thead>\n",
       "  <tbody>\n",
       "    <tr>\n",
       "      <th>0</th>\n",
       "      <td>1957</td>\n",
       "      <td>1</td>\n",
       "    </tr>\n",
       "    <tr>\n",
       "      <th>1</th>\n",
       "      <td>1958</td>\n",
       "      <td>22</td>\n",
       "    </tr>\n",
       "    <tr>\n",
       "      <th>2</th>\n",
       "      <td>1959</td>\n",
       "      <td>12</td>\n",
       "    </tr>\n",
       "    <tr>\n",
       "      <th>3</th>\n",
       "      <td>1960</td>\n",
       "      <td>20</td>\n",
       "    </tr>\n",
       "    <tr>\n",
       "      <th>4</th>\n",
       "      <td>1961</td>\n",
       "      <td>20</td>\n",
       "    </tr>\n",
       "    <tr>\n",
       "      <th>...</th>\n",
       "      <td>...</td>\n",
       "      <td>...</td>\n",
       "    </tr>\n",
       "    <tr>\n",
       "      <th>59</th>\n",
       "      <td>2016</td>\n",
       "      <td>3</td>\n",
       "    </tr>\n",
       "    <tr>\n",
       "      <th>60</th>\n",
       "      <td>2017</td>\n",
       "      <td>8</td>\n",
       "    </tr>\n",
       "    <tr>\n",
       "      <th>61</th>\n",
       "      <td>2018</td>\n",
       "      <td>4</td>\n",
       "    </tr>\n",
       "    <tr>\n",
       "      <th>62</th>\n",
       "      <td>2019</td>\n",
       "      <td>8</td>\n",
       "    </tr>\n",
       "    <tr>\n",
       "      <th>63</th>\n",
       "      <td>2020</td>\n",
       "      <td>6</td>\n",
       "    </tr>\n",
       "  </tbody>\n",
       "</table>\n",
       "<p>64 rows × 2 columns</p>\n",
       "</div>"
      ],
      "text/plain": [
       "    year  Mission_Status\n",
       "0   1957               1\n",
       "1   1958              22\n",
       "2   1959              12\n",
       "3   1960              20\n",
       "4   1961              20\n",
       "..   ...             ...\n",
       "59  2016               3\n",
       "60  2017               8\n",
       "61  2018               4\n",
       "62  2019               8\n",
       "63  2020               6\n",
       "\n",
       "[64 rows x 2 columns]"
      ]
     },
     "execution_count": 104,
     "metadata": {},
     "output_type": "execute_result"
    }
   ],
   "source": [
    "df_fails_yr"
   ]
  },
  {
   "cell_type": "code",
   "execution_count": 105,
   "metadata": {},
   "outputs": [
    {
     "data": {
      "application/vnd.plotly.v1+json": {
       "config": {
        "plotlyServerURL": "https://plot.ly"
       },
       "data": [
        {
         "alignmentgroup": "True",
         "hovertemplate": "Year=%{x}<br>Number of Failures=%{marker.color}<extra></extra>",
         "legendgroup": "",
         "marker": {
          "color": [
           1,
           22,
           12,
           20,
           20,
           17,
           12,
           12,
           13,
           19,
           19,
           11,
           18,
           14,
           14,
           10,
           7,
           8,
           6,
           5,
           4,
           3,
           3,
           6,
           6,
           5,
           1,
           3,
           6,
           6,
           3,
           2,
           2,
           4,
           5,
           3,
           4,
           6,
           8,
           4,
           6,
           7,
           6,
           4,
           3,
           2,
           3,
           3,
           3,
           3,
           4,
           3,
           3,
           3,
           2,
           4,
           3,
           2,
           4,
           3,
           8,
           4,
           8,
           6
          ],
          "coloraxis": "coloraxis",
          "pattern": {
           "shape": ""
          }
         },
         "name": "",
         "offsetgroup": "",
         "orientation": "v",
         "showlegend": false,
         "textposition": "auto",
         "type": "bar",
         "x": [
          1957,
          1958,
          1959,
          1960,
          1961,
          1962,
          1963,
          1964,
          1965,
          1966,
          1967,
          1968,
          1969,
          1970,
          1971,
          1972,
          1973,
          1974,
          1975,
          1976,
          1977,
          1978,
          1979,
          1980,
          1981,
          1982,
          1983,
          1984,
          1985,
          1986,
          1987,
          1988,
          1989,
          1990,
          1991,
          1992,
          1993,
          1994,
          1995,
          1996,
          1997,
          1998,
          1999,
          2000,
          2001,
          2002,
          2003,
          2004,
          2005,
          2006,
          2007,
          2008,
          2009,
          2010,
          2011,
          2012,
          2013,
          2014,
          2015,
          2016,
          2017,
          2018,
          2019,
          2020
         ],
         "xaxis": "x",
         "y": [
          1,
          22,
          12,
          20,
          20,
          17,
          12,
          12,
          13,
          19,
          19,
          11,
          18,
          14,
          14,
          10,
          7,
          8,
          6,
          5,
          4,
          3,
          3,
          6,
          6,
          5,
          1,
          3,
          6,
          6,
          3,
          2,
          2,
          4,
          5,
          3,
          4,
          6,
          8,
          4,
          6,
          7,
          6,
          4,
          3,
          2,
          3,
          3,
          3,
          3,
          4,
          3,
          3,
          3,
          2,
          4,
          3,
          2,
          4,
          3,
          8,
          4,
          8,
          6
         ],
         "yaxis": "y"
        }
       ],
       "layout": {
        "barmode": "relative",
        "coloraxis": {
         "colorbar": {
          "title": {
           "text": "Number of Failures"
          }
         },
         "colorscale": [
          [
           0,
           "#0d0887"
          ],
          [
           0.1111111111111111,
           "#46039f"
          ],
          [
           0.2222222222222222,
           "#7201a8"
          ],
          [
           0.3333333333333333,
           "#9c179e"
          ],
          [
           0.4444444444444444,
           "#bd3786"
          ],
          [
           0.5555555555555556,
           "#d8576b"
          ],
          [
           0.6666666666666666,
           "#ed7953"
          ],
          [
           0.7777777777777778,
           "#fb9f3a"
          ],
          [
           0.8888888888888888,
           "#fdca26"
          ],
          [
           1,
           "#f0f921"
          ]
         ]
        },
        "legend": {
         "tracegroupgap": 0
        },
        "template": {
         "data": {
          "bar": [
           {
            "error_x": {
             "color": "#2a3f5f"
            },
            "error_y": {
             "color": "#2a3f5f"
            },
            "marker": {
             "line": {
              "color": "#E5ECF6",
              "width": 0.5
             },
             "pattern": {
              "fillmode": "overlay",
              "size": 10,
              "solidity": 0.2
             }
            },
            "type": "bar"
           }
          ],
          "barpolar": [
           {
            "marker": {
             "line": {
              "color": "#E5ECF6",
              "width": 0.5
             },
             "pattern": {
              "fillmode": "overlay",
              "size": 10,
              "solidity": 0.2
             }
            },
            "type": "barpolar"
           }
          ],
          "carpet": [
           {
            "aaxis": {
             "endlinecolor": "#2a3f5f",
             "gridcolor": "white",
             "linecolor": "white",
             "minorgridcolor": "white",
             "startlinecolor": "#2a3f5f"
            },
            "baxis": {
             "endlinecolor": "#2a3f5f",
             "gridcolor": "white",
             "linecolor": "white",
             "minorgridcolor": "white",
             "startlinecolor": "#2a3f5f"
            },
            "type": "carpet"
           }
          ],
          "choropleth": [
           {
            "colorbar": {
             "outlinewidth": 0,
             "ticks": ""
            },
            "type": "choropleth"
           }
          ],
          "contour": [
           {
            "colorbar": {
             "outlinewidth": 0,
             "ticks": ""
            },
            "colorscale": [
             [
              0,
              "#0d0887"
             ],
             [
              0.1111111111111111,
              "#46039f"
             ],
             [
              0.2222222222222222,
              "#7201a8"
             ],
             [
              0.3333333333333333,
              "#9c179e"
             ],
             [
              0.4444444444444444,
              "#bd3786"
             ],
             [
              0.5555555555555556,
              "#d8576b"
             ],
             [
              0.6666666666666666,
              "#ed7953"
             ],
             [
              0.7777777777777778,
              "#fb9f3a"
             ],
             [
              0.8888888888888888,
              "#fdca26"
             ],
             [
              1,
              "#f0f921"
             ]
            ],
            "type": "contour"
           }
          ],
          "contourcarpet": [
           {
            "colorbar": {
             "outlinewidth": 0,
             "ticks": ""
            },
            "type": "contourcarpet"
           }
          ],
          "heatmap": [
           {
            "colorbar": {
             "outlinewidth": 0,
             "ticks": ""
            },
            "colorscale": [
             [
              0,
              "#0d0887"
             ],
             [
              0.1111111111111111,
              "#46039f"
             ],
             [
              0.2222222222222222,
              "#7201a8"
             ],
             [
              0.3333333333333333,
              "#9c179e"
             ],
             [
              0.4444444444444444,
              "#bd3786"
             ],
             [
              0.5555555555555556,
              "#d8576b"
             ],
             [
              0.6666666666666666,
              "#ed7953"
             ],
             [
              0.7777777777777778,
              "#fb9f3a"
             ],
             [
              0.8888888888888888,
              "#fdca26"
             ],
             [
              1,
              "#f0f921"
             ]
            ],
            "type": "heatmap"
           }
          ],
          "heatmapgl": [
           {
            "colorbar": {
             "outlinewidth": 0,
             "ticks": ""
            },
            "colorscale": [
             [
              0,
              "#0d0887"
             ],
             [
              0.1111111111111111,
              "#46039f"
             ],
             [
              0.2222222222222222,
              "#7201a8"
             ],
             [
              0.3333333333333333,
              "#9c179e"
             ],
             [
              0.4444444444444444,
              "#bd3786"
             ],
             [
              0.5555555555555556,
              "#d8576b"
             ],
             [
              0.6666666666666666,
              "#ed7953"
             ],
             [
              0.7777777777777778,
              "#fb9f3a"
             ],
             [
              0.8888888888888888,
              "#fdca26"
             ],
             [
              1,
              "#f0f921"
             ]
            ],
            "type": "heatmapgl"
           }
          ],
          "histogram": [
           {
            "marker": {
             "pattern": {
              "fillmode": "overlay",
              "size": 10,
              "solidity": 0.2
             }
            },
            "type": "histogram"
           }
          ],
          "histogram2d": [
           {
            "colorbar": {
             "outlinewidth": 0,
             "ticks": ""
            },
            "colorscale": [
             [
              0,
              "#0d0887"
             ],
             [
              0.1111111111111111,
              "#46039f"
             ],
             [
              0.2222222222222222,
              "#7201a8"
             ],
             [
              0.3333333333333333,
              "#9c179e"
             ],
             [
              0.4444444444444444,
              "#bd3786"
             ],
             [
              0.5555555555555556,
              "#d8576b"
             ],
             [
              0.6666666666666666,
              "#ed7953"
             ],
             [
              0.7777777777777778,
              "#fb9f3a"
             ],
             [
              0.8888888888888888,
              "#fdca26"
             ],
             [
              1,
              "#f0f921"
             ]
            ],
            "type": "histogram2d"
           }
          ],
          "histogram2dcontour": [
           {
            "colorbar": {
             "outlinewidth": 0,
             "ticks": ""
            },
            "colorscale": [
             [
              0,
              "#0d0887"
             ],
             [
              0.1111111111111111,
              "#46039f"
             ],
             [
              0.2222222222222222,
              "#7201a8"
             ],
             [
              0.3333333333333333,
              "#9c179e"
             ],
             [
              0.4444444444444444,
              "#bd3786"
             ],
             [
              0.5555555555555556,
              "#d8576b"
             ],
             [
              0.6666666666666666,
              "#ed7953"
             ],
             [
              0.7777777777777778,
              "#fb9f3a"
             ],
             [
              0.8888888888888888,
              "#fdca26"
             ],
             [
              1,
              "#f0f921"
             ]
            ],
            "type": "histogram2dcontour"
           }
          ],
          "mesh3d": [
           {
            "colorbar": {
             "outlinewidth": 0,
             "ticks": ""
            },
            "type": "mesh3d"
           }
          ],
          "parcoords": [
           {
            "line": {
             "colorbar": {
              "outlinewidth": 0,
              "ticks": ""
             }
            },
            "type": "parcoords"
           }
          ],
          "pie": [
           {
            "automargin": true,
            "type": "pie"
           }
          ],
          "scatter": [
           {
            "fillpattern": {
             "fillmode": "overlay",
             "size": 10,
             "solidity": 0.2
            },
            "type": "scatter"
           }
          ],
          "scatter3d": [
           {
            "line": {
             "colorbar": {
              "outlinewidth": 0,
              "ticks": ""
             }
            },
            "marker": {
             "colorbar": {
              "outlinewidth": 0,
              "ticks": ""
             }
            },
            "type": "scatter3d"
           }
          ],
          "scattercarpet": [
           {
            "marker": {
             "colorbar": {
              "outlinewidth": 0,
              "ticks": ""
             }
            },
            "type": "scattercarpet"
           }
          ],
          "scattergeo": [
           {
            "marker": {
             "colorbar": {
              "outlinewidth": 0,
              "ticks": ""
             }
            },
            "type": "scattergeo"
           }
          ],
          "scattergl": [
           {
            "marker": {
             "colorbar": {
              "outlinewidth": 0,
              "ticks": ""
             }
            },
            "type": "scattergl"
           }
          ],
          "scattermapbox": [
           {
            "marker": {
             "colorbar": {
              "outlinewidth": 0,
              "ticks": ""
             }
            },
            "type": "scattermapbox"
           }
          ],
          "scatterpolar": [
           {
            "marker": {
             "colorbar": {
              "outlinewidth": 0,
              "ticks": ""
             }
            },
            "type": "scatterpolar"
           }
          ],
          "scatterpolargl": [
           {
            "marker": {
             "colorbar": {
              "outlinewidth": 0,
              "ticks": ""
             }
            },
            "type": "scatterpolargl"
           }
          ],
          "scatterternary": [
           {
            "marker": {
             "colorbar": {
              "outlinewidth": 0,
              "ticks": ""
             }
            },
            "type": "scatterternary"
           }
          ],
          "surface": [
           {
            "colorbar": {
             "outlinewidth": 0,
             "ticks": ""
            },
            "colorscale": [
             [
              0,
              "#0d0887"
             ],
             [
              0.1111111111111111,
              "#46039f"
             ],
             [
              0.2222222222222222,
              "#7201a8"
             ],
             [
              0.3333333333333333,
              "#9c179e"
             ],
             [
              0.4444444444444444,
              "#bd3786"
             ],
             [
              0.5555555555555556,
              "#d8576b"
             ],
             [
              0.6666666666666666,
              "#ed7953"
             ],
             [
              0.7777777777777778,
              "#fb9f3a"
             ],
             [
              0.8888888888888888,
              "#fdca26"
             ],
             [
              1,
              "#f0f921"
             ]
            ],
            "type": "surface"
           }
          ],
          "table": [
           {
            "cells": {
             "fill": {
              "color": "#EBF0F8"
             },
             "line": {
              "color": "white"
             }
            },
            "header": {
             "fill": {
              "color": "#C8D4E3"
             },
             "line": {
              "color": "white"
             }
            },
            "type": "table"
           }
          ]
         },
         "layout": {
          "annotationdefaults": {
           "arrowcolor": "#2a3f5f",
           "arrowhead": 0,
           "arrowwidth": 1
          },
          "autotypenumbers": "strict",
          "coloraxis": {
           "colorbar": {
            "outlinewidth": 0,
            "ticks": ""
           }
          },
          "colorscale": {
           "diverging": [
            [
             0,
             "#8e0152"
            ],
            [
             0.1,
             "#c51b7d"
            ],
            [
             0.2,
             "#de77ae"
            ],
            [
             0.3,
             "#f1b6da"
            ],
            [
             0.4,
             "#fde0ef"
            ],
            [
             0.5,
             "#f7f7f7"
            ],
            [
             0.6,
             "#e6f5d0"
            ],
            [
             0.7,
             "#b8e186"
            ],
            [
             0.8,
             "#7fbc41"
            ],
            [
             0.9,
             "#4d9221"
            ],
            [
             1,
             "#276419"
            ]
           ],
           "sequential": [
            [
             0,
             "#0d0887"
            ],
            [
             0.1111111111111111,
             "#46039f"
            ],
            [
             0.2222222222222222,
             "#7201a8"
            ],
            [
             0.3333333333333333,
             "#9c179e"
            ],
            [
             0.4444444444444444,
             "#bd3786"
            ],
            [
             0.5555555555555556,
             "#d8576b"
            ],
            [
             0.6666666666666666,
             "#ed7953"
            ],
            [
             0.7777777777777778,
             "#fb9f3a"
            ],
            [
             0.8888888888888888,
             "#fdca26"
            ],
            [
             1,
             "#f0f921"
            ]
           ],
           "sequentialminus": [
            [
             0,
             "#0d0887"
            ],
            [
             0.1111111111111111,
             "#46039f"
            ],
            [
             0.2222222222222222,
             "#7201a8"
            ],
            [
             0.3333333333333333,
             "#9c179e"
            ],
            [
             0.4444444444444444,
             "#bd3786"
            ],
            [
             0.5555555555555556,
             "#d8576b"
            ],
            [
             0.6666666666666666,
             "#ed7953"
            ],
            [
             0.7777777777777778,
             "#fb9f3a"
            ],
            [
             0.8888888888888888,
             "#fdca26"
            ],
            [
             1,
             "#f0f921"
            ]
           ]
          },
          "colorway": [
           "#636efa",
           "#EF553B",
           "#00cc96",
           "#ab63fa",
           "#FFA15A",
           "#19d3f3",
           "#FF6692",
           "#B6E880",
           "#FF97FF",
           "#FECB52"
          ],
          "font": {
           "color": "#2a3f5f"
          },
          "geo": {
           "bgcolor": "white",
           "lakecolor": "white",
           "landcolor": "#E5ECF6",
           "showlakes": true,
           "showland": true,
           "subunitcolor": "white"
          },
          "hoverlabel": {
           "align": "left"
          },
          "hovermode": "closest",
          "mapbox": {
           "style": "light"
          },
          "paper_bgcolor": "white",
          "plot_bgcolor": "#E5ECF6",
          "polar": {
           "angularaxis": {
            "gridcolor": "white",
            "linecolor": "white",
            "ticks": ""
           },
           "bgcolor": "#E5ECF6",
           "radialaxis": {
            "gridcolor": "white",
            "linecolor": "white",
            "ticks": ""
           }
          },
          "scene": {
           "xaxis": {
            "backgroundcolor": "#E5ECF6",
            "gridcolor": "white",
            "gridwidth": 2,
            "linecolor": "white",
            "showbackground": true,
            "ticks": "",
            "zerolinecolor": "white"
           },
           "yaxis": {
            "backgroundcolor": "#E5ECF6",
            "gridcolor": "white",
            "gridwidth": 2,
            "linecolor": "white",
            "showbackground": true,
            "ticks": "",
            "zerolinecolor": "white"
           },
           "zaxis": {
            "backgroundcolor": "#E5ECF6",
            "gridcolor": "white",
            "gridwidth": 2,
            "linecolor": "white",
            "showbackground": true,
            "ticks": "",
            "zerolinecolor": "white"
           }
          },
          "shapedefaults": {
           "line": {
            "color": "#2a3f5f"
           }
          },
          "ternary": {
           "aaxis": {
            "gridcolor": "white",
            "linecolor": "white",
            "ticks": ""
           },
           "baxis": {
            "gridcolor": "white",
            "linecolor": "white",
            "ticks": ""
           },
           "bgcolor": "#E5ECF6",
           "caxis": {
            "gridcolor": "white",
            "linecolor": "white",
            "ticks": ""
           }
          },
          "title": {
           "x": 0.05
          },
          "xaxis": {
           "automargin": true,
           "gridcolor": "white",
           "linecolor": "white",
           "ticks": "",
           "title": {
            "standoff": 15
           },
           "zerolinecolor": "white",
           "zerolinewidth": 2
          },
          "yaxis": {
           "automargin": true,
           "gridcolor": "white",
           "linecolor": "white",
           "ticks": "",
           "title": {
            "standoff": 15
           },
           "zerolinecolor": "white",
           "zerolinewidth": 2
          }
         }
        },
        "title": {
         "text": "Number of Failures each year"
        },
        "xaxis": {
         "anchor": "y",
         "domain": [
          0,
          1
         ],
         "title": {
          "text": "Year"
         }
        },
        "yaxis": {
         "anchor": "x",
         "domain": [
          0,
          1
         ],
         "title": {
          "text": "Number of Failures"
         }
        }
       }
      },
      "text/html": [
       "<div>                            <div id=\"e6826729-07fa-46ee-b0fb-538386cc4542\" class=\"plotly-graph-div\" style=\"height:525px; width:100%;\"></div>            <script type=\"text/javascript\">                require([\"plotly\"], function(Plotly) {                    window.PLOTLYENV=window.PLOTLYENV || {};                                    if (document.getElementById(\"e6826729-07fa-46ee-b0fb-538386cc4542\")) {                    Plotly.newPlot(                        \"e6826729-07fa-46ee-b0fb-538386cc4542\",                        [{\"alignmentgroup\":\"True\",\"hovertemplate\":\"Year=%{x}<br>Number of Failures=%{marker.color}<extra></extra>\",\"legendgroup\":\"\",\"marker\":{\"color\":[1,22,12,20,20,17,12,12,13,19,19,11,18,14,14,10,7,8,6,5,4,3,3,6,6,5,1,3,6,6,3,2,2,4,5,3,4,6,8,4,6,7,6,4,3,2,3,3,3,3,4,3,3,3,2,4,3,2,4,3,8,4,8,6],\"coloraxis\":\"coloraxis\",\"pattern\":{\"shape\":\"\"}},\"name\":\"\",\"offsetgroup\":\"\",\"orientation\":\"v\",\"showlegend\":false,\"textposition\":\"auto\",\"x\":[1957,1958,1959,1960,1961,1962,1963,1964,1965,1966,1967,1968,1969,1970,1971,1972,1973,1974,1975,1976,1977,1978,1979,1980,1981,1982,1983,1984,1985,1986,1987,1988,1989,1990,1991,1992,1993,1994,1995,1996,1997,1998,1999,2000,2001,2002,2003,2004,2005,2006,2007,2008,2009,2010,2011,2012,2013,2014,2015,2016,2017,2018,2019,2020],\"xaxis\":\"x\",\"y\":[1,22,12,20,20,17,12,12,13,19,19,11,18,14,14,10,7,8,6,5,4,3,3,6,6,5,1,3,6,6,3,2,2,4,5,3,4,6,8,4,6,7,6,4,3,2,3,3,3,3,4,3,3,3,2,4,3,2,4,3,8,4,8,6],\"yaxis\":\"y\",\"type\":\"bar\"}],                        {\"template\":{\"data\":{\"histogram2dcontour\":[{\"type\":\"histogram2dcontour\",\"colorbar\":{\"outlinewidth\":0,\"ticks\":\"\"},\"colorscale\":[[0.0,\"#0d0887\"],[0.1111111111111111,\"#46039f\"],[0.2222222222222222,\"#7201a8\"],[0.3333333333333333,\"#9c179e\"],[0.4444444444444444,\"#bd3786\"],[0.5555555555555556,\"#d8576b\"],[0.6666666666666666,\"#ed7953\"],[0.7777777777777778,\"#fb9f3a\"],[0.8888888888888888,\"#fdca26\"],[1.0,\"#f0f921\"]]}],\"choropleth\":[{\"type\":\"choropleth\",\"colorbar\":{\"outlinewidth\":0,\"ticks\":\"\"}}],\"histogram2d\":[{\"type\":\"histogram2d\",\"colorbar\":{\"outlinewidth\":0,\"ticks\":\"\"},\"colorscale\":[[0.0,\"#0d0887\"],[0.1111111111111111,\"#46039f\"],[0.2222222222222222,\"#7201a8\"],[0.3333333333333333,\"#9c179e\"],[0.4444444444444444,\"#bd3786\"],[0.5555555555555556,\"#d8576b\"],[0.6666666666666666,\"#ed7953\"],[0.7777777777777778,\"#fb9f3a\"],[0.8888888888888888,\"#fdca26\"],[1.0,\"#f0f921\"]]}],\"heatmap\":[{\"type\":\"heatmap\",\"colorbar\":{\"outlinewidth\":0,\"ticks\":\"\"},\"colorscale\":[[0.0,\"#0d0887\"],[0.1111111111111111,\"#46039f\"],[0.2222222222222222,\"#7201a8\"],[0.3333333333333333,\"#9c179e\"],[0.4444444444444444,\"#bd3786\"],[0.5555555555555556,\"#d8576b\"],[0.6666666666666666,\"#ed7953\"],[0.7777777777777778,\"#fb9f3a\"],[0.8888888888888888,\"#fdca26\"],[1.0,\"#f0f921\"]]}],\"heatmapgl\":[{\"type\":\"heatmapgl\",\"colorbar\":{\"outlinewidth\":0,\"ticks\":\"\"},\"colorscale\":[[0.0,\"#0d0887\"],[0.1111111111111111,\"#46039f\"],[0.2222222222222222,\"#7201a8\"],[0.3333333333333333,\"#9c179e\"],[0.4444444444444444,\"#bd3786\"],[0.5555555555555556,\"#d8576b\"],[0.6666666666666666,\"#ed7953\"],[0.7777777777777778,\"#fb9f3a\"],[0.8888888888888888,\"#fdca26\"],[1.0,\"#f0f921\"]]}],\"contourcarpet\":[{\"type\":\"contourcarpet\",\"colorbar\":{\"outlinewidth\":0,\"ticks\":\"\"}}],\"contour\":[{\"type\":\"contour\",\"colorbar\":{\"outlinewidth\":0,\"ticks\":\"\"},\"colorscale\":[[0.0,\"#0d0887\"],[0.1111111111111111,\"#46039f\"],[0.2222222222222222,\"#7201a8\"],[0.3333333333333333,\"#9c179e\"],[0.4444444444444444,\"#bd3786\"],[0.5555555555555556,\"#d8576b\"],[0.6666666666666666,\"#ed7953\"],[0.7777777777777778,\"#fb9f3a\"],[0.8888888888888888,\"#fdca26\"],[1.0,\"#f0f921\"]]}],\"surface\":[{\"type\":\"surface\",\"colorbar\":{\"outlinewidth\":0,\"ticks\":\"\"},\"colorscale\":[[0.0,\"#0d0887\"],[0.1111111111111111,\"#46039f\"],[0.2222222222222222,\"#7201a8\"],[0.3333333333333333,\"#9c179e\"],[0.4444444444444444,\"#bd3786\"],[0.5555555555555556,\"#d8576b\"],[0.6666666666666666,\"#ed7953\"],[0.7777777777777778,\"#fb9f3a\"],[0.8888888888888888,\"#fdca26\"],[1.0,\"#f0f921\"]]}],\"mesh3d\":[{\"type\":\"mesh3d\",\"colorbar\":{\"outlinewidth\":0,\"ticks\":\"\"}}],\"scatter\":[{\"fillpattern\":{\"fillmode\":\"overlay\",\"size\":10,\"solidity\":0.2},\"type\":\"scatter\"}],\"parcoords\":[{\"type\":\"parcoords\",\"line\":{\"colorbar\":{\"outlinewidth\":0,\"ticks\":\"\"}}}],\"scatterpolargl\":[{\"type\":\"scatterpolargl\",\"marker\":{\"colorbar\":{\"outlinewidth\":0,\"ticks\":\"\"}}}],\"bar\":[{\"error_x\":{\"color\":\"#2a3f5f\"},\"error_y\":{\"color\":\"#2a3f5f\"},\"marker\":{\"line\":{\"color\":\"#E5ECF6\",\"width\":0.5},\"pattern\":{\"fillmode\":\"overlay\",\"size\":10,\"solidity\":0.2}},\"type\":\"bar\"}],\"scattergeo\":[{\"type\":\"scattergeo\",\"marker\":{\"colorbar\":{\"outlinewidth\":0,\"ticks\":\"\"}}}],\"scatterpolar\":[{\"type\":\"scatterpolar\",\"marker\":{\"colorbar\":{\"outlinewidth\":0,\"ticks\":\"\"}}}],\"histogram\":[{\"marker\":{\"pattern\":{\"fillmode\":\"overlay\",\"size\":10,\"solidity\":0.2}},\"type\":\"histogram\"}],\"scattergl\":[{\"type\":\"scattergl\",\"marker\":{\"colorbar\":{\"outlinewidth\":0,\"ticks\":\"\"}}}],\"scatter3d\":[{\"type\":\"scatter3d\",\"line\":{\"colorbar\":{\"outlinewidth\":0,\"ticks\":\"\"}},\"marker\":{\"colorbar\":{\"outlinewidth\":0,\"ticks\":\"\"}}}],\"scattermapbox\":[{\"type\":\"scattermapbox\",\"marker\":{\"colorbar\":{\"outlinewidth\":0,\"ticks\":\"\"}}}],\"scatterternary\":[{\"type\":\"scatterternary\",\"marker\":{\"colorbar\":{\"outlinewidth\":0,\"ticks\":\"\"}}}],\"scattercarpet\":[{\"type\":\"scattercarpet\",\"marker\":{\"colorbar\":{\"outlinewidth\":0,\"ticks\":\"\"}}}],\"carpet\":[{\"aaxis\":{\"endlinecolor\":\"#2a3f5f\",\"gridcolor\":\"white\",\"linecolor\":\"white\",\"minorgridcolor\":\"white\",\"startlinecolor\":\"#2a3f5f\"},\"baxis\":{\"endlinecolor\":\"#2a3f5f\",\"gridcolor\":\"white\",\"linecolor\":\"white\",\"minorgridcolor\":\"white\",\"startlinecolor\":\"#2a3f5f\"},\"type\":\"carpet\"}],\"table\":[{\"cells\":{\"fill\":{\"color\":\"#EBF0F8\"},\"line\":{\"color\":\"white\"}},\"header\":{\"fill\":{\"color\":\"#C8D4E3\"},\"line\":{\"color\":\"white\"}},\"type\":\"table\"}],\"barpolar\":[{\"marker\":{\"line\":{\"color\":\"#E5ECF6\",\"width\":0.5},\"pattern\":{\"fillmode\":\"overlay\",\"size\":10,\"solidity\":0.2}},\"type\":\"barpolar\"}],\"pie\":[{\"automargin\":true,\"type\":\"pie\"}]},\"layout\":{\"autotypenumbers\":\"strict\",\"colorway\":[\"#636efa\",\"#EF553B\",\"#00cc96\",\"#ab63fa\",\"#FFA15A\",\"#19d3f3\",\"#FF6692\",\"#B6E880\",\"#FF97FF\",\"#FECB52\"],\"font\":{\"color\":\"#2a3f5f\"},\"hovermode\":\"closest\",\"hoverlabel\":{\"align\":\"left\"},\"paper_bgcolor\":\"white\",\"plot_bgcolor\":\"#E5ECF6\",\"polar\":{\"bgcolor\":\"#E5ECF6\",\"angularaxis\":{\"gridcolor\":\"white\",\"linecolor\":\"white\",\"ticks\":\"\"},\"radialaxis\":{\"gridcolor\":\"white\",\"linecolor\":\"white\",\"ticks\":\"\"}},\"ternary\":{\"bgcolor\":\"#E5ECF6\",\"aaxis\":{\"gridcolor\":\"white\",\"linecolor\":\"white\",\"ticks\":\"\"},\"baxis\":{\"gridcolor\":\"white\",\"linecolor\":\"white\",\"ticks\":\"\"},\"caxis\":{\"gridcolor\":\"white\",\"linecolor\":\"white\",\"ticks\":\"\"}},\"coloraxis\":{\"colorbar\":{\"outlinewidth\":0,\"ticks\":\"\"}},\"colorscale\":{\"sequential\":[[0.0,\"#0d0887\"],[0.1111111111111111,\"#46039f\"],[0.2222222222222222,\"#7201a8\"],[0.3333333333333333,\"#9c179e\"],[0.4444444444444444,\"#bd3786\"],[0.5555555555555556,\"#d8576b\"],[0.6666666666666666,\"#ed7953\"],[0.7777777777777778,\"#fb9f3a\"],[0.8888888888888888,\"#fdca26\"],[1.0,\"#f0f921\"]],\"sequentialminus\":[[0.0,\"#0d0887\"],[0.1111111111111111,\"#46039f\"],[0.2222222222222222,\"#7201a8\"],[0.3333333333333333,\"#9c179e\"],[0.4444444444444444,\"#bd3786\"],[0.5555555555555556,\"#d8576b\"],[0.6666666666666666,\"#ed7953\"],[0.7777777777777778,\"#fb9f3a\"],[0.8888888888888888,\"#fdca26\"],[1.0,\"#f0f921\"]],\"diverging\":[[0,\"#8e0152\"],[0.1,\"#c51b7d\"],[0.2,\"#de77ae\"],[0.3,\"#f1b6da\"],[0.4,\"#fde0ef\"],[0.5,\"#f7f7f7\"],[0.6,\"#e6f5d0\"],[0.7,\"#b8e186\"],[0.8,\"#7fbc41\"],[0.9,\"#4d9221\"],[1,\"#276419\"]]},\"xaxis\":{\"gridcolor\":\"white\",\"linecolor\":\"white\",\"ticks\":\"\",\"title\":{\"standoff\":15},\"zerolinecolor\":\"white\",\"automargin\":true,\"zerolinewidth\":2},\"yaxis\":{\"gridcolor\":\"white\",\"linecolor\":\"white\",\"ticks\":\"\",\"title\":{\"standoff\":15},\"zerolinecolor\":\"white\",\"automargin\":true,\"zerolinewidth\":2},\"scene\":{\"xaxis\":{\"backgroundcolor\":\"#E5ECF6\",\"gridcolor\":\"white\",\"linecolor\":\"white\",\"showbackground\":true,\"ticks\":\"\",\"zerolinecolor\":\"white\",\"gridwidth\":2},\"yaxis\":{\"backgroundcolor\":\"#E5ECF6\",\"gridcolor\":\"white\",\"linecolor\":\"white\",\"showbackground\":true,\"ticks\":\"\",\"zerolinecolor\":\"white\",\"gridwidth\":2},\"zaxis\":{\"backgroundcolor\":\"#E5ECF6\",\"gridcolor\":\"white\",\"linecolor\":\"white\",\"showbackground\":true,\"ticks\":\"\",\"zerolinecolor\":\"white\",\"gridwidth\":2}},\"shapedefaults\":{\"line\":{\"color\":\"#2a3f5f\"}},\"annotationdefaults\":{\"arrowcolor\":\"#2a3f5f\",\"arrowhead\":0,\"arrowwidth\":1},\"geo\":{\"bgcolor\":\"white\",\"landcolor\":\"#E5ECF6\",\"subunitcolor\":\"white\",\"showland\":true,\"showlakes\":true,\"lakecolor\":\"white\"},\"title\":{\"x\":0.05},\"mapbox\":{\"style\":\"light\"}}},\"xaxis\":{\"anchor\":\"y\",\"domain\":[0.0,1.0],\"title\":{\"text\":\"Year\"}},\"yaxis\":{\"anchor\":\"x\",\"domain\":[0.0,1.0],\"title\":{\"text\":\"Number of Failures\"}},\"coloraxis\":{\"colorbar\":{\"title\":{\"text\":\"Number of Failures\"}},\"colorscale\":[[0.0,\"#0d0887\"],[0.1111111111111111,\"#46039f\"],[0.2222222222222222,\"#7201a8\"],[0.3333333333333333,\"#9c179e\"],[0.4444444444444444,\"#bd3786\"],[0.5555555555555556,\"#d8576b\"],[0.6666666666666666,\"#ed7953\"],[0.7777777777777778,\"#fb9f3a\"],[0.8888888888888888,\"#fdca26\"],[1.0,\"#f0f921\"]]},\"legend\":{\"tracegroupgap\":0},\"title\":{\"text\":\"Number of Failures each year\"},\"barmode\":\"relative\"},                        {\"responsive\": true}                    ).then(function(){\n",
       "                            \n",
       "var gd = document.getElementById('e6826729-07fa-46ee-b0fb-538386cc4542');\n",
       "var x = new MutationObserver(function (mutations, observer) {{\n",
       "        var display = window.getComputedStyle(gd).display;\n",
       "        if (!display || display === 'none') {{\n",
       "            console.log([gd, 'removed!']);\n",
       "            Plotly.purge(gd);\n",
       "            observer.disconnect();\n",
       "        }}\n",
       "}});\n",
       "\n",
       "// Listen for the removal of the full notebook cells\n",
       "var notebookContainer = gd.closest('#notebook-container');\n",
       "if (notebookContainer) {{\n",
       "    x.observe(notebookContainer, {childList: true});\n",
       "}}\n",
       "\n",
       "// Listen for the clearing of the current output cell\n",
       "var outputEl = gd.closest('.output');\n",
       "if (outputEl) {{\n",
       "    x.observe(outputEl, {childList: true});\n",
       "}}\n",
       "\n",
       "                        })                };                });            </script>        </div>"
      ]
     },
     "metadata": {},
     "output_type": "display_data"
    }
   ],
   "source": [
    "px.bar(df_fails_yr,\n",
    "       x=\"year\",\n",
    "       y=\"Mission_Status\",\n",
    "       color=\"Mission_Status\",\n",
    "       labels={\"year\":\"Year\",\"Mission_Status\":\"Number of Failures\"},\n",
    "      title=\"Number of Failures each year\")"
   ]
  },
  {
   "cell_type": "markdown",
   "metadata": {
    "id": "Kj3-zsI0rhOS"
   },
   "source": [
    "### We see a significant drop in the number of failures. This can be due to years of learning, lessons learnt from past failures,advancement of technology in space aeronautics and careful and considerate utilization of money on space missions."
   ]
  },
  {
   "cell_type": "code",
   "execution_count": null,
   "metadata": {
    "id": "nxnnzx89rwvH"
   },
   "outputs": [],
   "source": []
  },
  {
   "cell_type": "code",
   "execution_count": null,
   "metadata": {
    "id": "_TPWaaJ5r1Fz"
   },
   "outputs": [],
   "source": []
  },
  {
   "cell_type": "markdown",
   "metadata": {
    "id": "S5aOC7bGr2OX"
   },
   "source": [
    "# For Every Year Show which Country was in the Lead in terms of Total Number of Launches up to and including including 2020)\n",
    "\n",
    "Do the results change if we only look at the number of successful launches? "
   ]
  },
  {
   "cell_type": "code",
   "execution_count": 106,
   "metadata": {
    "id": "_h0grIXKsOz_"
   },
   "outputs": [],
   "source": [
    "df_yr_cnt = df_data.groupby([\"year\",\"country\"]).count().sort_values(\"Mission_Status\").groupby(level=0).tail(1)"
   ]
  },
  {
   "cell_type": "code",
   "execution_count": 107,
   "metadata": {
    "id": "zgVysedmsOp4"
   },
   "outputs": [],
   "source": [
    "df_yr_cnt=df_yr_cnt.sort_values(\"year\").reset_index()"
   ]
  },
  {
   "cell_type": "code",
   "execution_count": 108,
   "metadata": {},
   "outputs": [
    {
     "data": {
      "application/vnd.plotly.v1+json": {
       "config": {
        "plotlyServerURL": "https://plot.ly"
       },
       "data": [
        {
         "alignmentgroup": "True",
         "hovertemplate": "country=Kazakhstan<br>Year=%{x}<br>Number of Missions=%{y}<extra></extra>",
         "legendgroup": "Kazakhstan",
         "marker": {
          "color": "#636efa",
          "pattern": {
           "shape": ""
          }
         },
         "name": "Kazakhstan",
         "offsetgroup": "Kazakhstan",
         "orientation": "v",
         "showlegend": true,
         "textposition": "auto",
         "type": "bar",
         "x": [
          1957,
          1964,
          1965,
          1967
         ],
         "xaxis": "x",
         "y": [
          2,
          28,
          43,
          38
         ],
         "yaxis": "y"
        },
        {
         "alignmentgroup": "True",
         "hovertemplate": "country=United States of America<br>Year=%{x}<br>Number of Missions=%{y}<extra></extra>",
         "legendgroup": "United States of America",
         "marker": {
          "color": "#EF553B",
          "pattern": {
           "shape": ""
          }
         },
         "name": "United States of America",
         "offsetgroup": "United States of America",
         "orientation": "v",
         "showlegend": true,
         "textposition": "auto",
         "type": "bar",
         "x": [
          1958,
          1959,
          1960,
          1961,
          1962,
          1963,
          1966,
          1992,
          1993,
          1994,
          1995,
          1996,
          1997,
          1998,
          1999,
          2000,
          2001,
          2002,
          2003,
          2004,
          2005,
          2006,
          2007,
          2008,
          2009,
          2010,
          2011,
          2012,
          2013,
          2014,
          2015,
          2016,
          2017
         ],
         "xaxis": "x",
         "y": [
          23,
          16,
          30,
          43,
          60,
          17,
          47,
          27,
          24,
          26,
          30,
          33,
          38,
          36,
          33,
          31,
          24,
          18,
          26,
          19,
          16,
          23,
          20,
          20,
          26,
          15,
          19,
          16,
          20,
          24,
          22,
          27,
          30
         ],
         "yaxis": "y"
        },
        {
         "alignmentgroup": "True",
         "hovertemplate": "country=Russian Federation<br>Year=%{x}<br>Number of Missions=%{y}<extra></extra>",
         "legendgroup": "Russian Federation",
         "marker": {
          "color": "#00cc96",
          "pattern": {
           "shape": ""
          }
         },
         "name": "Russian Federation",
         "offsetgroup": "Russian Federation",
         "orientation": "v",
         "showlegend": true,
         "textposition": "auto",
         "type": "bar",
         "x": [
          1968,
          1969,
          1970,
          1971,
          1972,
          1973,
          1974,
          1975,
          1976,
          1977,
          1978,
          1979,
          1980,
          1981,
          1982,
          1983,
          1984,
          1985,
          1986,
          1987,
          1988,
          1989,
          1990,
          1991
         ],
         "xaxis": "x",
         "y": [
          40,
          45,
          59,
          62,
          57,
          67,
          60,
          66,
          66,
          72,
          62,
          33,
          34,
          41,
          43,
          40,
          38,
          39,
          42,
          30,
          27,
          22,
          30,
          25
         ],
         "yaxis": "y"
        },
        {
         "alignmentgroup": "True",
         "hovertemplate": "country=China<br>Year=%{x}<br>Number of Missions=%{y}<extra></extra>",
         "legendgroup": "China",
         "marker": {
          "color": "#ab63fa",
          "pattern": {
           "shape": ""
          }
         },
         "name": "China",
         "offsetgroup": "China",
         "orientation": "v",
         "showlegend": true,
         "textposition": "auto",
         "type": "bar",
         "x": [
          2018,
          2019,
          2020
         ],
         "xaxis": "x",
         "y": [
          39,
          34,
          22
         ],
         "yaxis": "y"
        }
       ],
       "layout": {
        "barmode": "relative",
        "legend": {
         "title": {
          "text": "country"
         },
         "tracegroupgap": 0
        },
        "template": {
         "data": {
          "bar": [
           {
            "error_x": {
             "color": "#2a3f5f"
            },
            "error_y": {
             "color": "#2a3f5f"
            },
            "marker": {
             "line": {
              "color": "#E5ECF6",
              "width": 0.5
             },
             "pattern": {
              "fillmode": "overlay",
              "size": 10,
              "solidity": 0.2
             }
            },
            "type": "bar"
           }
          ],
          "barpolar": [
           {
            "marker": {
             "line": {
              "color": "#E5ECF6",
              "width": 0.5
             },
             "pattern": {
              "fillmode": "overlay",
              "size": 10,
              "solidity": 0.2
             }
            },
            "type": "barpolar"
           }
          ],
          "carpet": [
           {
            "aaxis": {
             "endlinecolor": "#2a3f5f",
             "gridcolor": "white",
             "linecolor": "white",
             "minorgridcolor": "white",
             "startlinecolor": "#2a3f5f"
            },
            "baxis": {
             "endlinecolor": "#2a3f5f",
             "gridcolor": "white",
             "linecolor": "white",
             "minorgridcolor": "white",
             "startlinecolor": "#2a3f5f"
            },
            "type": "carpet"
           }
          ],
          "choropleth": [
           {
            "colorbar": {
             "outlinewidth": 0,
             "ticks": ""
            },
            "type": "choropleth"
           }
          ],
          "contour": [
           {
            "colorbar": {
             "outlinewidth": 0,
             "ticks": ""
            },
            "colorscale": [
             [
              0,
              "#0d0887"
             ],
             [
              0.1111111111111111,
              "#46039f"
             ],
             [
              0.2222222222222222,
              "#7201a8"
             ],
             [
              0.3333333333333333,
              "#9c179e"
             ],
             [
              0.4444444444444444,
              "#bd3786"
             ],
             [
              0.5555555555555556,
              "#d8576b"
             ],
             [
              0.6666666666666666,
              "#ed7953"
             ],
             [
              0.7777777777777778,
              "#fb9f3a"
             ],
             [
              0.8888888888888888,
              "#fdca26"
             ],
             [
              1,
              "#f0f921"
             ]
            ],
            "type": "contour"
           }
          ],
          "contourcarpet": [
           {
            "colorbar": {
             "outlinewidth": 0,
             "ticks": ""
            },
            "type": "contourcarpet"
           }
          ],
          "heatmap": [
           {
            "colorbar": {
             "outlinewidth": 0,
             "ticks": ""
            },
            "colorscale": [
             [
              0,
              "#0d0887"
             ],
             [
              0.1111111111111111,
              "#46039f"
             ],
             [
              0.2222222222222222,
              "#7201a8"
             ],
             [
              0.3333333333333333,
              "#9c179e"
             ],
             [
              0.4444444444444444,
              "#bd3786"
             ],
             [
              0.5555555555555556,
              "#d8576b"
             ],
             [
              0.6666666666666666,
              "#ed7953"
             ],
             [
              0.7777777777777778,
              "#fb9f3a"
             ],
             [
              0.8888888888888888,
              "#fdca26"
             ],
             [
              1,
              "#f0f921"
             ]
            ],
            "type": "heatmap"
           }
          ],
          "heatmapgl": [
           {
            "colorbar": {
             "outlinewidth": 0,
             "ticks": ""
            },
            "colorscale": [
             [
              0,
              "#0d0887"
             ],
             [
              0.1111111111111111,
              "#46039f"
             ],
             [
              0.2222222222222222,
              "#7201a8"
             ],
             [
              0.3333333333333333,
              "#9c179e"
             ],
             [
              0.4444444444444444,
              "#bd3786"
             ],
             [
              0.5555555555555556,
              "#d8576b"
             ],
             [
              0.6666666666666666,
              "#ed7953"
             ],
             [
              0.7777777777777778,
              "#fb9f3a"
             ],
             [
              0.8888888888888888,
              "#fdca26"
             ],
             [
              1,
              "#f0f921"
             ]
            ],
            "type": "heatmapgl"
           }
          ],
          "histogram": [
           {
            "marker": {
             "pattern": {
              "fillmode": "overlay",
              "size": 10,
              "solidity": 0.2
             }
            },
            "type": "histogram"
           }
          ],
          "histogram2d": [
           {
            "colorbar": {
             "outlinewidth": 0,
             "ticks": ""
            },
            "colorscale": [
             [
              0,
              "#0d0887"
             ],
             [
              0.1111111111111111,
              "#46039f"
             ],
             [
              0.2222222222222222,
              "#7201a8"
             ],
             [
              0.3333333333333333,
              "#9c179e"
             ],
             [
              0.4444444444444444,
              "#bd3786"
             ],
             [
              0.5555555555555556,
              "#d8576b"
             ],
             [
              0.6666666666666666,
              "#ed7953"
             ],
             [
              0.7777777777777778,
              "#fb9f3a"
             ],
             [
              0.8888888888888888,
              "#fdca26"
             ],
             [
              1,
              "#f0f921"
             ]
            ],
            "type": "histogram2d"
           }
          ],
          "histogram2dcontour": [
           {
            "colorbar": {
             "outlinewidth": 0,
             "ticks": ""
            },
            "colorscale": [
             [
              0,
              "#0d0887"
             ],
             [
              0.1111111111111111,
              "#46039f"
             ],
             [
              0.2222222222222222,
              "#7201a8"
             ],
             [
              0.3333333333333333,
              "#9c179e"
             ],
             [
              0.4444444444444444,
              "#bd3786"
             ],
             [
              0.5555555555555556,
              "#d8576b"
             ],
             [
              0.6666666666666666,
              "#ed7953"
             ],
             [
              0.7777777777777778,
              "#fb9f3a"
             ],
             [
              0.8888888888888888,
              "#fdca26"
             ],
             [
              1,
              "#f0f921"
             ]
            ],
            "type": "histogram2dcontour"
           }
          ],
          "mesh3d": [
           {
            "colorbar": {
             "outlinewidth": 0,
             "ticks": ""
            },
            "type": "mesh3d"
           }
          ],
          "parcoords": [
           {
            "line": {
             "colorbar": {
              "outlinewidth": 0,
              "ticks": ""
             }
            },
            "type": "parcoords"
           }
          ],
          "pie": [
           {
            "automargin": true,
            "type": "pie"
           }
          ],
          "scatter": [
           {
            "fillpattern": {
             "fillmode": "overlay",
             "size": 10,
             "solidity": 0.2
            },
            "type": "scatter"
           }
          ],
          "scatter3d": [
           {
            "line": {
             "colorbar": {
              "outlinewidth": 0,
              "ticks": ""
             }
            },
            "marker": {
             "colorbar": {
              "outlinewidth": 0,
              "ticks": ""
             }
            },
            "type": "scatter3d"
           }
          ],
          "scattercarpet": [
           {
            "marker": {
             "colorbar": {
              "outlinewidth": 0,
              "ticks": ""
             }
            },
            "type": "scattercarpet"
           }
          ],
          "scattergeo": [
           {
            "marker": {
             "colorbar": {
              "outlinewidth": 0,
              "ticks": ""
             }
            },
            "type": "scattergeo"
           }
          ],
          "scattergl": [
           {
            "marker": {
             "colorbar": {
              "outlinewidth": 0,
              "ticks": ""
             }
            },
            "type": "scattergl"
           }
          ],
          "scattermapbox": [
           {
            "marker": {
             "colorbar": {
              "outlinewidth": 0,
              "ticks": ""
             }
            },
            "type": "scattermapbox"
           }
          ],
          "scatterpolar": [
           {
            "marker": {
             "colorbar": {
              "outlinewidth": 0,
              "ticks": ""
             }
            },
            "type": "scatterpolar"
           }
          ],
          "scatterpolargl": [
           {
            "marker": {
             "colorbar": {
              "outlinewidth": 0,
              "ticks": ""
             }
            },
            "type": "scatterpolargl"
           }
          ],
          "scatterternary": [
           {
            "marker": {
             "colorbar": {
              "outlinewidth": 0,
              "ticks": ""
             }
            },
            "type": "scatterternary"
           }
          ],
          "surface": [
           {
            "colorbar": {
             "outlinewidth": 0,
             "ticks": ""
            },
            "colorscale": [
             [
              0,
              "#0d0887"
             ],
             [
              0.1111111111111111,
              "#46039f"
             ],
             [
              0.2222222222222222,
              "#7201a8"
             ],
             [
              0.3333333333333333,
              "#9c179e"
             ],
             [
              0.4444444444444444,
              "#bd3786"
             ],
             [
              0.5555555555555556,
              "#d8576b"
             ],
             [
              0.6666666666666666,
              "#ed7953"
             ],
             [
              0.7777777777777778,
              "#fb9f3a"
             ],
             [
              0.8888888888888888,
              "#fdca26"
             ],
             [
              1,
              "#f0f921"
             ]
            ],
            "type": "surface"
           }
          ],
          "table": [
           {
            "cells": {
             "fill": {
              "color": "#EBF0F8"
             },
             "line": {
              "color": "white"
             }
            },
            "header": {
             "fill": {
              "color": "#C8D4E3"
             },
             "line": {
              "color": "white"
             }
            },
            "type": "table"
           }
          ]
         },
         "layout": {
          "annotationdefaults": {
           "arrowcolor": "#2a3f5f",
           "arrowhead": 0,
           "arrowwidth": 1
          },
          "autotypenumbers": "strict",
          "coloraxis": {
           "colorbar": {
            "outlinewidth": 0,
            "ticks": ""
           }
          },
          "colorscale": {
           "diverging": [
            [
             0,
             "#8e0152"
            ],
            [
             0.1,
             "#c51b7d"
            ],
            [
             0.2,
             "#de77ae"
            ],
            [
             0.3,
             "#f1b6da"
            ],
            [
             0.4,
             "#fde0ef"
            ],
            [
             0.5,
             "#f7f7f7"
            ],
            [
             0.6,
             "#e6f5d0"
            ],
            [
             0.7,
             "#b8e186"
            ],
            [
             0.8,
             "#7fbc41"
            ],
            [
             0.9,
             "#4d9221"
            ],
            [
             1,
             "#276419"
            ]
           ],
           "sequential": [
            [
             0,
             "#0d0887"
            ],
            [
             0.1111111111111111,
             "#46039f"
            ],
            [
             0.2222222222222222,
             "#7201a8"
            ],
            [
             0.3333333333333333,
             "#9c179e"
            ],
            [
             0.4444444444444444,
             "#bd3786"
            ],
            [
             0.5555555555555556,
             "#d8576b"
            ],
            [
             0.6666666666666666,
             "#ed7953"
            ],
            [
             0.7777777777777778,
             "#fb9f3a"
            ],
            [
             0.8888888888888888,
             "#fdca26"
            ],
            [
             1,
             "#f0f921"
            ]
           ],
           "sequentialminus": [
            [
             0,
             "#0d0887"
            ],
            [
             0.1111111111111111,
             "#46039f"
            ],
            [
             0.2222222222222222,
             "#7201a8"
            ],
            [
             0.3333333333333333,
             "#9c179e"
            ],
            [
             0.4444444444444444,
             "#bd3786"
            ],
            [
             0.5555555555555556,
             "#d8576b"
            ],
            [
             0.6666666666666666,
             "#ed7953"
            ],
            [
             0.7777777777777778,
             "#fb9f3a"
            ],
            [
             0.8888888888888888,
             "#fdca26"
            ],
            [
             1,
             "#f0f921"
            ]
           ]
          },
          "colorway": [
           "#636efa",
           "#EF553B",
           "#00cc96",
           "#ab63fa",
           "#FFA15A",
           "#19d3f3",
           "#FF6692",
           "#B6E880",
           "#FF97FF",
           "#FECB52"
          ],
          "font": {
           "color": "#2a3f5f"
          },
          "geo": {
           "bgcolor": "white",
           "lakecolor": "white",
           "landcolor": "#E5ECF6",
           "showlakes": true,
           "showland": true,
           "subunitcolor": "white"
          },
          "hoverlabel": {
           "align": "left"
          },
          "hovermode": "closest",
          "mapbox": {
           "style": "light"
          },
          "paper_bgcolor": "white",
          "plot_bgcolor": "#E5ECF6",
          "polar": {
           "angularaxis": {
            "gridcolor": "white",
            "linecolor": "white",
            "ticks": ""
           },
           "bgcolor": "#E5ECF6",
           "radialaxis": {
            "gridcolor": "white",
            "linecolor": "white",
            "ticks": ""
           }
          },
          "scene": {
           "xaxis": {
            "backgroundcolor": "#E5ECF6",
            "gridcolor": "white",
            "gridwidth": 2,
            "linecolor": "white",
            "showbackground": true,
            "ticks": "",
            "zerolinecolor": "white"
           },
           "yaxis": {
            "backgroundcolor": "#E5ECF6",
            "gridcolor": "white",
            "gridwidth": 2,
            "linecolor": "white",
            "showbackground": true,
            "ticks": "",
            "zerolinecolor": "white"
           },
           "zaxis": {
            "backgroundcolor": "#E5ECF6",
            "gridcolor": "white",
            "gridwidth": 2,
            "linecolor": "white",
            "showbackground": true,
            "ticks": "",
            "zerolinecolor": "white"
           }
          },
          "shapedefaults": {
           "line": {
            "color": "#2a3f5f"
           }
          },
          "ternary": {
           "aaxis": {
            "gridcolor": "white",
            "linecolor": "white",
            "ticks": ""
           },
           "baxis": {
            "gridcolor": "white",
            "linecolor": "white",
            "ticks": ""
           },
           "bgcolor": "#E5ECF6",
           "caxis": {
            "gridcolor": "white",
            "linecolor": "white",
            "ticks": ""
           }
          },
          "title": {
           "x": 0.05
          },
          "xaxis": {
           "automargin": true,
           "gridcolor": "white",
           "linecolor": "white",
           "ticks": "",
           "title": {
            "standoff": 15
           },
           "zerolinecolor": "white",
           "zerolinewidth": 2
          },
          "yaxis": {
           "automargin": true,
           "gridcolor": "white",
           "linecolor": "white",
           "ticks": "",
           "title": {
            "standoff": 15
           },
           "zerolinecolor": "white",
           "zerolinewidth": 2
          }
         }
        },
        "title": {
         "text": "Countries with Most Launches every year"
        },
        "xaxis": {
         "anchor": "y",
         "domain": [
          0,
          1
         ],
         "title": {
          "text": "Year"
         }
        },
        "yaxis": {
         "anchor": "x",
         "domain": [
          0,
          1
         ],
         "title": {
          "text": "Number of Missions"
         }
        }
       }
      },
      "text/html": [
       "<div>                            <div id=\"f52dbb25-e686-4a65-b4fd-9696161049d5\" class=\"plotly-graph-div\" style=\"height:525px; width:100%;\"></div>            <script type=\"text/javascript\">                require([\"plotly\"], function(Plotly) {                    window.PLOTLYENV=window.PLOTLYENV || {};                                    if (document.getElementById(\"f52dbb25-e686-4a65-b4fd-9696161049d5\")) {                    Plotly.newPlot(                        \"f52dbb25-e686-4a65-b4fd-9696161049d5\",                        [{\"alignmentgroup\":\"True\",\"hovertemplate\":\"country=Kazakhstan<br>Year=%{x}<br>Number of Missions=%{y}<extra></extra>\",\"legendgroup\":\"Kazakhstan\",\"marker\":{\"color\":\"#636efa\",\"pattern\":{\"shape\":\"\"}},\"name\":\"Kazakhstan\",\"offsetgroup\":\"Kazakhstan\",\"orientation\":\"v\",\"showlegend\":true,\"textposition\":\"auto\",\"x\":[1957,1964,1965,1967],\"xaxis\":\"x\",\"y\":[2,28,43,38],\"yaxis\":\"y\",\"type\":\"bar\"},{\"alignmentgroup\":\"True\",\"hovertemplate\":\"country=United States of America<br>Year=%{x}<br>Number of Missions=%{y}<extra></extra>\",\"legendgroup\":\"United States of America\",\"marker\":{\"color\":\"#EF553B\",\"pattern\":{\"shape\":\"\"}},\"name\":\"United States of America\",\"offsetgroup\":\"United States of America\",\"orientation\":\"v\",\"showlegend\":true,\"textposition\":\"auto\",\"x\":[1958,1959,1960,1961,1962,1963,1966,1992,1993,1994,1995,1996,1997,1998,1999,2000,2001,2002,2003,2004,2005,2006,2007,2008,2009,2010,2011,2012,2013,2014,2015,2016,2017],\"xaxis\":\"x\",\"y\":[23,16,30,43,60,17,47,27,24,26,30,33,38,36,33,31,24,18,26,19,16,23,20,20,26,15,19,16,20,24,22,27,30],\"yaxis\":\"y\",\"type\":\"bar\"},{\"alignmentgroup\":\"True\",\"hovertemplate\":\"country=Russian Federation<br>Year=%{x}<br>Number of Missions=%{y}<extra></extra>\",\"legendgroup\":\"Russian Federation\",\"marker\":{\"color\":\"#00cc96\",\"pattern\":{\"shape\":\"\"}},\"name\":\"Russian Federation\",\"offsetgroup\":\"Russian Federation\",\"orientation\":\"v\",\"showlegend\":true,\"textposition\":\"auto\",\"x\":[1968,1969,1970,1971,1972,1973,1974,1975,1976,1977,1978,1979,1980,1981,1982,1983,1984,1985,1986,1987,1988,1989,1990,1991],\"xaxis\":\"x\",\"y\":[40,45,59,62,57,67,60,66,66,72,62,33,34,41,43,40,38,39,42,30,27,22,30,25],\"yaxis\":\"y\",\"type\":\"bar\"},{\"alignmentgroup\":\"True\",\"hovertemplate\":\"country=China<br>Year=%{x}<br>Number of Missions=%{y}<extra></extra>\",\"legendgroup\":\"China\",\"marker\":{\"color\":\"#ab63fa\",\"pattern\":{\"shape\":\"\"}},\"name\":\"China\",\"offsetgroup\":\"China\",\"orientation\":\"v\",\"showlegend\":true,\"textposition\":\"auto\",\"x\":[2018,2019,2020],\"xaxis\":\"x\",\"y\":[39,34,22],\"yaxis\":\"y\",\"type\":\"bar\"}],                        {\"template\":{\"data\":{\"histogram2dcontour\":[{\"type\":\"histogram2dcontour\",\"colorbar\":{\"outlinewidth\":0,\"ticks\":\"\"},\"colorscale\":[[0.0,\"#0d0887\"],[0.1111111111111111,\"#46039f\"],[0.2222222222222222,\"#7201a8\"],[0.3333333333333333,\"#9c179e\"],[0.4444444444444444,\"#bd3786\"],[0.5555555555555556,\"#d8576b\"],[0.6666666666666666,\"#ed7953\"],[0.7777777777777778,\"#fb9f3a\"],[0.8888888888888888,\"#fdca26\"],[1.0,\"#f0f921\"]]}],\"choropleth\":[{\"type\":\"choropleth\",\"colorbar\":{\"outlinewidth\":0,\"ticks\":\"\"}}],\"histogram2d\":[{\"type\":\"histogram2d\",\"colorbar\":{\"outlinewidth\":0,\"ticks\":\"\"},\"colorscale\":[[0.0,\"#0d0887\"],[0.1111111111111111,\"#46039f\"],[0.2222222222222222,\"#7201a8\"],[0.3333333333333333,\"#9c179e\"],[0.4444444444444444,\"#bd3786\"],[0.5555555555555556,\"#d8576b\"],[0.6666666666666666,\"#ed7953\"],[0.7777777777777778,\"#fb9f3a\"],[0.8888888888888888,\"#fdca26\"],[1.0,\"#f0f921\"]]}],\"heatmap\":[{\"type\":\"heatmap\",\"colorbar\":{\"outlinewidth\":0,\"ticks\":\"\"},\"colorscale\":[[0.0,\"#0d0887\"],[0.1111111111111111,\"#46039f\"],[0.2222222222222222,\"#7201a8\"],[0.3333333333333333,\"#9c179e\"],[0.4444444444444444,\"#bd3786\"],[0.5555555555555556,\"#d8576b\"],[0.6666666666666666,\"#ed7953\"],[0.7777777777777778,\"#fb9f3a\"],[0.8888888888888888,\"#fdca26\"],[1.0,\"#f0f921\"]]}],\"heatmapgl\":[{\"type\":\"heatmapgl\",\"colorbar\":{\"outlinewidth\":0,\"ticks\":\"\"},\"colorscale\":[[0.0,\"#0d0887\"],[0.1111111111111111,\"#46039f\"],[0.2222222222222222,\"#7201a8\"],[0.3333333333333333,\"#9c179e\"],[0.4444444444444444,\"#bd3786\"],[0.5555555555555556,\"#d8576b\"],[0.6666666666666666,\"#ed7953\"],[0.7777777777777778,\"#fb9f3a\"],[0.8888888888888888,\"#fdca26\"],[1.0,\"#f0f921\"]]}],\"contourcarpet\":[{\"type\":\"contourcarpet\",\"colorbar\":{\"outlinewidth\":0,\"ticks\":\"\"}}],\"contour\":[{\"type\":\"contour\",\"colorbar\":{\"outlinewidth\":0,\"ticks\":\"\"},\"colorscale\":[[0.0,\"#0d0887\"],[0.1111111111111111,\"#46039f\"],[0.2222222222222222,\"#7201a8\"],[0.3333333333333333,\"#9c179e\"],[0.4444444444444444,\"#bd3786\"],[0.5555555555555556,\"#d8576b\"],[0.6666666666666666,\"#ed7953\"],[0.7777777777777778,\"#fb9f3a\"],[0.8888888888888888,\"#fdca26\"],[1.0,\"#f0f921\"]]}],\"surface\":[{\"type\":\"surface\",\"colorbar\":{\"outlinewidth\":0,\"ticks\":\"\"},\"colorscale\":[[0.0,\"#0d0887\"],[0.1111111111111111,\"#46039f\"],[0.2222222222222222,\"#7201a8\"],[0.3333333333333333,\"#9c179e\"],[0.4444444444444444,\"#bd3786\"],[0.5555555555555556,\"#d8576b\"],[0.6666666666666666,\"#ed7953\"],[0.7777777777777778,\"#fb9f3a\"],[0.8888888888888888,\"#fdca26\"],[1.0,\"#f0f921\"]]}],\"mesh3d\":[{\"type\":\"mesh3d\",\"colorbar\":{\"outlinewidth\":0,\"ticks\":\"\"}}],\"scatter\":[{\"fillpattern\":{\"fillmode\":\"overlay\",\"size\":10,\"solidity\":0.2},\"type\":\"scatter\"}],\"parcoords\":[{\"type\":\"parcoords\",\"line\":{\"colorbar\":{\"outlinewidth\":0,\"ticks\":\"\"}}}],\"scatterpolargl\":[{\"type\":\"scatterpolargl\",\"marker\":{\"colorbar\":{\"outlinewidth\":0,\"ticks\":\"\"}}}],\"bar\":[{\"error_x\":{\"color\":\"#2a3f5f\"},\"error_y\":{\"color\":\"#2a3f5f\"},\"marker\":{\"line\":{\"color\":\"#E5ECF6\",\"width\":0.5},\"pattern\":{\"fillmode\":\"overlay\",\"size\":10,\"solidity\":0.2}},\"type\":\"bar\"}],\"scattergeo\":[{\"type\":\"scattergeo\",\"marker\":{\"colorbar\":{\"outlinewidth\":0,\"ticks\":\"\"}}}],\"scatterpolar\":[{\"type\":\"scatterpolar\",\"marker\":{\"colorbar\":{\"outlinewidth\":0,\"ticks\":\"\"}}}],\"histogram\":[{\"marker\":{\"pattern\":{\"fillmode\":\"overlay\",\"size\":10,\"solidity\":0.2}},\"type\":\"histogram\"}],\"scattergl\":[{\"type\":\"scattergl\",\"marker\":{\"colorbar\":{\"outlinewidth\":0,\"ticks\":\"\"}}}],\"scatter3d\":[{\"type\":\"scatter3d\",\"line\":{\"colorbar\":{\"outlinewidth\":0,\"ticks\":\"\"}},\"marker\":{\"colorbar\":{\"outlinewidth\":0,\"ticks\":\"\"}}}],\"scattermapbox\":[{\"type\":\"scattermapbox\",\"marker\":{\"colorbar\":{\"outlinewidth\":0,\"ticks\":\"\"}}}],\"scatterternary\":[{\"type\":\"scatterternary\",\"marker\":{\"colorbar\":{\"outlinewidth\":0,\"ticks\":\"\"}}}],\"scattercarpet\":[{\"type\":\"scattercarpet\",\"marker\":{\"colorbar\":{\"outlinewidth\":0,\"ticks\":\"\"}}}],\"carpet\":[{\"aaxis\":{\"endlinecolor\":\"#2a3f5f\",\"gridcolor\":\"white\",\"linecolor\":\"white\",\"minorgridcolor\":\"white\",\"startlinecolor\":\"#2a3f5f\"},\"baxis\":{\"endlinecolor\":\"#2a3f5f\",\"gridcolor\":\"white\",\"linecolor\":\"white\",\"minorgridcolor\":\"white\",\"startlinecolor\":\"#2a3f5f\"},\"type\":\"carpet\"}],\"table\":[{\"cells\":{\"fill\":{\"color\":\"#EBF0F8\"},\"line\":{\"color\":\"white\"}},\"header\":{\"fill\":{\"color\":\"#C8D4E3\"},\"line\":{\"color\":\"white\"}},\"type\":\"table\"}],\"barpolar\":[{\"marker\":{\"line\":{\"color\":\"#E5ECF6\",\"width\":0.5},\"pattern\":{\"fillmode\":\"overlay\",\"size\":10,\"solidity\":0.2}},\"type\":\"barpolar\"}],\"pie\":[{\"automargin\":true,\"type\":\"pie\"}]},\"layout\":{\"autotypenumbers\":\"strict\",\"colorway\":[\"#636efa\",\"#EF553B\",\"#00cc96\",\"#ab63fa\",\"#FFA15A\",\"#19d3f3\",\"#FF6692\",\"#B6E880\",\"#FF97FF\",\"#FECB52\"],\"font\":{\"color\":\"#2a3f5f\"},\"hovermode\":\"closest\",\"hoverlabel\":{\"align\":\"left\"},\"paper_bgcolor\":\"white\",\"plot_bgcolor\":\"#E5ECF6\",\"polar\":{\"bgcolor\":\"#E5ECF6\",\"angularaxis\":{\"gridcolor\":\"white\",\"linecolor\":\"white\",\"ticks\":\"\"},\"radialaxis\":{\"gridcolor\":\"white\",\"linecolor\":\"white\",\"ticks\":\"\"}},\"ternary\":{\"bgcolor\":\"#E5ECF6\",\"aaxis\":{\"gridcolor\":\"white\",\"linecolor\":\"white\",\"ticks\":\"\"},\"baxis\":{\"gridcolor\":\"white\",\"linecolor\":\"white\",\"ticks\":\"\"},\"caxis\":{\"gridcolor\":\"white\",\"linecolor\":\"white\",\"ticks\":\"\"}},\"coloraxis\":{\"colorbar\":{\"outlinewidth\":0,\"ticks\":\"\"}},\"colorscale\":{\"sequential\":[[0.0,\"#0d0887\"],[0.1111111111111111,\"#46039f\"],[0.2222222222222222,\"#7201a8\"],[0.3333333333333333,\"#9c179e\"],[0.4444444444444444,\"#bd3786\"],[0.5555555555555556,\"#d8576b\"],[0.6666666666666666,\"#ed7953\"],[0.7777777777777778,\"#fb9f3a\"],[0.8888888888888888,\"#fdca26\"],[1.0,\"#f0f921\"]],\"sequentialminus\":[[0.0,\"#0d0887\"],[0.1111111111111111,\"#46039f\"],[0.2222222222222222,\"#7201a8\"],[0.3333333333333333,\"#9c179e\"],[0.4444444444444444,\"#bd3786\"],[0.5555555555555556,\"#d8576b\"],[0.6666666666666666,\"#ed7953\"],[0.7777777777777778,\"#fb9f3a\"],[0.8888888888888888,\"#fdca26\"],[1.0,\"#f0f921\"]],\"diverging\":[[0,\"#8e0152\"],[0.1,\"#c51b7d\"],[0.2,\"#de77ae\"],[0.3,\"#f1b6da\"],[0.4,\"#fde0ef\"],[0.5,\"#f7f7f7\"],[0.6,\"#e6f5d0\"],[0.7,\"#b8e186\"],[0.8,\"#7fbc41\"],[0.9,\"#4d9221\"],[1,\"#276419\"]]},\"xaxis\":{\"gridcolor\":\"white\",\"linecolor\":\"white\",\"ticks\":\"\",\"title\":{\"standoff\":15},\"zerolinecolor\":\"white\",\"automargin\":true,\"zerolinewidth\":2},\"yaxis\":{\"gridcolor\":\"white\",\"linecolor\":\"white\",\"ticks\":\"\",\"title\":{\"standoff\":15},\"zerolinecolor\":\"white\",\"automargin\":true,\"zerolinewidth\":2},\"scene\":{\"xaxis\":{\"backgroundcolor\":\"#E5ECF6\",\"gridcolor\":\"white\",\"linecolor\":\"white\",\"showbackground\":true,\"ticks\":\"\",\"zerolinecolor\":\"white\",\"gridwidth\":2},\"yaxis\":{\"backgroundcolor\":\"#E5ECF6\",\"gridcolor\":\"white\",\"linecolor\":\"white\",\"showbackground\":true,\"ticks\":\"\",\"zerolinecolor\":\"white\",\"gridwidth\":2},\"zaxis\":{\"backgroundcolor\":\"#E5ECF6\",\"gridcolor\":\"white\",\"linecolor\":\"white\",\"showbackground\":true,\"ticks\":\"\",\"zerolinecolor\":\"white\",\"gridwidth\":2}},\"shapedefaults\":{\"line\":{\"color\":\"#2a3f5f\"}},\"annotationdefaults\":{\"arrowcolor\":\"#2a3f5f\",\"arrowhead\":0,\"arrowwidth\":1},\"geo\":{\"bgcolor\":\"white\",\"landcolor\":\"#E5ECF6\",\"subunitcolor\":\"white\",\"showland\":true,\"showlakes\":true,\"lakecolor\":\"white\"},\"title\":{\"x\":0.05},\"mapbox\":{\"style\":\"light\"}}},\"xaxis\":{\"anchor\":\"y\",\"domain\":[0.0,1.0],\"title\":{\"text\":\"Year\"}},\"yaxis\":{\"anchor\":\"x\",\"domain\":[0.0,1.0],\"title\":{\"text\":\"Number of Missions\"}},\"legend\":{\"title\":{\"text\":\"country\"},\"tracegroupgap\":0},\"title\":{\"text\":\"Countries with Most Launches every year\"},\"barmode\":\"relative\"},                        {\"responsive\": true}                    ).then(function(){\n",
       "                            \n",
       "var gd = document.getElementById('f52dbb25-e686-4a65-b4fd-9696161049d5');\n",
       "var x = new MutationObserver(function (mutations, observer) {{\n",
       "        var display = window.getComputedStyle(gd).display;\n",
       "        if (!display || display === 'none') {{\n",
       "            console.log([gd, 'removed!']);\n",
       "            Plotly.purge(gd);\n",
       "            observer.disconnect();\n",
       "        }}\n",
       "}});\n",
       "\n",
       "// Listen for the removal of the full notebook cells\n",
       "var notebookContainer = gd.closest('#notebook-container');\n",
       "if (notebookContainer) {{\n",
       "    x.observe(notebookContainer, {childList: true});\n",
       "}}\n",
       "\n",
       "// Listen for the clearing of the current output cell\n",
       "var outputEl = gd.closest('.output');\n",
       "if (outputEl) {{\n",
       "    x.observe(outputEl, {childList: true});\n",
       "}}\n",
       "\n",
       "                        })                };                });            </script>        </div>"
      ]
     },
     "metadata": {},
     "output_type": "display_data"
    }
   ],
   "source": [
    "px.bar(df_yr_cnt,\n",
    "       x=\"year\",\n",
    "       y=\"Mission_Status\",\n",
    "       labels={\"year\":\"Year\",\"Mission_Status\":\"Number of Missions\"},\n",
    "       title = \"Countries with Most Launches every year\",\n",
    "       color=\"country\")"
   ]
  },
  {
   "cell_type": "markdown",
   "metadata": {
    "id": "jc9ImQEWsztG"
   },
   "source": [
    "### While Russia was a clear leader in terms on most number of launches during the 70s and 80s, USA dominated thereafter. Recently, we see China be a clear leader in terms of launches since 2018."
   ]
  },
  {
   "cell_type": "code",
   "execution_count": null,
   "metadata": {
    "id": "r5frxzwlsz5W"
   },
   "outputs": [],
   "source": []
  },
  {
   "cell_type": "code",
   "execution_count": null,
   "metadata": {
    "id": "8vHKpuc5a-rc",
    "papermill": {
     "duration": 0.092403,
     "end_time": "2020-10-20T21:34:26.709168",
     "exception": false,
     "start_time": "2020-10-20T21:34:26.616765",
     "status": "completed"
    },
    "tags": []
   },
   "outputs": [],
   "source": []
  }
 ],
 "metadata": {
  "colab": {
   "name": "Space Missions Analysis (start).ipynb",
   "provenance": []
  },
  "kernelspec": {
   "display_name": "Python 3 (ipykernel)",
   "language": "python",
   "name": "python3"
  },
  "language_info": {
   "codemirror_mode": {
    "name": "ipython",
    "version": 3
   },
   "file_extension": ".py",
   "mimetype": "text/x-python",
   "name": "python",
   "nbconvert_exporter": "python",
   "pygments_lexer": "ipython3",
   "version": "3.10.9"
  },
  "papermill": {
   "duration": 28.468597,
   "end_time": "2020-10-20T21:34:26.910951",
   "environment_variables": {},
   "exception": null,
   "input_path": "__notebook__.ipynb",
   "output_path": "__notebook__.ipynb",
   "parameters": {},
   "start_time": "2020-10-20T21:33:58.442354",
   "version": "2.1.0"
  }
 },
 "nbformat": 4,
 "nbformat_minor": 1
}
